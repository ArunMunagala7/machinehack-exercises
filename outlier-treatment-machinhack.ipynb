{
 "cells": [
  {
   "cell_type": "code",
   "execution_count": 1,
   "id": "73c30572",
   "metadata": {
    "_cell_guid": "b1076dfc-b9ad-4769-8c92-a6c4dae69d19",
    "_uuid": "8f2839f25d086af736a60e9eeb907d3b93b6e0e5",
    "execution": {
     "iopub.execute_input": "2023-03-31T19:52:01.470064Z",
     "iopub.status.busy": "2023-03-31T19:52:01.469595Z",
     "iopub.status.idle": "2023-03-31T19:52:01.482622Z",
     "shell.execute_reply": "2023-03-31T19:52:01.481312Z"
    },
    "papermill": {
     "duration": 0.029009,
     "end_time": "2023-03-31T19:52:01.485159",
     "exception": false,
     "start_time": "2023-03-31T19:52:01.456150",
     "status": "completed"
    },
    "tags": []
   },
   "outputs": [],
   "source": [
    "# This Python 3 environment comes with many helpful analytics libraries installed\n",
    "# It is defined by the kaggle/python Docker image: https://github.com/kaggle/docker-python\n",
    "# For example, here's several helpful packages to load\n",
    "\n",
    "import numpy as np # linear algebra\n",
    "import pandas as pd # data processing, CSV file I/O (e.g. pd.read_csv)\n",
    "\n",
    "# Input data files are available in the read-only \"../input/\" directory\n",
    "# For example, running this (by clicking run or pressing Shift+Enter) will list all files under the input directory\n",
    "\n",
    "import os\n",
    "for dirname, _, filenames in os.walk('/kaggle/input'):\n",
    "    for filename in filenames:\n",
    "        print(os.path.join(dirname, filename))\n",
    "\n",
    "# You can write up to 20GB to the current directory (/kaggle/working/) that gets preserved as output when you create a version using \"Save & Run All\" \n",
    "# You can also write temporary files to /kaggle/temp/, but they won't be saved outside of the current session"
   ]
  },
  {
   "cell_type": "markdown",
   "id": "d24bb143",
   "metadata": {
    "papermill": {
     "duration": 0.00926,
     "end_time": "2023-03-31T19:52:01.504009",
     "exception": false,
     "start_time": "2023-03-31T19:52:01.494749",
     "status": "completed"
    },
    "tags": []
   },
   "source": [
    "As we can understand, the outliers can skew the data analysis power of a model resulting in dropping its accuracy. In this section, we will cover the python implementation of outlier detection and outlier treatment. Let’s consdier a dataset consisting of the details of accidents in the states of the USA. In the given dataset, different features related to the cause of the accidents and the cost to the accident insurance companies are given. The task is to detect and treat the outliers present in the given dataset. \n",
    "\n",
    "For this purpose, we can use various outlier detection techniques like boxplot, Z-score, IQR, etc. Using these techniques, we can detect the presence of outliers in the dataset. After outlier detection, we can use outlier treatment techniques to treat the detected outliers. There are various outlier treatment techniques like Trimming, Mean Imputation, Median Imputation, Winsorization, etc., which we can use to treat the outliers in a dataset.   \n",
    "\n",
    "To implement outlier detection and outlier treatment in python in this problem, we take the following steps.\n",
    "\n",
    "Step 1: Reading the dataset\n",
    "\n",
    "In this very first step, we will read the dataset. To read this dataset, we need to use the seaborn library, so let’s import the library. "
   ]
  },
  {
   "cell_type": "code",
   "execution_count": 2,
   "id": "2eae2ee2",
   "metadata": {
    "execution": {
     "iopub.execute_input": "2023-03-31T19:52:01.525616Z",
     "iopub.status.busy": "2023-03-31T19:52:01.524979Z",
     "iopub.status.idle": "2023-03-31T19:52:02.795401Z",
     "shell.execute_reply": "2023-03-31T19:52:02.793942Z"
    },
    "papermill": {
     "duration": 1.284526,
     "end_time": "2023-03-31T19:52:02.798405",
     "exception": false,
     "start_time": "2023-03-31T19:52:01.513879",
     "status": "completed"
    },
    "tags": []
   },
   "outputs": [],
   "source": [
    "# Importing required libraries\n",
    "import seaborn as sns"
   ]
  },
  {
   "cell_type": "markdown",
   "id": "b50334a0",
   "metadata": {
    "papermill": {
     "duration": 0.009396,
     "end_time": "2023-03-31T19:52:02.817224",
     "exception": false,
     "start_time": "2023-03-31T19:52:02.807828",
     "status": "completed"
    },
    "tags": []
   },
   "source": [
    "After importing the seaborn library, let’s load the car crashes dataset available in the seaborn library. "
   ]
  },
  {
   "cell_type": "code",
   "execution_count": 3,
   "id": "e67d261d",
   "metadata": {
    "execution": {
     "iopub.execute_input": "2023-03-31T19:52:02.838657Z",
     "iopub.status.busy": "2023-03-31T19:52:02.838206Z",
     "iopub.status.idle": "2023-03-31T19:52:03.434756Z",
     "shell.execute_reply": "2023-03-31T19:52:03.433565Z"
    },
    "papermill": {
     "duration": 0.610675,
     "end_time": "2023-03-31T19:52:03.437617",
     "exception": false,
     "start_time": "2023-03-31T19:52:02.826942",
     "status": "completed"
    },
    "tags": []
   },
   "outputs": [],
   "source": [
    "# Reading the dataset\n",
    "df = sns.load_dataset(\"car_crashes\")"
   ]
  },
  {
   "cell_type": "markdown",
   "id": "679bb3ea",
   "metadata": {
    "papermill": {
     "duration": 0.008956,
     "end_time": "2023-03-31T19:52:03.456083",
     "exception": false,
     "start_time": "2023-03-31T19:52:03.447127",
     "status": "completed"
    },
    "tags": []
   },
   "source": [
    "After reading the dataset, let’s check its top 5 rows using head() method to just see how the data looks."
   ]
  },
  {
   "cell_type": "code",
   "execution_count": 4,
   "id": "364e5233",
   "metadata": {
    "execution": {
     "iopub.execute_input": "2023-03-31T19:52:03.477166Z",
     "iopub.status.busy": "2023-03-31T19:52:03.476480Z",
     "iopub.status.idle": "2023-03-31T19:52:03.510885Z",
     "shell.execute_reply": "2023-03-31T19:52:03.509388Z"
    },
    "papermill": {
     "duration": 0.048129,
     "end_time": "2023-03-31T19:52:03.513609",
     "exception": false,
     "start_time": "2023-03-31T19:52:03.465480",
     "status": "completed"
    },
    "tags": []
   },
   "outputs": [
    {
     "data": {
      "text/html": [
       "<div>\n",
       "<style scoped>\n",
       "    .dataframe tbody tr th:only-of-type {\n",
       "        vertical-align: middle;\n",
       "    }\n",
       "\n",
       "    .dataframe tbody tr th {\n",
       "        vertical-align: top;\n",
       "    }\n",
       "\n",
       "    .dataframe thead th {\n",
       "        text-align: right;\n",
       "    }\n",
       "</style>\n",
       "<table border=\"1\" class=\"dataframe\">\n",
       "  <thead>\n",
       "    <tr style=\"text-align: right;\">\n",
       "      <th></th>\n",
       "      <th>total</th>\n",
       "      <th>speeding</th>\n",
       "      <th>alcohol</th>\n",
       "      <th>not_distracted</th>\n",
       "      <th>no_previous</th>\n",
       "      <th>ins_premium</th>\n",
       "      <th>ins_losses</th>\n",
       "      <th>abbrev</th>\n",
       "    </tr>\n",
       "  </thead>\n",
       "  <tbody>\n",
       "    <tr>\n",
       "      <th>0</th>\n",
       "      <td>18.8</td>\n",
       "      <td>7.332</td>\n",
       "      <td>5.640</td>\n",
       "      <td>18.048</td>\n",
       "      <td>15.040</td>\n",
       "      <td>784.55</td>\n",
       "      <td>145.08</td>\n",
       "      <td>AL</td>\n",
       "    </tr>\n",
       "    <tr>\n",
       "      <th>1</th>\n",
       "      <td>18.1</td>\n",
       "      <td>7.421</td>\n",
       "      <td>4.525</td>\n",
       "      <td>16.290</td>\n",
       "      <td>17.014</td>\n",
       "      <td>1053.48</td>\n",
       "      <td>133.93</td>\n",
       "      <td>AK</td>\n",
       "    </tr>\n",
       "    <tr>\n",
       "      <th>2</th>\n",
       "      <td>18.6</td>\n",
       "      <td>6.510</td>\n",
       "      <td>5.208</td>\n",
       "      <td>15.624</td>\n",
       "      <td>17.856</td>\n",
       "      <td>899.47</td>\n",
       "      <td>110.35</td>\n",
       "      <td>AZ</td>\n",
       "    </tr>\n",
       "    <tr>\n",
       "      <th>3</th>\n",
       "      <td>22.4</td>\n",
       "      <td>4.032</td>\n",
       "      <td>5.824</td>\n",
       "      <td>21.056</td>\n",
       "      <td>21.280</td>\n",
       "      <td>827.34</td>\n",
       "      <td>142.39</td>\n",
       "      <td>AR</td>\n",
       "    </tr>\n",
       "    <tr>\n",
       "      <th>4</th>\n",
       "      <td>12.0</td>\n",
       "      <td>4.200</td>\n",
       "      <td>3.360</td>\n",
       "      <td>10.920</td>\n",
       "      <td>10.680</td>\n",
       "      <td>878.41</td>\n",
       "      <td>165.63</td>\n",
       "      <td>CA</td>\n",
       "    </tr>\n",
       "  </tbody>\n",
       "</table>\n",
       "</div>"
      ],
      "text/plain": [
       "   total  speeding  alcohol  not_distracted  no_previous  ins_premium  \\\n",
       "0   18.8     7.332    5.640          18.048       15.040       784.55   \n",
       "1   18.1     7.421    4.525          16.290       17.014      1053.48   \n",
       "2   18.6     6.510    5.208          15.624       17.856       899.47   \n",
       "3   22.4     4.032    5.824          21.056       21.280       827.34   \n",
       "4   12.0     4.200    3.360          10.920       10.680       878.41   \n",
       "\n",
       "   ins_losses abbrev  \n",
       "0      145.08     AL  \n",
       "1      133.93     AK  \n",
       "2      110.35     AZ  \n",
       "3      142.39     AR  \n",
       "4      165.63     CA  "
      ]
     },
     "execution_count": 4,
     "metadata": {},
     "output_type": "execute_result"
    }
   ],
   "source": [
    "# Checking top 5 rows of dataset\n",
    "df.head()"
   ]
  },
  {
   "cell_type": "markdown",
   "id": "078f2aee",
   "metadata": {
    "papermill": {
     "duration": 0.00915,
     "end_time": "2023-03-31T19:52:03.532532",
     "exception": false,
     "start_time": "2023-03-31T19:52:03.523382",
     "status": "completed"
    },
    "tags": []
   },
   "source": [
    "As we can see, the dataset has values of different features related to the cause of the accidents and the cost to the accident insurance companies. \n",
    "\n",
    "Let’s check the total number of records and features in the dataset."
   ]
  },
  {
   "cell_type": "code",
   "execution_count": 5,
   "id": "ee8928ea",
   "metadata": {
    "execution": {
     "iopub.execute_input": "2023-03-31T19:52:03.555202Z",
     "iopub.status.busy": "2023-03-31T19:52:03.554515Z",
     "iopub.status.idle": "2023-03-31T19:52:03.560875Z",
     "shell.execute_reply": "2023-03-31T19:52:03.559708Z"
    },
    "papermill": {
     "duration": 0.020275,
     "end_time": "2023-03-31T19:52:03.563242",
     "exception": false,
     "start_time": "2023-03-31T19:52:03.542967",
     "status": "completed"
    },
    "tags": []
   },
   "outputs": [
    {
     "data": {
      "text/plain": [
       "(51, 8)"
      ]
     },
     "execution_count": 5,
     "metadata": {},
     "output_type": "execute_result"
    }
   ],
   "source": [
    "# Checking the shape of the dataset\n",
    "df.shape"
   ]
  },
  {
   "cell_type": "markdown",
   "id": "496375ce",
   "metadata": {
    "papermill": {
     "duration": 0.009277,
     "end_time": "2023-03-31T19:52:03.582538",
     "exception": false,
     "start_time": "2023-03-31T19:52:03.573261",
     "status": "completed"
    },
    "tags": []
   },
   "source": [
    "As we can see in the output, the dataset has 51 records and 8 features.\n",
    "\n",
    "Step 2: Outlier Detection \n",
    "\n",
    "After reading and analysing the dataset, we can start performing various outlier detection techniques to detect the outliers present in the dataset. \n",
    "\n",
    "Step 2.1: Outlier Detection using Boxplot \n",
    "\n",
    "First, let’s use the boxplot to detect the outliers present in the dataset. We will consider the alcohol column from the dataset and check for outliers using a boxplot."
   ]
  },
  {
   "cell_type": "code",
   "execution_count": 6,
   "id": "514883f7",
   "metadata": {
    "execution": {
     "iopub.execute_input": "2023-03-31T19:52:03.603992Z",
     "iopub.status.busy": "2023-03-31T19:52:03.603335Z",
     "iopub.status.idle": "2023-03-31T19:52:03.824232Z",
     "shell.execute_reply": "2023-03-31T19:52:03.822934Z"
    },
    "papermill": {
     "duration": 0.234633,
     "end_time": "2023-03-31T19:52:03.826830",
     "exception": false,
     "start_time": "2023-03-31T19:52:03.592197",
     "status": "completed"
    },
    "tags": []
   },
   "outputs": [
    {
     "data": {
      "text/plain": [
       "<AxesSubplot:ylabel='alcohol'>"
      ]
     },
     "execution_count": 6,
     "metadata": {},
     "output_type": "execute_result"
    },
    {
     "data": {
      "image/png": "[encoded data removed]",
      "text/plain": [
       "<Figure size 400x600 with 1 Axes>"
      ]
     },
     "metadata": {},
     "output_type": "display_data"
    }
   ],
   "source": [
    "import matplotlib.pyplot as plt\n",
    "#Outlier detection using Boxplot\n",
    "plt.figure(figsize=(4,6))\n",
    "sns.boxplot(y =\"alcohol\", data = df)"
   ]
  },
  {
   "cell_type": "markdown",
   "id": "9ae1e719",
   "metadata": {
    "papermill": {
     "duration": 0.009513,
     "end_time": "2023-03-31T19:52:03.846384",
     "exception": false,
     "start_time": "2023-03-31T19:52:03.836871",
     "status": "completed"
    },
    "tags": []
   },
   "source": [
    "All the data values which are not present in the range of minimum and maximum of a boxplot are considered outliers. As we can see from the visualisation of the boxplot, the alcohol column is having three outliers. \n",
    "\n",
    "Step 2.2: Outlier Detection using Z-Score\n",
    "\n",
    "Now, let’s see how to detect outliers with Z-scores. The criteria for detecting outliers using Z-scores is any data value whose Z-score falls out of the 3rd standard deviation is considered an outlier.  \n",
    "\n",
    " First, let’s calculate the mean and standard deviation of the required data. "
   ]
  },
  {
   "cell_type": "code",
   "execution_count": 7,
   "id": "cd2d1400",
   "metadata": {
    "execution": {
     "iopub.execute_input": "2023-03-31T19:52:03.869650Z",
     "iopub.status.busy": "2023-03-31T19:52:03.868583Z",
     "iopub.status.idle": "2023-03-31T19:52:03.876910Z",
     "shell.execute_reply": "2023-03-31T19:52:03.875896Z"
    },
    "papermill": {
     "duration": 0.023091,
     "end_time": "2023-03-31T19:52:03.879537",
     "exception": false,
     "start_time": "2023-03-31T19:52:03.856446",
     "status": "completed"
    },
    "tags": []
   },
   "outputs": [],
   "source": [
    "mean = df[\"alcohol\"].mean()\n",
    "\n",
    "#Calculating Standard Deviation\n",
    "standard_deviation  = df[\"alcohol\"].std()\n",
    "#After calculating the mean and standard deviation of the alcohol column, we can now compute the Z-score using the formula (Xi - Mean) / Standard Deviation. \n",
    "#Optimal Threshold\n",
    "optimal_threshold = 2\n",
    "\n",
    "outliers = []\n",
    "\n",
    "for i in df[\"alcohol\"]:\n",
    " ZScore = (i - mean)/standard_deviation\n",
    " if np.abs(ZScore) > optimal_threshold:\n",
    "   outliers.append(i)"
   ]
  },
  {
   "cell_type": "markdown",
   "id": "e3cf0ddb",
   "metadata": {
    "papermill": {
     "duration": 0.009656,
     "end_time": "2023-03-31T19:52:03.899309",
     "exception": false,
     "start_time": "2023-03-31T19:52:03.889653",
     "status": "completed"
    },
    "tags": []
   },
   "source": [
    "As we can see, we are providing a threshold value of 2, i.e. if the Z-score is more than 2, then the particular data value is an outlier. \n",
    "\n",
    "Let’s check all the data values with a Z-score more than the provided threshold. "
   ]
  },
  {
   "cell_type": "code",
   "execution_count": 8,
   "id": "b50fae0e",
   "metadata": {
    "execution": {
     "iopub.execute_input": "2023-03-31T19:52:03.923045Z",
     "iopub.status.busy": "2023-03-31T19:52:03.921837Z",
     "iopub.status.idle": "2023-03-31T19:52:03.929499Z",
     "shell.execute_reply": "2023-03-31T19:52:03.927837Z"
    },
    "papermill": {
     "duration": 0.022688,
     "end_time": "2023-03-31T19:52:03.932251",
     "exception": false,
     "start_time": "2023-03-31T19:52:03.909563",
     "status": "completed"
    },
    "tags": []
   },
   "outputs": [
    {
     "name": "stdout",
     "output_type": "stream",
     "text": [
      "Outliers: [9.416, 10.038, 9.799]\n"
     ]
    }
   ],
   "source": [
    "#Printing the outliers \n",
    "print(\"Outliers:\", outliers)"
   ]
  },
  {
   "cell_type": "markdown",
   "id": "95be3c78",
   "metadata": {
    "papermill": {
     "duration": 0.009505,
     "end_time": "2023-03-31T19:52:03.951928",
     "exception": false,
     "start_time": "2023-03-31T19:52:03.942423",
     "status": "completed"
    },
    "tags": []
   },
   "source": [
    "As we can see, 9.416, 10.038 and 9.799 are the outliers present in the alcohol column of the given data. \n",
    "\n",
    "Step 2.3: Outlier Detection using Inter Quartile Range\n",
    "\n",
    "As the next step, we will use inter quantile range(IQR) to detect the outliers. IQR is the range between the first quartiles(Q1) and third quartiles(Q3). The data values which fall below (Q1 - 1.5*IQR )or above (Q3 + 1.5*IQR) are outliers.  \n",
    "\n",
    "First, let’s read the required data and sort the data in ascending order. "
   ]
  },
  {
   "cell_type": "code",
   "execution_count": 9,
   "id": "8eb71cd8",
   "metadata": {
    "execution": {
     "iopub.execute_input": "2023-03-31T19:52:03.973566Z",
     "iopub.status.busy": "2023-03-31T19:52:03.973119Z",
     "iopub.status.idle": "2023-03-31T19:52:03.978497Z",
     "shell.execute_reply": "2023-03-31T19:52:03.977245Z"
    },
    "papermill": {
     "duration": 0.019568,
     "end_time": "2023-03-31T19:52:03.981339",
     "exception": false,
     "start_time": "2023-03-31T19:52:03.961771",
     "status": "completed"
    },
    "tags": []
   },
   "outputs": [],
   "source": [
    "#Defining the data\n",
    "initial_data = df[\"alcohol\"]\n",
    "#Sorting the data in ascending order\n",
    "sorted_data = sorted(initial_data)"
   ]
  },
  {
   "cell_type": "markdown",
   "id": "0d642ef0",
   "metadata": {
    "papermill": {
     "duration": 0.009894,
     "end_time": "2023-03-31T19:52:04.001649",
     "exception": false,
     "start_time": "2023-03-31T19:52:03.991755",
     "status": "completed"
    },
    "tags": []
   },
   "source": [
    "After sorting the data, let’s calculate the first quartile(Q1) and third quartile(Q3). "
   ]
  },
  {
   "cell_type": "code",
   "execution_count": 10,
   "id": "2f0bc740",
   "metadata": {
    "execution": {
     "iopub.execute_input": "2023-03-31T19:52:04.024251Z",
     "iopub.status.busy": "2023-03-31T19:52:04.023524Z",
     "iopub.status.idle": "2023-03-31T19:52:04.030169Z",
     "shell.execute_reply": "2023-03-31T19:52:04.029009Z"
    },
    "papermill": {
     "duration": 0.021098,
     "end_time": "2023-03-31T19:52:04.032911",
     "exception": false,
     "start_time": "2023-03-31T19:52:04.011813",
     "status": "completed"
    },
    "tags": []
   },
   "outputs": [],
   "source": [
    "#Calculating Quantiles\n",
    "Q1 = np.percentile(sorted_data, 25)\n",
    "Q2 = np.percentile(sorted_data, 50)\n",
    "Q3 = np.percentile(sorted_data, 75)"
   ]
  },
  {
   "cell_type": "markdown",
   "id": "27a21009",
   "metadata": {
    "papermill": {
     "duration": 0.009778,
     "end_time": "2023-03-31T19:52:04.052950",
     "exception": false,
     "start_time": "2023-03-31T19:52:04.043172",
     "status": "completed"
    },
    "tags": []
   },
   "source": [
    "Using the first and third quartiles, let’s calculate the interquartile range. The IQR is the difference between the third quartile(Q3) and the first quartile(Q1)."
   ]
  },
  {
   "cell_type": "code",
   "execution_count": 11,
   "id": "503688f8",
   "metadata": {
    "execution": {
     "iopub.execute_input": "2023-03-31T19:52:04.075660Z",
     "iopub.status.busy": "2023-03-31T19:52:04.075268Z",
     "iopub.status.idle": "2023-03-31T19:52:04.080042Z",
     "shell.execute_reply": "2023-03-31T19:52:04.078793Z"
    },
    "papermill": {
     "duration": 0.018985,
     "end_time": "2023-03-31T19:52:04.082595",
     "exception": false,
     "start_time": "2023-03-31T19:52:04.063610",
     "status": "completed"
    },
    "tags": []
   },
   "outputs": [],
   "source": [
    "#Calculating IQR\n",
    "IQR = Q3 - Q1"
   ]
  },
  {
   "cell_type": "markdown",
   "id": "6b1243a4",
   "metadata": {
    "papermill": {
     "duration": 0.009834,
     "end_time": "2023-03-31T19:52:04.103216",
     "exception": false,
     "start_time": "2023-03-31T19:52:04.093382",
     "status": "completed"
    },
    "tags": []
   },
   "source": [
    "After calculating the IQR, let’s now set the upper and lower bounds using the calculated IQR"
   ]
  },
  {
   "cell_type": "code",
   "execution_count": 12,
   "id": "9524a78d",
   "metadata": {
    "execution": {
     "iopub.execute_input": "2023-03-31T19:52:04.125320Z",
     "iopub.status.busy": "2023-03-31T19:52:04.124870Z",
     "iopub.status.idle": "2023-03-31T19:52:04.130181Z",
     "shell.execute_reply": "2023-03-31T19:52:04.128853Z"
    },
    "papermill": {
     "duration": 0.019154,
     "end_time": "2023-03-31T19:52:04.132438",
     "exception": false,
     "start_time": "2023-03-31T19:52:04.113284",
     "status": "completed"
    },
    "tags": []
   },
   "outputs": [],
   "source": [
    "#Lower Limit and Upper Limit\n",
    "lower_limit = Q1 - ((3/2)*IQR)\n",
    "upper_limit = Q3 + ((3/2)*IQR)"
   ]
  },
  {
   "cell_type": "markdown",
   "id": "ab7eb60c",
   "metadata": {
    "papermill": {
     "duration": 0.009921,
     "end_time": "2023-03-31T19:52:04.152466",
     "exception": false,
     "start_time": "2023-03-31T19:52:04.142545",
     "status": "completed"
    },
    "tags": []
   },
   "source": [
    "Using the calculated lower and upper limits, we can detect all the outliers present in the data. All the data points falling below the lower bound and above the upper bound are considered as outliers. "
   ]
  },
  {
   "cell_type": "code",
   "execution_count": 13,
   "id": "a7bab51d",
   "metadata": {
    "execution": {
     "iopub.execute_input": "2023-03-31T19:52:04.175016Z",
     "iopub.status.busy": "2023-03-31T19:52:04.174616Z",
     "iopub.status.idle": "2023-03-31T19:52:04.180463Z",
     "shell.execute_reply": "2023-03-31T19:52:04.179145Z"
    },
    "papermill": {
     "duration": 0.020482,
     "end_time": "2023-03-31T19:52:04.183185",
     "exception": false,
     "start_time": "2023-03-31T19:52:04.162703",
     "status": "completed"
    },
    "tags": []
   },
   "outputs": [],
   "source": [
    "#Detecting outlier\n",
    "outliers = []\n",
    "for i in sorted_data:\n",
    " if ((i > upper_limit) or (i < lower_limit)):\n",
    "   outliers.append(i)"
   ]
  },
  {
   "cell_type": "markdown",
   "id": "38cfc02d",
   "metadata": {
    "papermill": {
     "duration": 0.009896,
     "end_time": "2023-03-31T19:52:04.203782",
     "exception": false,
     "start_time": "2023-03-31T19:52:04.193886",
     "status": "completed"
    },
    "tags": []
   },
   "source": [
    "Now let’s check all the data values falling above the upper bound and below the lower bound. "
   ]
  },
  {
   "cell_type": "code",
   "execution_count": 14,
   "id": "e7800d24",
   "metadata": {
    "execution": {
     "iopub.execute_input": "2023-03-31T19:52:04.225910Z",
     "iopub.status.busy": "2023-03-31T19:52:04.225473Z",
     "iopub.status.idle": "2023-03-31T19:52:04.232053Z",
     "shell.execute_reply": "2023-03-31T19:52:04.230719Z"
    },
    "papermill": {
     "duration": 0.020692,
     "end_time": "2023-03-31T19:52:04.234563",
     "exception": false,
     "start_time": "2023-03-31T19:52:04.213871",
     "status": "completed"
    },
    "tags": []
   },
   "outputs": [
    {
     "name": "stdout",
     "output_type": "stream",
     "text": [
      "Outliers: [9.416, 9.799, 10.038]\n"
     ]
    }
   ],
   "source": [
    "#Printing the outliers \n",
    "print(\"Outliers:\", outliers) "
   ]
  },
  {
   "cell_type": "markdown",
   "id": "d856ef83",
   "metadata": {
    "papermill": {
     "duration": 0.009757,
     "end_time": "2023-03-31T19:52:04.254423",
     "exception": false,
     "start_time": "2023-03-31T19:52:04.244666",
     "status": "completed"
    },
    "tags": []
   },
   "source": [
    "As we can see, 9.416, 10.038 and 9.799 are the outliers present in the alcohol column of the given data since these data points are not falling between the upper and lower bound\n",
    "\n",
    "Step 3: Outlier Treatment \n",
    "\n",
    "So using the outlier detection techniques, we understood that the alcohol column of the car crashes dataset contains three outliers. These outliers can potentially affect the accuracy of the model. So treatment of these outliers is required. There are several outlier treatment techniques by which we can treat the outliers. So in this course, we will use two types of outlier treatment methods to treat the outliers in the dataset. \n",
    "\n",
    "Step 3.1: Trimming \n",
    "\n",
    "First, let’s see how to treat the outliers using the trimming method. So in this python implementation, we perform outlier treatment using IQR. In trimming, we will removing all the data points which are falling below the lower bound and above the upper bound. \n",
    "\n",
    "First, let’s import the car crashes dataset from seaborn libarary. "
   ]
  },
  {
   "cell_type": "code",
   "execution_count": 15,
   "id": "9ec9fb7d",
   "metadata": {
    "execution": {
     "iopub.execute_input": "2023-03-31T19:52:04.276351Z",
     "iopub.status.busy": "2023-03-31T19:52:04.275916Z",
     "iopub.status.idle": "2023-03-31T19:52:04.284891Z",
     "shell.execute_reply": "2023-03-31T19:52:04.283446Z"
    },
    "papermill": {
     "duration": 0.023011,
     "end_time": "2023-03-31T19:52:04.287489",
     "exception": false,
     "start_time": "2023-03-31T19:52:04.264478",
     "status": "completed"
    },
    "tags": []
   },
   "outputs": [],
   "source": [
    "#importing the dataset\n",
    "df = sns.load_dataset(\"car_crashes\")"
   ]
  },
  {
   "cell_type": "markdown",
   "id": "4178f821",
   "metadata": {
    "papermill": {
     "duration": 0.009751,
     "end_time": "2023-03-31T19:52:04.307439",
     "exception": false,
     "start_time": "2023-03-31T19:52:04.297688",
     "status": "completed"
    },
    "tags": []
   },
   "source": [
    "From the given dataset, we are considering the alcohol column to perform outiler treatment.\n",
    "\n",
    "Let’s check the total number of records in the alcohol column."
   ]
  },
  {
   "cell_type": "code",
   "execution_count": 16,
   "id": "dfea5ed7",
   "metadata": {
    "execution": {
     "iopub.execute_input": "2023-03-31T19:52:04.329676Z",
     "iopub.status.busy": "2023-03-31T19:52:04.329115Z",
     "iopub.status.idle": "2023-03-31T19:52:04.334884Z",
     "shell.execute_reply": "2023-03-31T19:52:04.333939Z"
    },
    "papermill": {
     "duration": 0.019678,
     "end_time": "2023-03-31T19:52:04.337489",
     "exception": false,
     "start_time": "2023-03-31T19:52:04.317811",
     "status": "completed"
    },
    "tags": []
   },
   "outputs": [
    {
     "name": "stdout",
     "output_type": "stream",
     "text": [
      "Shape with outliers: (51,)\n"
     ]
    }
   ],
   "source": [
    "#Visualization the shape\n",
    "print(\"Shape with outliers:\",df[\"alcohol\"].shape)"
   ]
  },
  {
   "cell_type": "markdown",
   "id": "9c082766",
   "metadata": {
    "papermill": {
     "duration": 0.009851,
     "end_time": "2023-03-31T19:52:04.357707",
     "exception": false,
     "start_time": "2023-03-31T19:52:04.347856",
     "status": "completed"
    },
    "tags": []
   },
   "source": [
    "After that, let’s calculate the first quantile(Q1) and third quantile(Q3) of the alcohol column."
   ]
  },
  {
   "cell_type": "code",
   "execution_count": 17,
   "id": "81b62f06",
   "metadata": {
    "execution": {
     "iopub.execute_input": "2023-03-31T19:52:04.380258Z",
     "iopub.status.busy": "2023-03-31T19:52:04.379800Z",
     "iopub.status.idle": "2023-03-31T19:52:04.387422Z",
     "shell.execute_reply": "2023-03-31T19:52:04.386180Z"
    },
    "papermill": {
     "duration": 0.021947,
     "end_time": "2023-03-31T19:52:04.389940",
     "exception": false,
     "start_time": "2023-03-31T19:52:04.367993",
     "status": "completed"
    },
    "tags": []
   },
   "outputs": [],
   "source": [
    "#Calculating Quantiles\n",
    "Q1 = np.percentile(df[\"alcohol\"], 25)\n",
    "Q2 = np.percentile(df[\"alcohol\"], 50)\n",
    "Q3 = np.percentile(df[\"alcohol\"], 75)"
   ]
  },
  {
   "cell_type": "markdown",
   "id": "d348a0b5",
   "metadata": {
    "papermill": {
     "duration": 0.009899,
     "end_time": "2023-03-31T19:52:04.410416",
     "exception": false,
     "start_time": "2023-03-31T19:52:04.400517",
     "status": "completed"
    },
    "tags": []
   },
   "source": [
    "Using the calculated first and third quartiles, let’s calculate the interquartile range. The IQR is the difference between the third quartile(Q3) and the first quartile(Q1)."
   ]
  },
  {
   "cell_type": "code",
   "execution_count": 18,
   "id": "d8be4774",
   "metadata": {
    "execution": {
     "iopub.execute_input": "2023-03-31T19:52:04.433192Z",
     "iopub.status.busy": "2023-03-31T19:52:04.432331Z",
     "iopub.status.idle": "2023-03-31T19:52:04.437583Z",
     "shell.execute_reply": "2023-03-31T19:52:04.436540Z"
    },
    "papermill": {
     "duration": 0.019241,
     "end_time": "2023-03-31T19:52:04.439923",
     "exception": false,
     "start_time": "2023-03-31T19:52:04.420682",
     "status": "completed"
    },
    "tags": []
   },
   "outputs": [],
   "source": [
    "#Calculating IQR\n",
    "IQR = Q3 - Q1"
   ]
  },
  {
   "cell_type": "markdown",
   "id": "befe129b",
   "metadata": {
    "papermill": {
     "duration": 0.009727,
     "end_time": "2023-03-31T19:52:04.459946",
     "exception": false,
     "start_time": "2023-03-31T19:52:04.450219",
     "status": "completed"
    },
    "tags": []
   },
   "source": [
    "Using the  calculated the IQR, let’s now compute the upper and lower bounds. All the data points falling below the lower bound and above the upper bound are considered as outliers"
   ]
  },
  {
   "cell_type": "code",
   "execution_count": 19,
   "id": "18d16c58",
   "metadata": {
    "execution": {
     "iopub.execute_input": "2023-03-31T19:52:04.482255Z",
     "iopub.status.busy": "2023-03-31T19:52:04.481834Z",
     "iopub.status.idle": "2023-03-31T19:52:04.488619Z",
     "shell.execute_reply": "2023-03-31T19:52:04.487291Z"
    },
    "papermill": {
     "duration": 0.021164,
     "end_time": "2023-03-31T19:52:04.491214",
     "exception": false,
     "start_time": "2023-03-31T19:52:04.470050",
     "status": "completed"
    },
    "tags": []
   },
   "outputs": [],
   "source": [
    "#Lower Limit and Upper Limit\n",
    "lower_limit = Q1 - ((3/2)*IQR)\n",
    "upper_limit = Q3 + ((3/2)*IQR)\n",
    "\n",
    "#Creating upper and lower bound\n",
    "upperbound = np.where(df[\"alcohol\"] >= upper_limit)\n",
    "lowerbound = np.where(df[\"alcohol\"] <= lower_limit)"
   ]
  },
  {
   "cell_type": "markdown",
   "id": "28576832",
   "metadata": {
    "papermill": {
     "duration": 0.009927,
     "end_time": "2023-03-31T19:52:04.511452",
     "exception": false,
     "start_time": "2023-03-31T19:52:04.501525",
     "status": "completed"
    },
    "tags": []
   },
   "source": [
    "So we will drop all the data points falling above the upper bound and below the lower bound from the data.   "
   ]
  },
  {
   "cell_type": "code",
   "execution_count": 20,
   "id": "9548ff54",
   "metadata": {
    "execution": {
     "iopub.execute_input": "2023-03-31T19:52:04.534506Z",
     "iopub.status.busy": "2023-03-31T19:52:04.534056Z",
     "iopub.status.idle": "2023-03-31T19:52:04.544883Z",
     "shell.execute_reply": "2023-03-31T19:52:04.543420Z"
    },
    "papermill": {
     "duration": 0.026122,
     "end_time": "2023-03-31T19:52:04.547718",
     "exception": false,
     "start_time": "2023-03-31T19:52:04.521596",
     "status": "completed"
    },
    "tags": []
   },
   "outputs": [],
   "source": [
    "#Removing outlier\n",
    "df.drop(upperbound[0], inplace = True)\n",
    "df.drop(lowerbound[0], inplace = True)"
   ]
  },
  {
   "cell_type": "markdown",
   "id": "9b4dbc73",
   "metadata": {
    "papermill": {
     "duration": 0.009802,
     "end_time": "2023-03-31T19:52:04.567822",
     "exception": false,
     "start_time": "2023-03-31T19:52:04.558020",
     "status": "completed"
    },
    "tags": []
   },
   "source": [
    "After dropping the data points above upper bound and below lower bound, we will now visualize the shape of the data. "
   ]
  },
  {
   "cell_type": "code",
   "execution_count": 21,
   "id": "3f151c6a",
   "metadata": {
    "execution": {
     "iopub.execute_input": "2023-03-31T19:52:04.590537Z",
     "iopub.status.busy": "2023-03-31T19:52:04.589774Z",
     "iopub.status.idle": "2023-03-31T19:52:04.596589Z",
     "shell.execute_reply": "2023-03-31T19:52:04.595201Z"
    },
    "papermill": {
     "duration": 0.021621,
     "end_time": "2023-03-31T19:52:04.599564",
     "exception": false,
     "start_time": "2023-03-31T19:52:04.577943",
     "status": "completed"
    },
    "tags": []
   },
   "outputs": [
    {
     "name": "stdout",
     "output_type": "stream",
     "text": [
      "Shape after removing outliers: (48,)\n"
     ]
    }
   ],
   "source": [
    "#Printing the final shape\n",
    "print(\"Shape after removing outliers:\", df[\"alcohol\"].shape)"
   ]
  },
  {
   "cell_type": "markdown",
   "id": "eb8a7438",
   "metadata": {
    "papermill": {
     "duration": 0.010288,
     "end_time": "2023-03-31T19:52:04.620914",
     "exception": false,
     "start_time": "2023-03-31T19:52:04.610626",
     "status": "completed"
    },
    "tags": []
   },
   "source": [
    "Initially, by using outlier detection techniques we found that the alcohol column of the car crashes dataset was containing three outliers. So we removed all the outliers in the alcohol column by trimming them from the data. As we can clearly see, the number of records have been reduced from the (51, ) to (48, ), which indicates that the outliers present in the data has been dropped.\n",
    "\n",
    "Now, let’s use the boxplot to check the outliers present in the alcohol column of the dataset.\n",
    "\n",
    "All the data values which are not present in the range of minimum and maximum of a boxplot are considered outliers."
   ]
  },
  {
   "cell_type": "code",
   "execution_count": 22,
   "id": "43e10fa6",
   "metadata": {
    "execution": {
     "iopub.execute_input": "2023-03-31T19:52:04.643668Z",
     "iopub.status.busy": "2023-03-31T19:52:04.643251Z",
     "iopub.status.idle": "2023-03-31T19:52:04.832732Z",
     "shell.execute_reply": "2023-03-31T19:52:04.831562Z"
    },
    "papermill": {
     "duration": 0.20405,
     "end_time": "2023-03-31T19:52:04.835325",
     "exception": false,
     "start_time": "2023-03-31T19:52:04.631275",
     "status": "completed"
    },
    "tags": []
   },
   "outputs": [
    {
     "data": {
      "text/plain": [
       "<AxesSubplot:>"
      ]
     },
     "execution_count": 22,
     "metadata": {},
     "output_type": "execute_result"
    },
    {
     "data": {
      "image/png": "[encoded data removed]",
      "text/plain": [
       "<Figure size 600x400 with 1 Axes>"
      ]
     },
     "metadata": {},
     "output_type": "display_data"
    }
   ],
   "source": [
    "#Visualizating Box Plot\n",
    "plt.figure(figsize=(6,4))\n",
    "sns.boxplot(df[\"alcohol\"])"
   ]
  },
  {
   "cell_type": "markdown",
   "id": "2c824fce",
   "metadata": {
    "papermill": {
     "duration": 0.010525,
     "end_time": "2023-03-31T19:52:04.856542",
     "exception": false,
     "start_time": "2023-03-31T19:52:04.846017",
     "status": "completed"
    },
    "tags": []
   },
   "source": [
    "As we can see from the visualisation of the boxplot, the alcohol column does not contain any outliers after treating them using trimming technique. Similarly we can use the same method to treat the outliers present in other columns of the dataset.  We can also use other outlier treatment techniques (i.e. Imputation, Winsorization, etc. to treat the outliers present in the data. \n",
    "\n",
    "So, this is how we can use the outlier detection and treatment techniques to find and treat the outliers present in the data."
   ]
  },
  {
   "cell_type": "code",
   "execution_count": null,
   "id": "eb48c362",
   "metadata": {
    "papermill": {
     "duration": 0.010535,
     "end_time": "2023-03-31T19:52:04.877691",
     "exception": false,
     "start_time": "2023-03-31T19:52:04.867156",
     "status": "completed"
    },
    "tags": []
   },
   "outputs": [],
   "source": []
  }
 ],
 "metadata": {
  "kernelspec": {
   "display_name": "Python 3",
   "language": "python",
   "name": "python3"
  },
  "language_info": {
   "codemirror_mode": {
    "name": "ipython",
    "version": 3
   },
   "file_extension": ".py",
   "mimetype": "text/x-python",
   "name": "python",
   "nbconvert_exporter": "python",
   "pygments_lexer": "ipython3",
   "version": "3.7.12"
  },
  "papermill": {
   "default_parameters": {},
   "duration": 15.242738,
   "end_time": "2023-03-31T19:52:05.713148",
   "environment_variables": {},
   "exception": null,
   "input_path": "__notebook__.ipynb",
   "output_path": "__notebook__.ipynb",
   "parameters": {},
   "start_time": "2023-03-31T19:51:50.470410",
   "version": "2.4.0"
  }
 },
 "nbformat": 4,
 "nbformat_minor": 5
}
