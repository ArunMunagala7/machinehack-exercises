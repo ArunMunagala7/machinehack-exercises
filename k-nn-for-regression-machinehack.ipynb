{
 "cells": [
  {
   "cell_type": "raw",
   "id": "60a9b61c",
   "metadata": {
    "_cell_guid": "b1076dfc-b9ad-4769-8c92-a6c4dae69d19",
    "_uuid": "8f2839f25d086af736a60e9eeb907d3b93b6e0e5",
    "papermill": {
     "duration": 0.008924,
     "end_time": "2023-01-16T11:54:23.352369",
     "exception": false,
     "start_time": "2023-01-16T11:54:23.343445",
     "status": "completed"
    },
    "tags": []
   },
   "source": [
    "# This Python 3 environment comes with many helpful analytics libraries installed\n",
    "# It is defined by the kaggle/python Docker image: https://github.com/kaggle/docker-python\n",
    "# For example, here's several helpful packages to load\n",
    "\n",
    "import numpy as np # linear algebra\n",
    "import pandas as pd # data processing, CSV file I/O (e.g. pd.read_csv)\n",
    "\n",
    "# Input data files are available in the read-only \"../input/\" directory\n",
    "# For example, running this (by clicking run or pressing Shift+Enter) will list all files under the input directory\n",
    "\n",
    "import os\n",
    "for dirname, _, filenames in os.walk('/kaggle/input'):\n",
    "    for filename in filenames:\n",
    "        print(os.path.join(dirname, filename))\n",
    "\n",
    "# You can write up to 20GB to the current directory (/kaggle/working/) that gets preserved as output when you create a version using \"Save & Run All\" \n",
    "# You can also write temporary files to /kaggle/temp/, but they won't be saved outside of the current session"
   ]
  },
  {
   "cell_type": "code",
   "execution_count": 1,
   "id": "c9663500",
   "metadata": {
    "execution": {
     "iopub.execute_input": "2023-01-16T11:54:23.369719Z",
     "iopub.status.busy": "2023-01-16T11:54:23.369220Z",
     "iopub.status.idle": "2023-01-16T11:54:23.381185Z",
     "shell.execute_reply": "2023-01-16T11:54:23.379878Z"
    },
    "papermill": {
     "duration": 0.024038,
     "end_time": "2023-01-16T11:54:23.383902",
     "exception": false,
     "start_time": "2023-01-16T11:54:23.359864",
     "status": "completed"
    },
    "tags": []
   },
   "outputs": [],
   "source": [
    "import numpy as np # linear algebra\n",
    "import pandas as pd # data processing, CSV file I/O (e.g. pd.read_csv)\n",
    "import os\n",
    "for dirname, _, filenames in os.walk('/kaggle/input'):\n",
    "    for filename in filenames:\n",
    "        print(os.path.join(dirname, filename))"
   ]
  },
  {
   "cell_type": "markdown",
   "id": "9a9b2110",
   "metadata": {
    "papermill": {
     "duration": 0.007066,
     "end_time": "2023-01-16T11:54:23.398550",
     "exception": false,
     "start_time": "2023-01-16T11:54:23.391484",
     "status": "completed"
    },
    "tags": []
   },
   "source": [
    "**Hands-on implementation of K-NN in Python**\n",
    "\n",
    "As we have got a good understanding of the K-NN algorithm, now we will see how it can be applied to real-life problems. Here, we will implement K-NN in a regression problem where we need to predict the values of a continuous variable. \n",
    "\n",
    "To implement the K-NN regression in python, let us take an example where the expenses on marketing and profits earned by 200 companies are given. We need to fit a regression model so that we can predict the profit given marketing spend as input. To do so, first, based on the marketing spending and profits earned by a certain number of companies, we will train a K-NN regression model. \n",
    "\n",
    "Once the model gets trained, it will fit a relationship between marketing spending and profits. Using this fitted relationship, when we give the marketing spend as input, the trained K-NN regression model will predict the profit earned by the company \n",
    "\n",
    "This hands-on implementation will be done by following the below steps.\n",
    "\n",
    "**Step 1: Reading the dataset**\n",
    "\n",
    "As a first step of the implementation, first of all, we will read the dataset of the problem as discussed above to the program. "
   ]
  },
  {
   "cell_type": "code",
   "execution_count": 2,
   "id": "349da974",
   "metadata": {
    "execution": {
     "iopub.execute_input": "2023-01-16T11:54:23.415396Z",
     "iopub.status.busy": "2023-01-16T11:54:23.414985Z",
     "iopub.status.idle": "2023-01-16T11:54:23.697133Z",
     "shell.execute_reply": "2023-01-16T11:54:23.695951Z"
    },
    "papermill": {
     "duration": 0.294136,
     "end_time": "2023-01-16T11:54:23.699948",
     "exception": false,
     "start_time": "2023-01-16T11:54:23.405812",
     "status": "completed"
    },
    "tags": []
   },
   "outputs": [],
   "source": [
    "data = pd.read_csv(\n",
    "    'https://gitlab.com/AnalyticsIndiaMagazine/practicedatasets/-/raw/main/bootcamp/decision_tree_regression/Profit.csv'\n",
    "    )"
   ]
  },
  {
   "cell_type": "code",
   "execution_count": 3,
   "id": "5538d5f0",
   "metadata": {
    "execution": {
     "iopub.execute_input": "2023-01-16T11:54:23.716365Z",
     "iopub.status.busy": "2023-01-16T11:54:23.715966Z",
     "iopub.status.idle": "2023-01-16T11:54:23.738988Z",
     "shell.execute_reply": "2023-01-16T11:54:23.737442Z"
    },
    "papermill": {
     "duration": 0.034547,
     "end_time": "2023-01-16T11:54:23.741775",
     "exception": false,
     "start_time": "2023-01-16T11:54:23.707228",
     "status": "completed"
    },
    "tags": []
   },
   "outputs": [
    {
     "data": {
      "text/html": [
       "<div>\n",
       "<style scoped>\n",
       "    .dataframe tbody tr th:only-of-type {\n",
       "        vertical-align: middle;\n",
       "    }\n",
       "\n",
       "    .dataframe tbody tr th {\n",
       "        vertical-align: top;\n",
       "    }\n",
       "\n",
       "    .dataframe thead th {\n",
       "        text-align: right;\n",
       "    }\n",
       "</style>\n",
       "<table border=\"1\" class=\"dataframe\">\n",
       "  <thead>\n",
       "    <tr style=\"text-align: right;\">\n",
       "      <th></th>\n",
       "      <th>Marketing Spend</th>\n",
       "      <th>Profit</th>\n",
       "    </tr>\n",
       "  </thead>\n",
       "  <tbody>\n",
       "    <tr>\n",
       "      <th>0</th>\n",
       "      <td>471784.10</td>\n",
       "      <td>192261.83</td>\n",
       "    </tr>\n",
       "    <tr>\n",
       "      <th>1</th>\n",
       "      <td>443898.53</td>\n",
       "      <td>191792.06</td>\n",
       "    </tr>\n",
       "    <tr>\n",
       "      <th>2</th>\n",
       "      <td>407934.54</td>\n",
       "      <td>191050.39</td>\n",
       "    </tr>\n",
       "    <tr>\n",
       "      <th>3</th>\n",
       "      <td>383199.62</td>\n",
       "      <td>182901.99</td>\n",
       "    </tr>\n",
       "    <tr>\n",
       "      <th>4</th>\n",
       "      <td>366168.42</td>\n",
       "      <td>166187.94</td>\n",
       "    </tr>\n",
       "  </tbody>\n",
       "</table>\n",
       "</div>"
      ],
      "text/plain": [
       "   Marketing Spend     Profit\n",
       "0        471784.10  192261.83\n",
       "1        443898.53  191792.06\n",
       "2        407934.54  191050.39\n",
       "3        383199.62  182901.99\n",
       "4        366168.42  166187.94"
      ]
     },
     "execution_count": 3,
     "metadata": {},
     "output_type": "execute_result"
    }
   ],
   "source": [
    "data.head()"
   ]
  },
  {
   "cell_type": "markdown",
   "id": "d7bcea78",
   "metadata": {
    "papermill": {
     "duration": 0.009145,
     "end_time": "2023-01-16T11:54:23.758356",
     "exception": false,
     "start_time": "2023-01-16T11:54:23.749211",
     "status": "completed"
    },
    "tags": []
   },
   "source": [
    "As we can see the dataset has two columns, the marketing spending and the profit with values of these features. Let’s check the shape of this dataset to know the total number of records."
   ]
  },
  {
   "cell_type": "code",
   "execution_count": 4,
   "id": "27521020",
   "metadata": {
    "execution": {
     "iopub.execute_input": "2023-01-16T11:54:23.775269Z",
     "iopub.status.busy": "2023-01-16T11:54:23.774876Z",
     "iopub.status.idle": "2023-01-16T11:54:23.781083Z",
     "shell.execute_reply": "2023-01-16T11:54:23.779778Z"
    },
    "papermill": {
     "duration": 0.018508,
     "end_time": "2023-01-16T11:54:23.784231",
     "exception": false,
     "start_time": "2023-01-16T11:54:23.765723",
     "status": "completed"
    },
    "tags": []
   },
   "outputs": [
    {
     "name": "stdout",
     "output_type": "stream",
     "text": [
      "Shape of the dataset (No. of rows, No. of columns): (200, 2)\n"
     ]
    }
   ],
   "source": [
    "# Checking the shape of the data\n",
    "print('Shape of the dataset (No. of rows, No. of columns):', data.shape)"
   ]
  },
  {
   "cell_type": "markdown",
   "id": "40306c39",
   "metadata": {
    "papermill": {
     "duration": 0.007344,
     "end_time": "2023-01-16T11:54:23.799893",
     "exception": false,
     "start_time": "2023-01-16T11:54:23.792549",
     "status": "completed"
    },
    "tags": []
   },
   "source": [
    "As we can see in the output this dataset has 200 records of the two features. \n",
    "\n",
    "**Step 2: Defining the input-output features**\n",
    "\n",
    "After reading the dataset successfully to the program, we will define the input and out features. As discussed above, the input feature would be the marketing spending and the output feature would be the profits earned. So, let's define them now. "
   ]
  },
  {
   "cell_type": "code",
   "execution_count": 5,
   "id": "3f519c57",
   "metadata": {
    "execution": {
     "iopub.execute_input": "2023-01-16T11:54:23.816297Z",
     "iopub.status.busy": "2023-01-16T11:54:23.815887Z",
     "iopub.status.idle": "2023-01-16T11:54:23.821893Z",
     "shell.execute_reply": "2023-01-16T11:54:23.820716Z"
    },
    "papermill": {
     "duration": 0.017252,
     "end_time": "2023-01-16T11:54:23.824413",
     "exception": false,
     "start_time": "2023-01-16T11:54:23.807161",
     "status": "completed"
    },
    "tags": []
   },
   "outputs": [],
   "source": [
    "# Defining input and output features\n",
    "X = data.iloc[:, 0:-1].values\n",
    "y = data.iloc[:, -1].values"
   ]
  },
  {
   "cell_type": "markdown",
   "id": "39c3b418",
   "metadata": {
    "papermill": {
     "duration": 0.007054,
     "end_time": "2023-01-16T11:54:23.839538",
     "exception": false,
     "start_time": "2023-01-16T11:54:23.832484",
     "status": "completed"
    },
    "tags": []
   },
   "source": [
    "The input feature, i.e., marketing spends has been defined as input feature X and the output feature, i.e, profit has been defined as y. Now, let us check the shapes of input and output features. "
   ]
  },
  {
   "cell_type": "code",
   "execution_count": 6,
   "id": "2ded396e",
   "metadata": {
    "execution": {
     "iopub.execute_input": "2023-01-16T11:54:23.857029Z",
     "iopub.status.busy": "2023-01-16T11:54:23.856612Z",
     "iopub.status.idle": "2023-01-16T11:54:23.862479Z",
     "shell.execute_reply": "2023-01-16T11:54:23.861223Z"
    },
    "papermill": {
     "duration": 0.018205,
     "end_time": "2023-01-16T11:54:23.865205",
     "exception": false,
     "start_time": "2023-01-16T11:54:23.847000",
     "status": "completed"
    },
    "tags": []
   },
   "outputs": [
    {
     "name": "stdout",
     "output_type": "stream",
     "text": [
      "Shape of the input features: (200, 1)\n",
      "Shape of the output features: (200,)\n"
     ]
    }
   ],
   "source": [
    "# Checking the shape of input and output features\n",
    "print('Shape of the input features:', X.shape)\n",
    "print('Shape of the output features:', y.shape)"
   ]
  },
  {
   "cell_type": "markdown",
   "id": "7f729b85",
   "metadata": {
    "papermill": {
     "duration": 0.007048,
     "end_time": "2023-01-16T11:54:23.879927",
     "exception": false,
     "start_time": "2023-01-16T11:54:23.872879",
     "status": "completed"
    },
    "tags": []
   },
   "source": [
    "As we can see in the above output, the input feature matrix has a shape of (200, 1) while the output feature is an array with 200 items. \n",
    "\n",
    "Step 3: Defining the training-test features\n",
    "\n",
    "As we have defined the input and output features, let us define the training and test patterns on which the K-NN model will get trained and tested. We will use 90% of the data for training purposes and 10% of the data for testing purposes. "
   ]
  },
  {
   "cell_type": "code",
   "execution_count": 7,
   "id": "2d8ee621",
   "metadata": {
    "execution": {
     "iopub.execute_input": "2023-01-16T11:54:23.896735Z",
     "iopub.status.busy": "2023-01-16T11:54:23.896274Z",
     "iopub.status.idle": "2023-01-16T11:54:25.090867Z",
     "shell.execute_reply": "2023-01-16T11:54:25.089688Z"
    },
    "papermill": {
     "duration": 1.206206,
     "end_time": "2023-01-16T11:54:25.093602",
     "exception": false,
     "start_time": "2023-01-16T11:54:23.887396",
     "status": "completed"
    },
    "tags": []
   },
   "outputs": [],
   "source": [
    "# Defining the training and test sets\n",
    "from sklearn.model_selection import train_test_split\n",
    "X_train, X_test, y_train, y_test = train_test_split(X, y, test_size = 0.1, random_state = 42)"
   ]
  },
  {
   "cell_type": "markdown",
   "id": "8f32c922",
   "metadata": {
    "papermill": {
     "duration": 0.007007,
     "end_time": "2023-01-16T11:54:25.110347",
     "exception": false,
     "start_time": "2023-01-16T11:54:25.103340",
     "status": "completed"
    },
    "tags": []
   },
   "source": [
    "Here, we have defined the training patterns as X_train and y_train which are the training input pattern and training output pattern respectively. Similarly, we have defined the test patterns as X_test and y_test which are test input patterns and test output patterns respectively. \n",
    "\n",
    "After having the training and test patterns defined, let's check their shape."
   ]
  },
  {
   "cell_type": "code",
   "execution_count": 8,
   "id": "6f33ed3a",
   "metadata": {
    "execution": {
     "iopub.execute_input": "2023-01-16T11:54:25.127194Z",
     "iopub.status.busy": "2023-01-16T11:54:25.126785Z",
     "iopub.status.idle": "2023-01-16T11:54:25.133592Z",
     "shell.execute_reply": "2023-01-16T11:54:25.132333Z"
    },
    "papermill": {
     "duration": 0.019529,
     "end_time": "2023-01-16T11:54:25.137444",
     "exception": false,
     "start_time": "2023-01-16T11:54:25.117915",
     "status": "completed"
    },
    "tags": []
   },
   "outputs": [
    {
     "name": "stdout",
     "output_type": "stream",
     "text": [
      "Shape of the training input data: (180, 1)\n",
      "Shape of the training output data: (180,)\n",
      "Shape of the test input data: (20, 1)\n",
      "Shape of the test output data: (20,)\n"
     ]
    }
   ],
   "source": [
    "# Checking the shape of the training and test sets\n",
    "print('Shape of the training input data:', X_train.shape)\n",
    "print('Shape of the training output data:', y_train.shape)\n",
    "print('Shape of the test input data:', X_test.shape)\n",
    "print('Shape of the test output data:', y_test.shape)"
   ]
  },
  {
   "cell_type": "markdown",
   "id": "c24f2f55",
   "metadata": {
    "papermill": {
     "duration": 0.007198,
     "end_time": "2023-01-16T11:54:25.153255",
     "exception": false,
     "start_time": "2023-01-16T11:54:25.146057",
     "status": "completed"
    },
    "tags": []
   },
   "source": [
    "As we can see in the output, there are 180 records that will be used for training and 20 records that will be used for testing. \n",
    "\n",
    "**Step 4: Defining and training a K-NN regression model**\n",
    "\n",
    "As we have the training patterns ready, let's build the K-NN model for regression.\n",
    "\n",
    "**Step 4.1: Initializing a K-NN Regression model**\n",
    "\n",
    " First of all, we will import the K-NN regressor from SK-Learn and initialize the K-NN regression model."
   ]
  },
  {
   "cell_type": "code",
   "execution_count": 9,
   "id": "7d48ad24",
   "metadata": {
    "execution": {
     "iopub.execute_input": "2023-01-16T11:54:25.170682Z",
     "iopub.status.busy": "2023-01-16T11:54:25.169833Z",
     "iopub.status.idle": "2023-01-16T11:54:25.312417Z",
     "shell.execute_reply": "2023-01-16T11:54:25.311066Z"
    },
    "papermill": {
     "duration": 0.15459,
     "end_time": "2023-01-16T11:54:25.315416",
     "exception": false,
     "start_time": "2023-01-16T11:54:25.160826",
     "status": "completed"
    },
    "tags": []
   },
   "outputs": [],
   "source": [
    "# Defining a KNN Regression model\n",
    "from sklearn.neighbors import KNeighborsRegressor\n",
    "regressor = KNeighborsRegressor()"
   ]
  },
  {
   "cell_type": "markdown",
   "id": "d85d6e08",
   "metadata": {
    "papermill": {
     "duration": 0.007293,
     "end_time": "2023-01-16T11:54:25.330901",
     "exception": false,
     "start_time": "2023-01-16T11:54:25.323608",
     "status": "completed"
    },
    "tags": []
   },
   "source": [
    "The K-NN regression model has been initialized and the object of this regression model has been instantiated as regressor. \n",
    "\n",
    "**Step 4.2: Hyperparameter tuning**\n",
    "\n",
    "To define the model, we need to know how many neighbours we should use with which we can get the best results. For this purpose, we will use the grid search and 10-fold cross-validation for hyperparameter tuning. "
   ]
  },
  {
   "cell_type": "code",
   "execution_count": 10,
   "id": "a6e88142",
   "metadata": {
    "execution": {
     "iopub.execute_input": "2023-01-16T11:54:25.348102Z",
     "iopub.status.busy": "2023-01-16T11:54:25.347647Z",
     "iopub.status.idle": "2023-01-16T11:54:25.703904Z",
     "shell.execute_reply": "2023-01-16T11:54:25.702150Z"
    },
    "papermill": {
     "duration": 0.369085,
     "end_time": "2023-01-16T11:54:25.707728",
     "exception": false,
     "start_time": "2023-01-16T11:54:25.338643",
     "status": "completed"
    },
    "tags": []
   },
   "outputs": [
    {
     "name": "stdout",
     "output_type": "stream",
     "text": [
      "{'n_neighbors': 2}\n"
     ]
    }
   ],
   "source": [
    "# Finding the optimal value of K\n",
    "from sklearn.model_selection import GridSearchCV\n",
    "\n",
    "k_range = list(range(1, 21))\n",
    "param_grid = dict(n_neighbors=k_range)\n",
    "grid = GridSearchCV(regressor, param_grid, cv=10, scoring='r2', return_train_score=False,verbose=0)\n",
    "grid.fit(X_train, y_train)\n",
    "print(grid.best_params_)"
   ]
  },
  {
   "cell_type": "markdown",
   "id": "9947d431",
   "metadata": {
    "papermill": {
     "duration": 0.007294,
     "end_time": "2023-01-16T11:54:25.723240",
     "exception": false,
     "start_time": "2023-01-16T11:54:25.715946",
     "status": "completed"
    },
    "tags": []
   },
   "source": [
    "As we can see in the output, we have got 2 as the optimal number of neighbours. \n",
    "\n",
    "**Step 4.3: Defining training the K-NN Regression model**\n",
    "\n",
    "Using the optimal number of neighbours as obtained in the last step, we will define the K-NN regression and fit it with the training patterns."
   ]
  },
  {
   "cell_type": "code",
   "execution_count": 11,
   "id": "f27be5e2",
   "metadata": {
    "execution": {
     "iopub.execute_input": "2023-01-16T11:54:25.740374Z",
     "iopub.status.busy": "2023-01-16T11:54:25.739960Z",
     "iopub.status.idle": "2023-01-16T11:54:25.750458Z",
     "shell.execute_reply": "2023-01-16T11:54:25.749507Z"
    },
    "papermill": {
     "duration": 0.021838,
     "end_time": "2023-01-16T11:54:25.752649",
     "exception": false,
     "start_time": "2023-01-16T11:54:25.730811",
     "status": "completed"
    },
    "tags": []
   },
   "outputs": [
    {
     "data": {
      "text/plain": [
       "KNeighborsRegressor(n_neighbors=2)"
      ]
     },
     "execution_count": 11,
     "metadata": {},
     "output_type": "execute_result"
    }
   ],
   "source": [
    "# Defining the KNN regressor with optimal value of K\n",
    "regressor = KNeighborsRegressor(n_neighbors=2)\n",
    "regressor.fit(X_train, y_train)"
   ]
  },
  {
   "cell_type": "markdown",
   "id": "f07ba2a7",
   "metadata": {
    "papermill": {
     "duration": 0.007338,
     "end_time": "2023-01-16T11:54:25.767638",
     "exception": false,
     "start_time": "2023-01-16T11:54:25.760300",
     "status": "completed"
    },
    "tags": []
   },
   "source": [
    "**Step 5: Predicting and evaluating the predictions**\n",
    "As a next step, as we have got the K-NN model trained, we will make predictions with it using the test data."
   ]
  },
  {
   "cell_type": "code",
   "execution_count": 12,
   "id": "febdfc61",
   "metadata": {
    "execution": {
     "iopub.execute_input": "2023-01-16T11:54:25.785322Z",
     "iopub.status.busy": "2023-01-16T11:54:25.784236Z",
     "iopub.status.idle": "2023-01-16T11:54:25.790209Z",
     "shell.execute_reply": "2023-01-16T11:54:25.789059Z"
    },
    "papermill": {
     "duration": 0.017178,
     "end_time": "2023-01-16T11:54:25.792529",
     "exception": false,
     "start_time": "2023-01-16T11:54:25.775351",
     "status": "completed"
    },
    "tags": []
   },
   "outputs": [],
   "source": [
    "# Making predictions on the test data\n",
    "y_pred = regressor.predict(X_test)"
   ]
  },
  {
   "cell_type": "markdown",
   "id": "72aec9d6",
   "metadata": {
    "papermill": {
     "duration": 0.007393,
     "end_time": "2023-01-16T11:54:25.807584",
     "exception": false,
     "start_time": "2023-01-16T11:54:25.800191",
     "status": "completed"
    },
    "tags": []
   },
   "source": [
    "The predicted results on test data are saved into y_pred. We will bind these predicted profits with actual profits together in a data frame to see the differences. "
   ]
  },
  {
   "cell_type": "code",
   "execution_count": 13,
   "id": "a5a35b06",
   "metadata": {
    "execution": {
     "iopub.execute_input": "2023-01-16T11:54:25.825010Z",
     "iopub.status.busy": "2023-01-16T11:54:25.824234Z",
     "iopub.status.idle": "2023-01-16T11:54:25.839113Z",
     "shell.execute_reply": "2023-01-16T11:54:25.837674Z"
    },
    "papermill": {
     "duration": 0.02643,
     "end_time": "2023-01-16T11:54:25.841554",
     "exception": false,
     "start_time": "2023-01-16T11:54:25.815124",
     "status": "completed"
    },
    "tags": []
   },
   "outputs": [
    {
     "data": {
      "text/html": [
       "<div>\n",
       "<style scoped>\n",
       "    .dataframe tbody tr th:only-of-type {\n",
       "        vertical-align: middle;\n",
       "    }\n",
       "\n",
       "    .dataframe tbody tr th {\n",
       "        vertical-align: top;\n",
       "    }\n",
       "\n",
       "    .dataframe thead th {\n",
       "        text-align: right;\n",
       "    }\n",
       "</style>\n",
       "<table border=\"1\" class=\"dataframe\">\n",
       "  <thead>\n",
       "    <tr style=\"text-align: right;\">\n",
       "      <th></th>\n",
       "      <th>Predicted Profit</th>\n",
       "      <th>Actual Profit</th>\n",
       "    </tr>\n",
       "  </thead>\n",
       "  <tbody>\n",
       "    <tr>\n",
       "      <th>0</th>\n",
       "      <td>64921.080</td>\n",
       "      <td>64926.08</td>\n",
       "    </tr>\n",
       "    <tr>\n",
       "      <th>1</th>\n",
       "      <td>128429.985</td>\n",
       "      <td>129917.04</td>\n",
       "    </tr>\n",
       "    <tr>\n",
       "      <th>2</th>\n",
       "      <td>99957.590</td>\n",
       "      <td>99937.59</td>\n",
       "    </tr>\n",
       "    <tr>\n",
       "      <th>3</th>\n",
       "      <td>152211.770</td>\n",
       "      <td>152161.77</td>\n",
       "    </tr>\n",
       "    <tr>\n",
       "      <th>4</th>\n",
       "      <td>103257.380</td>\n",
       "      <td>103322.38</td>\n",
       "    </tr>\n",
       "    <tr>\n",
       "      <th>5</th>\n",
       "      <td>128429.985</td>\n",
       "      <td>129957.04</td>\n",
       "    </tr>\n",
       "    <tr>\n",
       "      <th>6</th>\n",
       "      <td>79225.135</td>\n",
       "      <td>122776.86</td>\n",
       "    </tr>\n",
       "    <tr>\n",
       "      <th>7</th>\n",
       "      <td>118474.030</td>\n",
       "      <td>118424.03</td>\n",
       "    </tr>\n",
       "    <tr>\n",
       "      <th>8</th>\n",
       "      <td>108552.040</td>\n",
       "      <td>108502.04</td>\n",
       "    </tr>\n",
       "    <tr>\n",
       "      <th>9</th>\n",
       "      <td>64921.080</td>\n",
       "      <td>64926.08</td>\n",
       "    </tr>\n",
       "    <tr>\n",
       "      <th>10</th>\n",
       "      <td>127012.930</td>\n",
       "      <td>126992.93</td>\n",
       "    </tr>\n",
       "    <tr>\n",
       "      <th>11</th>\n",
       "      <td>97447.840</td>\n",
       "      <td>97377.84</td>\n",
       "    </tr>\n",
       "    <tr>\n",
       "      <th>12</th>\n",
       "      <td>128429.985</td>\n",
       "      <td>129867.04</td>\n",
       "    </tr>\n",
       "    <tr>\n",
       "      <th>13</th>\n",
       "      <td>103257.380</td>\n",
       "      <td>103282.38</td>\n",
       "    </tr>\n",
       "    <tr>\n",
       "      <th>14</th>\n",
       "      <td>90708.190</td>\n",
       "      <td>90658.19</td>\n",
       "    </tr>\n",
       "    <tr>\n",
       "      <th>15</th>\n",
       "      <td>105008.310</td>\n",
       "      <td>104958.31</td>\n",
       "    </tr>\n",
       "    <tr>\n",
       "      <th>16</th>\n",
       "      <td>156122.510</td>\n",
       "      <td>156122.51</td>\n",
       "    </tr>\n",
       "    <tr>\n",
       "      <th>17</th>\n",
       "      <td>191050.390</td>\n",
       "      <td>191000.39</td>\n",
       "    </tr>\n",
       "    <tr>\n",
       "      <th>18</th>\n",
       "      <td>97447.840</td>\n",
       "      <td>97427.84</td>\n",
       "    </tr>\n",
       "    <tr>\n",
       "      <th>19</th>\n",
       "      <td>124286.900</td>\n",
       "      <td>124266.90</td>\n",
       "    </tr>\n",
       "  </tbody>\n",
       "</table>\n",
       "</div>"
      ],
      "text/plain": [
       "    Predicted Profit  Actual Profit\n",
       "0          64921.080       64926.08\n",
       "1         128429.985      129917.04\n",
       "2          99957.590       99937.59\n",
       "3         152211.770      152161.77\n",
       "4         103257.380      103322.38\n",
       "5         128429.985      129957.04\n",
       "6          79225.135      122776.86\n",
       "7         118474.030      118424.03\n",
       "8         108552.040      108502.04\n",
       "9          64921.080       64926.08\n",
       "10        127012.930      126992.93\n",
       "11         97447.840       97377.84\n",
       "12        128429.985      129867.04\n",
       "13        103257.380      103282.38\n",
       "14         90708.190       90658.19\n",
       "15        105008.310      104958.31\n",
       "16        156122.510      156122.51\n",
       "17        191050.390      191000.39\n",
       "18         97447.840       97427.84\n",
       "19        124286.900      124266.90"
      ]
     },
     "execution_count": 13,
     "metadata": {},
     "output_type": "execute_result"
    }
   ],
   "source": [
    "# Comparing the predicted profits with actual profits\n",
    "pd.DataFrame(data={'Predicted Profit': y_pred, 'Actual Profit': y_test})"
   ]
  },
  {
   "cell_type": "markdown",
   "id": "be4c9fd6",
   "metadata": {
    "papermill": {
     "duration": 0.007598,
     "end_time": "2023-01-16T11:54:25.857385",
     "exception": false,
     "start_time": "2023-01-16T11:54:25.849787",
     "status": "completed"
    },
    "tags": []
   },
   "source": [
    "As we can see that there is not much difference between the actual values and the predicted values, let's evaluate the accuracy of prediction using the evaluation metrics. \n",
    "\n",
    "First, we will obtain the mean squared error (MSE) between the actual (y_test) and predicted (y_pred) values."
   ]
  },
  {
   "cell_type": "code",
   "execution_count": 14,
   "id": "1079722d",
   "metadata": {
    "execution": {
     "iopub.execute_input": "2023-01-16T11:54:25.875759Z",
     "iopub.status.busy": "2023-01-16T11:54:25.874913Z",
     "iopub.status.idle": "2023-01-16T11:54:25.881578Z",
     "shell.execute_reply": "2023-01-16T11:54:25.880216Z"
    },
    "papermill": {
     "duration": 0.018511,
     "end_time": "2023-01-16T11:54:25.883805",
     "exception": false,
     "start_time": "2023-01-16T11:54:25.865294",
     "status": "completed"
    },
    "tags": []
   },
   "outputs": [
    {
     "name": "stdout",
     "output_type": "stream",
     "text": [
      "Mean Squared Error is: 95169375.35473497\n"
     ]
    }
   ],
   "source": [
    "# Mean Squared Error (MSE)\n",
    "from sklearn.metrics import mean_squared_error\n",
    "MSE=mean_squared_error(y_test, y_pred)\n",
    "print('Mean Squared Error is:', MSE)"
   ]
  },
  {
   "cell_type": "markdown",
   "id": "c3bf9a66",
   "metadata": {
    "papermill": {
     "duration": 0.007675,
     "end_time": "2023-01-16T11:54:25.899539",
     "exception": false,
     "start_time": "2023-01-16T11:54:25.891864",
     "status": "completed"
    },
    "tags": []
   },
   "source": [
    "As this is the mean of squared errors, the magnitude of the error looks too high. Let's find the root mean squared error (RMSE) which is the square root of MSE. "
   ]
  },
  {
   "cell_type": "code",
   "execution_count": 15,
   "id": "f47352bf",
   "metadata": {
    "execution": {
     "iopub.execute_input": "2023-01-16T11:54:25.918053Z",
     "iopub.status.busy": "2023-01-16T11:54:25.917276Z",
     "iopub.status.idle": "2023-01-16T11:54:25.923084Z",
     "shell.execute_reply": "2023-01-16T11:54:25.921743Z"
    },
    "papermill": {
     "duration": 0.017636,
     "end_time": "2023-01-16T11:54:25.925464",
     "exception": false,
     "start_time": "2023-01-16T11:54:25.907828",
     "status": "completed"
    },
    "tags": []
   },
   "outputs": [
    {
     "name": "stdout",
     "output_type": "stream",
     "text": [
      "Root Mean Squared Error is: 9755.479247824525\n"
     ]
    }
   ],
   "source": [
    "# Root Mean Squared Error (RMSE)\n",
    "import math\n",
    "RMSE = math.sqrt(MSE)\n",
    "print('Root Mean Squared Error is:', RMSE)"
   ]
  },
  {
   "cell_type": "markdown",
   "id": "185afe7f",
   "metadata": {
    "papermill": {
     "duration": 0.007797,
     "end_time": "2023-01-16T11:54:25.941293",
     "exception": false,
     "start_time": "2023-01-16T11:54:25.933496",
     "status": "completed"
    },
    "tags": []
   },
   "source": [
    "This shows the actual error between the actual and predicted values of profits. So there is an overall 9755.47 of error between the actual and predicted profits. \n",
    "\n",
    "To find how well the K-NN regression model was fitted with the data, we will obtain the R-squared which is a measure of the fitness of the regression models. "
   ]
  },
  {
   "cell_type": "code",
   "execution_count": 16,
   "id": "b9520325",
   "metadata": {
    "execution": {
     "iopub.execute_input": "2023-01-16T11:54:25.960489Z",
     "iopub.status.busy": "2023-01-16T11:54:25.959755Z",
     "iopub.status.idle": "2023-01-16T11:54:25.966568Z",
     "shell.execute_reply": "2023-01-16T11:54:25.965066Z"
    },
    "papermill": {
     "duration": 0.019659,
     "end_time": "2023-01-16T11:54:25.969428",
     "exception": false,
     "start_time": "2023-01-16T11:54:25.949769",
     "status": "completed"
    },
    "tags": []
   },
   "outputs": [
    {
     "name": "stdout",
     "output_type": "stream",
     "text": [
      "R-Squared is: 0.8858429403678624\n"
     ]
    }
   ],
   "source": [
    "# R-Squared\n",
    "from sklearn.metrics import r2_score\n",
    "r2 = r2_score(y_test, y_pred)\n",
    "print('R-Squared is:', r2)"
   ]
  },
  {
   "cell_type": "markdown",
   "id": "f912d6e9",
   "metadata": {
    "papermill": {
     "duration": 0.00772,
     "end_time": "2023-01-16T11:54:25.985335",
     "exception": false,
     "start_time": "2023-01-16T11:54:25.977615",
     "status": "completed"
    },
    "tags": []
   },
   "source": [
    "As we can see that the value of R-squared is nearer to 1 on a scale of 0 to 1, we can say that the model was well fitted and the prediction results will be satisfactory with this well-fitted model. \n",
    "\n",
    "So this is how we can use a K-NN regression model in a real-life regression problem."
   ]
  },
  {
   "cell_type": "code",
   "execution_count": null,
   "id": "63dfd2c9",
   "metadata": {
    "papermill": {
     "duration": 0.007945,
     "end_time": "2023-01-16T11:54:26.002325",
     "exception": false,
     "start_time": "2023-01-16T11:54:25.994380",
     "status": "completed"
    },
    "tags": []
   },
   "outputs": [],
   "source": []
  }
 ],
 "metadata": {
  "kernelspec": {
   "display_name": "Python 3",
   "language": "python",
   "name": "python3"
  },
  "language_info": {
   "codemirror_mode": {
    "name": "ipython",
    "version": 3
   },
   "file_extension": ".py",
   "mimetype": "text/x-python",
   "name": "python",
   "nbconvert_exporter": "python",
   "pygments_lexer": "ipython3",
   "version": "3.7.12"
  },
  "papermill": {
   "default_parameters": {},
   "duration": 14.403842,
   "end_time": "2023-01-16T11:54:26.833368",
   "environment_variables": {},
   "exception": null,
   "input_path": "__notebook__.ipynb",
   "output_path": "__notebook__.ipynb",
   "parameters": {},
   "start_time": "2023-01-16T11:54:12.429526",
   "version": "2.3.4"
  }
 },
 "nbformat": 4,
 "nbformat_minor": 5
}
