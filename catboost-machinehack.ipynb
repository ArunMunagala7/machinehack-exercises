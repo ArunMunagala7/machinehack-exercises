{
 "cells": [
  {
   "cell_type": "code",
   "execution_count": 1,
   "id": "84e9ecac",
   "metadata": {
    "_cell_guid": "b1076dfc-b9ad-4769-8c92-a6c4dae69d19",
    "_uuid": "8f2839f25d086af736a60e9eeb907d3b93b6e0e5",
    "execution": {
     "iopub.execute_input": "2023-01-30T12:08:59.463997Z",
     "iopub.status.busy": "2023-01-30T12:08:59.463531Z",
     "iopub.status.idle": "2023-01-30T12:08:59.483094Z",
     "shell.execute_reply": "2023-01-30T12:08:59.481608Z"
    },
    "papermill": {
     "duration": 0.031277,
     "end_time": "2023-01-30T12:08:59.486025",
     "exception": false,
     "start_time": "2023-01-30T12:08:59.454748",
     "status": "completed"
    },
    "tags": []
   },
   "outputs": [],
   "source": [
    "# This Python 3 environment comes with many helpful analytics libraries installed\n",
    "# It is defined by the kaggle/python Docker image: https://github.com/kaggle/docker-python\n",
    "# For example, here's several helpful packages to load\n",
    "\n",
    "import numpy as np # linear algebra\n",
    "import pandas as pd # data processing, CSV file I/O (e.g. pd.read_csv)\n",
    "\n",
    "# Input data files are available in the read-only \"../input/\" directory\n",
    "# For example, running this (by clicking run or pressing Shift+Enter) will list all files under the input directory\n",
    "\n",
    "import os\n",
    "for dirname, _, filenames in os.walk('/kaggle/input'):\n",
    "    for filename in filenames:\n",
    "        print(os.path.join(dirname, filename))\n",
    "\n",
    "# You can write up to 20GB to the current directory (/kaggle/working/) that gets preserved as output when you create a version using \"Save & Run All\" \n",
    "# You can also write temporary files to /kaggle/temp/, but they won't be saved outside of the current session"
   ]
  },
  {
   "cell_type": "markdown",
   "id": "54265d6d",
   "metadata": {
    "papermill": {
     "duration": 0.005497,
     "end_time": "2023-01-30T12:08:59.497403",
     "exception": false,
     "start_time": "2023-01-30T12:08:59.491906",
     "status": "completed"
    },
    "tags": []
   },
   "source": [
    "In this section, we will apply the Catboost model to a real-world problem where the task is to predict whether the student will get placed or not. To accomplish this task, let's consider a dataset with a total of 15 columns with information about the placement department. Let us use this dataset to build a Catboost model and try to predict if the individuals are placed or not.\n",
    "\n",
    "From the 15 features of the dataset, we will be considering the feature named ‘status’ as the target variable, and the remaining features of the dataset will be considered as the input features. This combination of features will be used to build a Catboost model in python. Once the model is built, the model will be evaluated for specific parameters.\n",
    "\n",
    "Let us now look into the steps involved in the implementation of the Catboost model in python.\n",
    "\n",
    "Step-2: Load and read the data\n",
    "\n",
    "Let us read the data available in the CSV format using the pandas module as shown below."
   ]
  },
  {
   "cell_type": "code",
   "execution_count": 2,
   "id": "cc56612d",
   "metadata": {
    "execution": {
     "iopub.execute_input": "2023-01-30T12:08:59.510034Z",
     "iopub.status.busy": "2023-01-30T12:08:59.509637Z",
     "iopub.status.idle": "2023-01-30T12:09:00.107545Z",
     "shell.execute_reply": "2023-01-30T12:09:00.106605Z"
    },
    "papermill": {
     "duration": 0.6071,
     "end_time": "2023-01-30T12:09:00.109992",
     "exception": false,
     "start_time": "2023-01-30T12:08:59.502892",
     "status": "completed"
    },
    "tags": []
   },
   "outputs": [],
   "source": [
    "import pandas as pd\n",
    "df=pd.read_csv('https://raw.githubusercontent.com/analyticsindiamagazine/MocksDatasets/main/Placement_Data.csv') ## reading the data"
   ]
  },
  {
   "cell_type": "markdown",
   "id": "db22b158",
   "metadata": {
    "papermill": {
     "duration": 0.006234,
     "end_time": "2023-01-30T12:09:00.125298",
     "exception": false,
     "start_time": "2023-01-30T12:09:00.119064",
     "status": "completed"
    },
    "tags": []
   },
   "source": [
    "Now after loading the dataset, let's inspect by checking the top 5 rows of it."
   ]
  },
  {
   "cell_type": "code",
   "execution_count": 3,
   "id": "98e3509e",
   "metadata": {
    "execution": {
     "iopub.execute_input": "2023-01-30T12:09:00.138729Z",
     "iopub.status.busy": "2023-01-30T12:09:00.138362Z",
     "iopub.status.idle": "2023-01-30T12:09:00.167029Z",
     "shell.execute_reply": "2023-01-30T12:09:00.165896Z"
    },
    "papermill": {
     "duration": 0.038214,
     "end_time": "2023-01-30T12:09:00.169464",
     "exception": false,
     "start_time": "2023-01-30T12:09:00.131250",
     "status": "completed"
    },
    "tags": []
   },
   "outputs": [
    {
     "data": {
      "text/html": [
       "<div>\n",
       "<style scoped>\n",
       "    .dataframe tbody tr th:only-of-type {\n",
       "        vertical-align: middle;\n",
       "    }\n",
       "\n",
       "    .dataframe tbody tr th {\n",
       "        vertical-align: top;\n",
       "    }\n",
       "\n",
       "    .dataframe thead th {\n",
       "        text-align: right;\n",
       "    }\n",
       "</style>\n",
       "<table border=\"1\" class=\"dataframe\">\n",
       "  <thead>\n",
       "    <tr style=\"text-align: right;\">\n",
       "      <th></th>\n",
       "      <th>sl_no</th>\n",
       "      <th>gender</th>\n",
       "      <th>ssc_p</th>\n",
       "      <th>ssc_b</th>\n",
       "      <th>hsc_p</th>\n",
       "      <th>hsc_b</th>\n",
       "      <th>hsc_s</th>\n",
       "      <th>degree_p</th>\n",
       "      <th>degree_t</th>\n",
       "      <th>workex</th>\n",
       "      <th>etest_p</th>\n",
       "      <th>specialisation</th>\n",
       "      <th>mba_p</th>\n",
       "      <th>status</th>\n",
       "      <th>salary</th>\n",
       "    </tr>\n",
       "  </thead>\n",
       "  <tbody>\n",
       "    <tr>\n",
       "      <th>0</th>\n",
       "      <td>1</td>\n",
       "      <td>M</td>\n",
       "      <td>67.00</td>\n",
       "      <td>Others</td>\n",
       "      <td>91.00</td>\n",
       "      <td>Others</td>\n",
       "      <td>Commerce</td>\n",
       "      <td>58.00</td>\n",
       "      <td>Sci&amp;Tech</td>\n",
       "      <td>No</td>\n",
       "      <td>55.0</td>\n",
       "      <td>Mkt&amp;HR</td>\n",
       "      <td>58.80</td>\n",
       "      <td>Placed</td>\n",
       "      <td>270000.0</td>\n",
       "    </tr>\n",
       "    <tr>\n",
       "      <th>1</th>\n",
       "      <td>2</td>\n",
       "      <td>M</td>\n",
       "      <td>79.33</td>\n",
       "      <td>Central</td>\n",
       "      <td>78.33</td>\n",
       "      <td>Others</td>\n",
       "      <td>Science</td>\n",
       "      <td>77.48</td>\n",
       "      <td>Sci&amp;Tech</td>\n",
       "      <td>Yes</td>\n",
       "      <td>86.5</td>\n",
       "      <td>Mkt&amp;Fin</td>\n",
       "      <td>66.28</td>\n",
       "      <td>Placed</td>\n",
       "      <td>200000.0</td>\n",
       "    </tr>\n",
       "    <tr>\n",
       "      <th>2</th>\n",
       "      <td>3</td>\n",
       "      <td>M</td>\n",
       "      <td>65.00</td>\n",
       "      <td>Central</td>\n",
       "      <td>68.00</td>\n",
       "      <td>Central</td>\n",
       "      <td>Arts</td>\n",
       "      <td>64.00</td>\n",
       "      <td>Comm&amp;Mgmt</td>\n",
       "      <td>No</td>\n",
       "      <td>75.0</td>\n",
       "      <td>Mkt&amp;Fin</td>\n",
       "      <td>57.80</td>\n",
       "      <td>Placed</td>\n",
       "      <td>250000.0</td>\n",
       "    </tr>\n",
       "    <tr>\n",
       "      <th>3</th>\n",
       "      <td>4</td>\n",
       "      <td>M</td>\n",
       "      <td>56.00</td>\n",
       "      <td>Central</td>\n",
       "      <td>52.00</td>\n",
       "      <td>Central</td>\n",
       "      <td>Science</td>\n",
       "      <td>52.00</td>\n",
       "      <td>Sci&amp;Tech</td>\n",
       "      <td>No</td>\n",
       "      <td>66.0</td>\n",
       "      <td>Mkt&amp;HR</td>\n",
       "      <td>59.43</td>\n",
       "      <td>Not Placed</td>\n",
       "      <td>NaN</td>\n",
       "    </tr>\n",
       "    <tr>\n",
       "      <th>4</th>\n",
       "      <td>5</td>\n",
       "      <td>M</td>\n",
       "      <td>85.80</td>\n",
       "      <td>Central</td>\n",
       "      <td>73.60</td>\n",
       "      <td>Central</td>\n",
       "      <td>Commerce</td>\n",
       "      <td>73.30</td>\n",
       "      <td>Comm&amp;Mgmt</td>\n",
       "      <td>No</td>\n",
       "      <td>96.8</td>\n",
       "      <td>Mkt&amp;Fin</td>\n",
       "      <td>55.50</td>\n",
       "      <td>Placed</td>\n",
       "      <td>425000.0</td>\n",
       "    </tr>\n",
       "  </tbody>\n",
       "</table>\n",
       "</div>"
      ],
      "text/plain": [
       "   sl_no gender  ssc_p    ssc_b  hsc_p    hsc_b     hsc_s  degree_p  \\\n",
       "0      1      M  67.00   Others  91.00   Others  Commerce     58.00   \n",
       "1      2      M  79.33  Central  78.33   Others   Science     77.48   \n",
       "2      3      M  65.00  Central  68.00  Central      Arts     64.00   \n",
       "3      4      M  56.00  Central  52.00  Central   Science     52.00   \n",
       "4      5      M  85.80  Central  73.60  Central  Commerce     73.30   \n",
       "\n",
       "    degree_t workex  etest_p specialisation  mba_p      status    salary  \n",
       "0   Sci&Tech     No     55.0         Mkt&HR  58.80      Placed  270000.0  \n",
       "1   Sci&Tech    Yes     86.5        Mkt&Fin  66.28      Placed  200000.0  \n",
       "2  Comm&Mgmt     No     75.0        Mkt&Fin  57.80      Placed  250000.0  \n",
       "3   Sci&Tech     No     66.0         Mkt&HR  59.43  Not Placed       NaN  \n",
       "4  Comm&Mgmt     No     96.8        Mkt&Fin  55.50      Placed  425000.0  "
      ]
     },
     "execution_count": 3,
     "metadata": {},
     "output_type": "execute_result"
    }
   ],
   "source": [
    "df.head() ## First 5 observations of data"
   ]
  },
  {
   "cell_type": "markdown",
   "id": "da5f3135",
   "metadata": {
    "papermill": {
     "duration": 0.005924,
     "end_time": "2023-01-30T12:09:00.181481",
     "exception": false,
     "start_time": "2023-01-30T12:09:00.175557",
     "status": "completed"
    },
    "tags": []
   },
   "source": [
    "As we can see, the dataset has values of different features along with two categories for the status feature to be classified. Now, let's check the shape of the dataset."
   ]
  },
  {
   "cell_type": "code",
   "execution_count": 4,
   "id": "6bbd7dd7",
   "metadata": {
    "execution": {
     "iopub.execute_input": "2023-01-30T12:09:00.195565Z",
     "iopub.status.busy": "2023-01-30T12:09:00.194904Z",
     "iopub.status.idle": "2023-01-30T12:09:00.201485Z",
     "shell.execute_reply": "2023-01-30T12:09:00.200464Z"
    },
    "papermill": {
     "duration": 0.016256,
     "end_time": "2023-01-30T12:09:00.203751",
     "exception": false,
     "start_time": "2023-01-30T12:09:00.187495",
     "status": "completed"
    },
    "tags": []
   },
   "outputs": [
    {
     "data": {
      "text/plain": [
       "(215, 15)"
      ]
     },
     "execution_count": 4,
     "metadata": {},
     "output_type": "execute_result"
    }
   ],
   "source": [
    "df.shape"
   ]
  },
  {
   "cell_type": "markdown",
   "id": "89e287b0",
   "metadata": {
    "papermill": {
     "duration": 0.00594,
     "end_time": "2023-01-30T12:09:00.215796",
     "exception": false,
     "start_time": "2023-01-30T12:09:00.209856",
     "status": "completed"
    },
    "tags": []
   },
   "source": [
    "Here, we can see that the dataset is having 215 rows and 15 columns.\n",
    "\n",
    "Step 3: Splitting the data for train and test\n",
    "\n",
    "Before splitting the data into train and test, we will have to separate the dependent and independent features from the dataset."
   ]
  },
  {
   "cell_type": "code",
   "execution_count": 5,
   "id": "f3a22790",
   "metadata": {
    "execution": {
     "iopub.execute_input": "2023-01-30T12:09:00.229788Z",
     "iopub.status.busy": "2023-01-30T12:09:00.229416Z",
     "iopub.status.idle": "2023-01-30T12:09:00.240594Z",
     "shell.execute_reply": "2023-01-30T12:09:00.239547Z"
    },
    "papermill": {
     "duration": 0.020886,
     "end_time": "2023-01-30T12:09:00.242860",
     "exception": false,
     "start_time": "2023-01-30T12:09:00.221974",
     "status": "completed"
    },
    "tags": []
   },
   "outputs": [],
   "source": [
    "X=df.drop('status',axis=1)\n",
    "y=df['status']"
   ]
  },
  {
   "cell_type": "markdown",
   "id": "05b59bda",
   "metadata": {
    "papermill": {
     "duration": 0.005706,
     "end_time": "2023-01-30T12:09:00.254625",
     "exception": false,
     "start_time": "2023-01-30T12:09:00.248919",
     "status": "completed"
    },
    "tags": []
   },
   "source": [
    "Now, let us split these two set of features into train and test by keeping 25% of the data for testing. \n",
    "\n"
   ]
  },
  {
   "cell_type": "code",
   "execution_count": 6,
   "id": "b3d67cbb",
   "metadata": {
    "execution": {
     "iopub.execute_input": "2023-01-30T12:09:00.268370Z",
     "iopub.status.busy": "2023-01-30T12:09:00.267871Z",
     "iopub.status.idle": "2023-01-30T12:09:01.272058Z",
     "shell.execute_reply": "2023-01-30T12:09:01.271115Z"
    },
    "papermill": {
     "duration": 1.014086,
     "end_time": "2023-01-30T12:09:01.274601",
     "exception": false,
     "start_time": "2023-01-30T12:09:00.260515",
     "status": "completed"
    },
    "tags": []
   },
   "outputs": [],
   "source": [
    "from sklearn.model_selection import train_test_split\n",
    "X_train,X_test,y_train,y_test=train_test_split(X,y,test_size=0.25,random_state=42) ## Train:Test = 75:25"
   ]
  },
  {
   "cell_type": "markdown",
   "id": "a6dec294",
   "metadata": {
    "papermill": {
     "duration": 0.00591,
     "end_time": "2023-01-30T12:09:01.286879",
     "exception": false,
     "start_time": "2023-01-30T12:09:01.280969",
     "status": "completed"
    },
    "tags": []
   },
   "source": [
    "As we have successfully split the data into train and test now let us look into building a Catboost model in the next step.\n",
    "\n",
    "Step 4: Catboost model implementation\n",
    "\n",
    "Now, let us implement the Catboost model by primarily importing the required module for building the Catboost model."
   ]
  },
  {
   "cell_type": "code",
   "execution_count": 7,
   "id": "1f58eaff",
   "metadata": {
    "execution": {
     "iopub.execute_input": "2023-01-30T12:09:01.300608Z",
     "iopub.status.busy": "2023-01-30T12:09:01.300218Z",
     "iopub.status.idle": "2023-01-30T12:09:01.677760Z",
     "shell.execute_reply": "2023-01-30T12:09:01.676541Z"
    },
    "papermill": {
     "duration": 0.387538,
     "end_time": "2023-01-30T12:09:01.680467",
     "exception": false,
     "start_time": "2023-01-30T12:09:01.292929",
     "status": "completed"
    },
    "tags": []
   },
   "outputs": [],
   "source": [
    "from catboost import CatBoostClassifier"
   ]
  },
  {
   "cell_type": "markdown",
   "id": "4574b4c7",
   "metadata": {
    "papermill": {
     "duration": 0.006607,
     "end_time": "2023-01-30T12:09:01.693418",
     "exception": false,
     "start_time": "2023-01-30T12:09:01.686811",
     "status": "completed"
    },
    "tags": []
   },
   "source": [
    "Before proceeding further let us try to have an instance created to hold all the categorical features of the data.\n",
    "\n"
   ]
  },
  {
   "cell_type": "code",
   "execution_count": 8,
   "id": "d0a63509",
   "metadata": {
    "execution": {
     "iopub.execute_input": "2023-01-30T12:09:01.709107Z",
     "iopub.status.busy": "2023-01-30T12:09:01.708349Z",
     "iopub.status.idle": "2023-01-30T12:09:01.720009Z",
     "shell.execute_reply": "2023-01-30T12:09:01.718546Z"
    },
    "papermill": {
     "duration": 0.023441,
     "end_time": "2023-01-30T12:09:01.722808",
     "exception": false,
     "start_time": "2023-01-30T12:09:01.699367",
     "status": "completed"
    },
    "tags": []
   },
   "outputs": [],
   "source": [
    "cat_feat=df.select_dtypes(include='object')\n",
    "cat_feat_cols=['gender', 'ssc_b', 'hsc_b', 'hsc_s', 'degree_t', 'workex','specialisation']"
   ]
  },
  {
   "cell_type": "markdown",
   "id": "58e76bfb",
   "metadata": {
    "papermill": {
     "duration": 0.006656,
     "end_time": "2023-01-30T12:09:01.739054",
     "exception": false,
     "start_time": "2023-01-30T12:09:01.732398",
     "status": "completed"
    },
    "tags": []
   },
   "source": [
    "Now let us create a Catboost classifier instance with certain parameters like iterations and the evaluation metric, on which the model will be evaluated on.\n",
    "\n"
   ]
  },
  {
   "cell_type": "code",
   "execution_count": 9,
   "id": "2a2cb72e",
   "metadata": {
    "execution": {
     "iopub.execute_input": "2023-01-30T12:09:01.753353Z",
     "iopub.status.busy": "2023-01-30T12:09:01.752892Z",
     "iopub.status.idle": "2023-01-30T12:09:01.761675Z",
     "shell.execute_reply": "2023-01-30T12:09:01.760390Z"
    },
    "papermill": {
     "duration": 0.018979,
     "end_time": "2023-01-30T12:09:01.764640",
     "exception": false,
     "start_time": "2023-01-30T12:09:01.745661",
     "status": "completed"
    },
    "tags": []
   },
   "outputs": [],
   "source": [
    "model_cbc=CatBoostClassifier(iterations=100,random_state=42,eval_metric='Accuracy')"
   ]
  },
  {
   "cell_type": "markdown",
   "id": "7037a471",
   "metadata": {
    "papermill": {
     "duration": 0.005728,
     "end_time": "2023-01-30T12:09:01.779973",
     "exception": false,
     "start_time": "2023-01-30T12:09:01.774245",
     "status": "completed"
    },
    "tags": []
   },
   "source": [
    "As the Catboost classifier instance is created successfully now let us fit the Catboost model with respect to the split data.\n",
    "\n"
   ]
  },
  {
   "cell_type": "code",
   "execution_count": 10,
   "id": "f574ac3c",
   "metadata": {
    "execution": {
     "iopub.execute_input": "2023-01-30T12:09:01.793812Z",
     "iopub.status.busy": "2023-01-30T12:09:01.792839Z",
     "iopub.status.idle": "2023-01-30T12:09:02.070328Z",
     "shell.execute_reply": "2023-01-30T12:09:02.069257Z"
    },
    "papermill": {
     "duration": 0.288318,
     "end_time": "2023-01-30T12:09:02.074032",
     "exception": false,
     "start_time": "2023-01-30T12:09:01.785714",
     "status": "completed"
    },
    "scrolled": true,
    "tags": []
   },
   "outputs": [
    {
     "data": {
      "application/vnd.jupyter.widget-view+json": {
       "model_id": "318b333d8bed401abf45f31b0f33e816",
       "version_major": 2,
       "version_minor": 0
      },
      "text/plain": [
       "MetricVisualizer(layout=Layout(align_self='stretch', height='500px'))"
      ]
     },
     "metadata": {},
     "output_type": "display_data"
    },
    {
     "name": "stdout",
     "output_type": "stream",
     "text": [
      "Learning rate set to 0.054953\n",
      "0:\tlearn: 0.9627329\ttest: 0.9629630\tbest: 0.9629630 (0)\ttotal: 57.9ms\tremaining: 5.73s\n",
      "1:\tlearn: 0.9875776\ttest: 0.9814815\tbest: 0.9814815 (1)\ttotal: 59.1ms\tremaining: 2.9s\n",
      "2:\tlearn: 0.9813665\ttest: 0.9629630\tbest: 0.9814815 (1)\ttotal: 60.4ms\tremaining: 1.95s\n",
      "3:\tlearn: 0.9813665\ttest: 0.9629630\tbest: 0.9814815 (1)\ttotal: 61.5ms\tremaining: 1.48s\n",
      "4:\tlearn: 0.9875776\ttest: 0.9814815\tbest: 0.9814815 (1)\ttotal: 62.5ms\tremaining: 1.19s\n",
      "5:\tlearn: 0.9875776\ttest: 1.0000000\tbest: 1.0000000 (5)\ttotal: 64ms\tremaining: 1s\n",
      "6:\tlearn: 1.0000000\ttest: 1.0000000\tbest: 1.0000000 (5)\ttotal: 65.1ms\tremaining: 865ms\n",
      "7:\tlearn: 1.0000000\ttest: 1.0000000\tbest: 1.0000000 (5)\ttotal: 66.3ms\tremaining: 762ms\n",
      "8:\tlearn: 1.0000000\ttest: 1.0000000\tbest: 1.0000000 (5)\ttotal: 67.3ms\tremaining: 680ms\n",
      "9:\tlearn: 1.0000000\ttest: 1.0000000\tbest: 1.0000000 (5)\ttotal: 68.4ms\tremaining: 616ms\n",
      "10:\tlearn: 1.0000000\ttest: 1.0000000\tbest: 1.0000000 (5)\ttotal: 69.4ms\tremaining: 562ms\n",
      "11:\tlearn: 1.0000000\ttest: 1.0000000\tbest: 1.0000000 (5)\ttotal: 70.5ms\tremaining: 517ms\n",
      "12:\tlearn: 1.0000000\ttest: 1.0000000\tbest: 1.0000000 (5)\ttotal: 71.6ms\tremaining: 479ms\n",
      "13:\tlearn: 1.0000000\ttest: 1.0000000\tbest: 1.0000000 (5)\ttotal: 72.6ms\tremaining: 446ms\n",
      "14:\tlearn: 1.0000000\ttest: 1.0000000\tbest: 1.0000000 (5)\ttotal: 73.7ms\tremaining: 417ms\n",
      "15:\tlearn: 1.0000000\ttest: 1.0000000\tbest: 1.0000000 (5)\ttotal: 74.7ms\tremaining: 392ms\n",
      "16:\tlearn: 1.0000000\ttest: 1.0000000\tbest: 1.0000000 (5)\ttotal: 75.7ms\tremaining: 370ms\n",
      "17:\tlearn: 1.0000000\ttest: 1.0000000\tbest: 1.0000000 (5)\ttotal: 76.8ms\tremaining: 350ms\n",
      "18:\tlearn: 1.0000000\ttest: 1.0000000\tbest: 1.0000000 (5)\ttotal: 78ms\tremaining: 332ms\n",
      "19:\tlearn: 1.0000000\ttest: 1.0000000\tbest: 1.0000000 (5)\ttotal: 79ms\tremaining: 316ms\n",
      "20:\tlearn: 1.0000000\ttest: 1.0000000\tbest: 1.0000000 (5)\ttotal: 79.9ms\tremaining: 301ms\n",
      "21:\tlearn: 1.0000000\ttest: 1.0000000\tbest: 1.0000000 (5)\ttotal: 80.8ms\tremaining: 287ms\n",
      "22:\tlearn: 1.0000000\ttest: 1.0000000\tbest: 1.0000000 (5)\ttotal: 81.7ms\tremaining: 274ms\n",
      "23:\tlearn: 1.0000000\ttest: 1.0000000\tbest: 1.0000000 (5)\ttotal: 82.6ms\tremaining: 262ms\n",
      "24:\tlearn: 1.0000000\ttest: 1.0000000\tbest: 1.0000000 (5)\ttotal: 83.5ms\tremaining: 250ms\n",
      "25:\tlearn: 1.0000000\ttest: 1.0000000\tbest: 1.0000000 (5)\ttotal: 84.3ms\tremaining: 240ms\n",
      "26:\tlearn: 1.0000000\ttest: 1.0000000\tbest: 1.0000000 (5)\ttotal: 85.2ms\tremaining: 230ms\n",
      "27:\tlearn: 1.0000000\ttest: 1.0000000\tbest: 1.0000000 (5)\ttotal: 86.1ms\tremaining: 221ms\n",
      "28:\tlearn: 1.0000000\ttest: 1.0000000\tbest: 1.0000000 (5)\ttotal: 87ms\tremaining: 213ms\n",
      "29:\tlearn: 1.0000000\ttest: 1.0000000\tbest: 1.0000000 (5)\ttotal: 88.4ms\tremaining: 206ms\n",
      "30:\tlearn: 1.0000000\ttest: 1.0000000\tbest: 1.0000000 (5)\ttotal: 89.4ms\tremaining: 199ms\n",
      "31:\tlearn: 1.0000000\ttest: 1.0000000\tbest: 1.0000000 (5)\ttotal: 90.1ms\tremaining: 191ms\n",
      "32:\tlearn: 1.0000000\ttest: 1.0000000\tbest: 1.0000000 (5)\ttotal: 91ms\tremaining: 185ms\n",
      "33:\tlearn: 1.0000000\ttest: 1.0000000\tbest: 1.0000000 (5)\ttotal: 92.1ms\tremaining: 179ms\n",
      "34:\tlearn: 1.0000000\ttest: 1.0000000\tbest: 1.0000000 (5)\ttotal: 93.1ms\tremaining: 173ms\n",
      "35:\tlearn: 1.0000000\ttest: 1.0000000\tbest: 1.0000000 (5)\ttotal: 94.2ms\tremaining: 168ms\n",
      "36:\tlearn: 1.0000000\ttest: 1.0000000\tbest: 1.0000000 (5)\ttotal: 95.3ms\tremaining: 162ms\n",
      "37:\tlearn: 1.0000000\ttest: 1.0000000\tbest: 1.0000000 (5)\ttotal: 96.3ms\tremaining: 157ms\n",
      "38:\tlearn: 1.0000000\ttest: 1.0000000\tbest: 1.0000000 (5)\ttotal: 97.4ms\tremaining: 152ms\n",
      "39:\tlearn: 1.0000000\ttest: 1.0000000\tbest: 1.0000000 (5)\ttotal: 98.4ms\tremaining: 148ms\n",
      "40:\tlearn: 1.0000000\ttest: 1.0000000\tbest: 1.0000000 (5)\ttotal: 99.5ms\tremaining: 143ms\n",
      "41:\tlearn: 1.0000000\ttest: 1.0000000\tbest: 1.0000000 (5)\ttotal: 101ms\tremaining: 139ms\n",
      "42:\tlearn: 1.0000000\ttest: 1.0000000\tbest: 1.0000000 (5)\ttotal: 102ms\tremaining: 135ms\n",
      "43:\tlearn: 1.0000000\ttest: 1.0000000\tbest: 1.0000000 (5)\ttotal: 103ms\tremaining: 131ms\n",
      "44:\tlearn: 1.0000000\ttest: 1.0000000\tbest: 1.0000000 (5)\ttotal: 104ms\tremaining: 127ms\n",
      "45:\tlearn: 1.0000000\ttest: 1.0000000\tbest: 1.0000000 (5)\ttotal: 105ms\tremaining: 123ms\n",
      "46:\tlearn: 1.0000000\ttest: 1.0000000\tbest: 1.0000000 (5)\ttotal: 106ms\tremaining: 119ms\n",
      "47:\tlearn: 1.0000000\ttest: 1.0000000\tbest: 1.0000000 (5)\ttotal: 107ms\tremaining: 116ms\n",
      "48:\tlearn: 1.0000000\ttest: 1.0000000\tbest: 1.0000000 (5)\ttotal: 108ms\tremaining: 112ms\n",
      "49:\tlearn: 1.0000000\ttest: 1.0000000\tbest: 1.0000000 (5)\ttotal: 109ms\tremaining: 109ms\n",
      "50:\tlearn: 1.0000000\ttest: 1.0000000\tbest: 1.0000000 (5)\ttotal: 111ms\tremaining: 107ms\n",
      "51:\tlearn: 1.0000000\ttest: 1.0000000\tbest: 1.0000000 (5)\ttotal: 112ms\tremaining: 104ms\n",
      "52:\tlearn: 1.0000000\ttest: 1.0000000\tbest: 1.0000000 (5)\ttotal: 113ms\tremaining: 100ms\n",
      "53:\tlearn: 1.0000000\ttest: 1.0000000\tbest: 1.0000000 (5)\ttotal: 114ms\tremaining: 97.5ms\n",
      "54:\tlearn: 1.0000000\ttest: 1.0000000\tbest: 1.0000000 (5)\ttotal: 116ms\tremaining: 94.8ms\n",
      "55:\tlearn: 1.0000000\ttest: 1.0000000\tbest: 1.0000000 (5)\ttotal: 117ms\tremaining: 91.9ms\n",
      "56:\tlearn: 1.0000000\ttest: 1.0000000\tbest: 1.0000000 (5)\ttotal: 118ms\tremaining: 89.1ms\n",
      "57:\tlearn: 1.0000000\ttest: 1.0000000\tbest: 1.0000000 (5)\ttotal: 119ms\tremaining: 86.2ms\n",
      "58:\tlearn: 1.0000000\ttest: 1.0000000\tbest: 1.0000000 (5)\ttotal: 120ms\tremaining: 83.3ms\n",
      "59:\tlearn: 1.0000000\ttest: 1.0000000\tbest: 1.0000000 (5)\ttotal: 121ms\tremaining: 80.6ms\n",
      "60:\tlearn: 1.0000000\ttest: 1.0000000\tbest: 1.0000000 (5)\ttotal: 122ms\tremaining: 77.8ms\n",
      "61:\tlearn: 1.0000000\ttest: 1.0000000\tbest: 1.0000000 (5)\ttotal: 123ms\tremaining: 75.1ms\n",
      "62:\tlearn: 1.0000000\ttest: 1.0000000\tbest: 1.0000000 (5)\ttotal: 123ms\tremaining: 72.5ms\n",
      "63:\tlearn: 1.0000000\ttest: 1.0000000\tbest: 1.0000000 (5)\ttotal: 124ms\tremaining: 70ms\n",
      "64:\tlearn: 1.0000000\ttest: 1.0000000\tbest: 1.0000000 (5)\ttotal: 125ms\tremaining: 67.5ms\n",
      "65:\tlearn: 1.0000000\ttest: 1.0000000\tbest: 1.0000000 (5)\ttotal: 126ms\tremaining: 65ms\n",
      "66:\tlearn: 1.0000000\ttest: 1.0000000\tbest: 1.0000000 (5)\ttotal: 127ms\tremaining: 62.6ms\n",
      "67:\tlearn: 1.0000000\ttest: 1.0000000\tbest: 1.0000000 (5)\ttotal: 128ms\tremaining: 60.2ms\n",
      "68:\tlearn: 1.0000000\ttest: 1.0000000\tbest: 1.0000000 (5)\ttotal: 129ms\tremaining: 57.9ms\n",
      "69:\tlearn: 1.0000000\ttest: 1.0000000\tbest: 1.0000000 (5)\ttotal: 130ms\tremaining: 55.6ms\n",
      "70:\tlearn: 1.0000000\ttest: 1.0000000\tbest: 1.0000000 (5)\ttotal: 131ms\tremaining: 53.4ms\n",
      "71:\tlearn: 1.0000000\ttest: 1.0000000\tbest: 1.0000000 (5)\ttotal: 132ms\tremaining: 51.2ms\n",
      "72:\tlearn: 1.0000000\ttest: 1.0000000\tbest: 1.0000000 (5)\ttotal: 133ms\tremaining: 49ms\n",
      "73:\tlearn: 1.0000000\ttest: 1.0000000\tbest: 1.0000000 (5)\ttotal: 133ms\tremaining: 46.9ms\n",
      "74:\tlearn: 1.0000000\ttest: 1.0000000\tbest: 1.0000000 (5)\ttotal: 134ms\tremaining: 44.8ms\n",
      "75:\tlearn: 1.0000000\ttest: 1.0000000\tbest: 1.0000000 (5)\ttotal: 135ms\tremaining: 42.7ms\n",
      "76:\tlearn: 1.0000000\ttest: 1.0000000\tbest: 1.0000000 (5)\ttotal: 136ms\tremaining: 40.7ms\n",
      "77:\tlearn: 1.0000000\ttest: 1.0000000\tbest: 1.0000000 (5)\ttotal: 137ms\tremaining: 38.6ms\n",
      "78:\tlearn: 1.0000000\ttest: 1.0000000\tbest: 1.0000000 (5)\ttotal: 138ms\tremaining: 36.7ms\n",
      "79:\tlearn: 1.0000000\ttest: 1.0000000\tbest: 1.0000000 (5)\ttotal: 139ms\tremaining: 34.7ms\n",
      "80:\tlearn: 1.0000000\ttest: 1.0000000\tbest: 1.0000000 (5)\ttotal: 140ms\tremaining: 32.8ms\n",
      "81:\tlearn: 1.0000000\ttest: 1.0000000\tbest: 1.0000000 (5)\ttotal: 141ms\tremaining: 30.9ms\n",
      "82:\tlearn: 1.0000000\ttest: 1.0000000\tbest: 1.0000000 (5)\ttotal: 141ms\tremaining: 29ms\n",
      "83:\tlearn: 1.0000000\ttest: 1.0000000\tbest: 1.0000000 (5)\ttotal: 142ms\tremaining: 27.1ms\n",
      "84:\tlearn: 1.0000000\ttest: 1.0000000\tbest: 1.0000000 (5)\ttotal: 143ms\tremaining: 25.3ms\n",
      "85:\tlearn: 1.0000000\ttest: 1.0000000\tbest: 1.0000000 (5)\ttotal: 144ms\tremaining: 23.5ms\n",
      "86:\tlearn: 1.0000000\ttest: 1.0000000\tbest: 1.0000000 (5)\ttotal: 145ms\tremaining: 21.7ms\n",
      "87:\tlearn: 1.0000000\ttest: 1.0000000\tbest: 1.0000000 (5)\ttotal: 146ms\tremaining: 19.9ms\n",
      "88:\tlearn: 1.0000000\ttest: 1.0000000\tbest: 1.0000000 (5)\ttotal: 147ms\tremaining: 18.1ms\n",
      "89:\tlearn: 1.0000000\ttest: 1.0000000\tbest: 1.0000000 (5)\ttotal: 148ms\tremaining: 16.4ms\n",
      "90:\tlearn: 1.0000000\ttest: 1.0000000\tbest: 1.0000000 (5)\ttotal: 149ms\tremaining: 14.7ms\n",
      "91:\tlearn: 1.0000000\ttest: 1.0000000\tbest: 1.0000000 (5)\ttotal: 149ms\tremaining: 13ms\n",
      "92:\tlearn: 1.0000000\ttest: 1.0000000\tbest: 1.0000000 (5)\ttotal: 150ms\tremaining: 11.3ms\n",
      "93:\tlearn: 1.0000000\ttest: 1.0000000\tbest: 1.0000000 (5)\ttotal: 151ms\tremaining: 9.62ms\n",
      "94:\tlearn: 1.0000000\ttest: 1.0000000\tbest: 1.0000000 (5)\ttotal: 152ms\tremaining: 7.98ms\n",
      "95:\tlearn: 1.0000000\ttest: 1.0000000\tbest: 1.0000000 (5)\ttotal: 152ms\tremaining: 6.35ms\n",
      "96:\tlearn: 1.0000000\ttest: 1.0000000\tbest: 1.0000000 (5)\ttotal: 153ms\tremaining: 4.72ms\n",
      "97:\tlearn: 1.0000000\ttest: 1.0000000\tbest: 1.0000000 (5)\ttotal: 154ms\tremaining: 3.13ms\n",
      "98:\tlearn: 1.0000000\ttest: 1.0000000\tbest: 1.0000000 (5)\ttotal: 154ms\tremaining: 1.56ms\n",
      "99:\tlearn: 1.0000000\ttest: 1.0000000\tbest: 1.0000000 (5)\ttotal: 155ms\tremaining: 0us\n",
      "\n",
      "bestTest = 1\n",
      "bestIteration = 5\n",
      "\n",
      "Shrink model to first 6 iterations.\n"
     ]
    }
   ],
   "source": [
    "model_fit=model_cbc.fit(X_train,y_train,cat_features=cat_feat_cols,plot=True,eval_set=(X_test,y_test))"
   ]
  },
  {
   "cell_type": "markdown",
   "id": "2c87fb96",
   "metadata": {
    "papermill": {
     "duration": 0.006291,
     "end_time": "2023-01-30T12:09:02.087706",
     "exception": false,
     "start_time": "2023-01-30T12:09:02.081415",
     "status": "completed"
    },
    "tags": []
   },
   "source": [
    "The model can be fitted with respect to various hyperparameters like learning rate and more. But here the model is fitted to some of the default parameters. The model built here will iterate for a total of 100 iterations and produce the result shown below, once the maximum specified iterations are reached.\n",
    "\n",
    "Here, we can see that the model did not see any significant improvement in the results. So the model's best iteration is mentioned as 5 because the performance of the model will remain the same after the 5th iteration.\n",
    "\n",
    "Step 5: Evaluating the model performance\n",
    "\n",
    "Now, let us use the Catboost model built and evaluate certain parameters from the model built. Let us first try to obtain the confusion matrix for the model built. \n",
    "\n",
    "For obtaining the confusion matrix for the model built let us make use of the plot_confusion_matrix package from scikit learn."
   ]
  },
  {
   "cell_type": "code",
   "execution_count": 11,
   "id": "3a1ce2ba",
   "metadata": {
    "execution": {
     "iopub.execute_input": "2023-01-30T12:09:02.102775Z",
     "iopub.status.busy": "2023-01-30T12:09:02.102402Z",
     "iopub.status.idle": "2023-01-30T12:09:02.320781Z",
     "shell.execute_reply": "2023-01-30T12:09:02.319755Z"
    },
    "papermill": {
     "duration": 0.229066,
     "end_time": "2023-01-30T12:09:02.323158",
     "exception": false,
     "start_time": "2023-01-30T12:09:02.094092",
     "status": "completed"
    },
    "tags": []
   },
   "outputs": [
    {
     "name": "stderr",
     "output_type": "stream",
     "text": [
      "/opt/conda/lib/python3.7/site-packages/sklearn/utils/deprecation.py:87: FutureWarning: Function plot_confusion_matrix is deprecated; Function `plot_confusion_matrix` is deprecated in 1.0 and will be removed in 1.2. Use one of the class methods: ConfusionMatrixDisplay.from_predictions or ConfusionMatrixDisplay.from_estimator.\n",
      "  warnings.warn(msg, category=FutureWarning)\n"
     ]
    },
    {
     "data": {
      "text/plain": [
       "<sklearn.metrics._plot.confusion_matrix.ConfusionMatrixDisplay at 0x7f9fea6b2d90>"
      ]
     },
     "execution_count": 11,
     "metadata": {},
     "output_type": "execute_result"
    },
    {
     "data": {
      "image/png": "[encoded data removed]",
      "text/plain": [
       "<Figure size 432x288 with 2 Axes>"
      ]
     },
     "metadata": {
      "needs_background": "light"
     },
     "output_type": "display_data"
    }
   ],
   "source": [
    "from sklearn.metrics import plot_confusion_matrix\n",
    "plot_confusion_matrix(model_fit,X_test,y_test)"
   ]
  },
  {
   "cell_type": "markdown",
   "id": "3d00eb00",
   "metadata": {
    "papermill": {
     "duration": 0.006647,
     "end_time": "2023-01-30T12:09:02.336876",
     "exception": false,
     "start_time": "2023-01-30T12:09:02.330229",
     "status": "completed"
    },
    "tags": []
   },
   "source": [
    "Here we can see that we have passed the fitted model instance along with the test data to obtain the confusion matrix. For better understanding about the model performance let us try to obtain the classification report for the Catboost model.\n",
    "\n",
    "Let us primarily obtain the predictions from the model built using the predict function on the test data."
   ]
  },
  {
   "cell_type": "code",
   "execution_count": 12,
   "id": "0df239a1",
   "metadata": {
    "execution": {
     "iopub.execute_input": "2023-01-30T12:09:02.352165Z",
     "iopub.status.busy": "2023-01-30T12:09:02.351742Z",
     "iopub.status.idle": "2023-01-30T12:09:02.357773Z",
     "shell.execute_reply": "2023-01-30T12:09:02.356721Z"
    },
    "papermill": {
     "duration": 0.016681,
     "end_time": "2023-01-30T12:09:02.360291",
     "exception": false,
     "start_time": "2023-01-30T12:09:02.343610",
     "status": "completed"
    },
    "tags": []
   },
   "outputs": [],
   "source": [
    "y_pred=model_fit.predict(X_test)"
   ]
  },
  {
   "cell_type": "markdown",
   "id": "46da41d2",
   "metadata": {
    "papermill": {
     "duration": 0.006685,
     "end_time": "2023-01-30T12:09:02.373939",
     "exception": false,
     "start_time": "2023-01-30T12:09:02.367254",
     "status": "completed"
    },
    "tags": []
   },
   "source": [
    "So now we can use this prediction instance and try to obtain the classification report for the model. Obtaining the classification report for the model helps us to evaluate various parameters such as accuracy,precision,recall and f1-score.\n",
    "\n"
   ]
  },
  {
   "cell_type": "code",
   "execution_count": 13,
   "id": "90b9e8c2",
   "metadata": {
    "execution": {
     "iopub.execute_input": "2023-01-30T12:09:02.390439Z",
     "iopub.status.busy": "2023-01-30T12:09:02.389761Z",
     "iopub.status.idle": "2023-01-30T12:09:02.400070Z",
     "shell.execute_reply": "2023-01-30T12:09:02.398755Z"
    },
    "papermill": {
     "duration": 0.021495,
     "end_time": "2023-01-30T12:09:02.402348",
     "exception": false,
     "start_time": "2023-01-30T12:09:02.380853",
     "status": "completed"
    },
    "tags": []
   },
   "outputs": [
    {
     "name": "stdout",
     "output_type": "stream",
     "text": [
      "              precision    recall  f1-score   support\n",
      "\n",
      "  Not Placed       1.00      1.00      1.00        14\n",
      "      Placed       1.00      1.00      1.00        40\n",
      "\n",
      "    accuracy                           1.00        54\n",
      "   macro avg       1.00      1.00      1.00        54\n",
      "weighted avg       1.00      1.00      1.00        54\n",
      "\n"
     ]
    }
   ],
   "source": [
    "from sklearn.metrics import classification_report\n",
    "print(classification_report(y_test,y_pred))"
   ]
  },
  {
   "cell_type": "markdown",
   "id": "eca62bf0",
   "metadata": {
    "papermill": {
     "duration": 0.006637,
     "end_time": "2023-01-30T12:09:02.416138",
     "exception": false,
     "start_time": "2023-01-30T12:09:02.409501",
     "status": "completed"
    },
    "tags": []
   },
   "source": [
    "From the classification report obtained we can evaluate the various parameters of the model and understand how the model is performing with respect to the placement data available.\n",
    "\n"
   ]
  },
  {
   "cell_type": "code",
   "execution_count": null,
   "id": "cac001d6",
   "metadata": {
    "papermill": {
     "duration": 0.006842,
     "end_time": "2023-01-30T12:09:02.429946",
     "exception": false,
     "start_time": "2023-01-30T12:09:02.423104",
     "status": "completed"
    },
    "tags": []
   },
   "outputs": [],
   "source": []
  }
 ],
 "metadata": {
  "kernelspec": {
   "display_name": "Python 3",
   "language": "python",
   "name": "python3"
  },
  "language_info": {
   "codemirror_mode": {
    "name": "ipython",
    "version": 3
   },
   "file_extension": ".py",
   "mimetype": "text/x-python",
   "name": "python",
   "nbconvert_exporter": "python",
   "pygments_lexer": "ipython3",
   "version": "3.7.12"
  },
  "papermill": {
   "default_parameters": {},
   "duration": 11.84442,
   "end_time": "2023-01-30T12:09:03.159530",
   "environment_variables": {},
   "exception": null,
   "input_path": "__notebook__.ipynb",
   "output_path": "__notebook__.ipynb",
   "parameters": {},
   "start_time": "2023-01-30T12:08:51.315110",
   "version": "2.3.4"
  },
  "widgets": {
   "application/vnd.jupyter.widget-state+json": {
    "state": {
     "318b333d8bed401abf45f31b0f33e816": {
      "model_module": "catboost-widget",
      "model_module_version": "^1.0.0",
      "model_name": "CatboostWidgetModel",
      "state": {
       "_dom_classes": [],
       "_model_module": "catboost-widget",
       "_model_module_version": "^1.0.0",
       "_model_name": "CatboostWidgetModel",
       "_view_count": null,
       "_view_module": "catboost-widget",
       "_view_module_version": "^1.0.0",
       "_view_name": "CatboostWidgetView",
       "data": {
        "catboost_info": {
         "content": {
          "data": {
           "iterations": [
            {
             "iteration": 0,
             "learn": [
              0.9627329193,
              0.6724548948
             ],
             "passed_time": 0.05792127929,
             "remaining_time": 5.734206649,
             "test": [
              0.962962963,
              0.6726558113
             ]
            },
            {
             "iteration": 1,
             "learn": [
              0.9875776398,
              0.6497477924
             ],
             "passed_time": 0.05910750265,
             "remaining_time": 2.89626763,
             "test": [
              0.9814814815,
              0.6508673871
             ]
            },
            {
             "iteration": 2,
             "learn": [
              0.9813664596,
              0.62890719
             ],
             "passed_time": 0.06037851782,
             "remaining_time": 1.952238743,
             "test": [
              0.962962963,
              0.6300213369
             ]
            },
            {
             "iteration": 3,
             "learn": [
              0.9813664596,
              0.6104097481
             ],
             "passed_time": 0.06146103367,
             "remaining_time": 1.475064808,
             "test": [
              0.962962963,
              0.6125121119
             ]
            },
            {
             "iteration": 4,
             "learn": [
              0.9875776398,
              0.5859999406
             ],
             "passed_time": 0.06254840358,
             "remaining_time": 1.188419668,
             "test": [
              0.9814814815,
              0.5892335689
             ]
            },
            {
             "iteration": 5,
             "learn": [
              0.9875776398,
              0.567695076
             ],
             "passed_time": 0.06403122506,
             "remaining_time": 1.003155859,
             "test": [
              1,
              0.57138288
             ]
            },
            {
             "iteration": 6,
             "learn": [
              1,
              0.5481127851
             ],
             "passed_time": 0.06512153203,
             "remaining_time": 0.8651860684,
             "test": [
              1,
              0.5525532224
             ]
            },
            {
             "iteration": 7,
             "learn": [
              1,
              0.529500011
             ],
             "passed_time": 0.0662711809,
             "remaining_time": 0.7621185804,
             "test": [
              1,
              0.5341029341
             ]
            },
            {
             "iteration": 8,
             "learn": [
              1,
              0.5136747447
             ],
             "passed_time": 0.06727024643,
             "remaining_time": 0.6801769361,
             "test": [
              1,
              0.518123976
             ]
            },
            {
             "iteration": 9,
             "learn": [
              1,
              0.4999211095
             ],
             "passed_time": 0.06840019316,
             "remaining_time": 0.6156017384,
             "test": [
              1,
              0.5052128761
             ]
            },
            {
             "iteration": 10,
             "learn": [
              1,
              0.4826995953
             ],
             "passed_time": 0.06943896117,
             "remaining_time": 0.5618243222,
             "test": [
              1,
              0.4895003975
             ]
            },
            {
             "iteration": 11,
             "learn": [
              1,
              0.4691080993
             ],
             "passed_time": 0.07054394577,
             "remaining_time": 0.5173222689,
             "test": [
              1,
              0.4758780321
             ]
            },
            {
             "iteration": 12,
             "learn": [
              1,
              0.4589930529
             ],
             "passed_time": 0.07159170864,
             "remaining_time": 0.4791137424,
             "test": [
              1,
              0.4676057925
             ]
            },
            {
             "iteration": 13,
             "learn": [
              1,
              0.4409689089
             ],
             "passed_time": 0.07260553361,
             "remaining_time": 0.4460054208,
             "test": [
              1,
              0.4496904776
             ]
            },
            {
             "iteration": 14,
             "learn": [
              1,
              0.4307348027
             ],
             "passed_time": 0.07366489157,
             "remaining_time": 0.4174343856,
             "test": [
              1,
              0.4413803319
             ]
            },
            {
             "iteration": 15,
             "learn": [
              1,
              0.4146806814
             ],
             "passed_time": 0.07467453755,
             "remaining_time": 0.3920413221,
             "test": [
              1,
              0.4267305765
             ]
            },
            {
             "iteration": 16,
             "learn": [
              1,
              0.4057065363
             ],
             "passed_time": 0.0757227391,
             "remaining_time": 0.369705138,
             "test": [
              1,
              0.4181080156
             ]
            },
            {
             "iteration": 17,
             "learn": [
              1,
              0.3926243559
             ],
             "passed_time": 0.07681721279,
             "remaining_time": 0.3499450805,
             "test": [
              1,
              0.4061355401
             ]
            },
            {
             "iteration": 18,
             "learn": [
              1,
              0.3793398982
             ],
             "passed_time": 0.07796502514,
             "remaining_time": 0.3323772124,
             "test": [
              1,
              0.3924736966
             ]
            },
            {
             "iteration": 19,
             "learn": [
              1,
              0.3686802181
             ],
             "passed_time": 0.07897064623,
             "remaining_time": 0.3158825849,
             "test": [
              1,
              0.3836267165
             ]
            },
            {
             "iteration": 20,
             "learn": [
              1,
              0.3615778548
             ],
             "passed_time": 0.07991993386,
             "remaining_time": 0.3006511797,
             "test": [
              1,
              0.3765682414
             ]
            },
            {
             "iteration": 21,
             "learn": [
              1,
              0.3515342154
             ],
             "passed_time": 0.08082053823,
             "remaining_time": 0.2865455446,
             "test": [
              1,
              0.3670872608
             ]
            },
            {
             "iteration": 22,
             "learn": [
              1,
              0.3442740684
             ],
             "passed_time": 0.08169488489,
             "remaining_time": 0.2735002668,
             "test": [
              1,
              0.3599355309
             ]
            },
            {
             "iteration": 23,
             "learn": [
              1,
              0.3372769782
             ],
             "passed_time": 0.08258101939,
             "remaining_time": 0.2615065614,
             "test": [
              1,
              0.3534298268
             ]
            },
            {
             "iteration": 24,
             "learn": [
              1,
              0.3246768918
             ],
             "passed_time": 0.08345902273,
             "remaining_time": 0.2503770682,
             "test": [
              1,
              0.3411094653
             ]
            },
            {
             "iteration": 25,
             "learn": [
              1,
              0.3150076733
             ],
             "passed_time": 0.08434988718,
             "remaining_time": 0.2400727558,
             "test": [
              1,
              0.3325023788
             ]
            },
            {
             "iteration": 26,
             "learn": [
              1,
              0.3044850469
             ],
             "passed_time": 0.08523144264,
             "remaining_time": 0.2304405671,
             "test": [
              1,
              0.3221462472
             ]
            },
            {
             "iteration": 27,
             "learn": [
              1,
              0.2936347515
             ],
             "passed_time": 0.08612810713,
             "remaining_time": 0.2214722755,
             "test": [
              1,
              0.3106489292
             ]
            },
            {
             "iteration": 28,
             "learn": [
              1,
              0.2852295562
             ],
             "passed_time": 0.08699618371,
             "remaining_time": 0.2129906567,
             "test": [
              1,
              0.3022768275
             ]
            },
            {
             "iteration": 29,
             "learn": [
              1,
              0.2753441774
             ],
             "passed_time": 0.08839972841,
             "remaining_time": 0.206266033,
             "test": [
              1,
              0.2924792495
             ]
            },
            {
             "iteration": 30,
             "learn": [
              1,
              0.2693802703
             ],
             "passed_time": 0.08943847642,
             "remaining_time": 0.1990727378,
             "test": [
              1,
              0.288010003
             ]
            },
            {
             "iteration": 31,
             "learn": [
              1,
              0.2579251123
             ],
             "passed_time": 0.09010837968,
             "remaining_time": 0.1914803068,
             "test": [
              1,
              0.2762621219
             ]
            },
            {
             "iteration": 32,
             "learn": [
              1,
              0.2525086737
             ],
             "passed_time": 0.09104778692,
             "remaining_time": 0.1848545977,
             "test": [
              1,
              0.2714807158
             ]
            },
            {
             "iteration": 33,
             "learn": [
              1,
              0.2482674044
             ],
             "passed_time": 0.09206143005,
             "remaining_time": 0.1787074819,
             "test": [
              1,
              0.2673897454
             ]
            },
            {
             "iteration": 34,
             "learn": [
              1,
              0.2417230814
             ],
             "passed_time": 0.09312492609,
             "remaining_time": 0.1729462913,
             "test": [
              1,
              0.2600744122
             ]
            },
            {
             "iteration": 35,
             "learn": [
              1,
              0.2362109634
             ],
             "passed_time": 0.09422640266,
             "remaining_time": 0.1675136047,
             "test": [
              1,
              0.2544260143
             ]
            },
            {
             "iteration": 36,
             "learn": [
              1,
              0.2297937408
             ],
             "passed_time": 0.09529299942,
             "remaining_time": 0.1622556477,
             "test": [
              1,
              0.247650195
             ]
            },
            {
             "iteration": 37,
             "learn": [
              1,
              0.2268195271
             ],
             "passed_time": 0.09630713533,
             "remaining_time": 0.1571326945,
             "test": [
              1,
              0.245632539
             ]
            },
            {
             "iteration": 38,
             "learn": [
              1,
              0.2208019101
             ],
             "passed_time": 0.0974035901,
             "remaining_time": 0.152349205,
             "test": [
              1,
              0.2397705251
             ]
            },
            {
             "iteration": 39,
             "learn": [
              1,
              0.2144696645
             ],
             "passed_time": 0.09844565885,
             "remaining_time": 0.1476684883,
             "test": [
              1,
              0.233810612
             ]
            },
            {
             "iteration": 40,
             "learn": [
              1,
              0.2093122976
             ],
             "passed_time": 0.09951108369,
             "remaining_time": 0.1431988765,
             "test": [
              1,
              0.2290398433
             ]
            },
            {
             "iteration": 41,
             "learn": [
              1,
              0.2061743647
             ],
             "passed_time": 0.1005764035,
             "remaining_time": 0.1388912239,
             "test": [
              1,
              0.2265976245
             ]
            },
            {
             "iteration": 42,
             "learn": [
              1,
              0.2027701308
             ],
             "passed_time": 0.1015990665,
             "remaining_time": 0.1346778324,
             "test": [
              1,
              0.2233148811
             ]
            },
            {
             "iteration": 43,
             "learn": [
              1,
              0.1984835735
             ],
             "passed_time": 0.10267554,
             "remaining_time": 0.1306779601,
             "test": [
              1,
              0.2188505403
             ]
            },
            {
             "iteration": 44,
             "learn": [
              1,
              0.194491519
             ],
             "passed_time": 0.1037383006,
             "remaining_time": 0.1267912562,
             "test": [
              1,
              0.2146385787
             ]
            },
            {
             "iteration": 45,
             "learn": [
              1,
              0.1915700817
             ],
             "passed_time": 0.1047981913,
             "remaining_time": 0.1230239637,
             "test": [
              1,
              0.2118027831
             ]
            },
            {
             "iteration": 46,
             "learn": [
              1,
              0.1882756257
             ],
             "passed_time": 0.1058286863,
             "remaining_time": 0.1193387314,
             "test": [
              1,
              0.2087001881
             ]
            },
            {
             "iteration": 47,
             "learn": [
              1,
              0.1844619777
             ],
             "passed_time": 0.1068665293,
             "remaining_time": 0.1157720734,
             "test": [
              1,
              0.2052680357
             ]
            },
            {
             "iteration": 48,
             "learn": [
              1,
              0.1807398944
             ],
             "passed_time": 0.1079552056,
             "remaining_time": 0.1123615406,
             "test": [
              1,
              0.2018789582
             ]
            },
            {
             "iteration": 49,
             "learn": [
              1,
              0.1768201385
             ],
             "passed_time": 0.1090511126,
             "remaining_time": 0.1090511126,
             "test": [
              1,
              0.1979793272
             ]
            },
            {
             "iteration": 50,
             "learn": [
              1,
              0.1731595995
             ],
             "passed_time": 0.1110591009,
             "remaining_time": 0.106703842,
             "test": [
              1,
              0.194475551
             ]
            },
            {
             "iteration": 51,
             "learn": [
              1,
              0.1682665148
             ],
             "passed_time": 0.1121931498,
             "remaining_time": 0.1035629075,
             "test": [
              1,
              0.1888496901
             ]
            },
            {
             "iteration": 52,
             "learn": [
              1,
              0.1650361371
             ],
             "passed_time": 0.1132765344,
             "remaining_time": 0.1004527758,
             "test": [
              1,
              0.1860060917
             ]
            },
            {
             "iteration": 53,
             "learn": [
              1,
              0.1635093598
             ],
             "passed_time": 0.1144774617,
             "remaining_time": 0.09751783776,
             "test": [
              1,
              0.1848781022
             ]
            },
            {
             "iteration": 54,
             "learn": [
              1,
              0.1613983269
             ],
             "passed_time": 0.1158533881,
             "remaining_time": 0.09478913575,
             "test": [
              1,
              0.1828741769
             ]
            },
            {
             "iteration": 55,
             "learn": [
              1,
              0.15655457
             ],
             "passed_time": 0.1169464126,
             "remaining_time": 0.09188646706,
             "test": [
              1,
              0.1769687084
             ]
            },
            {
             "iteration": 56,
             "learn": [
              1,
              0.153373379
             ],
             "passed_time": 0.1180764912,
             "remaining_time": 0.08907524773,
             "test": [
              1,
              0.1740389591
             ]
            },
            {
             "iteration": 57,
             "learn": [
              1,
              0.1507549705
             ],
             "passed_time": 0.1190343186,
             "remaining_time": 0.08619726521,
             "test": [
              1,
              0.1712835157
             ]
            },
            {
             "iteration": 58,
             "learn": [
              1,
              0.1459079207
             ],
             "passed_time": 0.1199237198,
             "remaining_time": 0.08333682221,
             "test": [
              1,
              0.1662343539
             ]
            },
            {
             "iteration": 59,
             "learn": [
              1,
              0.1438815376
             ],
             "passed_time": 0.1208635852,
             "remaining_time": 0.08057572348,
             "test": [
              1,
              0.164500091
             ]
            },
            {
             "iteration": 60,
             "learn": [
              1,
              0.1403108012
             ],
             "passed_time": 0.1217250608,
             "remaining_time": 0.07782421919,
             "test": [
              1,
              0.1607290752
             ]
            },
            {
             "iteration": 61,
             "learn": [
              1,
              0.1364576502
             ],
             "passed_time": 0.1225994861,
             "remaining_time": 0.07514162051,
             "test": [
              1,
              0.1565405342
             ]
            },
            {
             "iteration": 62,
             "learn": [
              1,
              0.133505294
             ],
             "passed_time": 0.1234622659,
             "remaining_time": 0.07250958471,
             "test": [
              1,
              0.1530257091
             ]
            },
            {
             "iteration": 63,
             "learn": [
              1,
              0.1309572886
             ],
             "passed_time": 0.1243741589,
             "remaining_time": 0.0699604644,
             "test": [
              1,
              0.1506565067
             ]
            },
            {
             "iteration": 64,
             "learn": [
              1,
              0.128868532
             ],
             "passed_time": 0.1252993581,
             "remaining_time": 0.06746888515,
             "test": [
              1,
              0.1483633713
             ]
            },
            {
             "iteration": 65,
             "learn": [
              1,
              0.1259516199
             ],
             "passed_time": 0.1261677225,
             "remaining_time": 0.06499549339,
             "test": [
              1,
              0.1452879558
             ]
            },
            {
             "iteration": 66,
             "learn": [
              1,
              0.1238430255
             ],
             "passed_time": 0.127075392,
             "remaining_time": 0.06258937217,
             "test": [
              1,
              0.1430460509
             ]
            },
            {
             "iteration": 67,
             "learn": [
              1,
              0.122136039
             ],
             "passed_time": 0.128004902,
             "remaining_time": 0.06023760095,
             "test": [
              1,
              0.141355987
             ]
            },
            {
             "iteration": 68,
             "learn": [
              1,
              0.120363049
             ],
             "passed_time": 0.1289026675,
             "remaining_time": 0.05791279265,
             "test": [
              1,
              0.1395016204
             ]
            },
            {
             "iteration": 69,
             "learn": [
              1,
              0.1188913619
             ],
             "passed_time": 0.1297766491,
             "remaining_time": 0.05561856392,
             "test": [
              1,
              0.1382596976
             ]
            },
            {
             "iteration": 70,
             "learn": [
              1,
              0.1172561851
             ],
             "passed_time": 0.1306896759,
             "remaining_time": 0.05338029017,
             "test": [
              1,
              0.1365986743
             ]
            },
            {
             "iteration": 71,
             "learn": [
              1,
              0.1151545799
             ],
             "passed_time": 0.131634004,
             "remaining_time": 0.05119100157,
             "test": [
              1,
              0.134426413
             ]
            },
            {
             "iteration": 72,
             "learn": [
              1,
              0.1127362687
             ],
             "passed_time": 0.1325138966,
             "remaining_time": 0.04901198917,
             "test": [
              1,
              0.1318755838
             ]
            },
            {
             "iteration": 73,
             "learn": [
              1,
              0.1107350437
             ],
             "passed_time": 0.1334283013,
             "remaining_time": 0.04688021396,
             "test": [
              1,
              0.1294462168
             ]
            },
            {
             "iteration": 74,
             "learn": [
              1,
              0.1090240715
             ],
             "passed_time": 0.1342966488,
             "remaining_time": 0.0447655496,
             "test": [
              1,
              0.1274425774
             ]
            },
            {
             "iteration": 75,
             "learn": [
              1,
              0.10680573
             ],
             "passed_time": 0.135215187,
             "remaining_time": 0.04269953273,
             "test": [
              1,
              0.1248715025
             ]
            },
            {
             "iteration": 76,
             "learn": [
              1,
              0.1053207154
             ],
             "passed_time": 0.1361261413,
             "remaining_time": 0.0406610552,
             "test": [
              1,
              0.1233562242
             ]
            },
            {
             "iteration": 77,
             "learn": [
              1,
              0.1035201179
             ],
             "passed_time": 0.1370220226,
             "remaining_time": 0.03864723713,
             "test": [
              1,
              0.1213988771
             ]
            },
            {
             "iteration": 78,
             "learn": [
              1,
              0.1016353131
             ],
             "passed_time": 0.1379027602,
             "remaining_time": 0.03665769576,
             "test": [
              1,
              0.1194924478
             ]
            },
            {
             "iteration": 79,
             "learn": [
              1,
              0.09994032861
             ],
             "passed_time": 0.1388012371,
             "remaining_time": 0.03470030929,
             "test": [
              1,
              0.1175494567
             ]
            },
            {
             "iteration": 80,
             "learn": [
              1,
              0.09852685655
             ],
             "passed_time": 0.1396940318,
             "remaining_time": 0.03276773584,
             "test": [
              1,
              0.1159869368
             ]
            },
            {
             "iteration": 81,
             "learn": [
              1,
              0.09727963838
             ],
             "passed_time": 0.1405643722,
             "remaining_time": 0.03085559389,
             "test": [
              1,
              0.1145169561
             ]
            },
            {
             "iteration": 82,
             "learn": [
              1,
              0.09546319925
             ],
             "passed_time": 0.1414639946,
             "remaining_time": 0.02897455312,
             "test": [
              1,
              0.1129687084
             ]
            },
            {
             "iteration": 83,
             "learn": [
              1,
              0.09418266222
             ],
             "passed_time": 0.1423208562,
             "remaining_time": 0.02710873451,
             "test": [
              1,
              0.1116741385
             ]
            },
            {
             "iteration": 84,
             "learn": [
              1,
              0.09347706156
             ],
             "passed_time": 0.1432159046,
             "remaining_time": 0.02527339493,
             "test": [
              1,
              0.1111052077
             ]
            },
            {
             "iteration": 85,
             "learn": [
              1,
              0.09190607583
             ],
             "passed_time": 0.1440953194,
             "remaining_time": 0.02345737758,
             "test": [
              1,
              0.1093260792
             ]
            },
            {
             "iteration": 86,
             "learn": [
              1,
              0.09068184132
             ],
             "passed_time": 0.1449679737,
             "remaining_time": 0.02166188113,
             "test": [
              1,
              0.107971132
             ]
            },
            {
             "iteration": 87,
             "learn": [
              1,
              0.0896925475
             ],
             "passed_time": 0.1458546173,
             "remaining_time": 0.019889266,
             "test": [
              1,
              0.1069520344
             ]
            },
            {
             "iteration": 88,
             "learn": [
              1,
              0.08851802017
             ],
             "passed_time": 0.1467830759,
             "remaining_time": 0.01814172848,
             "test": [
              1,
              0.1055219757
             ]
            },
            {
             "iteration": 89,
             "learn": [
              1,
              0.0869076775
             ],
             "passed_time": 0.1476554178,
             "remaining_time": 0.01640615754,
             "test": [
              1,
              0.1038736432
             ]
            },
            {
             "iteration": 90,
             "learn": [
              1,
              0.08519074115
             ],
             "passed_time": 0.1485007002,
             "remaining_time": 0.01468688244,
             "test": [
              1,
              0.1021898195
             ]
            },
            {
             "iteration": 91,
             "learn": [
              1,
              0.0836228842
             ],
             "passed_time": 0.1493759879,
             "remaining_time": 0.01298921634,
             "test": [
              1,
              0.100205142
             ]
            },
            {
             "iteration": 92,
             "learn": [
              1,
              0.08212438208
             ],
             "passed_time": 0.1502830632,
             "remaining_time": 0.01131162842,
             "test": [
              1,
              0.098758575
             ]
            },
            {
             "iteration": 93,
             "learn": [
              1,
              0.08036772071
             ],
             "passed_time": 0.1507529644,
             "remaining_time": 0.009622529641,
             "test": [
              1,
              0.09667867785
             ]
            },
            {
             "iteration": 94,
             "learn": [
              1,
              0.07923848984
             ],
             "passed_time": 0.1515674345,
             "remaining_time": 0.007977233397,
             "test": [
              1,
              0.09546244419
             ]
            },
            {
             "iteration": 95,
             "learn": [
              1,
              0.07856267265
             ],
             "passed_time": 0.1524295593,
             "remaining_time": 0.006351231636,
             "test": [
              1,
              0.09476121967
             ]
            },
            {
             "iteration": 96,
             "learn": [
              1,
              0.07637188755
             ],
             "passed_time": 0.1527965389,
             "remaining_time": 0.00472566615,
             "test": [
              1,
              0.09217290377
             ]
            },
            {
             "iteration": 97,
             "learn": [
              1,
              0.07571401287
             ],
             "passed_time": 0.1536204007,
             "remaining_time": 0.003135110219,
             "test": [
              1,
              0.09141482697
             ]
            },
            {
             "iteration": 98,
             "learn": [
              1,
              0.07504690102
             ],
             "passed_time": 0.1544787065,
             "remaining_time": 0.001560390975,
             "test": [
              1,
              0.09061433298
             ]
            },
            {
             "iteration": 99,
             "learn": [
              1,
              0.07386133495
             ],
             "passed_time": 0.155376147,
             "remaining_time": 0,
             "test": [
              1,
              0.0892065663
             ]
            }
           ],
           "meta": {
            "iteration_count": 100,
            "launch_mode": "Train",
            "learn_metrics": [
             {
              "best_value": "Max",
              "name": "Accuracy"
             },
             {
              "best_value": "Min",
              "name": "Logloss"
             }
            ],
            "learn_sets": [
             "learn"
            ],
            "name": "experiment",
            "parameters": "",
            "test_metrics": [
             {
              "best_value": "Max",
              "name": "Accuracy"
             },
             {
              "best_value": "Min",
              "name": "Logloss"
             }
            ],
            "test_sets": [
             "test"
            ]
           }
          },
          "passed_iterations": 99,
          "total_iterations": 100
         },
         "name": "catboost_info",
         "path": "catboost_info"
        }
       },
       "layout": "IPY_MODEL_abd1321a9e6b47ee9e1206c0208d498b"
      }
     },
     "abd1321a9e6b47ee9e1206c0208d498b": {
      "model_module": "@jupyter-widgets/base",
      "model_module_version": "1.2.0",
      "model_name": "LayoutModel",
      "state": {
       "_model_module": "@jupyter-widgets/base",
       "_model_module_version": "1.2.0",
       "_model_name": "LayoutModel",
       "_view_count": null,
       "_view_module": "@jupyter-widgets/base",
       "_view_module_version": "1.2.0",
       "_view_name": "LayoutView",
       "align_content": null,
       "align_items": null,
       "align_self": "stretch",
       "border": null,
       "bottom": null,
       "display": null,
       "flex": null,
       "flex_flow": null,
       "grid_area": null,
       "grid_auto_columns": null,
       "grid_auto_flow": null,
       "grid_auto_rows": null,
       "grid_column": null,
       "grid_gap": null,
       "grid_row": null,
       "grid_template_areas": null,
       "grid_template_columns": null,
       "grid_template_rows": null,
       "height": "500px",
       "justify_content": null,
       "justify_items": null,
       "left": null,
       "margin": null,
       "max_height": null,
       "max_width": null,
       "min_height": null,
       "min_width": null,
       "object_fit": null,
       "object_position": null,
       "order": null,
       "overflow": null,
       "overflow_x": null,
       "overflow_y": null,
       "padding": null,
       "right": null,
       "top": null,
       "visibility": null,
       "width": null
      }
     }
    },
    "version_major": 2,
    "version_minor": 0
   }
  }
 },
 "nbformat": 4,
 "nbformat_minor": 5
}
