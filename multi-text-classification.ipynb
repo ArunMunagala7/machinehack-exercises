{
 "cells": [
  {
   "cell_type": "code",
   "execution_count": 1,
   "id": "204b5a0a",
   "metadata": {
    "_cell_guid": "b1076dfc-b9ad-4769-8c92-a6c4dae69d19",
    "_uuid": "8f2839f25d086af736a60e9eeb907d3b93b6e0e5",
    "execution": {
     "iopub.execute_input": "2023-02-08T13:31:24.830160Z",
     "iopub.status.busy": "2023-02-08T13:31:24.829683Z",
     "iopub.status.idle": "2023-02-08T13:31:24.842988Z",
     "shell.execute_reply": "2023-02-08T13:31:24.841813Z"
    },
    "papermill": {
     "duration": 0.035105,
     "end_time": "2023-02-08T13:31:24.846062",
     "exception": false,
     "start_time": "2023-02-08T13:31:24.810957",
     "status": "completed"
    },
    "tags": []
   },
   "outputs": [],
   "source": [
    "# This Python 3 environment comes with many helpful analytics libraries installed\n",
    "# It is defined by the kaggle/python Docker image: https://github.com/kaggle/docker-python\n",
    "# For example, here's several helpful packages to load\n",
    "\n",
    "import numpy as np # linear algebra\n",
    "import pandas as pd # data processing, CSV file I/O (e.g. pd.read_csv)\n",
    "\n",
    "# Input data files are available in the read-only \"../input/\" directory\n",
    "# For example, running this (by clicking run or pressing Shift+Enter) will list all files under the input directory\n",
    "\n",
    "import os\n",
    "for dirname, _, filenames in os.walk('/kaggle/input'):\n",
    "    for filename in filenames:\n",
    "        print(os.path.join(dirname, filename))\n",
    "\n",
    "# You can write up to 20GB to the current directory (/kaggle/working/) that gets preserved as output when you create a version using \"Save & Run All\" \n",
    "# You can also write temporary files to /kaggle/temp/, but they won't be saved outside of the current session"
   ]
  },
  {
   "cell_type": "markdown",
   "id": "fd5411d1",
   "metadata": {
    "papermill": {
     "duration": 0.011042,
     "end_time": "2023-02-08T13:31:24.868116",
     "exception": false,
     "start_time": "2023-02-08T13:31:24.857074",
     "status": "completed"
    },
    "tags": []
   },
   "source": [
    "The dataset used for this multi-class text classification is the cuisine dataset stored in a CSV file. Cuisine is a certain kind of cooking style or food from a certain region or country. A food that is considered to be \"Italian food\" is an example of Italian cuisine. There are many types of cuisines worldwide like Indian, Italian, French, Greek, etc.\n",
    "\n",
    "The dataset consists of various cuisine descriptions related to various cuisines. All the cuisine descriptions are labelled to a specific cuisine. So this is a supervised classification problem containing cuisine descriptions as feature or input and respective cuisine as target variable or output. \n",
    "\n",
    "The objective is to classify or predict the cuisine descriptions into predefined categories using suitable classification algorithms. \n",
    "\n",
    "**Step 1: Loading and Reading the data**\n",
    "\n",
    "The cuisine dataset is stored in a CSV file so load the file into the local directory using the Pandas library and after loading the dataset into the working directory visualize the first five rows of the dataset.\n",
    "\n",
    "The cuisine dataset contains 2 columns i.e cuisine_description  and cuisine."
   ]
  },
  {
   "cell_type": "code",
   "execution_count": 2,
   "id": "47317077",
   "metadata": {
    "execution": {
     "iopub.execute_input": "2023-02-08T13:31:24.892345Z",
     "iopub.status.busy": "2023-02-08T13:31:24.891681Z",
     "iopub.status.idle": "2023-02-08T13:31:25.378697Z",
     "shell.execute_reply": "2023-02-08T13:31:25.377276Z"
    },
    "papermill": {
     "duration": 0.503206,
     "end_time": "2023-02-08T13:31:25.382114",
     "exception": false,
     "start_time": "2023-02-08T13:31:24.878908",
     "status": "completed"
    },
    "tags": []
   },
   "outputs": [
    {
     "data": {
      "text/html": [
       "<div>\n",
       "<style scoped>\n",
       "    .dataframe tbody tr th:only-of-type {\n",
       "        vertical-align: middle;\n",
       "    }\n",
       "\n",
       "    .dataframe tbody tr th {\n",
       "        vertical-align: top;\n",
       "    }\n",
       "\n",
       "    .dataframe thead th {\n",
       "        text-align: right;\n",
       "    }\n",
       "</style>\n",
       "<table border=\"1\" class=\"dataframe\">\n",
       "  <thead>\n",
       "    <tr style=\"text-align: right;\">\n",
       "      <th></th>\n",
       "      <th>cuisine_description</th>\n",
       "      <th>cuisine</th>\n",
       "    </tr>\n",
       "  </thead>\n",
       "  <tbody>\n",
       "    <tr>\n",
       "      <th>0</th>\n",
       "      <td>romaine lettuce black olives grape tomatoes ga...</td>\n",
       "      <td>greek</td>\n",
       "    </tr>\n",
       "    <tr>\n",
       "      <th>1</th>\n",
       "      <td>plain flour ground pepper salt tomatoes ground...</td>\n",
       "      <td>southern_us</td>\n",
       "    </tr>\n",
       "    <tr>\n",
       "      <th>2</th>\n",
       "      <td>eggs pepper salt mayonaise cooking oil green c...</td>\n",
       "      <td>filipino</td>\n",
       "    </tr>\n",
       "    <tr>\n",
       "      <th>3</th>\n",
       "      <td>water vegetable oil wheat salt</td>\n",
       "      <td>indian</td>\n",
       "    </tr>\n",
       "    <tr>\n",
       "      <th>4</th>\n",
       "      <td>black pepper shallots cornflour cayenne pepper...</td>\n",
       "      <td>indian</td>\n",
       "    </tr>\n",
       "  </tbody>\n",
       "</table>\n",
       "</div>"
      ],
      "text/plain": [
       "                                 cuisine_description      cuisine\n",
       "0  romaine lettuce black olives grape tomatoes ga...        greek\n",
       "1  plain flour ground pepper salt tomatoes ground...  southern_us\n",
       "2  eggs pepper salt mayonaise cooking oil green c...     filipino\n",
       "3                     water vegetable oil wheat salt       indian\n",
       "4  black pepper shallots cornflour cayenne pepper...       indian"
      ]
     },
     "execution_count": 2,
     "metadata": {},
     "output_type": "execute_result"
    }
   ],
   "source": [
    "#Reading the dataset\n",
    "df=pd.read_csv(\"https://raw.githubusercontent.com/analyticsindiamagazine/MocksDatasets/main/cuisine_data.csv\")\n",
    "df.head()"
   ]
  },
  {
   "cell_type": "markdown",
   "id": "edfb666b",
   "metadata": {
    "papermill": {
     "duration": 0.010356,
     "end_time": "2023-02-08T13:31:25.408929",
     "exception": false,
     "start_time": "2023-02-08T13:31:25.398573",
     "status": "completed"
    },
    "tags": []
   },
   "source": [
    "**Step 2: Data preprocessing**\n",
    "\n",
    "After loading the cuisine dataset, visualize the shape of the dataset to understand the number of rows and columns present in the dataset. The given dataset consists of 39774 rows and 2 columns."
   ]
  },
  {
   "cell_type": "code",
   "execution_count": 3,
   "id": "9832f4c0",
   "metadata": {
    "execution": {
     "iopub.execute_input": "2023-02-08T13:31:25.432396Z",
     "iopub.status.busy": "2023-02-08T13:31:25.431942Z",
     "iopub.status.idle": "2023-02-08T13:31:25.438979Z",
     "shell.execute_reply": "2023-02-08T13:31:25.437830Z"
    },
    "papermill": {
     "duration": 0.022143,
     "end_time": "2023-02-08T13:31:25.441748",
     "exception": false,
     "start_time": "2023-02-08T13:31:25.419605",
     "status": "completed"
    },
    "tags": []
   },
   "outputs": [
    {
     "data": {
      "text/plain": [
       "(39774, 2)"
      ]
     },
     "execution_count": 3,
     "metadata": {},
     "output_type": "execute_result"
    }
   ],
   "source": [
    "df.shape"
   ]
  },
  {
   "cell_type": "markdown",
   "id": "ecb384b5",
   "metadata": {
    "papermill": {
     "duration": 0.010506,
     "end_time": "2023-02-08T13:31:25.463343",
     "exception": false,
     "start_time": "2023-02-08T13:31:25.452837",
     "status": "completed"
    },
    "tags": []
   },
   "source": [
    "Now identify the number of classes in the target variable present in the dataset in order to classify this as a binary-text classification problem or multi-class text classification problem and also identify the distribution of the data into different classes present in the dataset.\n",
    "\n",
    "The target variable of the given cuisine dataset consists of 20 different classes like 'greek', 'southern_us', 'filipino', 'indian' etc. So based on the target variable this is a multi-class text classification problem.\n",
    "\n",
    "The distribution of the dataset along different classes is visualized by using value_counts."
   ]
  },
  {
   "cell_type": "code",
   "execution_count": 4,
   "id": "c1c5e19b",
   "metadata": {
    "execution": {
     "iopub.execute_input": "2023-02-08T13:31:25.487372Z",
     "iopub.status.busy": "2023-02-08T13:31:25.486938Z",
     "iopub.status.idle": "2023-02-08T13:31:25.503419Z",
     "shell.execute_reply": "2023-02-08T13:31:25.502339Z"
    },
    "papermill": {
     "duration": 0.031526,
     "end_time": "2023-02-08T13:31:25.505975",
     "exception": false,
     "start_time": "2023-02-08T13:31:25.474449",
     "status": "completed"
    },
    "tags": []
   },
   "outputs": [
    {
     "data": {
      "text/plain": [
       "array(['greek', 'southern_us', 'filipino', 'indian', 'jamaican',\n",
       "       'spanish', 'italian', 'mexican', 'chinese', 'british', 'thai',\n",
       "       'vietnamese', 'cajun_creole', 'brazilian', 'french', 'japanese',\n",
       "       'irish', 'korean', 'moroccan', 'russian'], dtype=object)"
      ]
     },
     "execution_count": 4,
     "metadata": {},
     "output_type": "execute_result"
    }
   ],
   "source": [
    "#Multiple classes\n",
    "df[\"cuisine\"].unique()"
   ]
  },
  {
   "cell_type": "markdown",
   "id": "8051a7e5",
   "metadata": {
    "papermill": {
     "duration": 0.010789,
     "end_time": "2023-02-08T13:31:25.527773",
     "exception": false,
     "start_time": "2023-02-08T13:31:25.516984",
     "status": "completed"
    },
    "tags": []
   },
   "source": [
    "printing the count for each of these unqie cuisine values"
   ]
  },
  {
   "cell_type": "code",
   "execution_count": 5,
   "id": "98b1d7e1",
   "metadata": {
    "execution": {
     "iopub.execute_input": "2023-02-08T13:31:25.552295Z",
     "iopub.status.busy": "2023-02-08T13:31:25.551305Z",
     "iopub.status.idle": "2023-02-08T13:31:25.564517Z",
     "shell.execute_reply": "2023-02-08T13:31:25.563304Z"
    },
    "papermill": {
     "duration": 0.028051,
     "end_time": "2023-02-08T13:31:25.567029",
     "exception": false,
     "start_time": "2023-02-08T13:31:25.538978",
     "status": "completed"
    },
    "tags": []
   },
   "outputs": [
    {
     "data": {
      "text/plain": [
       "italian         7838\n",
       "mexican         6438\n",
       "southern_us     4320\n",
       "indian          3003\n",
       "chinese         2673\n",
       "french          2646\n",
       "cajun_creole    1546\n",
       "thai            1539\n",
       "japanese        1423\n",
       "greek           1175\n",
       "spanish          989\n",
       "korean           830\n",
       "vietnamese       825\n",
       "moroccan         821\n",
       "british          804\n",
       "filipino         755\n",
       "irish            667\n",
       "jamaican         526\n",
       "russian          489\n",
       "brazilian        467\n",
       "Name: cuisine, dtype: int64"
      ]
     },
     "execution_count": 5,
     "metadata": {},
     "output_type": "execute_result"
    }
   ],
   "source": [
    "#Printing value counts for each classes\n",
    "df[\"cuisine\"].value_counts()"
   ]
  },
  {
   "cell_type": "markdown",
   "id": "a740dc57",
   "metadata": {
    "papermill": {
     "duration": 0.011059,
     "end_time": "2023-02-08T13:31:25.589437",
     "exception": false,
     "start_time": "2023-02-08T13:31:25.578378",
     "status": "completed"
    },
    "tags": []
   },
   "source": [
    "After understanding the class and its distribution, check for null values and NaN values present in the dataset and treat them if any because these could potentially affect the accuracy of the model."
   ]
  },
  {
   "cell_type": "code",
   "execution_count": 6,
   "id": "b163f98c",
   "metadata": {
    "execution": {
     "iopub.execute_input": "2023-02-08T13:31:25.614341Z",
     "iopub.status.busy": "2023-02-08T13:31:25.613865Z",
     "iopub.status.idle": "2023-02-08T13:31:25.628992Z",
     "shell.execute_reply": "2023-02-08T13:31:25.627929Z"
    },
    "papermill": {
     "duration": 0.030244,
     "end_time": "2023-02-08T13:31:25.631250",
     "exception": false,
     "start_time": "2023-02-08T13:31:25.601006",
     "status": "completed"
    },
    "tags": []
   },
   "outputs": [
    {
     "data": {
      "text/plain": [
       "cuisine_description    0\n",
       "cuisine                0\n",
       "dtype: int64"
      ]
     },
     "execution_count": 6,
     "metadata": {},
     "output_type": "execute_result"
    }
   ],
   "source": [
    "#Checking for NA values\n",
    "df.isna().sum()"
   ]
  },
  {
   "cell_type": "code",
   "execution_count": 7,
   "id": "39c1aa7e",
   "metadata": {
    "execution": {
     "iopub.execute_input": "2023-02-08T13:31:25.656489Z",
     "iopub.status.busy": "2023-02-08T13:31:25.656032Z",
     "iopub.status.idle": "2023-02-08T13:31:25.671049Z",
     "shell.execute_reply": "2023-02-08T13:31:25.670153Z"
    },
    "papermill": {
     "duration": 0.030561,
     "end_time": "2023-02-08T13:31:25.673335",
     "exception": false,
     "start_time": "2023-02-08T13:31:25.642774",
     "status": "completed"
    },
    "tags": []
   },
   "outputs": [
    {
     "data": {
      "text/plain": [
       "cuisine_description    0\n",
       "cuisine                0\n",
       "dtype: int64"
      ]
     },
     "execution_count": 7,
     "metadata": {},
     "output_type": "execute_result"
    }
   ],
   "source": [
    "# Checking for NULL values\n",
    "df.isnull().sum()"
   ]
  },
  {
   "cell_type": "markdown",
   "id": "9c83d366",
   "metadata": {
    "papermill": {
     "duration": 0.0111,
     "end_time": "2023-02-08T13:31:25.695904",
     "exception": false,
     "start_time": "2023-02-08T13:31:25.684804",
     "status": "completed"
    },
    "tags": []
   },
   "source": [
    "Based on the visualization the cuisine dataset does not contain any null values and NaN values which could potentially make the model impure. \n",
    "\n",
    "After visualizing the number of null and NaN values present in the dataset, now check for the number of duplicate values present in the dataset which could also potentially make the data impure and reduce the accuracy."
   ]
  },
  {
   "cell_type": "code",
   "execution_count": 8,
   "id": "3735f051",
   "metadata": {
    "execution": {
     "iopub.execute_input": "2023-02-08T13:31:25.720891Z",
     "iopub.status.busy": "2023-02-08T13:31:25.720448Z",
     "iopub.status.idle": "2023-02-08T13:31:25.763082Z",
     "shell.execute_reply": "2023-02-08T13:31:25.761179Z"
    },
    "papermill": {
     "duration": 0.058795,
     "end_time": "2023-02-08T13:31:25.766132",
     "exception": false,
     "start_time": "2023-02-08T13:31:25.707337",
     "status": "completed"
    },
    "tags": []
   },
   "outputs": [
    {
     "name": "stdout",
     "output_type": "stream",
     "text": [
      "Total Number of duplicated: 97\n",
      "Shape of Data: (39774, 2)\n"
     ]
    }
   ],
   "source": [
    "#Checking for duplicate values\n",
    "print(\"Total Number of duplicated:\",df.duplicated().sum())\n",
    "print(\"Shape of Data:\",df.shape)"
   ]
  },
  {
   "cell_type": "markdown",
   "id": "e9c200e0",
   "metadata": {
    "papermill": {
     "duration": 0.011937,
     "end_time": "2023-02-08T13:31:25.789779",
     "exception": false,
     "start_time": "2023-02-08T13:31:25.777842",
     "status": "completed"
    },
    "tags": []
   },
   "source": [
    "From the observation, the dataset consists of 97 duplicated values. So all the duplicate values should be treated i.e all the 97 duplicated values should be dropped from the dataset to make the data clean."
   ]
  },
  {
   "cell_type": "code",
   "execution_count": 9,
   "id": "6b5e283a",
   "metadata": {
    "execution": {
     "iopub.execute_input": "2023-02-08T13:31:25.815409Z",
     "iopub.status.busy": "2023-02-08T13:31:25.814877Z",
     "iopub.status.idle": "2023-02-08T13:31:25.892317Z",
     "shell.execute_reply": "2023-02-08T13:31:25.891040Z"
    },
    "papermill": {
     "duration": 0.094054,
     "end_time": "2023-02-08T13:31:25.895448",
     "exception": false,
     "start_time": "2023-02-08T13:31:25.801394",
     "status": "completed"
    },
    "tags": []
   },
   "outputs": [
    {
     "name": "stdout",
     "output_type": "stream",
     "text": [
      "Total Number of duplicated: 0\n",
      "Shape of Data: (39677, 2)\n"
     ]
    }
   ],
   "source": [
    "#Removing duplicate values\n",
    "df.drop_duplicates(inplace = True)\n",
    "print(\"Total Number of duplicated:\",df.duplicated().sum())\n",
    "print(\"Shape of Data:\",df.shape)"
   ]
  },
  {
   "cell_type": "markdown",
   "id": "b2f95917",
   "metadata": {
    "papermill": {
     "duration": 0.012107,
     "end_time": "2023-02-08T13:31:25.920127",
     "exception": false,
     "start_time": "2023-02-08T13:31:25.908020",
     "status": "completed"
    },
    "tags": []
   },
   "source": [
    "All the duplicate values present in the dataset are dropped and the shape of the data has changed from (39774,2) to (39677,2) which clearly indicates that all the 97 duplicated values are removed from the dataset.\n",
    "\n",
    "After treating the null and NaN values followed by removing duplicate values the data is clean and ready to be analyzed and solve business problems. But before using the text data for analysis or prediction, processing of the data is required.\n",
    "\n",
    "The text data cannot be directly used for the model building, so we perform text preprocessing and vectorization. The text preprocessing consists of a few steps :\n",
    "\n",
    "**1.Removing punctuations\n",
    "2.Lower casing\n",
    "3.Removing stopwords**\n",
    "We will use the following steps of text preprocessing for the cuisine dataset to preprocess the text data."
   ]
  },
  {
   "cell_type": "code",
   "execution_count": 10,
   "id": "a34b42fc",
   "metadata": {
    "execution": {
     "iopub.execute_input": "2023-02-08T13:31:25.945955Z",
     "iopub.status.busy": "2023-02-08T13:31:25.945207Z",
     "iopub.status.idle": "2023-02-08T13:31:25.958599Z",
     "shell.execute_reply": "2023-02-08T13:31:25.957313Z"
    },
    "papermill": {
     "duration": 0.029183,
     "end_time": "2023-02-08T13:31:25.961102",
     "exception": false,
     "start_time": "2023-02-08T13:31:25.931919",
     "status": "completed"
    },
    "tags": []
   },
   "outputs": [],
   "source": [
    "def preprocessing(x):\n",
    " x=re.sub('[^a-zA-Z ]', ' ', x) #Removing non-alphabetic character\n",
    " x=x.lower() #Converting the text to lower case\n",
    " x=x.split() #Splitting the text reviews into list\n",
    " x=[word for word in x if word not in set(stopwords.words('english'))] #Removing Stopwords \n",
    " x=\" \".join(x) #Converting list to string\n",
    " return x"
   ]
  },
  {
   "cell_type": "markdown",
   "id": "eef3f0f6",
   "metadata": {
    "papermill": {
     "duration": 0.011358,
     "end_time": "2023-02-08T13:31:25.984191",
     "exception": false,
     "start_time": "2023-02-08T13:31:25.972833",
     "status": "completed"
    },
    "tags": []
   },
   "source": [
    "importing some needed libraries"
   ]
  },
  {
   "cell_type": "code",
   "execution_count": 11,
   "id": "c2db9c2d",
   "metadata": {
    "execution": {
     "iopub.execute_input": "2023-02-08T13:31:26.009610Z",
     "iopub.status.busy": "2023-02-08T13:31:26.009132Z",
     "iopub.status.idle": "2023-02-08T13:31:28.341724Z",
     "shell.execute_reply": "2023-02-08T13:31:28.340412Z"
    },
    "papermill": {
     "duration": 2.349042,
     "end_time": "2023-02-08T13:31:28.344922",
     "exception": false,
     "start_time": "2023-02-08T13:31:25.995880",
     "status": "completed"
    },
    "tags": []
   },
   "outputs": [
    {
     "name": "stderr",
     "output_type": "stream",
     "text": [
      "[nltk_data] Downloading package stopwords to /usr/share/nltk_data...\n",
      "[nltk_data]   Package stopwords is already up-to-date!\n"
     ]
    }
   ],
   "source": [
    "import pandas as pd\n",
    "import numpy as np\n",
    "import seaborn as sns\n",
    "import matplotlib.pyplot as plt\n",
    "\n",
    "\n",
    "from sklearn.feature_extraction.text import TfidfVectorizer\n",
    "from sklearn.metrics import accuracy_score\n",
    "from sklearn.metrics import classification_report,accuracy_score,confusion_matrix\n",
    "from sklearn.metrics import plot_confusion_matrix\n",
    "\n",
    "import re \n",
    "import nltk\n",
    "nltk.download(\"stopwords\")\n",
    "from nltk.corpus import stopwords\n",
    "\n",
    "from sklearn.model_selection import train_test_split\n",
    "\n",
    "from sklearn.ensemble import RandomForestClassifier"
   ]
  },
  {
   "cell_type": "markdown",
   "id": "09276ff4",
   "metadata": {
    "papermill": {
     "duration": 0.011556,
     "end_time": "2023-02-08T13:31:28.368606",
     "exception": false,
     "start_time": "2023-02-08T13:31:28.357050",
     "status": "completed"
    },
    "tags": []
   },
   "source": []
  },
  {
   "cell_type": "markdown",
   "id": "abe3335d",
   "metadata": {
    "papermill": {
     "duration": 0.011981,
     "end_time": "2023-02-08T13:31:28.392337",
     "exception": false,
     "start_time": "2023-02-08T13:31:28.380356",
     "status": "completed"
    },
    "tags": []
   },
   "source": [
    "Using apply operation we are preprocessing each and every row of the input variable of the cuisine dataset and visualizing the first five rows of the preprocessed data."
   ]
  },
  {
   "cell_type": "code",
   "execution_count": 12,
   "id": "457c0d1c",
   "metadata": {
    "execution": {
     "iopub.execute_input": "2023-02-08T13:31:28.418358Z",
     "iopub.status.busy": "2023-02-08T13:31:28.417892Z",
     "iopub.status.idle": "2023-02-08T13:33:26.437017Z",
     "shell.execute_reply": "2023-02-08T13:33:26.435687Z"
    },
    "papermill": {
     "duration": 118.046241,
     "end_time": "2023-02-08T13:33:26.450245",
     "exception": false,
     "start_time": "2023-02-08T13:31:28.404004",
     "status": "completed"
    },
    "tags": []
   },
   "outputs": [
    {
     "data": {
      "text/html": [
       "<div>\n",
       "<style scoped>\n",
       "    .dataframe tbody tr th:only-of-type {\n",
       "        vertical-align: middle;\n",
       "    }\n",
       "\n",
       "    .dataframe tbody tr th {\n",
       "        vertical-align: top;\n",
       "    }\n",
       "\n",
       "    .dataframe thead th {\n",
       "        text-align: right;\n",
       "    }\n",
       "</style>\n",
       "<table border=\"1\" class=\"dataframe\">\n",
       "  <thead>\n",
       "    <tr style=\"text-align: right;\">\n",
       "      <th></th>\n",
       "      <th>cuisine_description</th>\n",
       "      <th>cuisine</th>\n",
       "    </tr>\n",
       "  </thead>\n",
       "  <tbody>\n",
       "    <tr>\n",
       "      <th>0</th>\n",
       "      <td>romaine lettuce black olives grape tomatoes ga...</td>\n",
       "      <td>greek</td>\n",
       "    </tr>\n",
       "    <tr>\n",
       "      <th>1</th>\n",
       "      <td>plain flour ground pepper salt tomatoes ground...</td>\n",
       "      <td>southern_us</td>\n",
       "    </tr>\n",
       "    <tr>\n",
       "      <th>2</th>\n",
       "      <td>eggs pepper salt mayonaise cooking oil green c...</td>\n",
       "      <td>filipino</td>\n",
       "    </tr>\n",
       "    <tr>\n",
       "      <th>3</th>\n",
       "      <td>water vegetable oil wheat salt</td>\n",
       "      <td>indian</td>\n",
       "    </tr>\n",
       "    <tr>\n",
       "      <th>4</th>\n",
       "      <td>black pepper shallots cornflour cayenne pepper...</td>\n",
       "      <td>indian</td>\n",
       "    </tr>\n",
       "  </tbody>\n",
       "</table>\n",
       "</div>"
      ],
      "text/plain": [
       "                                 cuisine_description      cuisine\n",
       "0  romaine lettuce black olives grape tomatoes ga...        greek\n",
       "1  plain flour ground pepper salt tomatoes ground...  southern_us\n",
       "2  eggs pepper salt mayonaise cooking oil green c...     filipino\n",
       "3                     water vegetable oil wheat salt       indian\n",
       "4  black pepper shallots cornflour cayenne pepper...       indian"
      ]
     },
     "execution_count": 12,
     "metadata": {},
     "output_type": "execute_result"
    }
   ],
   "source": [
    "import re\n",
    "#Applying preprocessing to each rows\n",
    "df[\"cuisine_description\"] = df[\"cuisine_description\"].apply(preprocessing)\n",
    "#Preprocessed Data\n",
    "df.head()"
   ]
  },
  {
   "cell_type": "markdown",
   "id": "ec074d9a",
   "metadata": {
    "papermill": {
     "duration": 0.011473,
     "end_time": "2023-02-08T13:33:26.473527",
     "exception": false,
     "start_time": "2023-02-08T13:33:26.462054",
     "status": "completed"
    },
    "tags": []
   },
   "source": [
    "Now all the text data present in the input variable of the cuisine dataset is preprocessed. So with text preprocessing, we perform vectorization before feeding the data to the classification algorithm.\n",
    "\n",
    "**Step 3: Vectorization using TF IDF**\n",
    "\n",
    "The text data after preprocessing needs to be vectorized before feeding it to the classification algorithm. In vectorization, we convert the textual form of the data to numeric or vectors using various vectorizers like countvectorizer, TF-IDF, Word2Vec, etc. In this vectorization process for the cuisine dataset, we use TF-IDF (Term Frequency-Inverse Document Frequency) to convert the text data to vectors and determine the importance of each word in the set of words. So we are vectorizing and defining the input feature of the dataset."
   ]
  },
  {
   "cell_type": "code",
   "execution_count": 13,
   "id": "4a4062f3",
   "metadata": {
    "execution": {
     "iopub.execute_input": "2023-02-08T13:33:26.500289Z",
     "iopub.status.busy": "2023-02-08T13:33:26.499272Z",
     "iopub.status.idle": "2023-02-08T13:33:28.905033Z",
     "shell.execute_reply": "2023-02-08T13:33:28.903330Z"
    },
    "papermill": {
     "duration": 2.422348,
     "end_time": "2023-02-08T13:33:28.908269",
     "exception": false,
     "start_time": "2023-02-08T13:33:26.485921",
     "status": "completed"
    },
    "tags": []
   },
   "outputs": [
    {
     "name": "stderr",
     "output_type": "stream",
     "text": [
      "/opt/conda/lib/python3.7/site-packages/sklearn/utils/deprecation.py:87: FutureWarning: Function get_feature_names is deprecated; get_feature_names is deprecated in 1.0 and will be removed in 1.2. Please use get_feature_names_out instead.\n",
      "  warnings.warn(msg, category=FutureWarning)\n"
     ]
    }
   ],
   "source": [
    "tv = TfidfVectorizer()\n",
    "X = tv.fit_transform(df[\"cuisine_description\"].values)\n",
    "X = pd.DataFrame(X.todense(),columns=tv.get_feature_names())"
   ]
  },
  {
   "cell_type": "markdown",
   "id": "a8a5e6bd",
   "metadata": {
    "papermill": {
     "duration": 0.011653,
     "end_time": "2023-02-08T13:33:28.933245",
     "exception": false,
     "start_time": "2023-02-08T13:33:28.921592",
     "status": "completed"
    },
    "tags": []
   },
   "source": [
    "first 5 rows ftw"
   ]
  },
  {
   "cell_type": "code",
   "execution_count": 14,
   "id": "119232fb",
   "metadata": {
    "execution": {
     "iopub.execute_input": "2023-02-08T13:33:28.959665Z",
     "iopub.status.busy": "2023-02-08T13:33:28.959196Z",
     "iopub.status.idle": "2023-02-08T13:33:28.994378Z",
     "shell.execute_reply": "2023-02-08T13:33:28.993076Z"
    },
    "papermill": {
     "duration": 0.051419,
     "end_time": "2023-02-08T13:33:28.996853",
     "exception": false,
     "start_time": "2023-02-08T13:33:28.945434",
     "status": "completed"
    },
    "tags": []
   },
   "outputs": [
    {
     "data": {
      "text/html": [
       "<div>\n",
       "<style scoped>\n",
       "    .dataframe tbody tr th:only-of-type {\n",
       "        vertical-align: middle;\n",
       "    }\n",
       "\n",
       "    .dataframe tbody tr th {\n",
       "        vertical-align: top;\n",
       "    }\n",
       "\n",
       "    .dataframe thead th {\n",
       "        text-align: right;\n",
       "    }\n",
       "</style>\n",
       "<table border=\"1\" class=\"dataframe\">\n",
       "  <thead>\n",
       "    <tr style=\"text-align: right;\">\n",
       "      <th></th>\n",
       "      <th>abalone</th>\n",
       "      <th>abbamele</th>\n",
       "      <th>absinthe</th>\n",
       "      <th>abura</th>\n",
       "      <th>acai</th>\n",
       "      <th>accent</th>\n",
       "      <th>accompaniment</th>\n",
       "      <th>achiote</th>\n",
       "      <th>acid</th>\n",
       "      <th>acini</th>\n",
       "      <th>...</th>\n",
       "      <th>yuzukosho</th>\n",
       "      <th>za</th>\n",
       "      <th>zatarain</th>\n",
       "      <th>zatarains</th>\n",
       "      <th>zero</th>\n",
       "      <th>zest</th>\n",
       "      <th>zesty</th>\n",
       "      <th>zinfandel</th>\n",
       "      <th>ziti</th>\n",
       "      <th>zucchini</th>\n",
       "    </tr>\n",
       "  </thead>\n",
       "  <tbody>\n",
       "    <tr>\n",
       "      <th>0</th>\n",
       "      <td>0.0</td>\n",
       "      <td>0.0</td>\n",
       "      <td>0.0</td>\n",
       "      <td>0.0</td>\n",
       "      <td>0.0</td>\n",
       "      <td>0.0</td>\n",
       "      <td>0.0</td>\n",
       "      <td>0.0</td>\n",
       "      <td>0.0</td>\n",
       "      <td>0.0</td>\n",
       "      <td>...</td>\n",
       "      <td>0.0</td>\n",
       "      <td>0.0</td>\n",
       "      <td>0.0</td>\n",
       "      <td>0.0</td>\n",
       "      <td>0.0</td>\n",
       "      <td>0.0</td>\n",
       "      <td>0.0</td>\n",
       "      <td>0.0</td>\n",
       "      <td>0.0</td>\n",
       "      <td>0.0</td>\n",
       "    </tr>\n",
       "    <tr>\n",
       "      <th>1</th>\n",
       "      <td>0.0</td>\n",
       "      <td>0.0</td>\n",
       "      <td>0.0</td>\n",
       "      <td>0.0</td>\n",
       "      <td>0.0</td>\n",
       "      <td>0.0</td>\n",
       "      <td>0.0</td>\n",
       "      <td>0.0</td>\n",
       "      <td>0.0</td>\n",
       "      <td>0.0</td>\n",
       "      <td>...</td>\n",
       "      <td>0.0</td>\n",
       "      <td>0.0</td>\n",
       "      <td>0.0</td>\n",
       "      <td>0.0</td>\n",
       "      <td>0.0</td>\n",
       "      <td>0.0</td>\n",
       "      <td>0.0</td>\n",
       "      <td>0.0</td>\n",
       "      <td>0.0</td>\n",
       "      <td>0.0</td>\n",
       "    </tr>\n",
       "    <tr>\n",
       "      <th>2</th>\n",
       "      <td>0.0</td>\n",
       "      <td>0.0</td>\n",
       "      <td>0.0</td>\n",
       "      <td>0.0</td>\n",
       "      <td>0.0</td>\n",
       "      <td>0.0</td>\n",
       "      <td>0.0</td>\n",
       "      <td>0.0</td>\n",
       "      <td>0.0</td>\n",
       "      <td>0.0</td>\n",
       "      <td>...</td>\n",
       "      <td>0.0</td>\n",
       "      <td>0.0</td>\n",
       "      <td>0.0</td>\n",
       "      <td>0.0</td>\n",
       "      <td>0.0</td>\n",
       "      <td>0.0</td>\n",
       "      <td>0.0</td>\n",
       "      <td>0.0</td>\n",
       "      <td>0.0</td>\n",
       "      <td>0.0</td>\n",
       "    </tr>\n",
       "    <tr>\n",
       "      <th>3</th>\n",
       "      <td>0.0</td>\n",
       "      <td>0.0</td>\n",
       "      <td>0.0</td>\n",
       "      <td>0.0</td>\n",
       "      <td>0.0</td>\n",
       "      <td>0.0</td>\n",
       "      <td>0.0</td>\n",
       "      <td>0.0</td>\n",
       "      <td>0.0</td>\n",
       "      <td>0.0</td>\n",
       "      <td>...</td>\n",
       "      <td>0.0</td>\n",
       "      <td>0.0</td>\n",
       "      <td>0.0</td>\n",
       "      <td>0.0</td>\n",
       "      <td>0.0</td>\n",
       "      <td>0.0</td>\n",
       "      <td>0.0</td>\n",
       "      <td>0.0</td>\n",
       "      <td>0.0</td>\n",
       "      <td>0.0</td>\n",
       "    </tr>\n",
       "    <tr>\n",
       "      <th>4</th>\n",
       "      <td>0.0</td>\n",
       "      <td>0.0</td>\n",
       "      <td>0.0</td>\n",
       "      <td>0.0</td>\n",
       "      <td>0.0</td>\n",
       "      <td>0.0</td>\n",
       "      <td>0.0</td>\n",
       "      <td>0.0</td>\n",
       "      <td>0.0</td>\n",
       "      <td>0.0</td>\n",
       "      <td>...</td>\n",
       "      <td>0.0</td>\n",
       "      <td>0.0</td>\n",
       "      <td>0.0</td>\n",
       "      <td>0.0</td>\n",
       "      <td>0.0</td>\n",
       "      <td>0.0</td>\n",
       "      <td>0.0</td>\n",
       "      <td>0.0</td>\n",
       "      <td>0.0</td>\n",
       "      <td>0.0</td>\n",
       "    </tr>\n",
       "  </tbody>\n",
       "</table>\n",
       "<p>5 rows × 2978 columns</p>\n",
       "</div>"
      ],
      "text/plain": [
       "   abalone  abbamele  absinthe  abura  acai  accent  accompaniment  achiote  \\\n",
       "0      0.0       0.0       0.0    0.0   0.0     0.0            0.0      0.0   \n",
       "1      0.0       0.0       0.0    0.0   0.0     0.0            0.0      0.0   \n",
       "2      0.0       0.0       0.0    0.0   0.0     0.0            0.0      0.0   \n",
       "3      0.0       0.0       0.0    0.0   0.0     0.0            0.0      0.0   \n",
       "4      0.0       0.0       0.0    0.0   0.0     0.0            0.0      0.0   \n",
       "\n",
       "   acid  acini  ...  yuzukosho   za  zatarain  zatarains  zero  zest  zesty  \\\n",
       "0   0.0    0.0  ...        0.0  0.0       0.0        0.0   0.0   0.0    0.0   \n",
       "1   0.0    0.0  ...        0.0  0.0       0.0        0.0   0.0   0.0    0.0   \n",
       "2   0.0    0.0  ...        0.0  0.0       0.0        0.0   0.0   0.0    0.0   \n",
       "3   0.0    0.0  ...        0.0  0.0       0.0        0.0   0.0   0.0    0.0   \n",
       "4   0.0    0.0  ...        0.0  0.0       0.0        0.0   0.0   0.0    0.0   \n",
       "\n",
       "   zinfandel  ziti  zucchini  \n",
       "0        0.0   0.0       0.0  \n",
       "1        0.0   0.0       0.0  \n",
       "2        0.0   0.0       0.0  \n",
       "3        0.0   0.0       0.0  \n",
       "4        0.0   0.0       0.0  \n",
       "\n",
       "[5 rows x 2978 columns]"
      ]
     },
     "execution_count": 14,
     "metadata": {},
     "output_type": "execute_result"
    }
   ],
   "source": [
    "X.head()"
   ]
  },
  {
   "cell_type": "markdown",
   "id": "8483c1fe",
   "metadata": {
    "papermill": {
     "duration": 0.012138,
     "end_time": "2023-02-08T13:33:29.021578",
     "exception": false,
     "start_time": "2023-02-08T13:33:29.009440",
     "status": "completed"
    },
    "tags": []
   },
   "source": [
    "Now observe the number of columns in the input feature. A single feature is converted into 2978 input features containing all the unique words with their respective importance or weightage for each text and all the textual form of the data is converted into vectors. \n",
    "\n",
    "Now the vectorized dataset is all set to be fed into the classification algorithm to make respective predictions. \n",
    "\n",
    "**Step 4: Train test split**\n",
    "\n",
    "First, we will define the input and output features from the dataset in order to split the data into train and test datasets. The vectorized textual data(X) is considered to be the input feature and the other column i.e cuisine column in the input dataset is considered to be the output feature(Y)."
   ]
  },
  {
   "cell_type": "code",
   "execution_count": 15,
   "id": "ea7bba7a",
   "metadata": {
    "execution": {
     "iopub.execute_input": "2023-02-08T13:33:29.048519Z",
     "iopub.status.busy": "2023-02-08T13:33:29.048063Z",
     "iopub.status.idle": "2023-02-08T13:33:29.054196Z",
     "shell.execute_reply": "2023-02-08T13:33:29.052812Z"
    },
    "papermill": {
     "duration": 0.022926,
     "end_time": "2023-02-08T13:33:29.056963",
     "exception": false,
     "start_time": "2023-02-08T13:33:29.034037",
     "status": "completed"
    },
    "tags": []
   },
   "outputs": [],
   "source": [
    "#Target Variable\n",
    "y = df.cuisine"
   ]
  },
  {
   "cell_type": "markdown",
   "id": "c727e1b6",
   "metadata": {
    "papermill": {
     "duration": 0.012605,
     "end_time": "2023-02-08T13:33:29.082173",
     "exception": false,
     "start_time": "2023-02-08T13:33:29.069568",
     "status": "completed"
    },
    "tags": []
   },
   "source": [
    "Now we will split the X, and Y features into train and test datasets using scikit learn’s train_test_split method. The dataset is split into training and testing datasets separately as X_train, y_train, X_test, and y_test. We will 30% of the data for testing the data and the remaining 70% of the data for training the model. "
   ]
  },
  {
   "cell_type": "code",
   "execution_count": 16,
   "id": "b5efbe2c",
   "metadata": {
    "execution": {
     "iopub.execute_input": "2023-02-08T13:33:29.109842Z",
     "iopub.status.busy": "2023-02-08T13:33:29.109132Z",
     "iopub.status.idle": "2023-02-08T13:33:29.756801Z",
     "shell.execute_reply": "2023-02-08T13:33:29.755154Z"
    },
    "papermill": {
     "duration": 0.665229,
     "end_time": "2023-02-08T13:33:29.760079",
     "exception": false,
     "start_time": "2023-02-08T13:33:29.094850",
     "status": "completed"
    },
    "tags": []
   },
   "outputs": [],
   "source": [
    "#Creating training and test sets\n",
    "X_train,X_test,y_train,y_test = train_test_split(X,y,test_size=0.30,random_state=99)"
   ]
  },
  {
   "cell_type": "markdown",
   "id": "e77216e7",
   "metadata": {
    "papermill": {
     "duration": 0.012111,
     "end_time": "2023-02-08T13:33:29.784846",
     "exception": false,
     "start_time": "2023-02-08T13:33:29.772735",
     "status": "completed"
    },
    "tags": []
   },
   "source": [
    "The shape of the training and testing datasets are printed to get inference about the data distribution. After the observation, the training dataset is distributed with 27773 rows and the test dataset is distributed with 11904 rows based on the test_size provided during the splitting."
   ]
  },
  {
   "cell_type": "code",
   "execution_count": 17,
   "id": "57b61c90",
   "metadata": {
    "execution": {
     "iopub.execute_input": "2023-02-08T13:33:29.811819Z",
     "iopub.status.busy": "2023-02-08T13:33:29.811334Z",
     "iopub.status.idle": "2023-02-08T13:33:29.816851Z",
     "shell.execute_reply": "2023-02-08T13:33:29.816012Z"
    },
    "papermill": {
     "duration": 0.022223,
     "end_time": "2023-02-08T13:33:29.819391",
     "exception": false,
     "start_time": "2023-02-08T13:33:29.797168",
     "status": "completed"
    },
    "tags": []
   },
   "outputs": [
    {
     "name": "stdout",
     "output_type": "stream",
     "text": [
      "(27773, 2978)\n",
      "(27773,)\n",
      "(11904, 2978)\n",
      "(11904,)\n"
     ]
    }
   ],
   "source": [
    "#Shape of train-test sets\n",
    "print(X_train.shape)\n",
    "print(y_train.shape)\n",
    "print(X_test.shape)\n",
    "print(y_test.shape)"
   ]
  },
  {
   "cell_type": "markdown",
   "id": "230b45a9",
   "metadata": {
    "papermill": {
     "duration": 0.011888,
     "end_time": "2023-02-08T13:33:29.843695",
     "exception": false,
     "start_time": "2023-02-08T13:33:29.831807",
     "status": "completed"
    },
    "tags": []
   },
   "source": [
    "Step 5: Building a Text-classification model\n",
    "\n",
    "Now we’re going to build the best classification model which can achieve good performance in high-dimensional data because the dimension of the data is very high i.e (27773, 2978) for X_train data and (11904,2978) for X_test data.\n",
    "\n",
    "Based on the various classification algorithms, Tree-based methods can potentially adapt to handle high-dimensional data with good accuracy. So in order to tackle the problem of high-dimensionality of the data we are introducing one of the ensemble models of the decision tree i.e Random Forest Classifier. Random Forest is one of the best-supervised machine learning methods which can achieve good performance in high-dimensional data.\n",
    "Classification\n",
    "We are importing xgboost from sklearn and initializing the xgboost\n",
    "model.  "
   ]
  },
  {
   "cell_type": "code",
   "execution_count": 18,
   "id": "22a434c0",
   "metadata": {
    "execution": {
     "iopub.execute_input": "2023-02-08T13:33:29.870829Z",
     "iopub.status.busy": "2023-02-08T13:33:29.870001Z",
     "iopub.status.idle": "2023-02-08T13:33:29.988360Z",
     "shell.execute_reply": "2023-02-08T13:33:29.986827Z"
    },
    "papermill": {
     "duration": 0.13514,
     "end_time": "2023-02-08T13:33:29.991596",
     "exception": false,
     "start_time": "2023-02-08T13:33:29.856456",
     "status": "completed"
    },
    "tags": []
   },
   "outputs": [],
   "source": [
    "from xgboost import XGBClassifier\n",
    "from sklearn.ensemble import RandomForestClassifier"
   ]
  },
  {
   "cell_type": "code",
   "execution_count": 19,
   "id": "bf35d81e",
   "metadata": {
    "execution": {
     "iopub.execute_input": "2023-02-08T13:33:30.018754Z",
     "iopub.status.busy": "2023-02-08T13:33:30.018010Z",
     "iopub.status.idle": "2023-02-08T13:34:22.909863Z",
     "shell.execute_reply": "2023-02-08T13:34:22.908310Z"
    },
    "papermill": {
     "duration": 52.909252,
     "end_time": "2023-02-08T13:34:22.913360",
     "exception": false,
     "start_time": "2023-02-08T13:33:30.004108",
     "status": "completed"
    },
    "tags": []
   },
   "outputs": [],
   "source": [
    "#Defining the random forest classification model\n",
    "model =RandomForestClassifier()\n",
    "#Training the model\n",
    "model = model.fit(X_train,y_train)"
   ]
  },
  {
   "cell_type": "markdown",
   "id": "935e1dc3",
   "metadata": {
    "papermill": {
     "duration": 0.012153,
     "end_time": "2023-02-08T13:34:22.938282",
     "exception": false,
     "start_time": "2023-02-08T13:34:22.926129",
     "status": "completed"
    },
    "tags": []
   },
   "source": [
    "making predictions"
   ]
  },
  {
   "cell_type": "code",
   "execution_count": 20,
   "id": "9cc52d2f",
   "metadata": {
    "execution": {
     "iopub.execute_input": "2023-02-08T13:34:22.965076Z",
     "iopub.status.busy": "2023-02-08T13:34:22.964607Z",
     "iopub.status.idle": "2023-02-08T13:34:24.463028Z",
     "shell.execute_reply": "2023-02-08T13:34:24.461933Z"
    },
    "papermill": {
     "duration": 1.51536,
     "end_time": "2023-02-08T13:34:24.466100",
     "exception": false,
     "start_time": "2023-02-08T13:34:22.950740",
     "status": "completed"
    },
    "tags": []
   },
   "outputs": [],
   "source": [
    "#Prediction of the text data\n",
    "y_pred = model.predict(X_test)"
   ]
  },
  {
   "cell_type": "markdown",
   "id": "0a5e9879",
   "metadata": {
    "papermill": {
     "duration": 0.012286,
     "end_time": "2023-02-08T13:34:24.490795",
     "exception": false,
     "start_time": "2023-02-08T13:34:24.478509",
     "status": "completed"
    },
    "tags": []
   },
   "source": [
    "The results of the predictions of the test data are saved as y_pred. Now with the help of the prediction values and actual values, we will evaluate the performance of the model using various evaluation methods.\n",
    "\n",
    "**Step 6: Model Evaluation and obtaining prediction** \n",
    "\n",
    "Now we will evaluate the accuracy of the model using various evaluation metrics. \n",
    "\n",
    "First, we will obtain the accuracy score between the actual value (y_test) and the predicted value (y_pred). "
   ]
  },
  {
   "cell_type": "code",
   "execution_count": 21,
   "id": "a6f93bd1",
   "metadata": {
    "execution": {
     "iopub.execute_input": "2023-02-08T13:34:24.518357Z",
     "iopub.status.busy": "2023-02-08T13:34:24.517943Z",
     "iopub.status.idle": "2023-02-08T13:34:24.536319Z",
     "shell.execute_reply": "2023-02-08T13:34:24.535246Z"
    },
    "papermill": {
     "duration": 0.035319,
     "end_time": "2023-02-08T13:34:24.539048",
     "exception": false,
     "start_time": "2023-02-08T13:34:24.503729",
     "status": "completed"
    },
    "tags": []
   },
   "outputs": [
    {
     "name": "stdout",
     "output_type": "stream",
     "text": [
      "Accuracy Score: 0.7452116935483871\n"
     ]
    }
   ],
   "source": [
    "#Computing Accuracy Score\n",
    "print(\"Accuracy Score:\",accuracy_score(y_pred,y_test))"
   ]
  },
  {
   "cell_type": "markdown",
   "id": "584c7230",
   "metadata": {
    "papermill": {
     "duration": 0.012237,
     "end_time": "2023-02-08T13:34:24.563600",
     "exception": false,
     "start_time": "2023-02-08T13:34:24.551363",
     "status": "completed"
    },
    "tags": []
   },
   "source": [
    "Based on the accuracy score obtained, the random forest classification model performs prediction with an accuracy of 74.655%. \n",
    "\n",
    "The second evaluation metric which we are using is the Classification Report. The classification report is used to analyze the precision, recall, F1 Score, and support of the trained classification model."
   ]
  },
  {
   "cell_type": "code",
   "execution_count": 22,
   "id": "5969106b",
   "metadata": {
    "execution": {
     "iopub.execute_input": "2023-02-08T13:34:24.590988Z",
     "iopub.status.busy": "2023-02-08T13:34:24.590562Z",
     "iopub.status.idle": "2023-02-08T13:34:24.934262Z",
     "shell.execute_reply": "2023-02-08T13:34:24.932808Z"
    },
    "papermill": {
     "duration": 0.361133,
     "end_time": "2023-02-08T13:34:24.937394",
     "exception": false,
     "start_time": "2023-02-08T13:34:24.576261",
     "status": "completed"
    },
    "tags": []
   },
   "outputs": [
    {
     "name": "stdout",
     "output_type": "stream",
     "text": [
      "              precision    recall  f1-score   support\n",
      "\n",
      "   brazilian       0.41      0.88      0.56        68\n",
      "     british       0.22      0.67      0.33        78\n",
      "cajun_creole       0.67      0.78      0.72       374\n",
      "     chinese       0.87      0.74      0.80       945\n",
      "    filipino       0.51      0.81      0.63       140\n",
      "      french       0.53      0.58      0.55       709\n",
      "       greek       0.54      0.86      0.67       218\n",
      "      indian       0.93      0.78      0.85      1059\n",
      "       irish       0.29      0.68      0.41        82\n",
      "     italian       0.92      0.69      0.79      3176\n",
      "    jamaican       0.50      0.92      0.65        85\n",
      "    japanese       0.62      0.84      0.72       317\n",
      "      korean       0.69      0.93      0.79       175\n",
      "     mexican       0.93      0.84      0.88      2136\n",
      "    moroccan       0.56      0.83      0.67       162\n",
      "     russian       0.24      0.85      0.37        39\n",
      " southern_us       0.75      0.66      0.70      1473\n",
      "     spanish       0.23      0.78      0.36        90\n",
      "        thai       0.76      0.77      0.76       456\n",
      "  vietnamese       0.39      0.80      0.53       122\n",
      "\n",
      "    accuracy                           0.75     11904\n",
      "   macro avg       0.58      0.78      0.64     11904\n",
      "weighted avg       0.80      0.75      0.76     11904\n",
      "\n"
     ]
    }
   ],
   "source": [
    "#Printing Classification Report\n",
    "print(classification_report(y_pred,y_test))"
   ]
  },
  {
   "cell_type": "markdown",
   "id": "e2c062fd",
   "metadata": {
    "papermill": {
     "duration": 0.012192,
     "end_time": "2023-02-08T13:34:24.962294",
     "exception": false,
     "start_time": "2023-02-08T13:34:24.950102",
     "status": "completed"
    },
    "tags": []
   },
   "source": [
    "Based on the classification report twelve classes out of twenty classes are showing good performance in all the three evaluation metrics(precision, recall, and f1 score) and obtaining an average f1 score of 75%. \n",
    "\n",
    "The third evaluation metric which we are using is the confusion matrix. The confusion matrix allows us to visualize the performance of the classification machine learning model. The performance of the random forest classification model is evaluated using a confusion matrix and visualized. "
   ]
  },
  {
   "cell_type": "code",
   "execution_count": 23,
   "id": "0c1010a0",
   "metadata": {
    "execution": {
     "iopub.execute_input": "2023-02-08T13:34:24.989887Z",
     "iopub.status.busy": "2023-02-08T13:34:24.988783Z",
     "iopub.status.idle": "2023-02-08T13:34:28.249059Z",
     "shell.execute_reply": "2023-02-08T13:34:28.247875Z"
    },
    "papermill": {
     "duration": 3.277535,
     "end_time": "2023-02-08T13:34:28.252337",
     "exception": false,
     "start_time": "2023-02-08T13:34:24.974802",
     "status": "completed"
    },
    "tags": []
   },
   "outputs": [
    {
     "name": "stderr",
     "output_type": "stream",
     "text": [
      "/opt/conda/lib/python3.7/site-packages/sklearn/utils/deprecation.py:87: FutureWarning: Function plot_confusion_matrix is deprecated; Function `plot_confusion_matrix` is deprecated in 1.0 and will be removed in 1.2. Use one of the class methods: ConfusionMatrixDisplay.from_predictions or ConfusionMatrixDisplay.from_estimator.\n",
      "  warnings.warn(msg, category=FutureWarning)\n"
     ]
    },
    {
     "data": {
      "image/png": "[encoded data removed]",
      "text/plain": [
       "<Figure size 432x288 with 2 Axes>"
      ]
     },
     "metadata": {
      "needs_background": "light"
     },
     "output_type": "display_data"
    }
   ],
   "source": [
    "# Plotting confusion matrix\n",
    "plot_confusion_matrix(model,X_test,y_test)\n",
    "plt.show()"
   ]
  },
  {
   "cell_type": "markdown",
   "id": "34937a09",
   "metadata": {
    "papermill": {
     "duration": 0.01346,
     "end_time": "2023-02-08T13:34:28.280203",
     "exception": false,
     "start_time": "2023-02-08T13:34:28.266743",
     "status": "completed"
    },
    "tags": []
   },
   "source": [
    "Now we will try to randomly predict the cuisine classes on new data or a new cuisine description.  So we are defining a function which at the first step will convert the input string into a NumPy array so that the data can be vectorized. The second step is converting the text value into vectors with respective weightage. After vectorization, we are calling the model to predict the class of the new data. "
   ]
  },
  {
   "cell_type": "code",
   "execution_count": 24,
   "id": "e935b205",
   "metadata": {
    "execution": {
     "iopub.execute_input": "2023-02-08T13:34:28.309132Z",
     "iopub.status.busy": "2023-02-08T13:34:28.308695Z",
     "iopub.status.idle": "2023-02-08T13:34:28.314590Z",
     "shell.execute_reply": "2023-02-08T13:34:28.313234Z"
    },
    "papermill": {
     "duration": 0.02365,
     "end_time": "2023-02-08T13:34:28.317217",
     "exception": false,
     "start_time": "2023-02-08T13:34:28.293567",
     "status": "completed"
    },
    "tags": []
   },
   "outputs": [],
   "source": [
    "def prediction(a):\n",
    " a = np.array([a])\n",
    " #Vectorization using TF-IDF\n",
    " a = tv.transform(a)\n",
    " #PREDICTED VALUE\n",
    " x = model.predict(a)\n",
    " return x"
   ]
  },
  {
   "cell_type": "markdown",
   "id": "2015808c",
   "metadata": {
    "papermill": {
     "duration": 0.013092,
     "end_time": "2023-02-08T13:34:28.344032",
     "exception": false,
     "start_time": "2023-02-08T13:34:28.330940",
     "status": "completed"
    },
    "tags": []
   },
   "source": [
    "**Test case 1**: Consider a new cuisine description, and use the constructed model to predict the cuisine for the respected cuisine description. After the prediction, the model has predicted the cuisine \"indian\" for the respected cuisine description. "
   ]
  },
  {
   "cell_type": "code",
   "execution_count": 25,
   "id": "8eb57548",
   "metadata": {
    "execution": {
     "iopub.execute_input": "2023-02-08T13:34:28.374152Z",
     "iopub.status.busy": "2023-02-08T13:34:28.373727Z",
     "iopub.status.idle": "2023-02-08T13:34:28.397732Z",
     "shell.execute_reply": "2023-02-08T13:34:28.396395Z"
    },
    "papermill": {
     "duration": 0.043806,
     "end_time": "2023-02-08T13:34:28.401846",
     "exception": false,
     "start_time": "2023-02-08T13:34:28.358040",
     "status": "completed"
    },
    "tags": []
   },
   "outputs": [
    {
     "name": "stderr",
     "output_type": "stream",
     "text": [
      "/opt/conda/lib/python3.7/site-packages/sklearn/base.py:451: UserWarning: X does not have valid feature names, but RandomForestClassifier was fitted with feature names\n",
      "  \"X does not have valid feature names, but\"\n"
     ]
    },
    {
     "data": {
      "text/plain": [
       "array(['indian'], dtype=object)"
      ]
     },
     "execution_count": 25,
     "metadata": {},
     "output_type": "execute_result"
    }
   ],
   "source": [
    "a =\"olive oil sea salt coconut milk water garam masala ground coriander basmati rice cauliflower fresh ginger green chilies onions fresh cilantro potatoes scallions cumin\"\n",
    "prediction(a)"
   ]
  },
  {
   "cell_type": "markdown",
   "id": "cea1bf78",
   "metadata": {
    "papermill": {
     "duration": 0.013332,
     "end_time": "2023-02-08T13:34:28.429630",
     "exception": false,
     "start_time": "2023-02-08T13:34:28.416298",
     "status": "completed"
    },
    "tags": []
   },
   "source": [
    "**Test case 2**: Consider a new cuisine description, and use the constructed model to predict the cuisine for the respected cuisine description. After the prediction, the model has predicted the cuisine \"italian\" for the respected cuisine description. "
   ]
  },
  {
   "cell_type": "code",
   "execution_count": 26,
   "id": "5b92ec52",
   "metadata": {
    "execution": {
     "iopub.execute_input": "2023-02-08T13:34:28.461015Z",
     "iopub.status.busy": "2023-02-08T13:34:28.460209Z",
     "iopub.status.idle": "2023-02-08T13:34:28.484887Z",
     "shell.execute_reply": "2023-02-08T13:34:28.483714Z"
    },
    "papermill": {
     "duration": 0.04358,
     "end_time": "2023-02-08T13:34:28.487741",
     "exception": false,
     "start_time": "2023-02-08T13:34:28.444161",
     "status": "completed"
    },
    "tags": []
   },
   "outputs": [
    {
     "data": {
      "text/plain": [
       "array(['italian'], dtype=object)"
      ]
     },
     "execution_count": 26,
     "metadata": {},
     "output_type": "execute_result"
    }
   ],
   "source": [
    "a =\"tomato sauce shredded carrots spinach part skim mozzarella cheese italian seasoning english muffins split toasted chopped onion vegetable oil cooking spray chopped green bell pepper\"\n",
    "prediction(a)"
   ]
  },
  {
   "cell_type": "markdown",
   "id": "f05f2fa1",
   "metadata": {
    "papermill": {
     "duration": 0.013681,
     "end_time": "2023-02-08T13:34:28.515562",
     "exception": false,
     "start_time": "2023-02-08T13:34:28.501881",
     "status": "completed"
    },
    "tags": []
   },
   "source": [
    "AAAAAND THATS A WRAP"
   ]
  },
  {
   "cell_type": "code",
   "execution_count": null,
   "id": "7aa5a3ce",
   "metadata": {
    "papermill": {
     "duration": 0.013315,
     "end_time": "2023-02-08T13:34:28.542636",
     "exception": false,
     "start_time": "2023-02-08T13:34:28.529321",
     "status": "completed"
    },
    "tags": []
   },
   "outputs": [],
   "source": []
  }
 ],
 "metadata": {
  "kernelspec": {
   "display_name": "Python 3",
   "language": "python",
   "name": "python3"
  },
  "language_info": {
   "codemirror_mode": {
    "name": "ipython",
    "version": 3
   },
   "file_extension": ".py",
   "mimetype": "text/x-python",
   "name": "python",
   "nbconvert_exporter": "python",
   "pygments_lexer": "ipython3",
   "version": "3.7.12"
  },
  "papermill": {
   "default_parameters": {},
   "duration": 193.911042,
   "end_time": "2023-02-08T13:34:29.785039",
   "environment_variables": {},
   "exception": null,
   "input_path": "__notebook__.ipynb",
   "output_path": "__notebook__.ipynb",
   "parameters": {},
   "start_time": "2023-02-08T13:31:15.873997",
   "version": "2.3.4"
  }
 },
 "nbformat": 4,
 "nbformat_minor": 5
}
