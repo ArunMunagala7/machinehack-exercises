{
 "cells": [
  {
   "cell_type": "code",
   "execution_count": 1,
   "id": "d2e788a8",
   "metadata": {
    "_cell_guid": "b1076dfc-b9ad-4769-8c92-a6c4dae69d19",
    "_uuid": "8f2839f25d086af736a60e9eeb907d3b93b6e0e5",
    "execution": {
     "iopub.execute_input": "2023-05-24T16:38:47.617373Z",
     "iopub.status.busy": "2023-05-24T16:38:47.616862Z",
     "iopub.status.idle": "2023-05-24T16:38:47.633922Z",
     "shell.execute_reply": "2023-05-24T16:38:47.632717Z"
    },
    "papermill": {
     "duration": 0.038363,
     "end_time": "2023-05-24T16:38:47.636615",
     "exception": false,
     "start_time": "2023-05-24T16:38:47.598252",
     "status": "completed"
    },
    "tags": []
   },
   "outputs": [],
   "source": [
    "# This Python 3 environment comes with many helpful analytics libraries installed\n",
    "# It is defined by the kaggle/python Docker image: https://github.com/kaggle/docker-python\n",
    "# For example, here's several helpful packages to load\n",
    "\n",
    "import numpy as np # linear algebra\n",
    "import pandas as pd # data processing, CSV file I/O (e.g. pd.read_csv)\n",
    "\n",
    "# Input data files are available in the read-only \"../input/\" directory\n",
    "# For example, running this (by clicking run or pressing Shift+Enter) will list all files under the input directory\n",
    "\n",
    "import os\n",
    "for dirname, _, filenames in os.walk('/kaggle/input'):\n",
    "    for filename in filenames:\n",
    "        print(os.path.join(dirname, filename))\n",
    "\n",
    "# You can write up to 20GB to the current directory (/kaggle/working/) that gets preserved as output when you create a version using \"Save & Run All\" \n",
    "# You can also write temporary files to /kaggle/temp/, but they won't be saved outside of the current session"
   ]
  },
  {
   "cell_type": "markdown",
   "id": "89e49673",
   "metadata": {
    "papermill": {
     "duration": 0.017459,
     "end_time": "2023-05-24T16:38:47.669150",
     "exception": false,
     "start_time": "2023-05-24T16:38:47.651691",
     "status": "completed"
    },
    "tags": []
   },
   "source": [
    "The dataset used for this multi-class text classification is the cuisine dataset stored in a CSV file. Cuisine is a certain kind of cooking style or food from a certain region or country. A food that is considered to be \"Italian food\" is an example of Italian cuisine. There are many types of cuisines worldwide like Indian, Italian, French, Greek, etc.\n",
    "\n",
    "The dataset consists of various cuisine descriptions related to various cuisines. All the cuisine descriptions are labelled to a specific cuisine. So this is a supervised classification problem containing cuisine descriptions as feature or input and respective cuisine as target variable or output. \n",
    "\n",
    "The objective is to classify or predict the cuisine descriptions into predefined categories using suitable classification algorithms. \n",
    "\n",
    "**Step 1: Loading and Reading the data**\n",
    "\n",
    "The cuisine dataset is stored in a CSV file so load the file into the local directory using the Pandas library and after loading the dataset into the working directory visualize the first five rows of the dataset.\n",
    "\n",
    "The cuisine dataset contains 2 columns i.e cuisine_description  and cuisine."
   ]
  },
  {
   "cell_type": "code",
   "execution_count": 2,
   "id": "1ccbe146",
   "metadata": {
    "execution": {
     "iopub.execute_input": "2023-05-24T16:38:47.706294Z",
     "iopub.status.busy": "2023-05-24T16:38:47.705636Z",
     "iopub.status.idle": "2023-05-24T16:38:48.315218Z",
     "shell.execute_reply": "2023-05-24T16:38:48.313933Z"
    },
    "papermill": {
     "duration": 0.632138,
     "end_time": "2023-05-24T16:38:48.318696",
     "exception": false,
     "start_time": "2023-05-24T16:38:47.686558",
     "status": "completed"
    },
    "tags": []
   },
   "outputs": [
    {
     "data": {
      "text/html": [
       "<div>\n",
       "<style scoped>\n",
       "    .dataframe tbody tr th:only-of-type {\n",
       "        vertical-align: middle;\n",
       "    }\n",
       "\n",
       "    .dataframe tbody tr th {\n",
       "        vertical-align: top;\n",
       "    }\n",
       "\n",
       "    .dataframe thead th {\n",
       "        text-align: right;\n",
       "    }\n",
       "</style>\n",
       "<table border=\"1\" class=\"dataframe\">\n",
       "  <thead>\n",
       "    <tr style=\"text-align: right;\">\n",
       "      <th></th>\n",
       "      <th>cuisine_description</th>\n",
       "      <th>cuisine</th>\n",
       "    </tr>\n",
       "  </thead>\n",
       "  <tbody>\n",
       "    <tr>\n",
       "      <th>0</th>\n",
       "      <td>romaine lettuce black olives grape tomatoes ga...</td>\n",
       "      <td>greek</td>\n",
       "    </tr>\n",
       "    <tr>\n",
       "      <th>1</th>\n",
       "      <td>plain flour ground pepper salt tomatoes ground...</td>\n",
       "      <td>southern_us</td>\n",
       "    </tr>\n",
       "    <tr>\n",
       "      <th>2</th>\n",
       "      <td>eggs pepper salt mayonaise cooking oil green c...</td>\n",
       "      <td>filipino</td>\n",
       "    </tr>\n",
       "    <tr>\n",
       "      <th>3</th>\n",
       "      <td>water vegetable oil wheat salt</td>\n",
       "      <td>indian</td>\n",
       "    </tr>\n",
       "    <tr>\n",
       "      <th>4</th>\n",
       "      <td>black pepper shallots cornflour cayenne pepper...</td>\n",
       "      <td>indian</td>\n",
       "    </tr>\n",
       "  </tbody>\n",
       "</table>\n",
       "</div>"
      ],
      "text/plain": [
       "                                 cuisine_description      cuisine\n",
       "0  romaine lettuce black olives grape tomatoes ga...        greek\n",
       "1  plain flour ground pepper salt tomatoes ground...  southern_us\n",
       "2  eggs pepper salt mayonaise cooking oil green c...     filipino\n",
       "3                     water vegetable oil wheat salt       indian\n",
       "4  black pepper shallots cornflour cayenne pepper...       indian"
      ]
     },
     "execution_count": 2,
     "metadata": {},
     "output_type": "execute_result"
    }
   ],
   "source": [
    "#Reading the dataset\n",
    "df=pd.read_csv(\"https://raw.githubusercontent.com/analyticsindiamagazine/MocksDatasets/main/cuisine_data.csv\")\n",
    "df.head()"
   ]
  },
  {
   "cell_type": "markdown",
   "id": "39b21aa6",
   "metadata": {
    "papermill": {
     "duration": 0.014403,
     "end_time": "2023-05-24T16:38:48.350007",
     "exception": false,
     "start_time": "2023-05-24T16:38:48.335604",
     "status": "completed"
    },
    "tags": []
   },
   "source": [
    "**Step 2: Data preprocessing**\n",
    "\n",
    "After loading the cuisine dataset, visualize the shape of the dataset to understand the number of rows and columns present in the dataset. The given dataset consists of 39774 rows and 2 columns."
   ]
  },
  {
   "cell_type": "code",
   "execution_count": 3,
   "id": "5da4e8e1",
   "metadata": {
    "execution": {
     "iopub.execute_input": "2023-05-24T16:38:48.382931Z",
     "iopub.status.busy": "2023-05-24T16:38:48.382251Z",
     "iopub.status.idle": "2023-05-24T16:38:48.389478Z",
     "shell.execute_reply": "2023-05-24T16:38:48.388427Z"
    },
    "papermill": {
     "duration": 0.026157,
     "end_time": "2023-05-24T16:38:48.391791",
     "exception": false,
     "start_time": "2023-05-24T16:38:48.365634",
     "status": "completed"
    },
    "tags": []
   },
   "outputs": [
    {
     "data": {
      "text/plain": [
       "(39774, 2)"
      ]
     },
     "execution_count": 3,
     "metadata": {},
     "output_type": "execute_result"
    }
   ],
   "source": [
    "df.shape"
   ]
  },
  {
   "cell_type": "markdown",
   "id": "6bbf28e8",
   "metadata": {
    "papermill": {
     "duration": 0.015914,
     "end_time": "2023-05-24T16:38:48.422493",
     "exception": false,
     "start_time": "2023-05-24T16:38:48.406579",
     "status": "completed"
    },
    "tags": []
   },
   "source": [
    "Now identify the number of classes in the target variable present in the dataset in order to classify this as a binary-text classification problem or multi-class text classification problem and also identify the distribution of the data into different classes present in the dataset.\n",
    "\n",
    "The target variable of the given cuisine dataset consists of 20 different classes like 'greek', 'southern_us', 'filipino', 'indian' etc. So based on the target variable this is a multi-class text classification problem.\n",
    "\n",
    "The distribution of the dataset along different classes is visualized by using value_counts."
   ]
  },
  {
   "cell_type": "code",
   "execution_count": 4,
   "id": "1ab85db4",
   "metadata": {
    "execution": {
     "iopub.execute_input": "2023-05-24T16:38:48.454762Z",
     "iopub.status.busy": "2023-05-24T16:38:48.454078Z",
     "iopub.status.idle": "2023-05-24T16:38:48.472293Z",
     "shell.execute_reply": "2023-05-24T16:38:48.471047Z"
    },
    "papermill": {
     "duration": 0.037145,
     "end_time": "2023-05-24T16:38:48.474758",
     "exception": false,
     "start_time": "2023-05-24T16:38:48.437613",
     "status": "completed"
    },
    "tags": []
   },
   "outputs": [
    {
     "data": {
      "text/plain": [
       "array(['greek', 'southern_us', 'filipino', 'indian', 'jamaican',\n",
       "       'spanish', 'italian', 'mexican', 'chinese', 'british', 'thai',\n",
       "       'vietnamese', 'cajun_creole', 'brazilian', 'french', 'japanese',\n",
       "       'irish', 'korean', 'moroccan', 'russian'], dtype=object)"
      ]
     },
     "execution_count": 4,
     "metadata": {},
     "output_type": "execute_result"
    }
   ],
   "source": [
    "#Multiple classes\n",
    "df[\"cuisine\"].unique()"
   ]
  },
  {
   "cell_type": "markdown",
   "id": "6754ac6d",
   "metadata": {
    "papermill": {
     "duration": 0.015186,
     "end_time": "2023-05-24T16:38:48.505759",
     "exception": false,
     "start_time": "2023-05-24T16:38:48.490573",
     "status": "completed"
    },
    "tags": []
   },
   "source": [
    "printing the count for each of these unqie cuisine values"
   ]
  },
  {
   "cell_type": "code",
   "execution_count": 5,
   "id": "14ff37c8",
   "metadata": {
    "execution": {
     "iopub.execute_input": "2023-05-24T16:38:48.538073Z",
     "iopub.status.busy": "2023-05-24T16:38:48.537400Z",
     "iopub.status.idle": "2023-05-24T16:38:48.553429Z",
     "shell.execute_reply": "2023-05-24T16:38:48.552187Z"
    },
    "papermill": {
     "duration": 0.035088,
     "end_time": "2023-05-24T16:38:48.555865",
     "exception": false,
     "start_time": "2023-05-24T16:38:48.520777",
     "status": "completed"
    },
    "tags": []
   },
   "outputs": [
    {
     "data": {
      "text/plain": [
       "italian         7838\n",
       "mexican         6438\n",
       "southern_us     4320\n",
       "indian          3003\n",
       "chinese         2673\n",
       "french          2646\n",
       "cajun_creole    1546\n",
       "thai            1539\n",
       "japanese        1423\n",
       "greek           1175\n",
       "spanish          989\n",
       "korean           830\n",
       "vietnamese       825\n",
       "moroccan         821\n",
       "british          804\n",
       "filipino         755\n",
       "irish            667\n",
       "jamaican         526\n",
       "russian          489\n",
       "brazilian        467\n",
       "Name: cuisine, dtype: int64"
      ]
     },
     "execution_count": 5,
     "metadata": {},
     "output_type": "execute_result"
    }
   ],
   "source": [
    "#Printing value counts for each classes\n",
    "df[\"cuisine\"].value_counts()"
   ]
  },
  {
   "cell_type": "markdown",
   "id": "26feb41f",
   "metadata": {
    "papermill": {
     "duration": 0.015285,
     "end_time": "2023-05-24T16:38:48.586335",
     "exception": false,
     "start_time": "2023-05-24T16:38:48.571050",
     "status": "completed"
    },
    "tags": []
   },
   "source": [
    "After understanding the class and its distribution, check for null values and NaN values present in the dataset and treat them if any because these could potentially affect the accuracy of the model."
   ]
  },
  {
   "cell_type": "code",
   "execution_count": 6,
   "id": "1a3047a3",
   "metadata": {
    "execution": {
     "iopub.execute_input": "2023-05-24T16:38:48.620758Z",
     "iopub.status.busy": "2023-05-24T16:38:48.620108Z",
     "iopub.status.idle": "2023-05-24T16:38:48.638995Z",
     "shell.execute_reply": "2023-05-24T16:38:48.637819Z"
    },
    "papermill": {
     "duration": 0.038796,
     "end_time": "2023-05-24T16:38:48.641779",
     "exception": false,
     "start_time": "2023-05-24T16:38:48.602983",
     "status": "completed"
    },
    "tags": []
   },
   "outputs": [
    {
     "data": {
      "text/plain": [
       "cuisine_description    0\n",
       "cuisine                0\n",
       "dtype: int64"
      ]
     },
     "execution_count": 6,
     "metadata": {},
     "output_type": "execute_result"
    }
   ],
   "source": [
    "#Checking for NA values\n",
    "df.isna().sum()"
   ]
  },
  {
   "cell_type": "code",
   "execution_count": 7,
   "id": "6bab5362",
   "metadata": {
    "execution": {
     "iopub.execute_input": "2023-05-24T16:38:48.675514Z",
     "iopub.status.busy": "2023-05-24T16:38:48.675077Z",
     "iopub.status.idle": "2023-05-24T16:38:48.693876Z",
     "shell.execute_reply": "2023-05-24T16:38:48.693036Z"
    },
    "papermill": {
     "duration": 0.038168,
     "end_time": "2023-05-24T16:38:48.696246",
     "exception": false,
     "start_time": "2023-05-24T16:38:48.658078",
     "status": "completed"
    },
    "tags": []
   },
   "outputs": [
    {
     "data": {
      "text/plain": [
       "cuisine_description    0\n",
       "cuisine                0\n",
       "dtype: int64"
      ]
     },
     "execution_count": 7,
     "metadata": {},
     "output_type": "execute_result"
    }
   ],
   "source": [
    "# Checking for NULL values\n",
    "df.isnull().sum()"
   ]
  },
  {
   "cell_type": "markdown",
   "id": "20e878b4",
   "metadata": {
    "papermill": {
     "duration": 0.016504,
     "end_time": "2023-05-24T16:38:48.728884",
     "exception": false,
     "start_time": "2023-05-24T16:38:48.712380",
     "status": "completed"
    },
    "tags": []
   },
   "source": [
    "Based on the visualization the cuisine dataset does not contain any null values and NaN values which could potentially make the model impure. \n",
    "\n",
    "After visualizing the number of null and NaN values present in the dataset, now check for the number of duplicate values present in the dataset which could also potentially make the data impure and reduce the accuracy."
   ]
  },
  {
   "cell_type": "code",
   "execution_count": 8,
   "id": "3adf4d7e",
   "metadata": {
    "execution": {
     "iopub.execute_input": "2023-05-24T16:38:48.762920Z",
     "iopub.status.busy": "2023-05-24T16:38:48.762143Z",
     "iopub.status.idle": "2023-05-24T16:38:48.802214Z",
     "shell.execute_reply": "2023-05-24T16:38:48.800650Z"
    },
    "papermill": {
     "duration": 0.060092,
     "end_time": "2023-05-24T16:38:48.805030",
     "exception": false,
     "start_time": "2023-05-24T16:38:48.744938",
     "status": "completed"
    },
    "tags": []
   },
   "outputs": [
    {
     "name": "stdout",
     "output_type": "stream",
     "text": [
      "Total Number of duplicated: 97\n",
      "Shape of Data: (39774, 2)\n"
     ]
    }
   ],
   "source": [
    "#Checking for duplicate values\n",
    "print(\"Total Number of duplicated:\",df.duplicated().sum())\n",
    "print(\"Shape of Data:\",df.shape)"
   ]
  },
  {
   "cell_type": "markdown",
   "id": "a32956a5",
   "metadata": {
    "papermill": {
     "duration": 0.015673,
     "end_time": "2023-05-24T16:38:48.836572",
     "exception": false,
     "start_time": "2023-05-24T16:38:48.820899",
     "status": "completed"
    },
    "tags": []
   },
   "source": [
    "From the observation, the dataset consists of 97 duplicated values. So all the duplicate values should be treated i.e all the 97 duplicated values should be dropped from the dataset to make the data clean."
   ]
  },
  {
   "cell_type": "code",
   "execution_count": 9,
   "id": "50e56693",
   "metadata": {
    "execution": {
     "iopub.execute_input": "2023-05-24T16:38:48.870278Z",
     "iopub.status.busy": "2023-05-24T16:38:48.869827Z",
     "iopub.status.idle": "2023-05-24T16:38:48.939730Z",
     "shell.execute_reply": "2023-05-24T16:38:48.938186Z"
    },
    "papermill": {
     "duration": 0.090185,
     "end_time": "2023-05-24T16:38:48.942527",
     "exception": false,
     "start_time": "2023-05-24T16:38:48.852342",
     "status": "completed"
    },
    "tags": []
   },
   "outputs": [
    {
     "name": "stdout",
     "output_type": "stream",
     "text": [
      "Total Number of duplicated: 0\n",
      "Shape of Data: (39677, 2)\n"
     ]
    }
   ],
   "source": [
    "#Removing duplicate values\n",
    "df.drop_duplicates(inplace = True)\n",
    "print(\"Total Number of duplicated:\",df.duplicated().sum())\n",
    "print(\"Shape of Data:\",df.shape)"
   ]
  },
  {
   "cell_type": "markdown",
   "id": "311e2775",
   "metadata": {
    "papermill": {
     "duration": 0.016008,
     "end_time": "2023-05-24T16:38:48.974485",
     "exception": false,
     "start_time": "2023-05-24T16:38:48.958477",
     "status": "completed"
    },
    "tags": []
   },
   "source": [
    "All the duplicate values present in the dataset are dropped and the shape of the data has changed from (39774,2) to (39677,2) which clearly indicates that all the 97 duplicated values are removed from the dataset.\n",
    "\n",
    "After treating the null and NaN values followed by removing duplicate values the data is clean and ready to be analyzed and solve business problems. But before using the text data for analysis or prediction, processing of the data is required.\n",
    "\n",
    "The text data cannot be directly used for the model building, so we perform text preprocessing and vectorization. The text preprocessing consists of a few steps :\n",
    "\n",
    "**1.Removing punctuations\n",
    "2.Lower casing\n",
    "3.Removing stopwords**\n",
    "We will use the following steps of text preprocessing for the cuisine dataset to preprocess the text data."
   ]
  },
  {
   "cell_type": "code",
   "execution_count": 10,
   "id": "55bb0e5a",
   "metadata": {
    "execution": {
     "iopub.execute_input": "2023-05-24T16:38:49.009027Z",
     "iopub.status.busy": "2023-05-24T16:38:49.008560Z",
     "iopub.status.idle": "2023-05-24T16:38:49.021032Z",
     "shell.execute_reply": "2023-05-24T16:38:49.019699Z"
    },
    "papermill": {
     "duration": 0.032572,
     "end_time": "2023-05-24T16:38:49.023388",
     "exception": false,
     "start_time": "2023-05-24T16:38:48.990816",
     "status": "completed"
    },
    "tags": []
   },
   "outputs": [],
   "source": [
    "def preprocessing(x):\n",
    " x=re.sub('[^a-zA-Z ]', ' ', x) #Removing non-alphabetic character\n",
    " x=x.lower() #Converting the text to lower case\n",
    " x=x.split() #Splitting the text reviews into list\n",
    " x=[word for word in x if word not in set(stopwords.words('english'))] #Removing Stopwords \n",
    " x=\" \".join(x) #Converting list to string\n",
    " return x"
   ]
  },
  {
   "cell_type": "markdown",
   "id": "3b5d4674",
   "metadata": {
    "papermill": {
     "duration": 0.015838,
     "end_time": "2023-05-24T16:38:49.055067",
     "exception": false,
     "start_time": "2023-05-24T16:38:49.039229",
     "status": "completed"
    },
    "tags": []
   },
   "source": [
    "importing some needed libraries"
   ]
  },
  {
   "cell_type": "code",
   "execution_count": 11,
   "id": "2b06a075",
   "metadata": {
    "execution": {
     "iopub.execute_input": "2023-05-24T16:38:49.088732Z",
     "iopub.status.busy": "2023-05-24T16:38:49.088285Z",
     "iopub.status.idle": "2023-05-24T16:38:51.762746Z",
     "shell.execute_reply": "2023-05-24T16:38:51.761406Z"
    },
    "papermill": {
     "duration": 2.695193,
     "end_time": "2023-05-24T16:38:51.766037",
     "exception": false,
     "start_time": "2023-05-24T16:38:49.070844",
     "status": "completed"
    },
    "tags": []
   },
   "outputs": [
    {
     "name": "stderr",
     "output_type": "stream",
     "text": [
      "[nltk_data] Downloading package stopwords to /usr/share/nltk_data...\n",
      "[nltk_data]   Package stopwords is already up-to-date!\n"
     ]
    }
   ],
   "source": [
    "import pandas as pd\n",
    "import numpy as np\n",
    "import seaborn as sns\n",
    "import matplotlib.pyplot as plt\n",
    "\n",
    "\n",
    "from sklearn.feature_extraction.text import TfidfVectorizer\n",
    "from sklearn.metrics import accuracy_score\n",
    "from sklearn.metrics import classification_report,accuracy_score,confusion_matrix\n",
    "from sklearn.metrics import plot_confusion_matrix\n",
    "\n",
    "import re \n",
    "import nltk\n",
    "nltk.download(\"stopwords\")\n",
    "from nltk.corpus import stopwords\n",
    "\n",
    "from sklearn.model_selection import train_test_split\n",
    "\n",
    "from sklearn.ensemble import RandomForestClassifier"
   ]
  },
  {
   "cell_type": "markdown",
   "id": "0638d8ea",
   "metadata": {
    "papermill": {
     "duration": 0.015409,
     "end_time": "2023-05-24T16:38:51.797320",
     "exception": false,
     "start_time": "2023-05-24T16:38:51.781911",
     "status": "completed"
    },
    "tags": []
   },
   "source": []
  },
  {
   "cell_type": "markdown",
   "id": "062d77d2",
   "metadata": {
    "papermill": {
     "duration": 0.015757,
     "end_time": "2023-05-24T16:38:51.829424",
     "exception": false,
     "start_time": "2023-05-24T16:38:51.813667",
     "status": "completed"
    },
    "tags": []
   },
   "source": [
    "Using apply operation we are preprocessing each and every row of the input variable of the cuisine dataset and visualizing the first five rows of the preprocessed data."
   ]
  },
  {
   "cell_type": "code",
   "execution_count": 12,
   "id": "67764364",
   "metadata": {
    "execution": {
     "iopub.execute_input": "2023-05-24T16:38:51.863567Z",
     "iopub.status.busy": "2023-05-24T16:38:51.863135Z",
     "iopub.status.idle": "2023-05-24T16:41:05.994885Z",
     "shell.execute_reply": "2023-05-24T16:41:05.993488Z"
    },
    "papermill": {
     "duration": 134.167739,
     "end_time": "2023-05-24T16:41:06.013491",
     "exception": false,
     "start_time": "2023-05-24T16:38:51.845752",
     "status": "completed"
    },
    "tags": []
   },
   "outputs": [
    {
     "data": {
      "text/html": [
       "<div>\n",
       "<style scoped>\n",
       "    .dataframe tbody tr th:only-of-type {\n",
       "        vertical-align: middle;\n",
       "    }\n",
       "\n",
       "    .dataframe tbody tr th {\n",
       "        vertical-align: top;\n",
       "    }\n",
       "\n",
       "    .dataframe thead th {\n",
       "        text-align: right;\n",
       "    }\n",
       "</style>\n",
       "<table border=\"1\" class=\"dataframe\">\n",
       "  <thead>\n",
       "    <tr style=\"text-align: right;\">\n",
       "      <th></th>\n",
       "      <th>cuisine_description</th>\n",
       "      <th>cuisine</th>\n",
       "    </tr>\n",
       "  </thead>\n",
       "  <tbody>\n",
       "    <tr>\n",
       "      <th>0</th>\n",
       "      <td>romaine lettuce black olives grape tomatoes ga...</td>\n",
       "      <td>greek</td>\n",
       "    </tr>\n",
       "    <tr>\n",
       "      <th>1</th>\n",
       "      <td>plain flour ground pepper salt tomatoes ground...</td>\n",
       "      <td>southern_us</td>\n",
       "    </tr>\n",
       "    <tr>\n",
       "      <th>2</th>\n",
       "      <td>eggs pepper salt mayonaise cooking oil green c...</td>\n",
       "      <td>filipino</td>\n",
       "    </tr>\n",
       "    <tr>\n",
       "      <th>3</th>\n",
       "      <td>water vegetable oil wheat salt</td>\n",
       "      <td>indian</td>\n",
       "    </tr>\n",
       "    <tr>\n",
       "      <th>4</th>\n",
       "      <td>black pepper shallots cornflour cayenne pepper...</td>\n",
       "      <td>indian</td>\n",
       "    </tr>\n",
       "  </tbody>\n",
       "</table>\n",
       "</div>"
      ],
      "text/plain": [
       "                                 cuisine_description      cuisine\n",
       "0  romaine lettuce black olives grape tomatoes ga...        greek\n",
       "1  plain flour ground pepper salt tomatoes ground...  southern_us\n",
       "2  eggs pepper salt mayonaise cooking oil green c...     filipino\n",
       "3                     water vegetable oil wheat salt       indian\n",
       "4  black pepper shallots cornflour cayenne pepper...       indian"
      ]
     },
     "execution_count": 12,
     "metadata": {},
     "output_type": "execute_result"
    }
   ],
   "source": [
    "import re\n",
    "#Applying preprocessing to each rows\n",
    "df[\"cuisine_description\"] = df[\"cuisine_description\"].apply(preprocessing)\n",
    "#Preprocessed Data\n",
    "df.head()"
   ]
  },
  {
   "cell_type": "markdown",
   "id": "fb0a4af7",
   "metadata": {
    "papermill": {
     "duration": 0.016227,
     "end_time": "2023-05-24T16:41:06.046355",
     "exception": false,
     "start_time": "2023-05-24T16:41:06.030128",
     "status": "completed"
    },
    "tags": []
   },
   "source": [
    "Now all the text data present in the input variable of the cuisine dataset is preprocessed. So with text preprocessing, we perform vectorization before feeding the data to the classification algorithm.\n",
    "\n",
    "**Step 3: Vectorization using TF IDF**\n",
    "\n",
    "The text data after preprocessing needs to be vectorized before feeding it to the classification algorithm. In vectorization, we convert the textual form of the data to numeric or vectors using various vectorizers like countvectorizer, TF-IDF, Word2Vec, etc. In this vectorization process for the cuisine dataset, we use TF-IDF (Term Frequency-Inverse Document Frequency) to convert the text data to vectors and determine the importance of each word in the set of words. So we are vectorizing and defining the input feature of the dataset."
   ]
  },
  {
   "cell_type": "code",
   "execution_count": 13,
   "id": "c49b563e",
   "metadata": {
    "execution": {
     "iopub.execute_input": "2023-05-24T16:41:06.080964Z",
     "iopub.status.busy": "2023-05-24T16:41:06.080521Z",
     "iopub.status.idle": "2023-05-24T16:41:08.705292Z",
     "shell.execute_reply": "2023-05-24T16:41:08.703912Z"
    },
    "papermill": {
     "duration": 2.645126,
     "end_time": "2023-05-24T16:41:08.707964",
     "exception": false,
     "start_time": "2023-05-24T16:41:06.062838",
     "status": "completed"
    },
    "tags": []
   },
   "outputs": [
    {
     "name": "stderr",
     "output_type": "stream",
     "text": [
      "/opt/conda/lib/python3.7/site-packages/sklearn/utils/deprecation.py:87: FutureWarning: Function get_feature_names is deprecated; get_feature_names is deprecated in 1.0 and will be removed in 1.2. Please use get_feature_names_out instead.\n",
      "  warnings.warn(msg, category=FutureWarning)\n"
     ]
    }
   ],
   "source": [
    "tv = TfidfVectorizer()\n",
    "X = tv.fit_transform(df[\"cuisine_description\"].values)\n",
    "X = pd.DataFrame(X.todense(),columns=tv.get_feature_names())"
   ]
  },
  {
   "cell_type": "markdown",
   "id": "84de0e04",
   "metadata": {
    "papermill": {
     "duration": 0.016471,
     "end_time": "2023-05-24T16:41:08.740749",
     "exception": false,
     "start_time": "2023-05-24T16:41:08.724278",
     "status": "completed"
    },
    "tags": []
   },
   "source": [
    "first 5 rows ftw"
   ]
  },
  {
   "cell_type": "code",
   "execution_count": 14,
   "id": "b25d3805",
   "metadata": {
    "execution": {
     "iopub.execute_input": "2023-05-24T16:41:08.775976Z",
     "iopub.status.busy": "2023-05-24T16:41:08.775268Z",
     "iopub.status.idle": "2023-05-24T16:41:08.812496Z",
     "shell.execute_reply": "2023-05-24T16:41:08.811256Z"
    },
    "papermill": {
     "duration": 0.058431,
     "end_time": "2023-05-24T16:41:08.815520",
     "exception": false,
     "start_time": "2023-05-24T16:41:08.757089",
     "status": "completed"
    },
    "tags": []
   },
   "outputs": [
    {
     "data": {
      "text/html": [
       "<div>\n",
       "<style scoped>\n",
       "    .dataframe tbody tr th:only-of-type {\n",
       "        vertical-align: middle;\n",
       "    }\n",
       "\n",
       "    .dataframe tbody tr th {\n",
       "        vertical-align: top;\n",
       "    }\n",
       "\n",
       "    .dataframe thead th {\n",
       "        text-align: right;\n",
       "    }\n",
       "</style>\n",
       "<table border=\"1\" class=\"dataframe\">\n",
       "  <thead>\n",
       "    <tr style=\"text-align: right;\">\n",
       "      <th></th>\n",
       "      <th>abalone</th>\n",
       "      <th>abbamele</th>\n",
       "      <th>absinthe</th>\n",
       "      <th>abura</th>\n",
       "      <th>acai</th>\n",
       "      <th>accent</th>\n",
       "      <th>accompaniment</th>\n",
       "      <th>achiote</th>\n",
       "      <th>acid</th>\n",
       "      <th>acini</th>\n",
       "      <th>...</th>\n",
       "      <th>yuzukosho</th>\n",
       "      <th>za</th>\n",
       "      <th>zatarain</th>\n",
       "      <th>zatarains</th>\n",
       "      <th>zero</th>\n",
       "      <th>zest</th>\n",
       "      <th>zesty</th>\n",
       "      <th>zinfandel</th>\n",
       "      <th>ziti</th>\n",
       "      <th>zucchini</th>\n",
       "    </tr>\n",
       "  </thead>\n",
       "  <tbody>\n",
       "    <tr>\n",
       "      <th>0</th>\n",
       "      <td>0.0</td>\n",
       "      <td>0.0</td>\n",
       "      <td>0.0</td>\n",
       "      <td>0.0</td>\n",
       "      <td>0.0</td>\n",
       "      <td>0.0</td>\n",
       "      <td>0.0</td>\n",
       "      <td>0.0</td>\n",
       "      <td>0.0</td>\n",
       "      <td>0.0</td>\n",
       "      <td>...</td>\n",
       "      <td>0.0</td>\n",
       "      <td>0.0</td>\n",
       "      <td>0.0</td>\n",
       "      <td>0.0</td>\n",
       "      <td>0.0</td>\n",
       "      <td>0.0</td>\n",
       "      <td>0.0</td>\n",
       "      <td>0.0</td>\n",
       "      <td>0.0</td>\n",
       "      <td>0.0</td>\n",
       "    </tr>\n",
       "    <tr>\n",
       "      <th>1</th>\n",
       "      <td>0.0</td>\n",
       "      <td>0.0</td>\n",
       "      <td>0.0</td>\n",
       "      <td>0.0</td>\n",
       "      <td>0.0</td>\n",
       "      <td>0.0</td>\n",
       "      <td>0.0</td>\n",
       "      <td>0.0</td>\n",
       "      <td>0.0</td>\n",
       "      <td>0.0</td>\n",
       "      <td>...</td>\n",
       "      <td>0.0</td>\n",
       "      <td>0.0</td>\n",
       "      <td>0.0</td>\n",
       "      <td>0.0</td>\n",
       "      <td>0.0</td>\n",
       "      <td>0.0</td>\n",
       "      <td>0.0</td>\n",
       "      <td>0.0</td>\n",
       "      <td>0.0</td>\n",
       "      <td>0.0</td>\n",
       "    </tr>\n",
       "    <tr>\n",
       "      <th>2</th>\n",
       "      <td>0.0</td>\n",
       "      <td>0.0</td>\n",
       "      <td>0.0</td>\n",
       "      <td>0.0</td>\n",
       "      <td>0.0</td>\n",
       "      <td>0.0</td>\n",
       "      <td>0.0</td>\n",
       "      <td>0.0</td>\n",
       "      <td>0.0</td>\n",
       "      <td>0.0</td>\n",
       "      <td>...</td>\n",
       "      <td>0.0</td>\n",
       "      <td>0.0</td>\n",
       "      <td>0.0</td>\n",
       "      <td>0.0</td>\n",
       "      <td>0.0</td>\n",
       "      <td>0.0</td>\n",
       "      <td>0.0</td>\n",
       "      <td>0.0</td>\n",
       "      <td>0.0</td>\n",
       "      <td>0.0</td>\n",
       "    </tr>\n",
       "    <tr>\n",
       "      <th>3</th>\n",
       "      <td>0.0</td>\n",
       "      <td>0.0</td>\n",
       "      <td>0.0</td>\n",
       "      <td>0.0</td>\n",
       "      <td>0.0</td>\n",
       "      <td>0.0</td>\n",
       "      <td>0.0</td>\n",
       "      <td>0.0</td>\n",
       "      <td>0.0</td>\n",
       "      <td>0.0</td>\n",
       "      <td>...</td>\n",
       "      <td>0.0</td>\n",
       "      <td>0.0</td>\n",
       "      <td>0.0</td>\n",
       "      <td>0.0</td>\n",
       "      <td>0.0</td>\n",
       "      <td>0.0</td>\n",
       "      <td>0.0</td>\n",
       "      <td>0.0</td>\n",
       "      <td>0.0</td>\n",
       "      <td>0.0</td>\n",
       "    </tr>\n",
       "    <tr>\n",
       "      <th>4</th>\n",
       "      <td>0.0</td>\n",
       "      <td>0.0</td>\n",
       "      <td>0.0</td>\n",
       "      <td>0.0</td>\n",
       "      <td>0.0</td>\n",
       "      <td>0.0</td>\n",
       "      <td>0.0</td>\n",
       "      <td>0.0</td>\n",
       "      <td>0.0</td>\n",
       "      <td>0.0</td>\n",
       "      <td>...</td>\n",
       "      <td>0.0</td>\n",
       "      <td>0.0</td>\n",
       "      <td>0.0</td>\n",
       "      <td>0.0</td>\n",
       "      <td>0.0</td>\n",
       "      <td>0.0</td>\n",
       "      <td>0.0</td>\n",
       "      <td>0.0</td>\n",
       "      <td>0.0</td>\n",
       "      <td>0.0</td>\n",
       "    </tr>\n",
       "  </tbody>\n",
       "</table>\n",
       "<p>5 rows × 2978 columns</p>\n",
       "</div>"
      ],
      "text/plain": [
       "   abalone  abbamele  absinthe  abura  acai  accent  accompaniment  achiote  \\\n",
       "0      0.0       0.0       0.0    0.0   0.0     0.0            0.0      0.0   \n",
       "1      0.0       0.0       0.0    0.0   0.0     0.0            0.0      0.0   \n",
       "2      0.0       0.0       0.0    0.0   0.0     0.0            0.0      0.0   \n",
       "3      0.0       0.0       0.0    0.0   0.0     0.0            0.0      0.0   \n",
       "4      0.0       0.0       0.0    0.0   0.0     0.0            0.0      0.0   \n",
       "\n",
       "   acid  acini  ...  yuzukosho   za  zatarain  zatarains  zero  zest  zesty  \\\n",
       "0   0.0    0.0  ...        0.0  0.0       0.0        0.0   0.0   0.0    0.0   \n",
       "1   0.0    0.0  ...        0.0  0.0       0.0        0.0   0.0   0.0    0.0   \n",
       "2   0.0    0.0  ...        0.0  0.0       0.0        0.0   0.0   0.0    0.0   \n",
       "3   0.0    0.0  ...        0.0  0.0       0.0        0.0   0.0   0.0    0.0   \n",
       "4   0.0    0.0  ...        0.0  0.0       0.0        0.0   0.0   0.0    0.0   \n",
       "\n",
       "   zinfandel  ziti  zucchini  \n",
       "0        0.0   0.0       0.0  \n",
       "1        0.0   0.0       0.0  \n",
       "2        0.0   0.0       0.0  \n",
       "3        0.0   0.0       0.0  \n",
       "4        0.0   0.0       0.0  \n",
       "\n",
       "[5 rows x 2978 columns]"
      ]
     },
     "execution_count": 14,
     "metadata": {},
     "output_type": "execute_result"
    }
   ],
   "source": [
    "X.head()"
   ]
  },
  {
   "cell_type": "markdown",
   "id": "eb12f60e",
   "metadata": {
    "papermill": {
     "duration": 0.016226,
     "end_time": "2023-05-24T16:41:08.848627",
     "exception": false,
     "start_time": "2023-05-24T16:41:08.832401",
     "status": "completed"
    },
    "tags": []
   },
   "source": [
    "Now observe the number of columns in the input feature. A single feature is converted into 2978 input features containing all the unique words with their respective importance or weightage for each text and all the textual form of the data is converted into vectors. \n",
    "\n",
    "Now the vectorized dataset is all set to be fed into the classification algorithm to make respective predictions. \n",
    "\n",
    "**Step 4: Train test split**\n",
    "\n",
    "First, we will define the input and output features from the dataset in order to split the data into train and test datasets. The vectorized textual data(X) is considered to be the input feature and the other column i.e cuisine column in the input dataset is considered to be the output feature(Y)."
   ]
  },
  {
   "cell_type": "code",
   "execution_count": 15,
   "id": "762ac664",
   "metadata": {
    "execution": {
     "iopub.execute_input": "2023-05-24T16:41:08.884083Z",
     "iopub.status.busy": "2023-05-24T16:41:08.883375Z",
     "iopub.status.idle": "2023-05-24T16:41:08.888381Z",
     "shell.execute_reply": "2023-05-24T16:41:08.887149Z"
    },
    "papermill": {
     "duration": 0.025823,
     "end_time": "2023-05-24T16:41:08.891126",
     "exception": false,
     "start_time": "2023-05-24T16:41:08.865303",
     "status": "completed"
    },
    "tags": []
   },
   "outputs": [],
   "source": [
    "#Target Variable\n",
    "y = df.cuisine"
   ]
  },
  {
   "cell_type": "markdown",
   "id": "2bbb99f5",
   "metadata": {
    "papermill": {
     "duration": 0.016333,
     "end_time": "2023-05-24T16:41:08.924373",
     "exception": false,
     "start_time": "2023-05-24T16:41:08.908040",
     "status": "completed"
    },
    "tags": []
   },
   "source": [
    "Now we will split the X, and Y features into train and test datasets using scikit learn’s train_test_split method. The dataset is split into training and testing datasets separately as X_train, y_train, X_test, and y_test. We will 30% of the data for testing the data and the remaining 70% of the data for training the model. "
   ]
  },
  {
   "cell_type": "code",
   "execution_count": 16,
   "id": "fae55d6a",
   "metadata": {
    "execution": {
     "iopub.execute_input": "2023-05-24T16:41:08.960093Z",
     "iopub.status.busy": "2023-05-24T16:41:08.959184Z",
     "iopub.status.idle": "2023-05-24T16:41:09.455173Z",
     "shell.execute_reply": "2023-05-24T16:41:09.454027Z"
    },
    "papermill": {
     "duration": 0.516792,
     "end_time": "2023-05-24T16:41:09.457916",
     "exception": false,
     "start_time": "2023-05-24T16:41:08.941124",
     "status": "completed"
    },
    "tags": []
   },
   "outputs": [],
   "source": [
    "#Creating training and test sets\n",
    "X_train,X_test,y_train,y_test = train_test_split(X,y,test_size=0.30,random_state=99)"
   ]
  },
  {
   "cell_type": "markdown",
   "id": "d76c2eb8",
   "metadata": {
    "papermill": {
     "duration": 0.016399,
     "end_time": "2023-05-24T16:41:09.490843",
     "exception": false,
     "start_time": "2023-05-24T16:41:09.474444",
     "status": "completed"
    },
    "tags": []
   },
   "source": [
    "The shape of the training and testing datasets are printed to get inference about the data distribution. After the observation, the training dataset is distributed with 27773 rows and the test dataset is distributed with 11904 rows based on the test_size provided during the splitting."
   ]
  },
  {
   "cell_type": "code",
   "execution_count": 17,
   "id": "7a8e6e4b",
   "metadata": {
    "execution": {
     "iopub.execute_input": "2023-05-24T16:41:09.525914Z",
     "iopub.status.busy": "2023-05-24T16:41:09.525483Z",
     "iopub.status.idle": "2023-05-24T16:41:09.532123Z",
     "shell.execute_reply": "2023-05-24T16:41:09.530804Z"
    },
    "papermill": {
     "duration": 0.027087,
     "end_time": "2023-05-24T16:41:09.534432",
     "exception": false,
     "start_time": "2023-05-24T16:41:09.507345",
     "status": "completed"
    },
    "tags": []
   },
   "outputs": [
    {
     "name": "stdout",
     "output_type": "stream",
     "text": [
      "(27773, 2978)\n",
      "(27773,)\n",
      "(11904, 2978)\n",
      "(11904,)\n"
     ]
    }
   ],
   "source": [
    "#Shape of train-test sets\n",
    "print(X_train.shape)\n",
    "print(y_train.shape)\n",
    "print(X_test.shape)\n",
    "print(y_test.shape)"
   ]
  },
  {
   "cell_type": "markdown",
   "id": "10c38dca",
   "metadata": {
    "papermill": {
     "duration": 0.016444,
     "end_time": "2023-05-24T16:41:09.567486",
     "exception": false,
     "start_time": "2023-05-24T16:41:09.551042",
     "status": "completed"
    },
    "tags": []
   },
   "source": [
    "Step 5: Building a Text-classification model\n",
    "\n",
    "Now we’re going to build the best classification model which can achieve good performance in high-dimensional data because the dimension of the data is very high i.e (27773, 2978) for X_train data and (11904,2978) for X_test data.\n",
    "\n",
    "Based on the various classification algorithms, Tree-based methods can potentially adapt to handle high-dimensional data with good accuracy. So in order to tackle the problem of high-dimensionality of the data we are introducing one of the ensemble models of the decision tree i.e Random Forest Classifier. Random Forest is one of the best-supervised machine learning methods which can achieve good performance in high-dimensional data.\n",
    "Classification\n",
    "We are importing xgboost from sklearn and initializing the xgboost\n",
    "model.  "
   ]
  },
  {
   "cell_type": "code",
   "execution_count": 18,
   "id": "134d7d73",
   "metadata": {
    "execution": {
     "iopub.execute_input": "2023-05-24T16:41:09.602905Z",
     "iopub.status.busy": "2023-05-24T16:41:09.602442Z",
     "iopub.status.idle": "2023-05-24T16:41:09.785401Z",
     "shell.execute_reply": "2023-05-24T16:41:09.784244Z"
    },
    "papermill": {
     "duration": 0.204297,
     "end_time": "2023-05-24T16:41:09.788497",
     "exception": false,
     "start_time": "2023-05-24T16:41:09.584200",
     "status": "completed"
    },
    "tags": []
   },
   "outputs": [],
   "source": [
    "from xgboost import XGBClassifier\n",
    "from sklearn.ensemble import RandomForestClassifier"
   ]
  },
  {
   "cell_type": "code",
   "execution_count": 19,
   "id": "0148fe23",
   "metadata": {
    "execution": {
     "iopub.execute_input": "2023-05-24T16:41:09.823651Z",
     "iopub.status.busy": "2023-05-24T16:41:09.823242Z",
     "iopub.status.idle": "2023-05-24T16:41:50.388805Z",
     "shell.execute_reply": "2023-05-24T16:41:50.387409Z"
    },
    "papermill": {
     "duration": 40.586886,
     "end_time": "2023-05-24T16:41:50.392035",
     "exception": false,
     "start_time": "2023-05-24T16:41:09.805149",
     "status": "completed"
    },
    "tags": []
   },
   "outputs": [],
   "source": [
    "#Defining the random forest classification model\n",
    "model =RandomForestClassifier()\n",
    "#Training the model\n",
    "model = model.fit(X_train,y_train)"
   ]
  },
  {
   "cell_type": "markdown",
   "id": "50dd04d7",
   "metadata": {
    "papermill": {
     "duration": 0.016191,
     "end_time": "2023-05-24T16:41:50.425993",
     "exception": false,
     "start_time": "2023-05-24T16:41:50.409802",
     "status": "completed"
    },
    "tags": []
   },
   "source": [
    "making predictions"
   ]
  },
  {
   "cell_type": "code",
   "execution_count": 20,
   "id": "3950c4a6",
   "metadata": {
    "execution": {
     "iopub.execute_input": "2023-05-24T16:41:50.461030Z",
     "iopub.status.busy": "2023-05-24T16:41:50.460589Z",
     "iopub.status.idle": "2023-05-24T16:41:51.625396Z",
     "shell.execute_reply": "2023-05-24T16:41:51.624224Z"
    },
    "papermill": {
     "duration": 1.185782,
     "end_time": "2023-05-24T16:41:51.628334",
     "exception": false,
     "start_time": "2023-05-24T16:41:50.442552",
     "status": "completed"
    },
    "tags": []
   },
   "outputs": [],
   "source": [
    "#Prediction of the text data\n",
    "y_pred = model.predict(X_test)"
   ]
  },
  {
   "cell_type": "markdown",
   "id": "2c4a5059",
   "metadata": {
    "papermill": {
     "duration": 0.017323,
     "end_time": "2023-05-24T16:41:51.664187",
     "exception": false,
     "start_time": "2023-05-24T16:41:51.646864",
     "status": "completed"
    },
    "tags": []
   },
   "source": [
    "The results of the predictions of the test data are saved as y_pred. Now with the help of the prediction values and actual values, we will evaluate the performance of the model using various evaluation methods.\n",
    "\n",
    "**Step 6: Model Evaluation and obtaining prediction** \n",
    "\n",
    "Now we will evaluate the accuracy of the model using various evaluation metrics. \n",
    "\n",
    "First, we will obtain the accuracy score between the actual value (y_test) and the predicted value (y_pred). "
   ]
  },
  {
   "cell_type": "code",
   "execution_count": 21,
   "id": "6ac94ee1",
   "metadata": {
    "execution": {
     "iopub.execute_input": "2023-05-24T16:41:51.699560Z",
     "iopub.status.busy": "2023-05-24T16:41:51.699129Z",
     "iopub.status.idle": "2023-05-24T16:41:51.729148Z",
     "shell.execute_reply": "2023-05-24T16:41:51.727881Z"
    },
    "papermill": {
     "duration": 0.05111,
     "end_time": "2023-05-24T16:41:51.731831",
     "exception": false,
     "start_time": "2023-05-24T16:41:51.680721",
     "status": "completed"
    },
    "tags": []
   },
   "outputs": [
    {
     "name": "stdout",
     "output_type": "stream",
     "text": [
      "Accuracy Score: 0.7415154569892473\n"
     ]
    }
   ],
   "source": [
    "#Computing Accuracy Score\n",
    "print(\"Accuracy Score:\",accuracy_score(y_pred,y_test))"
   ]
  },
  {
   "cell_type": "markdown",
   "id": "cfba1af5",
   "metadata": {
    "papermill": {
     "duration": 0.016401,
     "end_time": "2023-05-24T16:41:51.765559",
     "exception": false,
     "start_time": "2023-05-24T16:41:51.749158",
     "status": "completed"
    },
    "tags": []
   },
   "source": [
    "Based on the accuracy score obtained, the random forest classification model performs prediction with an accuracy of 74.655%. \n",
    "\n",
    "The second evaluation metric which we are using is the Classification Report. The classification report is used to analyze the precision, recall, F1 Score, and support of the trained classification model."
   ]
  },
  {
   "cell_type": "code",
   "execution_count": 22,
   "id": "3d9550e6",
   "metadata": {
    "execution": {
     "iopub.execute_input": "2023-05-24T16:41:51.801180Z",
     "iopub.status.busy": "2023-05-24T16:41:51.800725Z",
     "iopub.status.idle": "2023-05-24T16:41:52.423217Z",
     "shell.execute_reply": "2023-05-24T16:41:52.421786Z"
    },
    "papermill": {
     "duration": 0.643601,
     "end_time": "2023-05-24T16:41:52.426084",
     "exception": false,
     "start_time": "2023-05-24T16:41:51.782483",
     "status": "completed"
    },
    "tags": []
   },
   "outputs": [
    {
     "name": "stdout",
     "output_type": "stream",
     "text": [
      "              precision    recall  f1-score   support\n",
      "\n",
      "   brazilian       0.41      0.85      0.56        71\n",
      "     british       0.18      0.61      0.28        71\n",
      "cajun_creole       0.66      0.79      0.72       366\n",
      "     chinese       0.87      0.73      0.79       955\n",
      "    filipino       0.50      0.82      0.62       136\n",
      "      french       0.52      0.55      0.53       735\n",
      "       greek       0.56      0.85      0.67       226\n",
      "      indian       0.92      0.78      0.85      1060\n",
      "       irish       0.27      0.71      0.40        75\n",
      "     italian       0.93      0.70      0.79      3185\n",
      "    jamaican       0.47      0.91      0.62        80\n",
      "    japanese       0.64      0.85      0.73       323\n",
      "      korean       0.67      0.92      0.78       173\n",
      "     mexican       0.92      0.85      0.88      2119\n",
      "    moroccan       0.57      0.89      0.69       157\n",
      "     russian       0.21      0.83      0.34        35\n",
      " southern_us       0.74      0.65      0.69      1474\n",
      "     spanish       0.21      0.77      0.33        83\n",
      "        thai       0.77      0.77      0.77       465\n",
      "  vietnamese       0.37      0.80      0.51       115\n",
      "\n",
      "    accuracy                           0.74     11904\n",
      "   macro avg       0.57      0.78      0.63     11904\n",
      "weighted avg       0.80      0.74      0.76     11904\n",
      "\n"
     ]
    }
   ],
   "source": [
    "#Printing Classification Report\n",
    "print(classification_report(y_pred,y_test))"
   ]
  },
  {
   "cell_type": "markdown",
   "id": "dd37f7f3",
   "metadata": {
    "papermill": {
     "duration": 0.016612,
     "end_time": "2023-05-24T16:41:52.459681",
     "exception": false,
     "start_time": "2023-05-24T16:41:52.443069",
     "status": "completed"
    },
    "tags": []
   },
   "source": [
    "Based on the classification report twelve classes out of twenty classes are showing good performance in all the three evaluation metrics(precision, recall, and f1 score) and obtaining an average f1 score of 75%. \n",
    "\n",
    "The third evaluation metric which we are using is the confusion matrix. The confusion matrix allows us to visualize the performance of the classification machine learning model. The performance of the random forest classification model is evaluated using a confusion matrix and visualized. "
   ]
  },
  {
   "cell_type": "code",
   "execution_count": 23,
   "id": "3c84f2b5",
   "metadata": {
    "execution": {
     "iopub.execute_input": "2023-05-24T16:41:52.495962Z",
     "iopub.status.busy": "2023-05-24T16:41:52.495453Z",
     "iopub.status.idle": "2023-05-24T16:41:55.652128Z",
     "shell.execute_reply": "2023-05-24T16:41:55.650798Z"
    },
    "papermill": {
     "duration": 3.179239,
     "end_time": "2023-05-24T16:41:55.656423",
     "exception": false,
     "start_time": "2023-05-24T16:41:52.477184",
     "status": "completed"
    },
    "tags": []
   },
   "outputs": [
    {
     "name": "stderr",
     "output_type": "stream",
     "text": [
      "/opt/conda/lib/python3.7/site-packages/sklearn/utils/deprecation.py:87: FutureWarning: Function plot_confusion_matrix is deprecated; Function `plot_confusion_matrix` is deprecated in 1.0 and will be removed in 1.2. Use one of the class methods: ConfusionMatrixDisplay.from_predictions or ConfusionMatrixDisplay.from_estimator.\n",
      "  warnings.warn(msg, category=FutureWarning)\n"
     ]
    },
    {
     "data": {
      "image/png": "[encoded data removed]",
      "text/plain": [
       "<Figure size 432x288 with 2 Axes>"
      ]
     },
     "metadata": {
      "needs_background": "light"
     },
     "output_type": "display_data"
    }
   ],
   "source": [
    "# Plotting confusion matrix\n",
    "plot_confusion_matrix(model,X_test,y_test)\n",
    "plt.show()"
   ]
  },
  {
   "cell_type": "markdown",
   "id": "ccb821d9",
   "metadata": {
    "papermill": {
     "duration": 0.018675,
     "end_time": "2023-05-24T16:41:55.695434",
     "exception": false,
     "start_time": "2023-05-24T16:41:55.676759",
     "status": "completed"
    },
    "tags": []
   },
   "source": [
    "Now we will try to randomly predict the cuisine classes on new data or a new cuisine description.  So we are defining a function which at the first step will convert the input string into a NumPy array so that the data can be vectorized. The second step is converting the text value into vectors with respective weightage. After vectorization, we are calling the model to predict the class of the new data. "
   ]
  },
  {
   "cell_type": "code",
   "execution_count": 24,
   "id": "27c20ddb",
   "metadata": {
    "execution": {
     "iopub.execute_input": "2023-05-24T16:41:55.734679Z",
     "iopub.status.busy": "2023-05-24T16:41:55.733895Z",
     "iopub.status.idle": "2023-05-24T16:41:55.739713Z",
     "shell.execute_reply": "2023-05-24T16:41:55.738646Z"
    },
    "papermill": {
     "duration": 0.028803,
     "end_time": "2023-05-24T16:41:55.742519",
     "exception": false,
     "start_time": "2023-05-24T16:41:55.713716",
     "status": "completed"
    },
    "tags": []
   },
   "outputs": [],
   "source": [
    "def prediction(a):\n",
    " a = np.array([a])\n",
    " #Vectorization using TF-IDF\n",
    " a = tv.transform(a)\n",
    " #PREDICTED VALUE\n",
    " x = model.predict(a)\n",
    " return x"
   ]
  },
  {
   "cell_type": "markdown",
   "id": "20e6bce8",
   "metadata": {
    "papermill": {
     "duration": 0.017908,
     "end_time": "2023-05-24T16:41:55.779174",
     "exception": false,
     "start_time": "2023-05-24T16:41:55.761266",
     "status": "completed"
    },
    "tags": []
   },
   "source": [
    "**Test case 1**: Consider a new cuisine description, and use the constructed model to predict the cuisine for the respected cuisine description. After the prediction, the model has predicted the cuisine \"indian\" for the respected cuisine description. "
   ]
  },
  {
   "cell_type": "code",
   "execution_count": 25,
   "id": "e7af39b6",
   "metadata": {
    "execution": {
     "iopub.execute_input": "2023-05-24T16:41:55.819082Z",
     "iopub.status.busy": "2023-05-24T16:41:55.818306Z",
     "iopub.status.idle": "2023-05-24T16:41:55.843063Z",
     "shell.execute_reply": "2023-05-24T16:41:55.841806Z"
    },
    "papermill": {
     "duration": 0.048243,
     "end_time": "2023-05-24T16:41:55.845707",
     "exception": false,
     "start_time": "2023-05-24T16:41:55.797464",
     "status": "completed"
    },
    "tags": []
   },
   "outputs": [
    {
     "name": "stderr",
     "output_type": "stream",
     "text": [
      "/opt/conda/lib/python3.7/site-packages/sklearn/base.py:451: UserWarning: X does not have valid feature names, but RandomForestClassifier was fitted with feature names\n",
      "  \"X does not have valid feature names, but\"\n"
     ]
    },
    {
     "data": {
      "text/plain": [
       "array(['indian'], dtype=object)"
      ]
     },
     "execution_count": 25,
     "metadata": {},
     "output_type": "execute_result"
    }
   ],
   "source": [
    "a =\"olive oil sea salt coconut milk water garam masala ground coriander basmati rice cauliflower fresh ginger green chilies onions fresh cilantro potatoes scallions cumin\"\n",
    "prediction(a)"
   ]
  },
  {
   "cell_type": "markdown",
   "id": "09af3570",
   "metadata": {
    "papermill": {
     "duration": 0.018238,
     "end_time": "2023-05-24T16:41:55.882558",
     "exception": false,
     "start_time": "2023-05-24T16:41:55.864320",
     "status": "completed"
    },
    "tags": []
   },
   "source": [
    "**Test case 2**: Consider a new cuisine description, and use the constructed model to predict the cuisine for the respected cuisine description. After the prediction, the model has predicted the cuisine \"italian\" for the respected cuisine description. "
   ]
  },
  {
   "cell_type": "code",
   "execution_count": 26,
   "id": "ea81bacb",
   "metadata": {
    "execution": {
     "iopub.execute_input": "2023-05-24T16:41:55.922236Z",
     "iopub.status.busy": "2023-05-24T16:41:55.921814Z",
     "iopub.status.idle": "2023-05-24T16:41:55.944147Z",
     "shell.execute_reply": "2023-05-24T16:41:55.942983Z"
    },
    "papermill": {
     "duration": 0.045031,
     "end_time": "2023-05-24T16:41:55.946917",
     "exception": false,
     "start_time": "2023-05-24T16:41:55.901886",
     "status": "completed"
    },
    "tags": []
   },
   "outputs": [
    {
     "data": {
      "text/plain": [
       "array(['italian'], dtype=object)"
      ]
     },
     "execution_count": 26,
     "metadata": {},
     "output_type": "execute_result"
    }
   ],
   "source": [
    "a =\"tomato sauce shredded carrots spinach part skim mozzarella cheese italian seasoning english muffins split toasted chopped onion vegetable oil cooking spray chopped green bell pepper\"\n",
    "prediction(a)"
   ]
  },
  {
   "cell_type": "markdown",
   "id": "5212dba6",
   "metadata": {
    "papermill": {
     "duration": 0.019286,
     "end_time": "2023-05-24T16:41:55.985609",
     "exception": false,
     "start_time": "2023-05-24T16:41:55.966323",
     "status": "completed"
    },
    "tags": []
   },
   "source": [
    "AAAAAND THATS A WRAP"
   ]
  },
  {
   "cell_type": "code",
   "execution_count": null,
   "id": "4601e8ea",
   "metadata": {
    "papermill": {
     "duration": 0.019751,
     "end_time": "2023-05-24T16:41:56.024536",
     "exception": false,
     "start_time": "2023-05-24T16:41:56.004785",
     "status": "completed"
    },
    "tags": []
   },
   "outputs": [],
   "source": []
  }
 ],
 "metadata": {
  "kernelspec": {
   "display_name": "Python 3",
   "language": "python",
   "name": "python3"
  },
  "language_info": {
   "codemirror_mode": {
    "name": "ipython",
    "version": 3
   },
   "file_extension": ".py",
   "mimetype": "text/x-python",
   "name": "python",
   "nbconvert_exporter": "python",
   "pygments_lexer": "ipython3",
   "version": "3.7.12"
  },
  "papermill": {
   "default_parameters": {},
   "duration": 201.764583,
   "end_time": "2023-05-24T16:41:57.068651",
   "environment_variables": {},
   "exception": null,
   "input_path": "__notebook__.ipynb",
   "output_path": "__notebook__.ipynb",
   "parameters": {},
   "start_time": "2023-05-24T16:38:35.304068",
   "version": "2.3.4"
  }
 },
 "nbformat": 4,
 "nbformat_minor": 5
}
