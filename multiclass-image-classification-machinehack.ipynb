{
 "cells": [
  {
   "cell_type": "code",
   "execution_count": 1,
   "id": "2f4ec7ed",
   "metadata": {
    "_cell_guid": "b1076dfc-b9ad-4769-8c92-a6c4dae69d19",
    "_uuid": "8f2839f25d086af736a60e9eeb907d3b93b6e0e5",
    "execution": {
     "iopub.execute_input": "2023-02-05T13:56:06.446940Z",
     "iopub.status.busy": "2023-02-05T13:56:06.446442Z",
     "iopub.status.idle": "2023-02-05T13:56:06.458247Z",
     "shell.execute_reply": "2023-02-05T13:56:06.457267Z"
    },
    "papermill": {
     "duration": 0.022403,
     "end_time": "2023-02-05T13:56:06.460396",
     "exception": false,
     "start_time": "2023-02-05T13:56:06.437993",
     "status": "completed"
    },
    "tags": []
   },
   "outputs": [],
   "source": [
    "# This Python 3 environment comes with many helpful analytics libraries installed\n",
    "# It is defined by the kaggle/python Docker image: https://github.com/kaggle/docker-python\n",
    "# For example, here's several helpful packages to load\n",
    "\n",
    "import numpy as np # linear algebra\n",
    "import pandas as pd # data processing, CSV file I/O (e.g. pd.read_csv)\n",
    "\n",
    "# Input data files are available in the read-only \"../input/\" directory\n",
    "# For example, running this (by clicking run or pressing Shift+Enter) will list all files under the input directory\n",
    "\n",
    "import os\n",
    "for dirname, _, filenames in os.walk('/kaggle/input'):\n",
    "    for filename in filenames:\n",
    "        print(os.path.join(dirname, filename))\n",
    "\n",
    "# You can write up to 20GB to the current directory (/kaggle/working/) that gets preserved as output when you create a version using \"Save & Run All\" \n",
    "# You can also write temporary files to /kaggle/temp/, but they won't be saved outside of the current session"
   ]
  },
  {
   "cell_type": "markdown",
   "id": "6a30a182",
   "metadata": {
    "papermill": {
     "duration": 0.005473,
     "end_time": "2023-02-05T13:56:06.471492",
     "exception": false,
     "start_time": "2023-02-05T13:56:06.466019",
     "status": "completed"
    },
    "tags": []
   },
   "source": [
    "The model that we are using is the VGG-19 model, which has 19 layers. VGG-19 Deep Convolutional Network is used as a Transfer Learning framework where the VGGNet comes pre-trained on the ImageNet dataset. For the experiment, we will use the CIFAR-10 dataset and classify the image objects into 10 classes. \n",
    "\n",
    "In this experiment, we will be using the CIFAR-10 dataset which is a publically available image data set provided by the Canadian Institute for Advanced Research (CIFAR). It consists of 60000 32×32 colour images in 10 classes, with 6000 images per class. The 10 different classes represent aeroplanes, cars, birds, cats, deer, dogs, frogs, horses, ships, and trucks. There are 50000 training images and 10000 test images in this dataset.\n",
    "\n",
    "So the following steps are to be taken to address this problem. \n",
    "\n",
    "**Step 1: Importing the required libraries**\n",
    "\n",
    "In the first step, we are going to import all the necessary libraries required to through this experiment."
   ]
  },
  {
   "cell_type": "code",
   "execution_count": 2,
   "id": "7d96398d",
   "metadata": {
    "execution": {
     "iopub.execute_input": "2023-02-05T13:56:06.484209Z",
     "iopub.status.busy": "2023-02-05T13:56:06.483446Z",
     "iopub.status.idle": "2023-02-05T13:56:13.349230Z",
     "shell.execute_reply": "2023-02-05T13:56:13.348228Z"
    },
    "papermill": {
     "duration": 6.874682,
     "end_time": "2023-02-05T13:56:13.351614",
     "exception": false,
     "start_time": "2023-02-05T13:56:06.476932",
     "status": "completed"
    },
    "tags": []
   },
   "outputs": [],
   "source": [
    "# importing the required libraries\n",
    "import numpy as np\n",
    "import matplotlib.pyplot as plt\n",
    "from sklearn.model_selection import train_test_split\n",
    "from sklearn.metrics import confusion_matrix\n",
    "from keras import Sequential\n",
    "# For Transfer Learning\n",
    "from keras.applications.vgg19 import VGG19\n",
    "from keras.preprocessing.image import ImageDataGenerator\n",
    "from keras.optimizer_v2.adam import Adam\n",
    "from keras.layers import Flatten, Dense, BatchNormalization, Activation, Dropout\n",
    "from keras.utils.np_utils import to_categorical\n",
    "# Keras library for CIFAR-10 dataset\n",
    "from keras.datasets import cifar10"
   ]
  },
  {
   "cell_type": "markdown",
   "id": "8ea2c12d",
   "metadata": {
    "papermill": {
     "duration": 0.005455,
     "end_time": "2023-02-05T13:56:13.362871",
     "exception": false,
     "start_time": "2023-02-05T13:56:13.357416",
     "status": "completed"
    },
    "tags": []
   },
   "source": [
    "**Step 2: Load the dataset**\n",
    "\n",
    "Now in the very beginning step let’s import the CIFAR data as separate training and testing tests. "
   ]
  },
  {
   "cell_type": "code",
   "execution_count": 3,
   "id": "c52604cd",
   "metadata": {
    "execution": {
     "iopub.execute_input": "2023-02-05T13:56:13.376509Z",
     "iopub.status.busy": "2023-02-05T13:56:13.374847Z",
     "iopub.status.idle": "2023-02-05T13:56:17.072993Z",
     "shell.execute_reply": "2023-02-05T13:56:17.071993Z"
    },
    "papermill": {
     "duration": 3.70727,
     "end_time": "2023-02-05T13:56:17.075633",
     "exception": false,
     "start_time": "2023-02-05T13:56:13.368363",
     "status": "completed"
    },
    "tags": []
   },
   "outputs": [
    {
     "name": "stdout",
     "output_type": "stream",
     "text": [
      "Downloading data from https://www.cs.toronto.edu/~kriz/cifar-10-python.tar.gz\n",
      "170500096/170498071 [==============================] - 2s 0us/step\n",
      "170508288/170498071 [==============================] - 2s 0us/step\n"
     ]
    }
   ],
   "source": [
    "# Downloading the CIFAR dataset\n",
    "(x_train,y_train),(x_test,y_test)=cifar10.load_data()"
   ]
  },
  {
   "cell_type": "markdown",
   "id": "8d81e9d0",
   "metadata": {
    "papermill": {
     "duration": 0.007296,
     "end_time": "2023-02-05T13:56:17.091997",
     "exception": false,
     "start_time": "2023-02-05T13:56:17.084701",
     "status": "completed"
    },
    "tags": []
   },
   "source": [
    "So we have only the training dataset and a testing dataset, to validate the performance while training the model a separate validation set is a must to have. Below the above training data, we will perceive 80% portion of it as training data and the rest will be used as a validation set."
   ]
  },
  {
   "cell_type": "code",
   "execution_count": 4,
   "id": "53de48f1",
   "metadata": {
    "execution": {
     "iopub.execute_input": "2023-02-05T13:56:17.108592Z",
     "iopub.status.busy": "2023-02-05T13:56:17.107672Z",
     "iopub.status.idle": "2023-02-05T13:56:17.163203Z",
     "shell.execute_reply": "2023-02-05T13:56:17.161643Z"
    },
    "papermill": {
     "duration": 0.066685,
     "end_time": "2023-02-05T13:56:17.165987",
     "exception": false,
     "start_time": "2023-02-05T13:56:17.099302",
     "status": "completed"
    },
    "tags": []
   },
   "outputs": [
    {
     "name": "stdout",
     "output_type": "stream",
     "text": [
      "((37500, 32, 32, 3), (37500, 1))\n",
      "((12500, 32, 32, 3), (12500, 1))\n",
      "((10000, 32, 32, 3), (10000, 1))\n"
     ]
    }
   ],
   "source": [
    "# Defining training and test sets\n",
    "x_train,x_val,y_train,y_val=train_test_split(x_train,y_train) \n",
    "# Dimension of the dataset\n",
    "print((x_train.shape,y_train.shape))\n",
    "print((x_val.shape,y_val.shape))\n",
    "print((x_test.shape,y_test.shape))"
   ]
  },
  {
   "cell_type": "markdown",
   "id": "9cc96ca6",
   "metadata": {
    "papermill": {
     "duration": 0.007706,
     "end_time": "2023-02-05T13:56:17.182059",
     "exception": false,
     "start_time": "2023-02-05T13:56:17.174353",
     "status": "completed"
    },
    "tags": []
   },
   "source": [
    "As we can see, for training the model we have 37500 samples of images, 12500 for validating the model and 10000 samples to evaluate the performance of the trained model. \n",
    "\n",
    "**Step 3: Data preprocessing**\n",
    "\n",
    "In this section, first, we will represent the category as sparse values that is one hot encoding. "
   ]
  },
  {
   "cell_type": "code",
   "execution_count": 5,
   "id": "ae3b0e29",
   "metadata": {
    "execution": {
     "iopub.execute_input": "2023-02-05T13:56:17.198330Z",
     "iopub.status.busy": "2023-02-05T13:56:17.198008Z",
     "iopub.status.idle": "2023-02-05T13:56:17.206485Z",
     "shell.execute_reply": "2023-02-05T13:56:17.204906Z"
    },
    "papermill": {
     "duration": 0.019449,
     "end_time": "2023-02-05T13:56:17.209141",
     "exception": false,
     "start_time": "2023-02-05T13:56:17.189692",
     "status": "completed"
    },
    "tags": []
   },
   "outputs": [
    {
     "name": "stdout",
     "output_type": "stream",
     "text": [
      "((37500, 32, 32, 3), (37500, 10))\n",
      "((12500, 32, 32, 3), (12500, 10))\n",
      "((10000, 32, 32, 3), (10000, 10))\n"
     ]
    }
   ],
   "source": [
    "# One Hot Encoding\n",
    "y_train=to_categorical(y_train)\n",
    "y_val=to_categorical(y_val)\n",
    "y_test=to_categorical(y_test)\n",
    "# Now let’s check the shape of the data.\n",
    "# Verifying the dimension after one hot encoding\n",
    "print((x_train.shape,y_train.shape))\n",
    "print((x_val.shape,y_val.shape))\n",
    "print((x_test.shape,y_test.shape))"
   ]
  },
  {
   "cell_type": "markdown",
   "id": "9b8ae552",
   "metadata": {
    "papermill": {
     "duration": 0.007718,
     "end_time": "2023-02-05T13:56:17.225394",
     "exception": false,
     "start_time": "2023-02-05T13:56:17.217676",
     "status": "completed"
    },
    "tags": []
   },
   "source": [
    "As you can see we have successfully converted the target variable into a one-hot encoding representation. Now let’s use the ImageDataGenerator module to create the batches of the images so that while training we can feed data sequentially. Below, we will initiate the separate data generator function for each phase, that is training, testing, and validation. "
   ]
  },
  {
   "cell_type": "code",
   "execution_count": 6,
   "id": "5b5b354a",
   "metadata": {
    "execution": {
     "iopub.execute_input": "2023-02-05T13:56:17.242387Z",
     "iopub.status.busy": "2023-02-05T13:56:17.241474Z",
     "iopub.status.idle": "2023-02-05T13:56:17.247464Z",
     "shell.execute_reply": "2023-02-05T13:56:17.246579Z"
    },
    "papermill": {
     "duration": 0.016474,
     "end_time": "2023-02-05T13:56:17.249569",
     "exception": false,
     "start_time": "2023-02-05T13:56:17.233095",
     "status": "completed"
    },
    "tags": []
   },
   "outputs": [],
   "source": [
    "# Image Data Augmentation\n",
    "train_generator = ImageDataGenerator(rotation_range=2, horizontal_flip=True, zoom_range=.1)\n",
    "val_generator = ImageDataGenerator(rotation_range=2, horizontal_flip=True, zoom_range=.1)\n",
    "test_generator = ImageDataGenerator()"
   ]
  },
  {
   "cell_type": "markdown",
   "id": "c103b6b4",
   "metadata": {
    "papermill": {
     "duration": 0.007281,
     "end_time": "2023-02-05T13:56:17.264427",
     "exception": false,
     "start_time": "2023-02-05T13:56:17.257146",
     "status": "completed"
    },
    "tags": []
   },
   "source": [
    "Now we have initialized the data generator. Now let’s fit the generator on the respective dataset.\n",
    "\n"
   ]
  },
  {
   "cell_type": "code",
   "execution_count": 7,
   "id": "42b44227",
   "metadata": {
    "execution": {
     "iopub.execute_input": "2023-02-05T13:56:17.281305Z",
     "iopub.status.busy": "2023-02-05T13:56:17.280485Z",
     "iopub.status.idle": "2023-02-05T13:56:17.737938Z",
     "shell.execute_reply": "2023-02-05T13:56:17.736878Z"
    },
    "papermill": {
     "duration": 0.468436,
     "end_time": "2023-02-05T13:56:17.740385",
     "exception": false,
     "start_time": "2023-02-05T13:56:17.271949",
     "status": "completed"
    },
    "tags": []
   },
   "outputs": [],
   "source": [
    "# Fitting the augmentation defined above to the data\n",
    "train_generator.fit(x_train)\n",
    "val_generator.fit(x_val)\n",
    "test_generator.fit(x_test)"
   ]
  },
  {
   "cell_type": "markdown",
   "id": "49f85b4f",
   "metadata": {
    "papermill": {
     "duration": 0.008273,
     "end_time": "2023-02-05T13:56:17.760769",
     "exception": false,
     "start_time": "2023-02-05T13:56:17.752496",
     "status": "completed"
    },
    "tags": []
   },
   "source": [
    "**Step 4: Loading and training VGG19**\n",
    "\n",
    "Now we will start with building the model, first, we will initialize the rained model that VGG-19 with pre-trained weights from the ImageNet competition.   "
   ]
  },
  {
   "cell_type": "code",
   "execution_count": 8,
   "id": "dbf384de",
   "metadata": {
    "execution": {
     "iopub.execute_input": "2023-02-05T13:56:17.778290Z",
     "iopub.status.busy": "2023-02-05T13:56:17.777263Z",
     "iopub.status.idle": "2023-02-05T13:56:22.702010Z",
     "shell.execute_reply": "2023-02-05T13:56:22.700935Z"
    },
    "papermill": {
     "duration": 4.936111,
     "end_time": "2023-02-05T13:56:22.704774",
     "exception": false,
     "start_time": "2023-02-05T13:56:17.768663",
     "status": "completed"
    },
    "tags": []
   },
   "outputs": [
    {
     "name": "stderr",
     "output_type": "stream",
     "text": [
      "2023-02-05 13:56:17.947135: I tensorflow/stream_executor/cuda/cuda_gpu_executor.cc:937] successful NUMA node read from SysFS had negative value (-1), but there must be at least one NUMA node, so returning NUMA node zero\n",
      "2023-02-05 13:56:17.948074: I tensorflow/stream_executor/cuda/cuda_gpu_executor.cc:937] successful NUMA node read from SysFS had negative value (-1), but there must be at least one NUMA node, so returning NUMA node zero\n",
      "2023-02-05 13:56:18.067836: I tensorflow/stream_executor/cuda/cuda_gpu_executor.cc:937] successful NUMA node read from SysFS had negative value (-1), but there must be at least one NUMA node, so returning NUMA node zero\n",
      "2023-02-05 13:56:18.068676: I tensorflow/stream_executor/cuda/cuda_gpu_executor.cc:937] successful NUMA node read from SysFS had negative value (-1), but there must be at least one NUMA node, so returning NUMA node zero\n",
      "2023-02-05 13:56:18.069523: I tensorflow/stream_executor/cuda/cuda_gpu_executor.cc:937] successful NUMA node read from SysFS had negative value (-1), but there must be at least one NUMA node, so returning NUMA node zero\n",
      "2023-02-05 13:56:18.070399: I tensorflow/stream_executor/cuda/cuda_gpu_executor.cc:937] successful NUMA node read from SysFS had negative value (-1), but there must be at least one NUMA node, so returning NUMA node zero\n",
      "2023-02-05 13:56:18.072787: I tensorflow/core/platform/cpu_feature_guard.cc:142] This TensorFlow binary is optimized with oneAPI Deep Neural Network Library (oneDNN) to use the following CPU instructions in performance-critical operations:  AVX2 AVX512F FMA\n",
      "To enable them in other operations, rebuild TensorFlow with the appropriate compiler flags.\n",
      "2023-02-05 13:56:18.306932: I tensorflow/stream_executor/cuda/cuda_gpu_executor.cc:937] successful NUMA node read from SysFS had negative value (-1), but there must be at least one NUMA node, so returning NUMA node zero\n",
      "2023-02-05 13:56:18.307844: I tensorflow/stream_executor/cuda/cuda_gpu_executor.cc:937] successful NUMA node read from SysFS had negative value (-1), but there must be at least one NUMA node, so returning NUMA node zero\n",
      "2023-02-05 13:56:18.308655: I tensorflow/stream_executor/cuda/cuda_gpu_executor.cc:937] successful NUMA node read from SysFS had negative value (-1), but there must be at least one NUMA node, so returning NUMA node zero\n",
      "2023-02-05 13:56:18.309540: I tensorflow/stream_executor/cuda/cuda_gpu_executor.cc:937] successful NUMA node read from SysFS had negative value (-1), but there must be at least one NUMA node, so returning NUMA node zero\n",
      "2023-02-05 13:56:18.310264: I tensorflow/stream_executor/cuda/cuda_gpu_executor.cc:937] successful NUMA node read from SysFS had negative value (-1), but there must be at least one NUMA node, so returning NUMA node zero\n",
      "2023-02-05 13:56:18.310981: I tensorflow/stream_executor/cuda/cuda_gpu_executor.cc:937] successful NUMA node read from SysFS had negative value (-1), but there must be at least one NUMA node, so returning NUMA node zero\n",
      "2023-02-05 13:56:21.416690: I tensorflow/stream_executor/cuda/cuda_gpu_executor.cc:937] successful NUMA node read from SysFS had negative value (-1), but there must be at least one NUMA node, so returning NUMA node zero\n",
      "2023-02-05 13:56:21.417623: I tensorflow/stream_executor/cuda/cuda_gpu_executor.cc:937] successful NUMA node read from SysFS had negative value (-1), but there must be at least one NUMA node, so returning NUMA node zero\n",
      "2023-02-05 13:56:21.418365: I tensorflow/stream_executor/cuda/cuda_gpu_executor.cc:937] successful NUMA node read from SysFS had negative value (-1), but there must be at least one NUMA node, so returning NUMA node zero\n",
      "2023-02-05 13:56:21.419089: I tensorflow/stream_executor/cuda/cuda_gpu_executor.cc:937] successful NUMA node read from SysFS had negative value (-1), but there must be at least one NUMA node, so returning NUMA node zero\n",
      "2023-02-05 13:56:21.419808: I tensorflow/stream_executor/cuda/cuda_gpu_executor.cc:937] successful NUMA node read from SysFS had negative value (-1), but there must be at least one NUMA node, so returning NUMA node zero\n",
      "2023-02-05 13:56:21.420485: I tensorflow/core/common_runtime/gpu/gpu_device.cc:1510] Created device /job:localhost/replica:0/task:0/device:GPU:0 with 13789 MB memory:  -> device: 0, name: Tesla T4, pci bus id: 0000:00:04.0, compute capability: 7.5\n",
      "2023-02-05 13:56:21.423749: I tensorflow/stream_executor/cuda/cuda_gpu_executor.cc:937] successful NUMA node read from SysFS had negative value (-1), but there must be at least one NUMA node, so returning NUMA node zero\n",
      "2023-02-05 13:56:21.424422: I tensorflow/core/common_runtime/gpu/gpu_device.cc:1510] Created device /job:localhost/replica:0/task:0/device:GPU:1 with 13789 MB memory:  -> device: 1, name: Tesla T4, pci bus id: 0000:00:05.0, compute capability: 7.5\n"
     ]
    },
    {
     "name": "stdout",
     "output_type": "stream",
     "text": [
      "Downloading data from https://storage.googleapis.com/tensorflow/keras-applications/vgg19/vgg19_weights_tf_dim_ordering_tf_kernels_notop.h5\n",
      "80142336/80134624 [==============================] - 0s 0us/step\n",
      "80150528/80134624 [==============================] - 0s 0us/step\n"
     ]
    }
   ],
   "source": [
    "# Defining the VGG Convolutional Neural Net\n",
    "base_model = VGG19(include_top = False, weights = 'imagenet',\n",
    "                input_shape = (32,32,3), classes = y_train.shape[1])"
   ]
  },
  {
   "cell_type": "markdown",
   "id": "8c2424df",
   "metadata": {
    "papermill": {
     "duration": 0.007955,
     "end_time": "2023-02-05T13:56:22.721229",
     "exception": false,
     "start_time": "2023-02-05T13:56:22.713274",
     "status": "completed"
    },
    "tags": []
   },
   "source": [
    "Above is the base model that we have initialized, now we will add the last classifier model on top of the above model. Below we will first create Keras sequential model and will first add the base model that is the VGG-19 model and latter will add 4 dense layers with activation function as ReLU and the last layer will be the classifier layer with 10 units and softmax as the activation function."
   ]
  },
  {
   "cell_type": "code",
   "execution_count": 9,
   "id": "87c4d43c",
   "metadata": {
    "execution": {
     "iopub.execute_input": "2023-02-05T13:56:22.740060Z",
     "iopub.status.busy": "2023-02-05T13:56:22.738511Z",
     "iopub.status.idle": "2023-02-05T13:56:22.852678Z",
     "shell.execute_reply": "2023-02-05T13:56:22.851676Z"
    },
    "papermill": {
     "duration": 0.12587,
     "end_time": "2023-02-05T13:56:22.854966",
     "exception": false,
     "start_time": "2023-02-05T13:56:22.729096",
     "status": "completed"
    },
    "tags": []
   },
   "outputs": [],
   "source": [
    "# Adding the final layers to the above base models where the actual classification is done in the dense layers\n",
    "model= Sequential()\n",
    "model.add(base_model)\n",
    "model.add(Flatten())\n",
    "#Adding the Dense layers along with activation and batch normalization\n",
    "model.add(Dense(1024,activation=('relu'),input_dim=512))\n",
    "model.add(Dense(512,activation=('relu')))\n",
    "model.add(Dense(256,activation=('relu')))\n",
    "model.add(Dropout(.3))\n",
    "model.add(Dense(128,activation=('relu')))\n",
    "model.add(Dropout(.2))\n",
    "model.add(Dense(10,activation=('softmax')))"
   ]
  },
  {
   "cell_type": "markdown",
   "id": "b34e3d6e",
   "metadata": {
    "papermill": {
     "duration": 0.009723,
     "end_time": "2023-02-05T13:56:22.878632",
     "exception": false,
     "start_time": "2023-02-05T13:56:22.868909",
     "status": "completed"
    },
    "tags": []
   },
   "source": [
    "Now let’s check the model summary so that we can ensure that all the layers and parameters are intact. "
   ]
  },
  {
   "cell_type": "code",
   "execution_count": 10,
   "id": "3d7cd33a",
   "metadata": {
    "execution": {
     "iopub.execute_input": "2023-02-05T13:56:22.896338Z",
     "iopub.status.busy": "2023-02-05T13:56:22.895999Z",
     "iopub.status.idle": "2023-02-05T13:56:22.903168Z",
     "shell.execute_reply": "2023-02-05T13:56:22.902174Z"
    },
    "papermill": {
     "duration": 0.018926,
     "end_time": "2023-02-05T13:56:22.905985",
     "exception": false,
     "start_time": "2023-02-05T13:56:22.887059",
     "status": "completed"
    },
    "tags": []
   },
   "outputs": [
    {
     "name": "stdout",
     "output_type": "stream",
     "text": [
      "Model: \"sequential\"\n",
      "_________________________________________________________________\n",
      "Layer (type)                 Output Shape              Param #   \n",
      "=================================================================\n",
      "vgg19 (Functional)           (None, 1, 1, 512)         20024384  \n",
      "_________________________________________________________________\n",
      "flatten (Flatten)            (None, 512)               0         \n",
      "_________________________________________________________________\n",
      "dense (Dense)                (None, 1024)              525312    \n",
      "_________________________________________________________________\n",
      "dense_1 (Dense)              (None, 512)               524800    \n",
      "_________________________________________________________________\n",
      "dense_2 (Dense)              (None, 256)               131328    \n",
      "_________________________________________________________________\n",
      "dropout (Dropout)            (None, 256)               0         \n",
      "_________________________________________________________________\n",
      "dense_3 (Dense)              (None, 128)               32896     \n",
      "_________________________________________________________________\n",
      "dropout_1 (Dropout)          (None, 128)               0         \n",
      "_________________________________________________________________\n",
      "dense_4 (Dense)              (None, 10)                1290      \n",
      "=================================================================\n",
      "Total params: 21,240,010\n",
      "Trainable params: 21,240,010\n",
      "Non-trainable params: 0\n",
      "_________________________________________________________________\n"
     ]
    }
   ],
   "source": [
    "# Checking the final model summary\n",
    "model.summary()"
   ]
  },
  {
   "cell_type": "markdown",
   "id": "28b73a97",
   "metadata": {
    "papermill": {
     "duration": 0.008034,
     "end_time": "2023-02-05T13:56:22.923285",
     "exception": false,
     "start_time": "2023-02-05T13:56:22.915251",
     "status": "completed"
    },
    "tags": []
   },
   "source": [
    "As we can see there are a total of 21240010 parameters to be trained. Now we will initialize the hyperparameter of the model such as batch size, epochs, and learning rate."
   ]
  },
  {
   "cell_type": "code",
   "execution_count": 11,
   "id": "9f2f67f8",
   "metadata": {
    "execution": {
     "iopub.execute_input": "2023-02-05T13:56:22.949067Z",
     "iopub.status.busy": "2023-02-05T13:56:22.948498Z",
     "iopub.status.idle": "2023-02-05T13:56:22.953315Z",
     "shell.execute_reply": "2023-02-05T13:56:22.952463Z"
    },
    "papermill": {
     "duration": 0.016093,
     "end_time": "2023-02-05T13:56:22.955460",
     "exception": false,
     "start_time": "2023-02-05T13:56:22.939367",
     "status": "completed"
    },
    "tags": []
   },
   "outputs": [],
   "source": [
    "# Initializing the hyperparameters\n",
    "batch_size= 100\n",
    "epochs=50\n",
    "learn_rate=.001"
   ]
  },
  {
   "cell_type": "markdown",
   "id": "5a4f1a77",
   "metadata": {
    "papermill": {
     "duration": 0.007853,
     "end_time": "2023-02-05T13:56:22.972096",
     "exception": false,
     "start_time": "2023-02-05T13:56:22.964243",
     "status": "completed"
    },
    "tags": []
   },
   "source": [
    "As we are dealing with a multi-class problem so the optimal loss function will be the Categorical_crossentropy and to optimize this loss function adam optimizer is to be used. "
   ]
  },
  {
   "cell_type": "code",
   "execution_count": 12,
   "id": "994f4b26",
   "metadata": {
    "execution": {
     "iopub.execute_input": "2023-02-05T13:56:22.990434Z",
     "iopub.status.busy": "2023-02-05T13:56:22.990149Z",
     "iopub.status.idle": "2023-02-05T13:56:23.004117Z",
     "shell.execute_reply": "2023-02-05T13:56:23.003096Z"
    },
    "papermill": {
     "duration": 0.025824,
     "end_time": "2023-02-05T13:56:23.006709",
     "exception": false,
     "start_time": "2023-02-05T13:56:22.980885",
     "status": "completed"
    },
    "tags": []
   },
   "outputs": [
    {
     "name": "stderr",
     "output_type": "stream",
     "text": [
      "/opt/conda/lib/python3.7/site-packages/keras/optimizer_v2/optimizer_v2.py:356: UserWarning: The `lr` argument is deprecated, use `learning_rate` instead.\n",
      "  \"The `lr` argument is deprecated, use `learning_rate` instead.\")\n"
     ]
    }
   ],
   "source": [
    "adam=Adam(lr=learn_rate, beta_1=0.9, beta_2=0.999, epsilon=None, decay=0.0, amsgrad=False)\n",
    "model.compile(optimizer=adam,loss='categorical_crossentropy',metrics=['acc'])"
   ]
  },
  {
   "cell_type": "markdown",
   "id": "53b0a286",
   "metadata": {
    "papermill": {
     "duration": 0.008331,
     "end_time": "2023-02-05T13:56:23.024342",
     "exception": false,
     "start_time": "2023-02-05T13:56:23.016011",
     "status": "completed"
    },
    "tags": []
   },
   "source": [
    "Now we have compiled the model with loss function and optimizer function along with we have also initialized the accuracy metrics to check the accuracy of the model through the training. \n",
    "\n",
    "Below we will start the training model, the model will train for the 50 epochs and for each epoch 375 samples will be utilized.  "
   ]
  },
  {
   "cell_type": "code",
   "execution_count": 13,
   "id": "c6a59814",
   "metadata": {
    "_kg_hide-input": false,
    "_kg_hide-output": true,
    "execution": {
     "iopub.execute_input": "2023-02-05T13:56:23.043513Z",
     "iopub.status.busy": "2023-02-05T13:56:23.041876Z",
     "iopub.status.idle": "2023-02-05T14:21:49.067291Z",
     "shell.execute_reply": "2023-02-05T14:21:49.066215Z"
    },
    "papermill": {
     "duration": 1526.036843,
     "end_time": "2023-02-05T14:21:49.069663",
     "exception": false,
     "start_time": "2023-02-05T13:56:23.032820",
     "status": "completed"
    },
    "scrolled": true,
    "tags": []
   },
   "outputs": [
    {
     "name": "stderr",
     "output_type": "stream",
     "text": [
      "/opt/conda/lib/python3.7/site-packages/keras/engine/training.py:1972: UserWarning: `Model.fit_generator` is deprecated and will be removed in a future version. Please use `Model.fit`, which supports generators.\n",
      "  warnings.warn('`Model.fit_generator` is deprecated and '\n",
      "2023-02-05 13:56:23.612271: I tensorflow/compiler/mlir/mlir_graph_optimization_pass.cc:185] None of the MLIR Optimization Passes are enabled (registered 2)\n"
     ]
    },
    {
     "name": "stdout",
     "output_type": "stream",
     "text": [
      "Epoch 1/50\n"
     ]
    },
    {
     "name": "stderr",
     "output_type": "stream",
     "text": [
      "2023-02-05 13:56:25.964524: I tensorflow/stream_executor/cuda/cuda_dnn.cc:369] Loaded cuDNN version 8005\n"
     ]
    },
    {
     "name": "stdout",
     "output_type": "stream",
     "text": [
      "375/375 [==============================] - 41s 79ms/step - loss: 2.3779 - acc: 0.0997 - val_loss: 2.3029 - val_acc: 0.0985\n",
      "Epoch 2/50\n",
      "375/375 [==============================] - 29s 77ms/step - loss: 2.3028 - acc: 0.0999 - val_loss: 2.3028 - val_acc: 0.0984\n",
      "Epoch 3/50\n",
      "375/375 [==============================] - 29s 79ms/step - loss: 2.3028 - acc: 0.1002 - val_loss: 2.3031 - val_acc: 0.0984\n",
      "Epoch 4/50\n",
      "375/375 [==============================] - 30s 79ms/step - loss: 2.3029 - acc: 0.0995 - val_loss: 2.3029 - val_acc: 0.0988\n",
      "Epoch 5/50\n",
      "375/375 [==============================] - 29s 78ms/step - loss: 2.3028 - acc: 0.0979 - val_loss: 2.3028 - val_acc: 0.0995\n",
      "Epoch 6/50\n",
      "375/375 [==============================] - 29s 79ms/step - loss: 2.3028 - acc: 0.0997 - val_loss: 2.3027 - val_acc: 0.0988\n",
      "Epoch 7/50\n",
      "375/375 [==============================] - 30s 79ms/step - loss: 2.3027 - acc: 0.1013 - val_loss: 2.3028 - val_acc: 0.0984\n",
      "Epoch 8/50\n",
      "375/375 [==============================] - 29s 78ms/step - loss: 2.3027 - acc: 0.1005 - val_loss: 2.3028 - val_acc: 0.0985\n",
      "Epoch 9/50\n",
      "375/375 [==============================] - 30s 79ms/step - loss: 2.3027 - acc: 0.0994 - val_loss: 2.3028 - val_acc: 0.0984\n",
      "Epoch 10/50\n",
      "375/375 [==============================] - 30s 79ms/step - loss: 2.3028 - acc: 0.1013 - val_loss: 2.3028 - val_acc: 0.0988\n",
      "Epoch 11/50\n",
      "375/375 [==============================] - 29s 78ms/step - loss: 2.3027 - acc: 0.0995 - val_loss: 2.3028 - val_acc: 0.0988\n",
      "Epoch 12/50\n",
      "375/375 [==============================] - 29s 79ms/step - loss: 2.3027 - acc: 0.0961 - val_loss: 2.3028 - val_acc: 0.0988\n",
      "Epoch 13/50\n",
      "375/375 [==============================] - 30s 80ms/step - loss: 2.3027 - acc: 0.0972 - val_loss: 2.3028 - val_acc: 0.0999\n",
      "Epoch 14/50\n",
      "375/375 [==============================] - 30s 79ms/step - loss: 2.3027 - acc: 0.0992 - val_loss: 2.3028 - val_acc: 0.0985\n",
      "Epoch 15/50\n",
      "375/375 [==============================] - 30s 79ms/step - loss: 2.3027 - acc: 0.0989 - val_loss: 2.3028 - val_acc: 0.0999\n",
      "Epoch 16/50\n",
      "375/375 [==============================] - 30s 79ms/step - loss: 2.3028 - acc: 0.0966 - val_loss: 2.3028 - val_acc: 0.0979\n",
      "Epoch 17/50\n",
      "375/375 [==============================] - 30s 80ms/step - loss: 2.3027 - acc: 0.1001 - val_loss: 2.3028 - val_acc: 0.0984\n",
      "Epoch 18/50\n",
      "375/375 [==============================] - 29s 78ms/step - loss: 2.3027 - acc: 0.0989 - val_loss: 2.3028 - val_acc: 0.0984\n",
      "Epoch 19/50\n",
      "375/375 [==============================] - 30s 79ms/step - loss: 2.3027 - acc: 0.0983 - val_loss: 2.3028 - val_acc: 0.0988\n",
      "Epoch 20/50\n",
      "375/375 [==============================] - 30s 79ms/step - loss: 2.3027 - acc: 0.0987 - val_loss: 2.3028 - val_acc: 0.0984\n",
      "Epoch 21/50\n",
      "375/375 [==============================] - 30s 79ms/step - loss: 2.3027 - acc: 0.0979 - val_loss: 2.3027 - val_acc: 0.0979\n",
      "Epoch 22/50\n",
      "375/375 [==============================] - 29s 78ms/step - loss: 2.3027 - acc: 0.0993 - val_loss: 2.3028 - val_acc: 0.0984\n",
      "Epoch 23/50\n",
      "375/375 [==============================] - 30s 80ms/step - loss: 2.3027 - acc: 0.0986 - val_loss: 2.3028 - val_acc: 0.0984\n",
      "Epoch 24/50\n",
      "375/375 [==============================] - 30s 79ms/step - loss: 2.3027 - acc: 0.0971 - val_loss: 2.3028 - val_acc: 0.0979\n",
      "Epoch 25/50\n",
      "375/375 [==============================] - 29s 77ms/step - loss: 2.3027 - acc: 0.0992 - val_loss: 2.3027 - val_acc: 0.0979\n",
      "Epoch 26/50\n",
      "375/375 [==============================] - 29s 79ms/step - loss: 2.3027 - acc: 0.1004 - val_loss: 2.3028 - val_acc: 0.0995\n",
      "Epoch 27/50\n",
      "375/375 [==============================] - 30s 80ms/step - loss: 2.3027 - acc: 0.0967 - val_loss: 2.3028 - val_acc: 0.0988\n",
      "Epoch 28/50\n",
      "375/375 [==============================] - 29s 78ms/step - loss: 2.3027 - acc: 0.0971 - val_loss: 2.3028 - val_acc: 0.0979\n",
      "Epoch 29/50\n",
      "375/375 [==============================] - 30s 79ms/step - loss: 2.3027 - acc: 0.0973 - val_loss: 2.3028 - val_acc: 0.0979\n",
      "Epoch 30/50\n",
      "375/375 [==============================] - 30s 79ms/step - loss: 2.3027 - acc: 0.0973 - val_loss: 2.3028 - val_acc: 0.0985\n",
      "Epoch 31/50\n",
      "375/375 [==============================] - 29s 78ms/step - loss: 2.3027 - acc: 0.0995 - val_loss: 2.3028 - val_acc: 0.0979\n",
      "Epoch 32/50\n",
      "375/375 [==============================] - 30s 80ms/step - loss: 2.3027 - acc: 0.1005 - val_loss: 2.3027 - val_acc: 0.0995\n",
      "Epoch 33/50\n",
      "375/375 [==============================] - 29s 79ms/step - loss: 2.3027 - acc: 0.0964 - val_loss: 2.3028 - val_acc: 0.0984\n",
      "Epoch 34/50\n",
      "375/375 [==============================] - 29s 78ms/step - loss: 2.3027 - acc: 0.0973 - val_loss: 2.3028 - val_acc: 0.0979\n",
      "Epoch 35/50\n",
      "375/375 [==============================] - 29s 78ms/step - loss: 2.3027 - acc: 0.0981 - val_loss: 2.3029 - val_acc: 0.0979\n",
      "Epoch 36/50\n",
      "375/375 [==============================] - 30s 79ms/step - loss: 2.3027 - acc: 0.0977 - val_loss: 2.3028 - val_acc: 0.0988\n",
      "Epoch 37/50\n",
      "375/375 [==============================] - 30s 79ms/step - loss: 2.3027 - acc: 0.1008 - val_loss: 2.3028 - val_acc: 0.0984\n",
      "Epoch 38/50\n",
      "375/375 [==============================] - 30s 79ms/step - loss: 2.3027 - acc: 0.0972 - val_loss: 2.3027 - val_acc: 0.0988\n",
      "Epoch 39/50\n",
      "375/375 [==============================] - 30s 79ms/step - loss: 2.3027 - acc: 0.0984 - val_loss: 2.3027 - val_acc: 0.0988\n",
      "Epoch 40/50\n",
      "375/375 [==============================] - 30s 80ms/step - loss: 2.3027 - acc: 0.0981 - val_loss: 2.3028 - val_acc: 0.0979\n",
      "Epoch 41/50\n",
      "375/375 [==============================] - 29s 78ms/step - loss: 2.3027 - acc: 0.0994 - val_loss: 2.3028 - val_acc: 0.0979\n",
      "Epoch 42/50\n",
      "375/375 [==============================] - 29s 78ms/step - loss: 2.3027 - acc: 0.0987 - val_loss: 2.3028 - val_acc: 0.0979\n",
      "Epoch 43/50\n",
      "375/375 [==============================] - 30s 79ms/step - loss: 2.3027 - acc: 0.0977 - val_loss: 2.3028 - val_acc: 0.0979\n",
      "Epoch 44/50\n",
      "375/375 [==============================] - 29s 78ms/step - loss: 2.3027 - acc: 0.0968 - val_loss: 2.3028 - val_acc: 0.0979\n",
      "Epoch 45/50\n",
      "375/375 [==============================] - 30s 79ms/step - loss: 2.3027 - acc: 0.0992 - val_loss: 2.3028 - val_acc: 0.0979\n",
      "Epoch 46/50\n",
      "375/375 [==============================] - 30s 79ms/step - loss: 2.3027 - acc: 0.0982 - val_loss: 2.3027 - val_acc: 0.0984\n",
      "Epoch 47/50\n",
      "375/375 [==============================] - 29s 78ms/step - loss: 2.3027 - acc: 0.0980 - val_loss: 2.3028 - val_acc: 0.0984\n",
      "Epoch 48/50\n",
      "375/375 [==============================] - 29s 78ms/step - loss: 2.3027 - acc: 0.0976 - val_loss: 2.3027 - val_acc: 0.0984\n",
      "Epoch 49/50\n",
      "375/375 [==============================] - 30s 80ms/step - loss: 2.3027 - acc: 0.0983 - val_loss: 2.3028 - val_acc: 0.0984\n",
      "Epoch 50/50\n",
      "375/375 [==============================] - 30s 80ms/step - loss: 2.3027 - acc: 0.0964 - val_loss: 2.3028 - val_acc: 0.1000\n"
     ]
    }
   ],
   "source": [
    "# Training the model\n",
    "history = model.fit_generator(train_generator.flow(x_train, y_train, batch_size= 100), epochs = epochs,\n",
    "                 steps_per_epoch = x_train.shape[0]//batch_size,\n",
    "                 validation_data = val_generator.flow(x_val, y_val, batch_size = 100))"
   ]
  },
  {
   "cell_type": "markdown",
   "id": "b313a94e",
   "metadata": {
    "papermill": {
     "duration": 1.039971,
     "end_time": "2023-02-05T14:21:51.166514",
     "exception": false,
     "start_time": "2023-02-05T14:21:50.126543",
     "status": "completed"
    },
    "tags": []
   },
   "source": [
    "As we can see the loss and accuracy at the 50 epoch are 0.53 and 0.8282 respectively.  \n",
    "\n",
    "**Step 5: Evaluating the model**\n",
    "\n",
    "Now in this step, we will start evaluating the model, first, we will plot the training loss and accuracy curve for both training and validation data. "
   ]
  },
  {
   "cell_type": "code",
   "execution_count": 14,
   "id": "75866096",
   "metadata": {
    "execution": {
     "iopub.execute_input": "2023-02-05T14:21:53.594097Z",
     "iopub.status.busy": "2023-02-05T14:21:53.593626Z",
     "iopub.status.idle": "2023-02-05T14:21:53.971945Z",
     "shell.execute_reply": "2023-02-05T14:21:53.971055Z"
    },
    "papermill": {
     "duration": 1.839228,
     "end_time": "2023-02-05T14:21:53.973946",
     "exception": false,
     "start_time": "2023-02-05T14:21:52.134718",
     "status": "completed"
    },
    "tags": []
   },
   "outputs": [
    {
     "data": {
      "text/plain": [
       "<matplotlib.legend.Legend at 0x7f3128178b50>"
      ]
     },
     "execution_count": 14,
     "metadata": {},
     "output_type": "execute_result"
    },
    {
     "data": {
      "image/png": "[encoded data removed]",
      "text/plain": [
       "<Figure size 864x360 with 2 Axes>"
      ]
     },
     "metadata": {
      "needs_background": "light"
     },
     "output_type": "display_data"
    }
   ],
   "source": [
    "plt.figure(figsize=(12,5))\n",
    "plt.subplot(1,2,1)\n",
    "plt.plot(history.history['loss'],color='b',label='Training Loss')\n",
    "plt.plot(history.history['val_loss'],color='r',label='Validation Loss')\n",
    "plt.legend()\n",
    "plt.subplot(1,2,2)\n",
    "plt.plot(history.history['acc'],color='b',label='Training Loss')\n",
    "plt.plot(history.history['val_acc'],color='r',label='Validation Loss')\n",
    "plt.legend()"
   ]
  },
  {
   "cell_type": "markdown",
   "id": "83ac5777",
   "metadata": {
    "papermill": {
     "duration": 1.021593,
     "end_time": "2023-02-05T14:21:56.032691",
     "exception": false,
     "start_time": "2023-02-05T14:21:55.011098",
     "status": "completed"
    },
    "tags": []
   },
   "source": [
    "As we can see in the first graph validation loss is following the training loss properly and converging towards zero. And in the second graph, the accuracies are also increasing very well. Now let’s obtain the prediction on the test data. "
   ]
  },
  {
   "cell_type": "code",
   "execution_count": 15,
   "id": "1c44e323",
   "metadata": {
    "execution": {
     "iopub.execute_input": "2023-02-05T14:21:58.096352Z",
     "iopub.status.busy": "2023-02-05T14:21:58.095974Z",
     "iopub.status.idle": "2023-02-05T14:22:03.544141Z",
     "shell.execute_reply": "2023-02-05T14:22:03.543070Z"
    },
    "papermill": {
     "duration": 6.484919,
     "end_time": "2023-02-05T14:22:03.546457",
     "exception": false,
     "start_time": "2023-02-05T14:21:57.061538",
     "status": "completed"
    },
    "tags": []
   },
   "outputs": [],
   "source": [
    "# Making prediction\n",
    "y_pred=model.predict(x_test)\n",
    "y_pred = np.argmax(y_pred,axis=1)\n",
    "y_true=np.argmax(y_test,axis=1)"
   ]
  },
  {
   "cell_type": "markdown",
   "id": "8aa2f34f",
   "metadata": {
    "papermill": {
     "duration": 1.03449,
     "end_time": "2023-02-05T14:22:05.604129",
     "exception": false,
     "start_time": "2023-02-05T14:22:04.569639",
     "status": "completed"
    },
    "tags": []
   },
   "source": [
    "To validate the performance of the metrics we should obtain the confusion matrix so that we can have an idea of how the classes are being predicted. \n",
    "\n",
    "Below we are defining the function which will plot the confusion metrics."
   ]
  },
  {
   "cell_type": "code",
   "execution_count": 16,
   "id": "8db843ba",
   "metadata": {
    "execution": {
     "iopub.execute_input": "2023-02-05T14:22:07.596060Z",
     "iopub.status.busy": "2023-02-05T14:22:07.595707Z",
     "iopub.status.idle": "2023-02-05T14:22:07.601498Z",
     "shell.execute_reply": "2023-02-05T14:22:07.600352Z"
    },
    "papermill": {
     "duration": 1.028598,
     "end_time": "2023-02-05T14:22:07.603965",
     "exception": false,
     "start_time": "2023-02-05T14:22:06.575367",
     "status": "completed"
    },
    "tags": []
   },
   "outputs": [],
   "source": [
    "# # Defining function for confusion matrix plot\n",
    "# def plot_confusion_matrix(y_true, y_pred, classes,\n",
    "#                        normalize=False,\n",
    "#                        title=None,\n",
    "#                        cmap=plt.cm.Blues):\n",
    "# if not title:\n",
    "#      if normalize:\n",
    "#          title = 'Normalized confusion matrix'\n",
    "#      else:\n",
    "#          title = 'Confusion matrix, without normalization'\n",
    "# # Compute confusion matrix\n",
    "# cm = confusion_matrix(y_true, y_pred)\n",
    "# if normalize:\n",
    "#      cm = cm.astype('float') / cm.sum(axis=1)[:, np.newaxis]\n",
    "#      print(\"Normalized confusion matrix\")\n",
    "# else:\n",
    "#      print('Confusion matrix, without normalization')\n",
    "# # print (confusion matrix)\n",
    "# fig, ax = plt.subplots(figsize=(7,7))\n",
    "# im = ax.imshow(cm, interpolation='nearest', cmap=cmap)\n",
    "# ax.figure.colorbar(im, ax=ax)\n",
    "# # We want to show all ticks...\n",
    "# ax.set(xticks=np.arange(cm.shape[1]),\n",
    "#         yticks=np.arange(cm.shape[0]),\n",
    "#         # ... and label them with the respective list entries\n",
    "#         xticklabels=classes, yticklabels=classes,\n",
    "#         title=title,\n",
    "#         ylabel='True label',\n",
    "#         xlabel='Predicted label')\n",
    "# #Rotate the tick labels and set their alignment.\n",
    "# plt.setp(ax.get_xticklabels(), rotation=45, ha=\"right\",\n",
    "#           rotation_mode=\"anchor\")\n",
    "# # Loop over data dimensions and create text annotations.\n",
    "# fmt = '.2f' if normalize else 'd'\n",
    "# thresh = cm.max() / 2.\n",
    "# for i in range(cm.shape[0]):\n",
    "#      for j in range(cm.shape[1]):\n",
    "#          ax.text(j, i, format(cm[i, j], fmt),\n",
    "#                  ha=\"center\", va=\"center\",\n",
    "#                  color=\"white\" if cm[i, j] > thresh else \"black\")\n",
    "# fig.tight_layout()\n",
    "# return ax"
   ]
  },
  {
   "cell_type": "code",
   "execution_count": null,
   "id": "6523d35b",
   "metadata": {
    "papermill": {
     "duration": 1.174443,
     "end_time": "2023-02-05T14:22:09.859436",
     "exception": false,
     "start_time": "2023-02-05T14:22:08.684993",
     "status": "completed"
    },
    "tags": []
   },
   "outputs": [],
   "source": []
  }
 ],
 "metadata": {
  "kernelspec": {
   "display_name": "Python 3",
   "language": "python",
   "name": "python3"
  },
  "language_info": {
   "codemirror_mode": {
    "name": "ipython",
    "version": 3
   },
   "file_extension": ".py",
   "mimetype": "text/x-python",
   "name": "python",
   "nbconvert_exporter": "python",
   "pygments_lexer": "ipython3",
   "version": "3.7.12"
  },
  "papermill": {
   "default_parameters": {},
   "duration": 1575.853346,
   "end_time": "2023-02-05T14:22:14.289814",
   "environment_variables": {},
   "exception": null,
   "input_path": "__notebook__.ipynb",
   "output_path": "__notebook__.ipynb",
   "parameters": {},
   "start_time": "2023-02-05T13:55:58.436468",
   "version": "2.3.4"
  }
 },
 "nbformat": 4,
 "nbformat_minor": 5
}
