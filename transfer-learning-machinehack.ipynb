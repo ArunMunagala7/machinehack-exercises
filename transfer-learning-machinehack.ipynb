{
 "cells": [
  {
   "cell_type": "code",
   "execution_count": 1,
   "id": "3fc1ee1f",
   "metadata": {
    "_cell_guid": "b1076dfc-b9ad-4769-8c92-a6c4dae69d19",
    "_uuid": "8f2839f25d086af736a60e9eeb907d3b93b6e0e5",
    "execution": {
     "iopub.execute_input": "2023-02-05T11:55:14.869588Z",
     "iopub.status.busy": "2023-02-05T11:55:14.868917Z",
     "iopub.status.idle": "2023-02-05T11:55:14.882350Z",
     "shell.execute_reply": "2023-02-05T11:55:14.881488Z"
    },
    "papermill": {
     "duration": 0.026367,
     "end_time": "2023-02-05T11:55:14.884866",
     "exception": false,
     "start_time": "2023-02-05T11:55:14.858499",
     "status": "completed"
    },
    "tags": []
   },
   "outputs": [],
   "source": [
    "# This Python 3 environment comes with many helpful analytics libraries installed\n",
    "# It is defined by the kaggle/python Docker image: https://github.com/kaggle/docker-python\n",
    "# For example, here's several helpful packages to load\n",
    "\n",
    "import numpy as np # linear algebra\n",
    "import pandas as pd # data processing, CSV file I/O (e.g. pd.read_csv)\n",
    "\n",
    "# Input data files are available in the read-only \"../input/\" directory\n",
    "# For example, running this (by clicking run or pressing Shift+Enter) will list all files under the input directory\n",
    "\n",
    "import os\n",
    "for dirname, _, filenames in os.walk('/kaggle/input'):\n",
    "    for filename in filenames:\n",
    "        print(os.path.join(dirname, filename))\n",
    "\n",
    "# You can write up to 20GB to the current directory (/kaggle/working/) that gets preserved as output when you create a version using \"Save & Run All\" \n",
    "# You can also write temporary files to /kaggle/temp/, but they won't be saved outside of the current session"
   ]
  },
  {
   "cell_type": "markdown",
   "id": "b25b4e77",
   "metadata": {
    "papermill": {
     "duration": 0.006937,
     "end_time": "2023-02-05T11:55:14.899291",
     "exception": false,
     "start_time": "2023-02-05T11:55:14.892354",
     "status": "completed"
    },
    "tags": []
   },
   "source": [
    "The following steps are to be taken to implement the transfer learning model in Python.\n",
    "\n",
    "**Reading the image dataset (Fashion MNIST)**\n",
    "\n",
    "In the very first step, we are going to load the dataset, the dataset is taken from the built-in module of TensorFlow. The base model will be trained on the fashion MNIST dataset below we will get a load in the system.  "
   ]
  },
  {
   "cell_type": "code",
   "execution_count": 2,
   "id": "f57a1410",
   "metadata": {
    "execution": {
     "iopub.execute_input": "2023-02-05T11:55:14.915356Z",
     "iopub.status.busy": "2023-02-05T11:55:14.915075Z",
     "iopub.status.idle": "2023-02-05T11:55:24.914091Z",
     "shell.execute_reply": "2023-02-05T11:55:24.912722Z"
    },
    "papermill": {
     "duration": 10.009781,
     "end_time": "2023-02-05T11:55:24.916762",
     "exception": false,
     "start_time": "2023-02-05T11:55:14.906981",
     "status": "completed"
    },
    "tags": []
   },
   "outputs": [
    {
     "name": "stdout",
     "output_type": "stream",
     "text": [
      "Downloading data from https://storage.googleapis.com/tensorflow/tf-keras-datasets/train-labels-idx1-ubyte.gz\n",
      "32768/29515 [=================================] - 0s 0us/step\n",
      "40960/29515 [=========================================] - 0s 0us/step\n",
      "Downloading data from https://storage.googleapis.com/tensorflow/tf-keras-datasets/train-images-idx3-ubyte.gz\n",
      "26427392/26421880 [==============================] - 0s 0us/step\n",
      "26435584/26421880 [==============================] - 0s 0us/step\n",
      "Downloading data from https://storage.googleapis.com/tensorflow/tf-keras-datasets/t10k-labels-idx1-ubyte.gz\n",
      "16384/5148 [===============================================================================================] - 0s 0us/step\n",
      "Downloading data from https://storage.googleapis.com/tensorflow/tf-keras-datasets/t10k-images-idx3-ubyte.gz\n",
      "4423680/4422102 [==============================] - 0s 0us/step\n",
      "4431872/4422102 [==============================] - 0s 0us/step\n"
     ]
    }
   ],
   "source": [
    "import tensorflow as tf\n",
    "(X_train, y_train), (X_test, y_test) = tf.keras.datasets.fashion_mnist.load_data()"
   ]
  },
  {
   "cell_type": "markdown",
   "id": "5951af0d",
   "metadata": {
    "papermill": {
     "duration": 0.008338,
     "end_time": "2023-02-05T11:55:24.934259",
     "exception": false,
     "start_time": "2023-02-05T11:55:24.925921",
     "status": "completed"
    },
    "tags": []
   },
   "source": [
    "We have loaded both training and testing sets, let’s take look at the shapes of both sets."
   ]
  },
  {
   "cell_type": "code",
   "execution_count": 3,
   "id": "88eb77e7",
   "metadata": {
    "execution": {
     "iopub.execute_input": "2023-02-05T11:55:24.953036Z",
     "iopub.status.busy": "2023-02-05T11:55:24.951708Z",
     "iopub.status.idle": "2023-02-05T11:55:24.961205Z",
     "shell.execute_reply": "2023-02-05T11:55:24.960214Z"
    },
    "papermill": {
     "duration": 0.020795,
     "end_time": "2023-02-05T11:55:24.963394",
     "exception": false,
     "start_time": "2023-02-05T11:55:24.942599",
     "status": "completed"
    },
    "tags": []
   },
   "outputs": [
    {
     "data": {
      "text/plain": [
       "((60000, 28, 28), (60000,), (10000, 28, 28), (10000,))"
      ]
     },
     "execution_count": 3,
     "metadata": {},
     "output_type": "execute_result"
    }
   ],
   "source": [
    "# Shape of training and test patterns\n",
    "X_train.shape, y_train.shape, X_test.shape, y_test.shape"
   ]
  },
  {
   "cell_type": "markdown",
   "id": "669088bc",
   "metadata": {
    "papermill": {
     "duration": 0.007953,
     "end_time": "2023-02-05T11:55:24.980724",
     "exception": false,
     "start_time": "2023-02-05T11:55:24.972771",
     "status": "completed"
    },
    "tags": []
   },
   "source": [
    "So we have 60,000 image samples for training the model and 10,000 samples to test the model.\n",
    "\n",
    "**Data Preprocessing**\n",
    "\n",
    "Now we will scale down all pixel values because the neural network is highly sensitive to large values and for the images, it is obvious to have different values for each pixel. So now below we will scale down all the pixel values."
   ]
  },
  {
   "cell_type": "code",
   "execution_count": 4,
   "id": "b08d8a06",
   "metadata": {
    "execution": {
     "iopub.execute_input": "2023-02-05T11:55:24.998648Z",
     "iopub.status.busy": "2023-02-05T11:55:24.997707Z",
     "iopub.status.idle": "2023-02-05T11:55:25.128518Z",
     "shell.execute_reply": "2023-02-05T11:55:25.127322Z"
    },
    "papermill": {
     "duration": 0.142838,
     "end_time": "2023-02-05T11:55:25.131623",
     "exception": false,
     "start_time": "2023-02-05T11:55:24.988785",
     "status": "completed"
    },
    "tags": []
   },
   "outputs": [],
   "source": [
    "# Scaling the pixel values to be between 0 and 1\n",
    "X_train = X_train.astype('float32')\n",
    "X_test = X_test.astype('float32')\n",
    "X_train = X_train / 255\n",
    "X_test = X_test / 255"
   ]
  },
  {
   "cell_type": "markdown",
   "id": "3c58fa3c",
   "metadata": {
    "papermill": {
     "duration": 0.007807,
     "end_time": "2023-02-05T11:55:25.148255",
     "exception": false,
     "start_time": "2023-02-05T11:55:25.140448",
     "status": "completed"
    },
    "tags": []
   },
   "source": [
    "Let’s take look at how the images look like. "
   ]
  },
  {
   "cell_type": "code",
   "execution_count": 5,
   "id": "02e49016",
   "metadata": {
    "execution": {
     "iopub.execute_input": "2023-02-05T11:55:25.165398Z",
     "iopub.status.busy": "2023-02-05T11:55:25.165082Z",
     "iopub.status.idle": "2023-02-05T11:55:26.167725Z",
     "shell.execute_reply": "2023-02-05T11:55:26.166490Z"
    },
    "papermill": {
     "duration": 1.014834,
     "end_time": "2023-02-05T11:55:26.171145",
     "exception": false,
     "start_time": "2023-02-05T11:55:25.156311",
     "status": "completed"
    },
    "tags": []
   },
   "outputs": [
    {
     "data": {
      "image/png": "[encoded data removed]",
      "text/plain": [
       "<Figure size 432x432 with 25 Axes>"
      ]
     },
     "metadata": {
      "needs_background": "light"
     },
     "output_type": "display_data"
    }
   ],
   "source": [
    "# Visualizing some images\n",
    "import matplotlib.pyplot as plt\n",
    "import numpy as np\n",
    "fig,axes = plt.subplots(5, 5, figsize = (6,6))\n",
    "axes = axes.ravel()\n",
    "for i in range(0,25):\n",
    "    axes[i].imshow(X_train[i])\n",
    "    axes[i].axis(\"off\")"
   ]
  },
  {
   "cell_type": "code",
   "execution_count": 6,
   "id": "be6b0aa5",
   "metadata": {
    "execution": {
     "iopub.execute_input": "2023-02-05T11:55:26.192369Z",
     "iopub.status.busy": "2023-02-05T11:55:26.192063Z",
     "iopub.status.idle": "2023-02-05T11:55:26.198507Z",
     "shell.execute_reply": "2023-02-05T11:55:26.197475Z"
    },
    "papermill": {
     "duration": 0.019125,
     "end_time": "2023-02-05T11:55:26.200746",
     "exception": false,
     "start_time": "2023-02-05T11:55:26.181621",
     "status": "completed"
    },
    "tags": []
   },
   "outputs": [
    {
     "data": {
      "text/plain": [
       "(60000, 28, 28)"
      ]
     },
     "execution_count": 6,
     "metadata": {},
     "output_type": "execute_result"
    }
   ],
   "source": [
    "X_train.shape"
   ]
  },
  {
   "cell_type": "markdown",
   "id": "81f03ebe",
   "metadata": {
    "papermill": {
     "duration": 0.009435,
     "end_time": "2023-02-05T11:55:26.219704",
     "exception": false,
     "start_time": "2023-02-05T11:55:26.210269",
     "status": "completed"
    },
    "tags": []
   },
   "source": [
    "Now before utilizing the above image as it is, we need to color channel. Inherently the images are in greyscale and its corresponding color channel is 1. "
   ]
  },
  {
   "cell_type": "code",
   "execution_count": 7,
   "id": "4d001bc6",
   "metadata": {
    "execution": {
     "iopub.execute_input": "2023-02-05T11:55:26.240585Z",
     "iopub.status.busy": "2023-02-05T11:55:26.240280Z",
     "iopub.status.idle": "2023-02-05T11:55:31.217971Z",
     "shell.execute_reply": "2023-02-05T11:55:31.215254Z"
    },
    "papermill": {
     "duration": 5.000476,
     "end_time": "2023-02-05T11:55:31.229759",
     "exception": false,
     "start_time": "2023-02-05T11:55:26.229283",
     "status": "completed"
    },
    "tags": []
   },
   "outputs": [
    {
     "name": "stderr",
     "output_type": "stream",
     "text": [
      "2023-02-05 11:55:26.365665: I tensorflow/stream_executor/cuda/cuda_gpu_executor.cc:937] successful NUMA node read from SysFS had negative value (-1), but there must be at least one NUMA node, so returning NUMA node zero\n",
      "2023-02-05 11:55:26.366725: I tensorflow/stream_executor/cuda/cuda_gpu_executor.cc:937] successful NUMA node read from SysFS had negative value (-1), but there must be at least one NUMA node, so returning NUMA node zero\n",
      "2023-02-05 11:55:26.553930: I tensorflow/stream_executor/cuda/cuda_gpu_executor.cc:937] successful NUMA node read from SysFS had negative value (-1), but there must be at least one NUMA node, so returning NUMA node zero\n",
      "2023-02-05 11:55:26.554804: I tensorflow/stream_executor/cuda/cuda_gpu_executor.cc:937] successful NUMA node read from SysFS had negative value (-1), but there must be at least one NUMA node, so returning NUMA node zero\n",
      "2023-02-05 11:55:26.555582: I tensorflow/stream_executor/cuda/cuda_gpu_executor.cc:937] successful NUMA node read from SysFS had negative value (-1), but there must be at least one NUMA node, so returning NUMA node zero\n",
      "2023-02-05 11:55:26.556312: I tensorflow/stream_executor/cuda/cuda_gpu_executor.cc:937] successful NUMA node read from SysFS had negative value (-1), but there must be at least one NUMA node, so returning NUMA node zero\n"
     ]
    },
    {
     "name": "stdout",
     "output_type": "stream",
     "text": [
      "(60000, 28, 28, 1) (10000, 28, 28, 1)\n"
     ]
    },
    {
     "name": "stderr",
     "output_type": "stream",
     "text": [
      "2023-02-05 11:55:26.561744: I tensorflow/core/platform/cpu_feature_guard.cc:142] This TensorFlow binary is optimized with oneAPI Deep Neural Network Library (oneDNN) to use the following CPU instructions in performance-critical operations:  AVX2 AVX512F FMA\n",
      "To enable them in other operations, rebuild TensorFlow with the appropriate compiler flags.\n",
      "2023-02-05 11:55:26.818413: I tensorflow/stream_executor/cuda/cuda_gpu_executor.cc:937] successful NUMA node read from SysFS had negative value (-1), but there must be at least one NUMA node, so returning NUMA node zero\n",
      "2023-02-05 11:55:26.819314: I tensorflow/stream_executor/cuda/cuda_gpu_executor.cc:937] successful NUMA node read from SysFS had negative value (-1), but there must be at least one NUMA node, so returning NUMA node zero\n",
      "2023-02-05 11:55:26.820194: I tensorflow/stream_executor/cuda/cuda_gpu_executor.cc:937] successful NUMA node read from SysFS had negative value (-1), but there must be at least one NUMA node, so returning NUMA node zero\n",
      "2023-02-05 11:55:26.820926: I tensorflow/stream_executor/cuda/cuda_gpu_executor.cc:937] successful NUMA node read from SysFS had negative value (-1), but there must be at least one NUMA node, so returning NUMA node zero\n",
      "2023-02-05 11:55:26.821634: I tensorflow/stream_executor/cuda/cuda_gpu_executor.cc:937] successful NUMA node read from SysFS had negative value (-1), but there must be at least one NUMA node, so returning NUMA node zero\n",
      "2023-02-05 11:55:26.822389: I tensorflow/stream_executor/cuda/cuda_gpu_executor.cc:937] successful NUMA node read from SysFS had negative value (-1), but there must be at least one NUMA node, so returning NUMA node zero\n",
      "2023-02-05 11:55:30.573872: I tensorflow/stream_executor/cuda/cuda_gpu_executor.cc:937] successful NUMA node read from SysFS had negative value (-1), but there must be at least one NUMA node, so returning NUMA node zero\n",
      "2023-02-05 11:55:30.574957: I tensorflow/stream_executor/cuda/cuda_gpu_executor.cc:937] successful NUMA node read from SysFS had negative value (-1), but there must be at least one NUMA node, so returning NUMA node zero\n",
      "2023-02-05 11:55:30.575771: I tensorflow/stream_executor/cuda/cuda_gpu_executor.cc:937] successful NUMA node read from SysFS had negative value (-1), but there must be at least one NUMA node, so returning NUMA node zero\n",
      "2023-02-05 11:55:30.576551: I tensorflow/stream_executor/cuda/cuda_gpu_executor.cc:937] successful NUMA node read from SysFS had negative value (-1), but there must be at least one NUMA node, so returning NUMA node zero\n",
      "2023-02-05 11:55:30.577336: I tensorflow/stream_executor/cuda/cuda_gpu_executor.cc:937] successful NUMA node read from SysFS had negative value (-1), but there must be at least one NUMA node, so returning NUMA node zero\n",
      "2023-02-05 11:55:30.578096: I tensorflow/core/common_runtime/gpu/gpu_device.cc:1510] Created device /job:localhost/replica:0/task:0/device:GPU:0 with 13789 MB memory:  -> device: 0, name: Tesla T4, pci bus id: 0000:00:04.0, compute capability: 7.5\n",
      "2023-02-05 11:55:30.581981: I tensorflow/stream_executor/cuda/cuda_gpu_executor.cc:937] successful NUMA node read from SysFS had negative value (-1), but there must be at least one NUMA node, so returning NUMA node zero\n",
      "2023-02-05 11:55:30.582859: I tensorflow/core/common_runtime/gpu/gpu_device.cc:1510] Created device /job:localhost/replica:0/task:0/device:GPU:1 with 13789 MB memory:  -> device: 1, name: Tesla T4, pci bus id: 0000:00:05.0, compute capability: 7.5\n"
     ]
    }
   ],
   "source": [
    "# Reshaping the training and test features\n",
    "import tensorflow as tf\n",
    "X_train = tf.reshape(X_train, (-1, 28, 28, 1))\n",
    "X_test = tf.reshape(X_test, (-1, 28, 28, 1))\n",
    "print(X_train.shape, X_test.shape)"
   ]
  },
  {
   "cell_type": "markdown",
   "id": "7805a90c",
   "metadata": {
    "papermill": {
     "duration": 0.027296,
     "end_time": "2023-02-05T11:55:31.274107",
     "exception": false,
     "start_time": "2023-02-05T11:55:31.246811",
     "status": "completed"
    },
    "tags": []
   },
   "source": [
    "By checking the shapes we can see that we have added a color channel to all the images. \n",
    "\n",
    "**Defining and Training the Base CNN model**\n",
    "\n",
    "Now we will start building the base CNN model, below we will first import all the dependencies required to build the model. "
   ]
  },
  {
   "cell_type": "code",
   "execution_count": 8,
   "id": "79a2cc6a",
   "metadata": {
    "execution": {
     "iopub.execute_input": "2023-02-05T11:55:31.325610Z",
     "iopub.status.busy": "2023-02-05T11:55:31.324778Z",
     "iopub.status.idle": "2023-02-05T11:55:31.339163Z",
     "shell.execute_reply": "2023-02-05T11:55:31.336516Z"
    },
    "papermill": {
     "duration": 0.044556,
     "end_time": "2023-02-05T11:55:31.342108",
     "exception": false,
     "start_time": "2023-02-05T11:55:31.297552",
     "status": "completed"
    },
    "tags": []
   },
   "outputs": [],
   "source": [
    "# Library for CNN Model\n",
    "import keras\n",
    "from keras.models import Sequential\n",
    "from keras.layers import Conv2D, MaxPooling2D, Dense, Flatten, Dropout\n",
    "from keras.callbacks import TensorBoard"
   ]
  },
  {
   "cell_type": "markdown",
   "id": "2a5edcdf",
   "metadata": {
    "papermill": {
     "duration": 0.017255,
     "end_time": "2023-02-05T11:55:31.376034",
     "exception": false,
     "start_time": "2023-02-05T11:55:31.358779",
     "status": "completed"
    },
    "tags": []
   },
   "source": [
    "The base model will consist of 3 convolutional layers and 3 dense layers, except for the last dense layer all the neurons of all the layers are fired according to the ReLu activation function. "
   ]
  },
  {
   "cell_type": "code",
   "execution_count": 9,
   "id": "68d898d4",
   "metadata": {
    "execution": {
     "iopub.execute_input": "2023-02-05T11:55:31.406746Z",
     "iopub.status.busy": "2023-02-05T11:55:31.406226Z",
     "iopub.status.idle": "2023-02-05T11:55:31.603823Z",
     "shell.execute_reply": "2023-02-05T11:55:31.602745Z"
    },
    "papermill": {
     "duration": 0.21615,
     "end_time": "2023-02-05T11:55:31.606906",
     "exception": false,
     "start_time": "2023-02-05T11:55:31.390756",
     "status": "completed"
    },
    "tags": []
   },
   "outputs": [
    {
     "name": "stdout",
     "output_type": "stream",
     "text": [
      "Model: \"sequential\"\n",
      "_________________________________________________________________\n",
      "Layer (type)                 Output Shape              Param #   \n",
      "=================================================================\n",
      "conv2d (Conv2D)              (None, 26, 26, 32)        320       \n",
      "_________________________________________________________________\n",
      "max_pooling2d (MaxPooling2D) (None, 13, 13, 32)        0         \n",
      "_________________________________________________________________\n",
      "conv2d_1 (Conv2D)            (None, 11, 11, 64)        18496     \n",
      "_________________________________________________________________\n",
      "max_pooling2d_1 (MaxPooling2 (None, 5, 5, 64)          0         \n",
      "_________________________________________________________________\n",
      "conv2d_2 (Conv2D)            (None, 3, 3, 128)         73856     \n",
      "_________________________________________________________________\n",
      "max_pooling2d_2 (MaxPooling2 (None, 1, 1, 128)         0         \n",
      "_________________________________________________________________\n",
      "flatten (Flatten)            (None, 128)               0         \n",
      "_________________________________________________________________\n",
      "dense (Dense)                (None, 256)               33024     \n",
      "_________________________________________________________________\n",
      "dense_1 (Dense)              (None, 128)               32896     \n",
      "_________________________________________________________________\n",
      "dense_2 (Dense)              (None, 10)                1290      \n",
      "=================================================================\n",
      "Total params: 159,882\n",
      "Trainable params: 159,882\n",
      "Non-trainable params: 0\n",
      "_________________________________________________________________\n"
     ]
    }
   ],
   "source": [
    "#Defining the Convolutional Neural Network\n",
    "cnn_model = Sequential()\n",
    "cnn_model.add(Conv2D(32, (3, 3), input_shape = (28,28, 1), activation='relu'))\n",
    "cnn_model.add(MaxPooling2D(pool_size = (2, 2)))\n",
    "cnn_model.add(Conv2D(64, (3, 3), input_shape = (28,28,1), activation='relu'))\n",
    "cnn_model.add(MaxPooling2D(pool_size = (2, 2)))\n",
    "cnn_model.add(Conv2D(128, (3, 3), input_shape = (28,28,1), activation='relu'))\n",
    "cnn_model.add(MaxPooling2D(pool_size = (2, 2)))\n",
    "cnn_model.add(Flatten())\n",
    "cnn_model.add(Dense(units = 256, activation = 'relu'))\n",
    "cnn_model.add(Dense(units = 128, activation = 'relu'))\n",
    "cnn_model.add(Dense(units = 10, activation = 'softmax'))\n",
    "cnn_model.summary()"
   ]
  },
  {
   "cell_type": "markdown",
   "id": "b9e40a69",
   "metadata": {
    "papermill": {
     "duration": 0.015867,
     "end_time": "2023-02-05T11:55:31.638729",
     "exception": false,
     "start_time": "2023-02-05T11:55:31.622862",
     "status": "completed"
    },
    "tags": []
   },
   "source": [
    "By looking at the above summary we have nearly 160k model parameters to be trained and also we can confirm the model layers.\n",
    "\n",
    "Now let’s compile the base model with loss function and optimizer, the sparse_categorical_crossentropy is the loss function we are using as we have two classes to predict and Adam will be the optimizer which will optimize the loss function.  "
   ]
  },
  {
   "cell_type": "code",
   "execution_count": 10,
   "id": "afa4bb7d",
   "metadata": {
    "execution": {
     "iopub.execute_input": "2023-02-05T11:55:31.672893Z",
     "iopub.status.busy": "2023-02-05T11:55:31.672521Z",
     "iopub.status.idle": "2023-02-05T11:55:31.689573Z",
     "shell.execute_reply": "2023-02-05T11:55:31.688580Z"
    },
    "papermill": {
     "duration": 0.037068,
     "end_time": "2023-02-05T11:55:31.691893",
     "exception": false,
     "start_time": "2023-02-05T11:55:31.654825",
     "status": "completed"
    },
    "tags": []
   },
   "outputs": [],
   "source": [
    "# Compiling\n",
    "cnn_model.compile(loss ='sparse_categorical_crossentropy', optimizer='adam' ,metrics =['accuracy'])"
   ]
  },
  {
   "cell_type": "markdown",
   "id": "b68675ed",
   "metadata": {
    "papermill": {
     "duration": 0.020257,
     "end_time": "2023-02-05T11:55:31.726258",
     "exception": false,
     "start_time": "2023-02-05T11:55:31.706001",
     "status": "completed"
    },
    "tags": []
   },
   "source": [
    "Let’s start training the model, the training will go long for 20 epochs with a batch size of 512. "
   ]
  },
  {
   "cell_type": "code",
   "execution_count": 11,
   "id": "48577f6a",
   "metadata": {
    "execution": {
     "iopub.execute_input": "2023-02-05T11:55:31.770719Z",
     "iopub.status.busy": "2023-02-05T11:55:31.769707Z",
     "iopub.status.idle": "2023-02-05T11:56:13.648595Z",
     "shell.execute_reply": "2023-02-05T11:56:13.647477Z"
    },
    "papermill": {
     "duration": 41.904405,
     "end_time": "2023-02-05T11:56:13.651022",
     "exception": false,
     "start_time": "2023-02-05T11:55:31.746617",
     "status": "completed"
    },
    "tags": []
   },
   "outputs": [
    {
     "name": "stderr",
     "output_type": "stream",
     "text": [
      "2023-02-05 11:55:32.056707: I tensorflow/compiler/mlir/mlir_graph_optimization_pass.cc:185] None of the MLIR Optimization Passes are enabled (registered 2)\n"
     ]
    },
    {
     "name": "stdout",
     "output_type": "stream",
     "text": [
      "Epoch 1/20\n"
     ]
    },
    {
     "name": "stderr",
     "output_type": "stream",
     "text": [
      "2023-02-05 11:55:34.296827: I tensorflow/stream_executor/cuda/cuda_dnn.cc:369] Loaded cuDNN version 8005\n"
     ]
    },
    {
     "name": "stdout",
     "output_type": "stream",
     "text": [
      "118/118 [==============================] - 13s 12ms/step - loss: 0.9552 - accuracy: 0.6594\n",
      "Epoch 2/20\n",
      "118/118 [==============================] - 1s 12ms/step - loss: 0.5639 - accuracy: 0.7943\n",
      "Epoch 3/20\n",
      "118/118 [==============================] - 1s 11ms/step - loss: 0.4755 - accuracy: 0.8269\n",
      "Epoch 4/20\n",
      "118/118 [==============================] - 1s 11ms/step - loss: 0.4256 - accuracy: 0.8455\n",
      "Epoch 5/20\n",
      "118/118 [==============================] - 1s 11ms/step - loss: 0.3960 - accuracy: 0.8556\n",
      "Epoch 6/20\n",
      "118/118 [==============================] - 1s 11ms/step - loss: 0.3733 - accuracy: 0.8634\n",
      "Epoch 7/20\n",
      "118/118 [==============================] - 1s 11ms/step - loss: 0.3444 - accuracy: 0.8739\n",
      "Epoch 8/20\n",
      "118/118 [==============================] - 1s 11ms/step - loss: 0.3261 - accuracy: 0.8801\n",
      "Epoch 9/20\n",
      "118/118 [==============================] - 1s 11ms/step - loss: 0.3187 - accuracy: 0.8827\n",
      "Epoch 10/20\n",
      "118/118 [==============================] - 1s 11ms/step - loss: 0.2992 - accuracy: 0.8898\n",
      "Epoch 11/20\n",
      "118/118 [==============================] - 1s 12ms/step - loss: 0.2893 - accuracy: 0.8947\n",
      "Epoch 12/20\n",
      "118/118 [==============================] - 1s 11ms/step - loss: 0.2727 - accuracy: 0.8998\n",
      "Epoch 13/20\n",
      "118/118 [==============================] - 1s 11ms/step - loss: 0.2659 - accuracy: 0.9014\n",
      "Epoch 14/20\n",
      "118/118 [==============================] - 1s 12ms/step - loss: 0.2550 - accuracy: 0.9051\n",
      "Epoch 15/20\n",
      "118/118 [==============================] - 1s 13ms/step - loss: 0.2443 - accuracy: 0.9089\n",
      "Epoch 16/20\n",
      "118/118 [==============================] - 1s 11ms/step - loss: 0.2370 - accuracy: 0.9127\n",
      "Epoch 17/20\n",
      "118/118 [==============================] - 1s 11ms/step - loss: 0.2316 - accuracy: 0.9143\n",
      "Epoch 18/20\n",
      "118/118 [==============================] - 1s 11ms/step - loss: 0.2244 - accuracy: 0.9170\n",
      "Epoch 19/20\n",
      "118/118 [==============================] - 1s 12ms/step - loss: 0.2117 - accuracy: 0.9208\n",
      "Epoch 20/20\n",
      "118/118 [==============================] - 1s 11ms/step - loss: 0.2050 - accuracy: 0.9237\n"
     ]
    },
    {
     "data": {
      "text/plain": [
       "<keras.callbacks.History at 0x7fd509255a10>"
      ]
     },
     "execution_count": 11,
     "metadata": {},
     "output_type": "execute_result"
    }
   ],
   "source": [
    "# Training the CNN model\n",
    "cnn_model.fit(X_train, y_train, batch_size = 512, epochs = 20, verbose = 1)"
   ]
  },
  {
   "cell_type": "markdown",
   "id": "8fd0eb9a",
   "metadata": {
    "papermill": {
     "duration": 0.03996,
     "end_time": "2023-02-05T11:56:13.733229",
     "exception": false,
     "start_time": "2023-02-05T11:56:13.693269",
     "status": "completed"
    },
    "tags": []
   },
   "source": [
    "Within just 20 epochs the model has obtained phenomenal accuracies. \n",
    "\n",
    "In order to leverage the trained parameters of the above model for others, we need to save the model. The Below code will save the model parameters. "
   ]
  },
  {
   "cell_type": "code",
   "execution_count": 12,
   "id": "87b5388a",
   "metadata": {
    "execution": {
     "iopub.execute_input": "2023-02-05T11:56:13.811366Z",
     "iopub.status.busy": "2023-02-05T11:56:13.810929Z",
     "iopub.status.idle": "2023-02-05T11:56:13.856228Z",
     "shell.execute_reply": "2023-02-05T11:56:13.855308Z"
    },
    "papermill": {
     "duration": 0.085353,
     "end_time": "2023-02-05T11:56:13.858624",
     "exception": false,
     "start_time": "2023-02-05T11:56:13.773271",
     "status": "completed"
    },
    "tags": []
   },
   "outputs": [],
   "source": [
    "# Saving trained CNN model's weights\n",
    "cnn_model.save('cnn_mnist.h5', save_format='h5')"
   ]
  },
  {
   "cell_type": "markdown",
   "id": "9a960980",
   "metadata": {
    "papermill": {
     "duration": 0.038121,
     "end_time": "2023-02-05T11:56:13.933977",
     "exception": false,
     "start_time": "2023-02-05T11:56:13.895856",
     "status": "completed"
    },
    "tags": []
   },
   "source": [
    "**Transfer Learning**\n",
    "\n",
    "In this step, we will realise the transfer learning. The following steps are necessary in order to successfully transfer the learning model. \n",
    "\n",
    "**Instantiating a new model with old parameters**\n",
    "\n",
    "Now we will create the new Keras model and will initialize it with parameters of old models that we have saved earlier. "
   ]
  },
  {
   "cell_type": "code",
   "execution_count": 13,
   "id": "146e7f1a",
   "metadata": {
    "execution": {
     "iopub.execute_input": "2023-02-05T11:56:14.012913Z",
     "iopub.status.busy": "2023-02-05T11:56:14.012545Z",
     "iopub.status.idle": "2023-02-05T11:56:14.137196Z",
     "shell.execute_reply": "2023-02-05T11:56:14.135485Z"
    },
    "papermill": {
     "duration": 0.168266,
     "end_time": "2023-02-05T11:56:14.140173",
     "exception": false,
     "start_time": "2023-02-05T11:56:13.971907",
     "status": "completed"
    },
    "tags": []
   },
   "outputs": [
    {
     "name": "stdout",
     "output_type": "stream",
     "text": [
      "Model: \"sequential\"\n",
      "_________________________________________________________________\n",
      "Layer (type)                 Output Shape              Param #   \n",
      "=================================================================\n",
      "conv2d (Conv2D)              (None, 26, 26, 32)        320       \n",
      "_________________________________________________________________\n",
      "max_pooling2d (MaxPooling2D) (None, 13, 13, 32)        0         \n",
      "_________________________________________________________________\n",
      "conv2d_1 (Conv2D)            (None, 11, 11, 64)        18496     \n",
      "_________________________________________________________________\n",
      "max_pooling2d_1 (MaxPooling2 (None, 5, 5, 64)          0         \n",
      "_________________________________________________________________\n",
      "conv2d_2 (Conv2D)            (None, 3, 3, 128)         73856     \n",
      "_________________________________________________________________\n",
      "max_pooling2d_2 (MaxPooling2 (None, 1, 1, 128)         0         \n",
      "_________________________________________________________________\n",
      "flatten (Flatten)            (None, 128)               0         \n",
      "_________________________________________________________________\n",
      "dense (Dense)                (None, 256)               33024     \n",
      "_________________________________________________________________\n",
      "dense_1 (Dense)              (None, 128)               32896     \n",
      "_________________________________________________________________\n",
      "dense_2 (Dense)              (None, 10)                1290      \n",
      "=================================================================\n",
      "Total params: 159,882\n",
      "Trainable params: 159,882\n",
      "Non-trainable params: 0\n",
      "_________________________________________________________________\n"
     ]
    }
   ],
   "source": [
    "# Creating new CNN model using previous model's weights\n",
    "reconstructed_model = keras.models.load_model('/kaggle/working/cnn_mnist.h5')\n",
    "reconstructed_model.summary()"
   ]
  },
  {
   "cell_type": "markdown",
   "id": "0b33ef5e",
   "metadata": {
    "papermill": {
     "duration": 0.038957,
     "end_time": "2023-02-05T11:56:14.217931",
     "exception": false,
     "start_time": "2023-02-05T11:56:14.178974",
     "status": "completed"
    },
    "tags": []
   },
   "source": [
    "Above we can in the summary of the reconstructed model which is the same as the base model, so we have successfully loaded the base model.\n",
    "\n",
    "**Freezing previous parameters and defining the new model**\n",
    "\n",
    "In order to utilize the knowledge from the base model, we need to freeze all the layers which means when we train the new model the parameter of the base model will not be updated. Now below we will create the blank sequential model and will add all layers from the base model except the last classifier layer. "
   ]
  },
  {
   "cell_type": "code",
   "execution_count": 14,
   "id": "0a6e19c5",
   "metadata": {
    "execution": {
     "iopub.execute_input": "2023-02-05T11:56:14.296632Z",
     "iopub.status.busy": "2023-02-05T11:56:14.296279Z",
     "iopub.status.idle": "2023-02-05T11:56:14.337727Z",
     "shell.execute_reply": "2023-02-05T11:56:14.336783Z"
    },
    "papermill": {
     "duration": 0.084111,
     "end_time": "2023-02-05T11:56:14.339914",
     "exception": false,
     "start_time": "2023-02-05T11:56:14.255803",
     "status": "completed"
    },
    "tags": []
   },
   "outputs": [],
   "source": [
    "from keras.models import Sequential\n",
    "cnn2 = Sequential()\n",
    "# Extract all the layers from the base model except the last layer\n",
    "for layer in reconstructed_model.layers[:-1]:\n",
    "  cnn2.add(layer)\n",
    "# Freeze all the layers of the base model\n",
    "for layer in cnn2.layers:\n",
    "  layer.trainable=False"
   ]
  },
  {
   "cell_type": "markdown",
   "id": "7207a21c",
   "metadata": {
    "papermill": {
     "duration": 0.037063,
     "end_time": "2023-02-05T11:56:14.414908",
     "exception": false,
     "start_time": "2023-02-05T11:56:14.377845",
     "status": "completed"
    },
    "tags": []
   },
   "source": [
    "After adding and freezing the layers from the base model we will add a couple of more layers to the new model and lastly one classifier layer. "
   ]
  },
  {
   "cell_type": "code",
   "execution_count": 15,
   "id": "821e726e",
   "metadata": {
    "execution": {
     "iopub.execute_input": "2023-02-05T11:56:14.492200Z",
     "iopub.status.busy": "2023-02-05T11:56:14.491821Z",
     "iopub.status.idle": "2023-02-05T11:56:14.530953Z",
     "shell.execute_reply": "2023-02-05T11:56:14.529052Z"
    },
    "papermill": {
     "duration": 0.080739,
     "end_time": "2023-02-05T11:56:14.533160",
     "exception": false,
     "start_time": "2023-02-05T11:56:14.452421",
     "status": "completed"
    },
    "tags": []
   },
   "outputs": [
    {
     "name": "stdout",
     "output_type": "stream",
     "text": [
      "Model: \"sequential_1\"\n",
      "_________________________________________________________________\n",
      "Layer (type)                 Output Shape              Param #   \n",
      "=================================================================\n",
      "conv2d (Conv2D)              (None, 26, 26, 32)        320       \n",
      "_________________________________________________________________\n",
      "max_pooling2d (MaxPooling2D) (None, 13, 13, 32)        0         \n",
      "_________________________________________________________________\n",
      "conv2d_1 (Conv2D)            (None, 11, 11, 64)        18496     \n",
      "_________________________________________________________________\n",
      "max_pooling2d_1 (MaxPooling2 (None, 5, 5, 64)          0         \n",
      "_________________________________________________________________\n",
      "conv2d_2 (Conv2D)            (None, 3, 3, 128)         73856     \n",
      "_________________________________________________________________\n",
      "max_pooling2d_2 (MaxPooling2 (None, 1, 1, 128)         0         \n",
      "_________________________________________________________________\n",
      "flatten (Flatten)            (None, 128)               0         \n",
      "_________________________________________________________________\n",
      "dense (Dense)                (None, 256)               33024     \n",
      "_________________________________________________________________\n",
      "dense_1 (Dense)              (None, 128)               32896     \n",
      "_________________________________________________________________\n",
      "dense_3 (Dense)              (None, 512)               66048     \n",
      "_________________________________________________________________\n",
      "dense_4 (Dense)              (None, 256)               131328    \n",
      "_________________________________________________________________\n",
      "dense_5 (Dense)              (None, 128)               32896     \n",
      "_________________________________________________________________\n",
      "dense_6 (Dense)              (None, 10)                1290      \n",
      "=================================================================\n",
      "Total params: 390,154\n",
      "Trainable params: 231,562\n",
      "Non-trainable params: 158,592\n",
      "_________________________________________________________________\n"
     ]
    }
   ],
   "source": [
    "# adding new layers \n",
    "cnn2.add(Dense(512,activation=('relu'),input_dim=10))\n",
    "cnn2.add(Dense(256,activation=('relu'))) \n",
    "cnn2.add(Dense(128,activation=('relu')))\n",
    "cnn2.add(Dense(10,activation=('softmax')))\n",
    "cnn2.summary()"
   ]
  },
  {
   "cell_type": "markdown",
   "id": "ec6a4ccb",
   "metadata": {
    "papermill": {
     "duration": 0.038152,
     "end_time": "2023-02-05T11:56:14.609659",
     "exception": false,
     "start_time": "2023-02-05T11:56:14.571507",
     "status": "completed"
    },
    "tags": []
   },
   "source": [
    "Above we can check the in the summary all model layers from the base model and newly added layers.  \n",
    "\n",
    "**Reading New Dataset (Handwritten MNIST)**\n",
    "\n",
    "Like an earlier step now we load the MNIST digit dataset here we will read a different dataset popularly known as the MNIST handwritten dataset. After that, we will preprocess it and check a few sample images to understand the dataset. "
   ]
  },
  {
   "cell_type": "code",
   "execution_count": 16,
   "id": "4676f43e",
   "metadata": {
    "execution": {
     "iopub.execute_input": "2023-02-05T11:56:14.689068Z",
     "iopub.status.busy": "2023-02-05T11:56:14.688374Z",
     "iopub.status.idle": "2023-02-05T11:56:16.248407Z",
     "shell.execute_reply": "2023-02-05T11:56:16.247376Z"
    },
    "papermill": {
     "duration": 1.602923,
     "end_time": "2023-02-05T11:56:16.250821",
     "exception": false,
     "start_time": "2023-02-05T11:56:14.647898",
     "status": "completed"
    },
    "tags": []
   },
   "outputs": [
    {
     "name": "stdout",
     "output_type": "stream",
     "text": [
      "Downloading data from https://storage.googleapis.com/tensorflow/tf-keras-datasets/mnist.npz\n",
      "11493376/11490434 [==============================] - 0s 0us/step\n",
      "11501568/11490434 [==============================] - 0s 0us/step\n"
     ]
    },
    {
     "data": {
      "image/png": "[encoded data removed]",
      "text/plain": [
       "<Figure size 432x432 with 25 Axes>"
      ]
     },
     "metadata": {
      "needs_background": "light"
     },
     "output_type": "display_data"
    }
   ],
   "source": [
    "# Handwritten MNIST dataset\n",
    "(X_train, y_train), (X_test, y_test) = tf.keras.datasets.mnist.load_data()\n",
    "# Scaling the pixel values to be between 0 and 1\n",
    "X_train = X_train.astype('float32')\n",
    "X_test = X_test.astype('float32')\n",
    "X_train = X_train / 255\n",
    "X_test = X_test / 255\n",
    "# Visualizing some images\n",
    "import matplotlib.pyplot as plt\n",
    "import numpy as np\n",
    "fig,axes = plt.subplots(5, 5, figsize = (6,6))\n",
    "axes = axes.ravel()\n",
    "for i in np.arange(0,25):\n",
    "    axes[i].imshow(X_train[i])\n",
    "    axes[i].axis(\"off\")"
   ]
  },
  {
   "cell_type": "markdown",
   "id": "79b9b3c3",
   "metadata": {
    "papermill": {
     "duration": 0.040842,
     "end_time": "2023-02-05T11:56:16.333578",
     "exception": false,
     "start_time": "2023-02-05T11:56:16.292736",
     "status": "completed"
    },
    "tags": []
   },
   "source": [
    "Below we will add the grey color channel to all the digits images. "
   ]
  },
  {
   "cell_type": "code",
   "execution_count": 17,
   "id": "2ec27d81",
   "metadata": {
    "execution": {
     "iopub.execute_input": "2023-02-05T11:56:16.416071Z",
     "iopub.status.busy": "2023-02-05T11:56:16.415700Z",
     "iopub.status.idle": "2023-02-05T11:56:16.643743Z",
     "shell.execute_reply": "2023-02-05T11:56:16.641789Z"
    },
    "papermill": {
     "duration": 0.27291,
     "end_time": "2023-02-05T11:56:16.646889",
     "exception": false,
     "start_time": "2023-02-05T11:56:16.373979",
     "status": "completed"
    },
    "tags": []
   },
   "outputs": [
    {
     "name": "stdout",
     "output_type": "stream",
     "text": [
      "(60000, 28, 28, 1) (60000,) (10000, 28, 28, 1) (10000,)\n"
     ]
    }
   ],
   "source": [
    "# Reshaping the training and test features\n",
    "X_train = tf.reshape(X_train, (-1, 28, 28, 1))\n",
    "X_test = tf.reshape(X_test, (-1, 28, 28, 1))\n",
    "print(X_train.shape, y_train.shape, X_test.shape, y_test.shape)"
   ]
  },
  {
   "cell_type": "markdown",
   "id": "2cd07492",
   "metadata": {
    "papermill": {
     "duration": 0.039634,
     "end_time": "2023-02-05T11:56:16.728584",
     "exception": false,
     "start_time": "2023-02-05T11:56:16.688950",
     "status": "completed"
    },
    "tags": []
   },
   "source": [
    "**Training new CNN**\n",
    "\n",
    "Now let’s compile and train the model as did for the base model. "
   ]
  },
  {
   "cell_type": "code",
   "execution_count": 18,
   "id": "60672109",
   "metadata": {
    "execution": {
     "iopub.execute_input": "2023-02-05T11:56:16.810599Z",
     "iopub.status.busy": "2023-02-05T11:56:16.810230Z",
     "iopub.status.idle": "2023-02-05T11:56:31.847432Z",
     "shell.execute_reply": "2023-02-05T11:56:31.846344Z"
    },
    "papermill": {
     "duration": 15.081066,
     "end_time": "2023-02-05T11:56:31.849672",
     "exception": false,
     "start_time": "2023-02-05T11:56:16.768606",
     "status": "completed"
    },
    "tags": []
   },
   "outputs": [
    {
     "name": "stdout",
     "output_type": "stream",
     "text": [
      "Epoch 1/20\n",
      "118/118 [==============================] - 1s 7ms/step - loss: 0.9111 - accuracy: 0.7039\n",
      "Epoch 2/20\n",
      "118/118 [==============================] - 1s 6ms/step - loss: 0.5059 - accuracy: 0.8364\n",
      "Epoch 3/20\n",
      "118/118 [==============================] - 1s 7ms/step - loss: 0.4182 - accuracy: 0.8672\n",
      "Epoch 4/20\n",
      "118/118 [==============================] - 1s 6ms/step - loss: 0.3716 - accuracy: 0.8815\n",
      "Epoch 5/20\n",
      "118/118 [==============================] - 1s 6ms/step - loss: 0.3405 - accuracy: 0.8918\n",
      "Epoch 6/20\n",
      "118/118 [==============================] - 1s 6ms/step - loss: 0.3184 - accuracy: 0.8983\n",
      "Epoch 7/20\n",
      "118/118 [==============================] - 1s 6ms/step - loss: 0.3002 - accuracy: 0.9042\n",
      "Epoch 8/20\n",
      "118/118 [==============================] - 1s 6ms/step - loss: 0.2885 - accuracy: 0.9071\n",
      "Epoch 9/20\n",
      "118/118 [==============================] - 1s 6ms/step - loss: 0.2722 - accuracy: 0.9132\n",
      "Epoch 10/20\n",
      "118/118 [==============================] - 1s 6ms/step - loss: 0.2586 - accuracy: 0.9169\n",
      "Epoch 11/20\n",
      "118/118 [==============================] - 1s 6ms/step - loss: 0.2510 - accuracy: 0.9204\n",
      "Epoch 12/20\n",
      "118/118 [==============================] - 1s 6ms/step - loss: 0.2379 - accuracy: 0.9245\n",
      "Epoch 13/20\n",
      "118/118 [==============================] - 1s 6ms/step - loss: 0.2423 - accuracy: 0.9215\n",
      "Epoch 14/20\n",
      "118/118 [==============================] - 1s 6ms/step - loss: 0.2249 - accuracy: 0.9274\n",
      "Epoch 15/20\n",
      "118/118 [==============================] - 1s 6ms/step - loss: 0.2245 - accuracy: 0.9271\n",
      "Epoch 16/20\n",
      "118/118 [==============================] - 1s 6ms/step - loss: 0.2149 - accuracy: 0.9308\n",
      "Epoch 17/20\n",
      "118/118 [==============================] - 1s 6ms/step - loss: 0.2065 - accuracy: 0.9342\n",
      "Epoch 18/20\n",
      "118/118 [==============================] - 1s 6ms/step - loss: 0.2061 - accuracy: 0.9340\n",
      "Epoch 19/20\n",
      "118/118 [==============================] - 1s 7ms/step - loss: 0.1971 - accuracy: 0.9365\n",
      "Epoch 20/20\n",
      "118/118 [==============================] - 1s 6ms/step - loss: 0.1934 - accuracy: 0.9376\n"
     ]
    },
    {
     "data": {
      "text/plain": [
       "<keras.callbacks.History at 0x7fd507671410>"
      ]
     },
     "execution_count": 18,
     "metadata": {},
     "output_type": "execute_result"
    }
   ],
   "source": [
    "# Compiling the new model\n",
    "cnn2.compile(loss ='sparse_categorical_crossentropy', optimizer='adam' ,metrics =['accuracy'])\n",
    "# Training the new CNN model\n",
    "cnn2.fit(X_train, y_train, batch_size = 512, epochs = 20, verbose = 1)"
   ]
  },
  {
   "cell_type": "markdown",
   "id": "f203f641",
   "metadata": {
    "papermill": {
     "duration": 0.058287,
     "end_time": "2023-02-05T11:56:31.966671",
     "exception": false,
     "start_time": "2023-02-05T11:56:31.908384",
     "status": "completed"
    },
    "tags": []
   },
   "source": [
    "As we can see we have obtained an accuracy above 99% which is outstanding performance.  \n",
    "\n",
    "**Making predictions with the new CNN**\n",
    "\n",
    "Now let’s make a prediction using the above transfer model, on a random digit from the dataset. "
   ]
  },
  {
   "cell_type": "code",
   "execution_count": 19,
   "id": "4e882a12",
   "metadata": {
    "execution": {
     "iopub.execute_input": "2023-02-05T11:56:32.082602Z",
     "iopub.status.busy": "2023-02-05T11:56:32.082195Z",
     "iopub.status.idle": "2023-02-05T11:56:32.286236Z",
     "shell.execute_reply": "2023-02-05T11:56:32.285211Z"
    },
    "papermill": {
     "duration": 0.264223,
     "end_time": "2023-02-05T11:56:32.288632",
     "exception": false,
     "start_time": "2023-02-05T11:56:32.024409",
     "status": "completed"
    },
    "tags": []
   },
   "outputs": [
    {
     "data": {
      "text/plain": [
       "<matplotlib.image.AxesImage at 0x7fd5074eee10>"
      ]
     },
     "execution_count": 19,
     "metadata": {},
     "output_type": "execute_result"
    },
    {
     "data": {
      "image/png": "[encoded data removed]",
      "text/plain": [
       "<Figure size 432x288 with 1 Axes>"
      ]
     },
     "metadata": {
      "needs_background": "light"
     },
     "output_type": "display_data"
    }
   ],
   "source": [
    "# Random image for testing\n",
    "import matplotlib.pyplot as plt\n",
    "actual2 = tf.reshape(X_test[11], (28, 28))\n",
    "plt.imshow(actual2)"
   ]
  },
  {
   "cell_type": "markdown",
   "id": "0ae4659d",
   "metadata": {
    "papermill": {
     "duration": 0.056196,
     "end_time": "2023-02-05T11:56:32.403118",
     "exception": false,
     "start_time": "2023-02-05T11:56:32.346922",
     "status": "completed"
    },
    "tags": []
   },
   "source": [
    "The digit we have chosen is 6 now let’s check what precision does model gives.  "
   ]
  },
  {
   "cell_type": "code",
   "execution_count": 20,
   "id": "5e9e1269",
   "metadata": {
    "execution": {
     "iopub.execute_input": "2023-02-05T11:56:32.517675Z",
     "iopub.status.busy": "2023-02-05T11:56:32.517306Z",
     "iopub.status.idle": "2023-02-05T11:56:33.323785Z",
     "shell.execute_reply": "2023-02-05T11:56:33.322358Z"
    },
    "papermill": {
     "duration": 0.867168,
     "end_time": "2023-02-05T11:56:33.327013",
     "exception": false,
     "start_time": "2023-02-05T11:56:32.459845",
     "status": "completed"
    },
    "tags": []
   },
   "outputs": [
    {
     "name": "stdout",
     "output_type": "stream",
     "text": [
      "Actual label: 6\n",
      "Predicted label: 6\n"
     ]
    }
   ],
   "source": [
    "# Predicting class label using new CNN model\n",
    "import numpy as np\n",
    "predicted_classes2 = cnn2.predict(X_test)\n",
    "test_img2 = tf.reshape(X_test[11], (-1, 28, 28, 1))\n",
    "prediction2 = cnn2.predict(test_img2)\n",
    "print('Actual label: %d'% y_test[11])\n",
    "print('Predicted label: %d'% np.argmax(prediction2[0]))"
   ]
  },
  {
   "cell_type": "markdown",
   "id": "26e354a6",
   "metadata": {
    "papermill": {
     "duration": 0.05792,
     "end_time": "2023-02-05T11:56:33.443548",
     "exception": false,
     "start_time": "2023-02-05T11:56:33.385628",
     "status": "completed"
    },
    "tags": []
   },
   "source": [
    "As we can the actual label is 6 and the predicted label is also 6. \n",
    "\n",
    "So this is how we can implement the transfer learning model using Keras functionality in Python."
   ]
  },
  {
   "cell_type": "code",
   "execution_count": null,
   "id": "e8b2da85",
   "metadata": {
    "papermill": {
     "duration": 0.057653,
     "end_time": "2023-02-05T11:56:33.557054",
     "exception": false,
     "start_time": "2023-02-05T11:56:33.499401",
     "status": "completed"
    },
    "tags": []
   },
   "outputs": [],
   "source": []
  }
 ],
 "metadata": {
  "kernelspec": {
   "display_name": "Python 3",
   "language": "python",
   "name": "python3"
  },
  "language_info": {
   "codemirror_mode": {
    "name": "ipython",
    "version": 3
   },
   "file_extension": ".py",
   "mimetype": "text/x-python",
   "name": "python",
   "nbconvert_exporter": "python",
   "pygments_lexer": "ipython3",
   "version": "3.7.12"
  },
  "papermill": {
   "default_parameters": {},
   "duration": 91.89822,
   "end_time": "2023-02-05T11:56:36.777994",
   "environment_variables": {},
   "exception": null,
   "input_path": "__notebook__.ipynb",
   "output_path": "__notebook__.ipynb",
   "parameters": {},
   "start_time": "2023-02-05T11:55:04.879774",
   "version": "2.3.4"
  }
 },
 "nbformat": 4,
 "nbformat_minor": 5
}
