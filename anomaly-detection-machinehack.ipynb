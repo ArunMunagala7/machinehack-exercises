{
 "cells": [
  {
   "cell_type": "code",
   "execution_count": 1,
   "id": "019ec2c6",
   "metadata": {
    "_cell_guid": "b1076dfc-b9ad-4769-8c92-a6c4dae69d19",
    "_uuid": "8f2839f25d086af736a60e9eeb907d3b93b6e0e5",
    "execution": {
     "iopub.execute_input": "2023-03-16T04:23:23.420070Z",
     "iopub.status.busy": "2023-03-16T04:23:23.419487Z",
     "iopub.status.idle": "2023-03-16T04:23:23.432964Z",
     "shell.execute_reply": "2023-03-16T04:23:23.431741Z"
    },
    "papermill": {
     "duration": 0.02486,
     "end_time": "2023-03-16T04:23:23.435660",
     "exception": false,
     "start_time": "2023-03-16T04:23:23.410800",
     "status": "completed"
    },
    "tags": []
   },
   "outputs": [],
   "source": [
    "# This Python 3 environment comes with many helpful analytics libraries installed\n",
    "# It is defined by the kaggle/python Docker image: https://github.com/kaggle/docker-python\n",
    "# For example, here's several helpful packages to load\n",
    "\n",
    "import numpy as np # linear algebra\n",
    "import pandas as pd # data processing, CSV file I/O (e.g. pd.read_csv)\n",
    "\n",
    "# Input data files are available in the read-only \"../input/\" directory\n",
    "# For example, running this (by clicking run or pressing Shift+Enter) will list all files under the input directory\n",
    "\n",
    "import os\n",
    "for dirname, _, filenames in os.walk('/kaggle/input'):\n",
    "    for filename in filenames:\n",
    "        print(os.path.join(dirname, filename))\n",
    "\n",
    "# You can write up to 20GB to the current directory (/kaggle/working/) that gets preserved as output when you create a version using \"Save & Run All\" \n",
    "# You can also write temporary files to /kaggle/temp/, but they won't be saved outside of the current session"
   ]
  },
  {
   "cell_type": "markdown",
   "id": "94c93e57",
   "metadata": {
    "papermill": {
     "duration": 0.004935,
     "end_time": "2023-03-16T04:23:23.445981",
     "exception": false,
     "start_time": "2023-03-16T04:23:23.441046",
     "status": "completed"
    },
    "tags": []
   },
   "source": [
    "**Hands-on implementation of anomaly detection**\n",
    "\n",
    "So far now we have discussed anomaly detection which is a method by which we can point out or highlight some unwanted instances or events or unusual processes. In this section, we are going to apply two anomaly detection algorithms to real-world datasets. The dataset that we have considered contains information on 25 different features of Credit card payment defaults. Using this dataset the task is to detect anomalies within it.\n",
    "\n",
    "For this task, we are using two machine learning-based algorithms namely: Isolation forest (IF) and Local Outlier Factor (LOF). The IF detects the anomalies by isolation, in simple words, it understands how far the data point which is under observation from the rest of the data points. The LOF uses the Local density-based approach rather than the global density to separate the anomalies of the data.\n",
    "\n",
    "The following steps are to be taken to detect anomalies in the given dataset.\n",
    "\n",
    "**Step 1: Read and load the data**\n",
    "\n",
    "Our dataset is stored in the CSV file, to read this data we are using the Pandas library. Now let’s first load the data and visualize the top 5 rows of it. "
   ]
  },
  {
   "cell_type": "code",
   "execution_count": 2,
   "id": "8dd80461",
   "metadata": {
    "execution": {
     "iopub.execute_input": "2023-03-16T04:23:23.458975Z",
     "iopub.status.busy": "2023-03-16T04:23:23.458540Z",
     "iopub.status.idle": "2023-03-16T04:23:23.948451Z",
     "shell.execute_reply": "2023-03-16T04:23:23.947349Z"
    },
    "papermill": {
     "duration": 0.499331,
     "end_time": "2023-03-16T04:23:23.951019",
     "exception": false,
     "start_time": "2023-03-16T04:23:23.451688",
     "status": "completed"
    },
    "tags": []
   },
   "outputs": [
    {
     "data": {
      "text/html": [
       "<div>\n",
       "<style scoped>\n",
       "    .dataframe tbody tr th:only-of-type {\n",
       "        vertical-align: middle;\n",
       "    }\n",
       "\n",
       "    .dataframe tbody tr th {\n",
       "        vertical-align: top;\n",
       "    }\n",
       "\n",
       "    .dataframe thead th {\n",
       "        text-align: right;\n",
       "    }\n",
       "</style>\n",
       "<table border=\"1\" class=\"dataframe\">\n",
       "  <thead>\n",
       "    <tr style=\"text-align: right;\">\n",
       "      <th></th>\n",
       "      <th>ID</th>\n",
       "      <th>LIMIT_BAL</th>\n",
       "      <th>SEX</th>\n",
       "      <th>EDUCATION</th>\n",
       "      <th>MARRIAGE</th>\n",
       "      <th>AGE</th>\n",
       "      <th>PAY_0</th>\n",
       "      <th>PAY_2</th>\n",
       "      <th>PAY_3</th>\n",
       "      <th>PAY_4</th>\n",
       "      <th>...</th>\n",
       "      <th>BILL_AMT4</th>\n",
       "      <th>BILL_AMT5</th>\n",
       "      <th>BILL_AMT6</th>\n",
       "      <th>PAY_AMT1</th>\n",
       "      <th>PAY_AMT2</th>\n",
       "      <th>PAY_AMT3</th>\n",
       "      <th>PAY_AMT4</th>\n",
       "      <th>PAY_AMT5</th>\n",
       "      <th>PAY_AMT6</th>\n",
       "      <th>default.payment.next.month</th>\n",
       "    </tr>\n",
       "  </thead>\n",
       "  <tbody>\n",
       "    <tr>\n",
       "      <th>0</th>\n",
       "      <td>1</td>\n",
       "      <td>20000.0</td>\n",
       "      <td>2</td>\n",
       "      <td>2</td>\n",
       "      <td>1</td>\n",
       "      <td>24</td>\n",
       "      <td>2</td>\n",
       "      <td>2</td>\n",
       "      <td>-1</td>\n",
       "      <td>-1</td>\n",
       "      <td>...</td>\n",
       "      <td>0.0</td>\n",
       "      <td>0.0</td>\n",
       "      <td>0.0</td>\n",
       "      <td>0.0</td>\n",
       "      <td>689.0</td>\n",
       "      <td>0.0</td>\n",
       "      <td>0.0</td>\n",
       "      <td>0.0</td>\n",
       "      <td>0.0</td>\n",
       "      <td>1</td>\n",
       "    </tr>\n",
       "    <tr>\n",
       "      <th>1</th>\n",
       "      <td>2</td>\n",
       "      <td>120000.0</td>\n",
       "      <td>2</td>\n",
       "      <td>2</td>\n",
       "      <td>2</td>\n",
       "      <td>26</td>\n",
       "      <td>-1</td>\n",
       "      <td>2</td>\n",
       "      <td>0</td>\n",
       "      <td>0</td>\n",
       "      <td>...</td>\n",
       "      <td>3272.0</td>\n",
       "      <td>3455.0</td>\n",
       "      <td>3261.0</td>\n",
       "      <td>0.0</td>\n",
       "      <td>1000.0</td>\n",
       "      <td>1000.0</td>\n",
       "      <td>1000.0</td>\n",
       "      <td>0.0</td>\n",
       "      <td>2000.0</td>\n",
       "      <td>1</td>\n",
       "    </tr>\n",
       "    <tr>\n",
       "      <th>2</th>\n",
       "      <td>3</td>\n",
       "      <td>90000.0</td>\n",
       "      <td>2</td>\n",
       "      <td>2</td>\n",
       "      <td>2</td>\n",
       "      <td>34</td>\n",
       "      <td>0</td>\n",
       "      <td>0</td>\n",
       "      <td>0</td>\n",
       "      <td>0</td>\n",
       "      <td>...</td>\n",
       "      <td>14331.0</td>\n",
       "      <td>14948.0</td>\n",
       "      <td>15549.0</td>\n",
       "      <td>1518.0</td>\n",
       "      <td>1500.0</td>\n",
       "      <td>1000.0</td>\n",
       "      <td>1000.0</td>\n",
       "      <td>1000.0</td>\n",
       "      <td>5000.0</td>\n",
       "      <td>0</td>\n",
       "    </tr>\n",
       "    <tr>\n",
       "      <th>3</th>\n",
       "      <td>4</td>\n",
       "      <td>50000.0</td>\n",
       "      <td>2</td>\n",
       "      <td>2</td>\n",
       "      <td>1</td>\n",
       "      <td>37</td>\n",
       "      <td>0</td>\n",
       "      <td>0</td>\n",
       "      <td>0</td>\n",
       "      <td>0</td>\n",
       "      <td>...</td>\n",
       "      <td>28314.0</td>\n",
       "      <td>28959.0</td>\n",
       "      <td>29547.0</td>\n",
       "      <td>2000.0</td>\n",
       "      <td>2019.0</td>\n",
       "      <td>1200.0</td>\n",
       "      <td>1100.0</td>\n",
       "      <td>1069.0</td>\n",
       "      <td>1000.0</td>\n",
       "      <td>0</td>\n",
       "    </tr>\n",
       "    <tr>\n",
       "      <th>4</th>\n",
       "      <td>5</td>\n",
       "      <td>50000.0</td>\n",
       "      <td>1</td>\n",
       "      <td>2</td>\n",
       "      <td>1</td>\n",
       "      <td>57</td>\n",
       "      <td>-1</td>\n",
       "      <td>0</td>\n",
       "      <td>-1</td>\n",
       "      <td>0</td>\n",
       "      <td>...</td>\n",
       "      <td>20940.0</td>\n",
       "      <td>19146.0</td>\n",
       "      <td>19131.0</td>\n",
       "      <td>2000.0</td>\n",
       "      <td>36681.0</td>\n",
       "      <td>10000.0</td>\n",
       "      <td>9000.0</td>\n",
       "      <td>689.0</td>\n",
       "      <td>679.0</td>\n",
       "      <td>0</td>\n",
       "    </tr>\n",
       "  </tbody>\n",
       "</table>\n",
       "<p>5 rows × 25 columns</p>\n",
       "</div>"
      ],
      "text/plain": [
       "   ID  LIMIT_BAL  SEX  EDUCATION  MARRIAGE  AGE  PAY_0  PAY_2  PAY_3  PAY_4  \\\n",
       "0   1    20000.0    2          2         1   24      2      2     -1     -1   \n",
       "1   2   120000.0    2          2         2   26     -1      2      0      0   \n",
       "2   3    90000.0    2          2         2   34      0      0      0      0   \n",
       "3   4    50000.0    2          2         1   37      0      0      0      0   \n",
       "4   5    50000.0    1          2         1   57     -1      0     -1      0   \n",
       "\n",
       "   ...  BILL_AMT4  BILL_AMT5  BILL_AMT6  PAY_AMT1  PAY_AMT2  PAY_AMT3  \\\n",
       "0  ...        0.0        0.0        0.0       0.0     689.0       0.0   \n",
       "1  ...     3272.0     3455.0     3261.0       0.0    1000.0    1000.0   \n",
       "2  ...    14331.0    14948.0    15549.0    1518.0    1500.0    1000.0   \n",
       "3  ...    28314.0    28959.0    29547.0    2000.0    2019.0    1200.0   \n",
       "4  ...    20940.0    19146.0    19131.0    2000.0   36681.0   10000.0   \n",
       "\n",
       "   PAY_AMT4  PAY_AMT5  PAY_AMT6  default.payment.next.month  \n",
       "0       0.0       0.0       0.0                           1  \n",
       "1    1000.0       0.0    2000.0                           1  \n",
       "2    1000.0    1000.0    5000.0                           0  \n",
       "3    1100.0    1069.0    1000.0                           0  \n",
       "4    9000.0     689.0     679.0                           0  \n",
       "\n",
       "[5 rows x 25 columns]"
      ]
     },
     "execution_count": 2,
     "metadata": {},
     "output_type": "execute_result"
    }
   ],
   "source": [
    "# Import pandas\n",
    "import pandas as pd\n",
    "\n",
    "# Load the data\n",
    "data = pd.read_csv('https://raw.githubusercontent.com/analyticsindiamagazine/MocksDatasets/main/Credit_Card.csv')\n",
    "\n",
    "# Top 5 rows\n",
    "data.head()"
   ]
  },
  {
   "cell_type": "code",
   "execution_count": 3,
   "id": "a722cfde",
   "metadata": {
    "execution": {
     "iopub.execute_input": "2023-03-16T04:23:23.963750Z",
     "iopub.status.busy": "2023-03-16T04:23:23.963325Z",
     "iopub.status.idle": "2023-03-16T04:23:23.988546Z",
     "shell.execute_reply": "2023-03-16T04:23:23.987511Z"
    },
    "papermill": {
     "duration": 0.034347,
     "end_time": "2023-03-16T04:23:23.990994",
     "exception": false,
     "start_time": "2023-03-16T04:23:23.956647",
     "status": "completed"
    },
    "tags": []
   },
   "outputs": [
    {
     "data": {
      "text/html": [
       "<div>\n",
       "<style scoped>\n",
       "    .dataframe tbody tr th:only-of-type {\n",
       "        vertical-align: middle;\n",
       "    }\n",
       "\n",
       "    .dataframe tbody tr th {\n",
       "        vertical-align: top;\n",
       "    }\n",
       "\n",
       "    .dataframe thead th {\n",
       "        text-align: right;\n",
       "    }\n",
       "</style>\n",
       "<table border=\"1\" class=\"dataframe\">\n",
       "  <thead>\n",
       "    <tr style=\"text-align: right;\">\n",
       "      <th></th>\n",
       "      <th>ID</th>\n",
       "      <th>LIMIT_BAL</th>\n",
       "      <th>SEX</th>\n",
       "      <th>EDUCATION</th>\n",
       "      <th>MARRIAGE</th>\n",
       "      <th>AGE</th>\n",
       "      <th>PAY_0</th>\n",
       "      <th>PAY_2</th>\n",
       "      <th>PAY_3</th>\n",
       "      <th>PAY_4</th>\n",
       "      <th>...</th>\n",
       "      <th>BILL_AMT4</th>\n",
       "      <th>BILL_AMT5</th>\n",
       "      <th>BILL_AMT6</th>\n",
       "      <th>PAY_AMT1</th>\n",
       "      <th>PAY_AMT2</th>\n",
       "      <th>PAY_AMT3</th>\n",
       "      <th>PAY_AMT4</th>\n",
       "      <th>PAY_AMT5</th>\n",
       "      <th>PAY_AMT6</th>\n",
       "      <th>default.payment.next.month</th>\n",
       "    </tr>\n",
       "  </thead>\n",
       "  <tbody>\n",
       "    <tr>\n",
       "      <th>29995</th>\n",
       "      <td>29996</td>\n",
       "      <td>220000.0</td>\n",
       "      <td>1</td>\n",
       "      <td>3</td>\n",
       "      <td>1</td>\n",
       "      <td>39</td>\n",
       "      <td>0</td>\n",
       "      <td>0</td>\n",
       "      <td>0</td>\n",
       "      <td>0</td>\n",
       "      <td>...</td>\n",
       "      <td>88004.0</td>\n",
       "      <td>31237.0</td>\n",
       "      <td>15980.0</td>\n",
       "      <td>8500.0</td>\n",
       "      <td>20000.0</td>\n",
       "      <td>5003.0</td>\n",
       "      <td>3047.0</td>\n",
       "      <td>5000.0</td>\n",
       "      <td>1000.0</td>\n",
       "      <td>0</td>\n",
       "    </tr>\n",
       "    <tr>\n",
       "      <th>29996</th>\n",
       "      <td>29997</td>\n",
       "      <td>150000.0</td>\n",
       "      <td>1</td>\n",
       "      <td>3</td>\n",
       "      <td>2</td>\n",
       "      <td>43</td>\n",
       "      <td>-1</td>\n",
       "      <td>-1</td>\n",
       "      <td>-1</td>\n",
       "      <td>-1</td>\n",
       "      <td>...</td>\n",
       "      <td>8979.0</td>\n",
       "      <td>5190.0</td>\n",
       "      <td>0.0</td>\n",
       "      <td>1837.0</td>\n",
       "      <td>3526.0</td>\n",
       "      <td>8998.0</td>\n",
       "      <td>129.0</td>\n",
       "      <td>0.0</td>\n",
       "      <td>0.0</td>\n",
       "      <td>0</td>\n",
       "    </tr>\n",
       "    <tr>\n",
       "      <th>29997</th>\n",
       "      <td>29998</td>\n",
       "      <td>30000.0</td>\n",
       "      <td>1</td>\n",
       "      <td>2</td>\n",
       "      <td>2</td>\n",
       "      <td>37</td>\n",
       "      <td>4</td>\n",
       "      <td>3</td>\n",
       "      <td>2</td>\n",
       "      <td>-1</td>\n",
       "      <td>...</td>\n",
       "      <td>20878.0</td>\n",
       "      <td>20582.0</td>\n",
       "      <td>19357.0</td>\n",
       "      <td>0.0</td>\n",
       "      <td>0.0</td>\n",
       "      <td>22000.0</td>\n",
       "      <td>4200.0</td>\n",
       "      <td>2000.0</td>\n",
       "      <td>3100.0</td>\n",
       "      <td>1</td>\n",
       "    </tr>\n",
       "    <tr>\n",
       "      <th>29998</th>\n",
       "      <td>29999</td>\n",
       "      <td>80000.0</td>\n",
       "      <td>1</td>\n",
       "      <td>3</td>\n",
       "      <td>1</td>\n",
       "      <td>41</td>\n",
       "      <td>1</td>\n",
       "      <td>-1</td>\n",
       "      <td>0</td>\n",
       "      <td>0</td>\n",
       "      <td>...</td>\n",
       "      <td>52774.0</td>\n",
       "      <td>11855.0</td>\n",
       "      <td>48944.0</td>\n",
       "      <td>85900.0</td>\n",
       "      <td>3409.0</td>\n",
       "      <td>1178.0</td>\n",
       "      <td>1926.0</td>\n",
       "      <td>52964.0</td>\n",
       "      <td>1804.0</td>\n",
       "      <td>1</td>\n",
       "    </tr>\n",
       "    <tr>\n",
       "      <th>29999</th>\n",
       "      <td>30000</td>\n",
       "      <td>50000.0</td>\n",
       "      <td>1</td>\n",
       "      <td>2</td>\n",
       "      <td>1</td>\n",
       "      <td>46</td>\n",
       "      <td>0</td>\n",
       "      <td>0</td>\n",
       "      <td>0</td>\n",
       "      <td>0</td>\n",
       "      <td>...</td>\n",
       "      <td>36535.0</td>\n",
       "      <td>32428.0</td>\n",
       "      <td>15313.0</td>\n",
       "      <td>2078.0</td>\n",
       "      <td>1800.0</td>\n",
       "      <td>1430.0</td>\n",
       "      <td>1000.0</td>\n",
       "      <td>1000.0</td>\n",
       "      <td>1000.0</td>\n",
       "      <td>1</td>\n",
       "    </tr>\n",
       "  </tbody>\n",
       "</table>\n",
       "<p>5 rows × 25 columns</p>\n",
       "</div>"
      ],
      "text/plain": [
       "          ID  LIMIT_BAL  SEX  EDUCATION  MARRIAGE  AGE  PAY_0  PAY_2  PAY_3  \\\n",
       "29995  29996   220000.0    1          3         1   39      0      0      0   \n",
       "29996  29997   150000.0    1          3         2   43     -1     -1     -1   \n",
       "29997  29998    30000.0    1          2         2   37      4      3      2   \n",
       "29998  29999    80000.0    1          3         1   41      1     -1      0   \n",
       "29999  30000    50000.0    1          2         1   46      0      0      0   \n",
       "\n",
       "       PAY_4  ...  BILL_AMT4  BILL_AMT5  BILL_AMT6  PAY_AMT1  PAY_AMT2  \\\n",
       "29995      0  ...    88004.0    31237.0    15980.0    8500.0   20000.0   \n",
       "29996     -1  ...     8979.0     5190.0        0.0    1837.0    3526.0   \n",
       "29997     -1  ...    20878.0    20582.0    19357.0       0.0       0.0   \n",
       "29998      0  ...    52774.0    11855.0    48944.0   85900.0    3409.0   \n",
       "29999      0  ...    36535.0    32428.0    15313.0    2078.0    1800.0   \n",
       "\n",
       "       PAY_AMT3  PAY_AMT4  PAY_AMT5  PAY_AMT6  default.payment.next.month  \n",
       "29995    5003.0    3047.0    5000.0    1000.0                           0  \n",
       "29996    8998.0     129.0       0.0       0.0                           0  \n",
       "29997   22000.0    4200.0    2000.0    3100.0                           1  \n",
       "29998    1178.0    1926.0   52964.0    1804.0                           1  \n",
       "29999    1430.0    1000.0    1000.0    1000.0                           1  \n",
       "\n",
       "[5 rows x 25 columns]"
      ]
     },
     "execution_count": 3,
     "metadata": {},
     "output_type": "execute_result"
    }
   ],
   "source": [
    "data.tail()"
   ]
  },
  {
   "cell_type": "markdown",
   "id": "d62d007d",
   "metadata": {
    "papermill": {
     "duration": 0.005469,
     "end_time": "2023-03-16T04:23:24.002366",
     "exception": false,
     "start_time": "2023-03-16T04:23:23.996897",
     "status": "completed"
    },
    "tags": []
   },
   "source": [
    "shape of the dataset"
   ]
  },
  {
   "cell_type": "code",
   "execution_count": 4,
   "id": "bc3d9b30",
   "metadata": {
    "execution": {
     "iopub.execute_input": "2023-03-16T04:23:24.016346Z",
     "iopub.status.busy": "2023-03-16T04:23:24.015916Z",
     "iopub.status.idle": "2023-03-16T04:23:24.025362Z",
     "shell.execute_reply": "2023-03-16T04:23:24.024179Z"
    },
    "papermill": {
     "duration": 0.019508,
     "end_time": "2023-03-16T04:23:24.027684",
     "exception": false,
     "start_time": "2023-03-16T04:23:24.008176",
     "status": "completed"
    },
    "tags": []
   },
   "outputs": [
    {
     "data": {
      "text/plain": [
       "(30000, 25)"
      ]
     },
     "execution_count": 4,
     "metadata": {},
     "output_type": "execute_result"
    }
   ],
   "source": [
    "data.shape"
   ]
  },
  {
   "cell_type": "markdown",
   "id": "73a4255f",
   "metadata": {
    "papermill": {
     "duration": 0.005747,
     "end_time": "2023-03-16T04:23:24.039477",
     "exception": false,
     "start_time": "2023-03-16T04:23:24.033730",
     "status": "completed"
    },
    "tags": []
   },
   "source": [
    "As we can see there are a total of 30000 records and 25 features or columns in the dataset.\n",
    "\n",
    "**Step 2: Define training patterns**\n",
    "\n",
    "Now let’s define the input training patterns which will be used to train the algorithms. There are a total of 25 features out of which as we can see in the 1st step the column named ID is irrelevant for the analysis and the last column gives information about whether the given customer will default payment or not (this feature is usually used in classification problems). So we have to eliminate these two columns and the rest will be used as input features to IF and LOF algorithms. "
   ]
  },
  {
   "cell_type": "code",
   "execution_count": 5,
   "id": "ed847544",
   "metadata": {
    "execution": {
     "iopub.execute_input": "2023-03-16T04:23:24.053836Z",
     "iopub.status.busy": "2023-03-16T04:23:24.052731Z",
     "iopub.status.idle": "2023-03-16T04:23:24.062928Z",
     "shell.execute_reply": "2023-03-16T04:23:24.061779Z"
    },
    "papermill": {
     "duration": 0.019994,
     "end_time": "2023-03-16T04:23:24.065482",
     "exception": false,
     "start_time": "2023-03-16T04:23:24.045488",
     "status": "completed"
    },
    "tags": []
   },
   "outputs": [],
   "source": [
    "# Set the features\n",
    "X = data.iloc[:,1:-1].values\n",
    "# Check the shape\n",
    "X.shape\n",
    "X1=data.iloc[:,1:-1]"
   ]
  },
  {
   "cell_type": "markdown",
   "id": "df2a4275",
   "metadata": {
    "papermill": {
     "duration": 0.005584,
     "end_time": "2023-03-16T04:23:24.077299",
     "exception": false,
     "start_time": "2023-03-16T04:23:24.071715",
     "status": "completed"
    },
    "tags": []
   },
   "source": [
    "As you can see we have successfully created a set of training features. \n",
    "\n",
    "Now before moving to the modelling let’s first check the distribution of one of the input features.  "
   ]
  },
  {
   "cell_type": "code",
   "execution_count": null,
   "id": "37c02521",
   "metadata": {
    "papermill": {
     "duration": 0.005599,
     "end_time": "2023-03-16T04:23:24.088665",
     "exception": false,
     "start_time": "2023-03-16T04:23:24.083066",
     "status": "completed"
    },
    "tags": []
   },
   "outputs": [],
   "source": []
  },
  {
   "cell_type": "code",
   "execution_count": 6,
   "id": "9360841d",
   "metadata": {
    "execution": {
     "iopub.execute_input": "2023-03-16T04:23:24.102474Z",
     "iopub.status.busy": "2023-03-16T04:23:24.101677Z",
     "iopub.status.idle": "2023-03-16T04:23:24.398130Z",
     "shell.execute_reply": "2023-03-16T04:23:24.397245Z"
    },
    "papermill": {
     "duration": 0.305958,
     "end_time": "2023-03-16T04:23:24.400299",
     "exception": false,
     "start_time": "2023-03-16T04:23:24.094341",
     "status": "completed"
    },
    "tags": []
   },
   "outputs": [
    {
     "data": {
      "text/plain": [
       "Text(0, 0.5, 'Frequency of datapoints')"
      ]
     },
     "execution_count": 6,
     "metadata": {},
     "output_type": "execute_result"
    },
    {
     "data": {
      "image/png": "[encoded data removed]",
      "text/plain": [
       "<Figure size 800x600 with 1 Axes>"
      ]
     },
     "metadata": {},
     "output_type": "display_data"
    }
   ],
   "source": [
    "# import matplotlib\n",
    "import matplotlib.pyplot as plt\n",
    "# See how data is spreaded\n",
    "plt.figure(figsize=(8,6))\n",
    "plt.hist(X[:,4])\n",
    "plt.xlabel('Age')\n",
    "plt.ylabel('Frequency of datapoints')"
   ]
  },
  {
   "cell_type": "markdown",
   "id": "2bd8e320",
   "metadata": {
    "papermill": {
     "duration": 0.006271,
     "end_time": "2023-03-16T04:23:24.414515",
     "exception": false,
     "start_time": "2023-03-16T04:23:24.408244",
     "status": "completed"
    },
    "tags": []
   },
   "source": [
    "**Step 3: Initialize and train the IF and LOF**\n",
    "\n",
    "Now we will import the Isolation forest and Local outlier factor from the sklearn library and will train those on our training pattern which is defined in the above step."
   ]
  },
  {
   "cell_type": "code",
   "execution_count": 7,
   "id": "6380b716",
   "metadata": {
    "execution": {
     "iopub.execute_input": "2023-03-16T04:23:24.430019Z",
     "iopub.status.busy": "2023-03-16T04:23:24.429057Z",
     "iopub.status.idle": "2023-03-16T04:23:26.335637Z",
     "shell.execute_reply": "2023-03-16T04:23:26.334641Z"
    },
    "papermill": {
     "duration": 1.917052,
     "end_time": "2023-03-16T04:23:26.338130",
     "exception": false,
     "start_time": "2023-03-16T04:23:24.421078",
     "status": "completed"
    },
    "tags": []
   },
   "outputs": [
    {
     "data": {
      "text/plain": [
       "IsolationForest(random_state=0)"
      ]
     },
     "execution_count": 7,
     "metadata": {},
     "output_type": "execute_result"
    }
   ],
   "source": [
    "# Import IF and LOF\n",
    "from sklearn.ensemble import IsolationForest\n",
    "from sklearn.neighbors import LocalOutlierFactor\n",
    "# Initialize and train the IF\n",
    "IF = IsolationForest(random_state=0)\n",
    "IF.fit(X)"
   ]
  },
  {
   "cell_type": "code",
   "execution_count": 8,
   "id": "37fdcba0",
   "metadata": {
    "execution": {
     "iopub.execute_input": "2023-03-16T04:23:26.353860Z",
     "iopub.status.busy": "2023-03-16T04:23:26.352848Z",
     "iopub.status.idle": "2023-03-16T04:23:42.215163Z",
     "shell.execute_reply": "2023-03-16T04:23:42.213993Z"
    },
    "papermill": {
     "duration": 15.873417,
     "end_time": "2023-03-16T04:23:42.218231",
     "exception": false,
     "start_time": "2023-03-16T04:23:26.344814",
     "status": "completed"
    },
    "tags": []
   },
   "outputs": [
    {
     "data": {
      "text/plain": [
       "LocalOutlierFactor()"
      ]
     },
     "execution_count": 8,
     "metadata": {},
     "output_type": "execute_result"
    }
   ],
   "source": [
    "# Initialize and train LOF\n",
    "LOF = LocalOutlierFactor()\n",
    "LOF.fit(X)"
   ]
  },
  {
   "cell_type": "markdown",
   "id": "5b6ede00",
   "metadata": {
    "papermill": {
     "duration": 0.006213,
     "end_time": "2023-03-16T04:23:42.231175",
     "exception": false,
     "start_time": "2023-03-16T04:23:42.224962",
     "status": "completed"
    },
    "tags": []
   },
   "source": [
    "**Step 4: Predicting and plotting anomalies**\n",
    "\n",
    "We have successfully trained both algorithms, here we will now obtain the prediction from each algorithm and will plot anomalies."
   ]
  },
  {
   "cell_type": "code",
   "execution_count": 9,
   "id": "27f7f6c9",
   "metadata": {
    "execution": {
     "iopub.execute_input": "2023-03-16T04:23:42.246306Z",
     "iopub.status.busy": "2023-03-16T04:23:42.245892Z",
     "iopub.status.idle": "2023-03-16T04:23:43.467873Z",
     "shell.execute_reply": "2023-03-16T04:23:43.466620Z"
    },
    "papermill": {
     "duration": 1.232751,
     "end_time": "2023-03-16T04:23:43.470422",
     "exception": false,
     "start_time": "2023-03-16T04:23:42.237671",
     "status": "completed"
    },
    "tags": []
   },
   "outputs": [
    {
     "data": {
      "text/plain": [
       "<matplotlib.legend.Legend at 0x7f65de483a50>"
      ]
     },
     "execution_count": 9,
     "metadata": {},
     "output_type": "execute_result"
    },
    {
     "data": {
      "image/png": "[encoded data removed]",
      "text/plain": [
       "<Figure size 800x600 with 1 Axes>"
      ]
     },
     "metadata": {},
     "output_type": "display_data"
    }
   ],
   "source": [
    "# Anomalies given by IF\n",
    "IF_anomalies = IF.predict(X)\n",
    "  \n",
    "# Plotting anomalies given by IF\n",
    "plt.figure(figsize=(8,6))\n",
    "plt.hist(X[:,4],label='Normal')\n",
    "plt.hist(X[IF_anomalies==-1][:,4], color='red', label='Anomalies')\n",
    "plt.xlabel('Age of the customers')\n",
    "plt.ylabel('Frequency')\n",
    "plt.ylim((0,6000))\n",
    "plt.legend()"
   ]
  },
  {
   "cell_type": "markdown",
   "id": "a242886a",
   "metadata": {
    "papermill": {
     "duration": 0.007339,
     "end_time": "2023-03-16T04:23:43.485331",
     "exception": false,
     "start_time": "2023-03-16T04:23:43.477992",
     "status": "completed"
    },
    "tags": []
   },
   "source": [
    "In the above plot given by Isolation forest, the distribution in red colour represents anomalies, we can read it as around 2300 customers from age 21 to 67 are something which is insignificant or abnormal.  \n",
    "\n",
    "Now let’s plot anomalies identified by the LOF."
   ]
  },
  {
   "cell_type": "code",
   "execution_count": 10,
   "id": "2d4c3f1f",
   "metadata": {
    "execution": {
     "iopub.execute_input": "2023-03-16T04:23:43.502031Z",
     "iopub.status.busy": "2023-03-16T04:23:43.501628Z",
     "iopub.status.idle": "2023-03-16T04:23:59.573634Z",
     "shell.execute_reply": "2023-03-16T04:23:59.572356Z"
    },
    "papermill": {
     "duration": 16.08372,
     "end_time": "2023-03-16T04:23:59.576472",
     "exception": false,
     "start_time": "2023-03-16T04:23:43.492752",
     "status": "completed"
    },
    "tags": []
   },
   "outputs": [
    {
     "data": {
      "text/plain": [
       "<matplotlib.legend.Legend at 0x7f65de3b7a50>"
      ]
     },
     "execution_count": 10,
     "metadata": {},
     "output_type": "execute_result"
    },
    {
     "data": {
      "image/png": "[encoded data removed]",
      "text/plain": [
       "<Figure size 800x600 with 1 Axes>"
      ]
     },
     "metadata": {},
     "output_type": "display_data"
    }
   ],
   "source": [
    "# Anomalies given by the LOF\n",
    "LOF_anomalies = LOF.fit_predict(X)\n",
    "# Plotting anomalies given by LOF\n",
    "plt.figure(figsize=(8,6))\n",
    "plt.hist(X[:,4],label='Normal')\n",
    "plt.hist(X[LOF_anomalies==-1][:,4], color='red', label='Anomalies')\n",
    "plt.xlabel('Age of the customers')\n",
    "plt.ylabel('Frequency')\n",
    "plt.ylim((0,6000))\n",
    "plt.legend()"
   ]
  },
  {
   "cell_type": "code",
   "execution_count": 11,
   "id": "695b06c8",
   "metadata": {
    "execution": {
     "iopub.execute_input": "2023-03-16T04:23:59.595513Z",
     "iopub.status.busy": "2023-03-16T04:23:59.595071Z",
     "iopub.status.idle": "2023-03-16T04:23:59.628227Z",
     "shell.execute_reply": "2023-03-16T04:23:59.626885Z"
    },
    "papermill": {
     "duration": 0.046283,
     "end_time": "2023-03-16T04:23:59.630918",
     "exception": false,
     "start_time": "2023-03-16T04:23:59.584635",
     "status": "completed"
    },
    "tags": []
   },
   "outputs": [
    {
     "data": {
      "text/html": [
       "<div>\n",
       "<style scoped>\n",
       "    .dataframe tbody tr th:only-of-type {\n",
       "        vertical-align: middle;\n",
       "    }\n",
       "\n",
       "    .dataframe tbody tr th {\n",
       "        vertical-align: top;\n",
       "    }\n",
       "\n",
       "    .dataframe thead th {\n",
       "        text-align: right;\n",
       "    }\n",
       "</style>\n",
       "<table border=\"1\" class=\"dataframe\">\n",
       "  <thead>\n",
       "    <tr style=\"text-align: right;\">\n",
       "      <th></th>\n",
       "      <th>LIMIT_BAL</th>\n",
       "      <th>SEX</th>\n",
       "      <th>EDUCATION</th>\n",
       "      <th>MARRIAGE</th>\n",
       "      <th>AGE</th>\n",
       "      <th>PAY_0</th>\n",
       "      <th>PAY_2</th>\n",
       "      <th>PAY_3</th>\n",
       "      <th>PAY_4</th>\n",
       "      <th>PAY_5</th>\n",
       "      <th>...</th>\n",
       "      <th>BILL_AMT3</th>\n",
       "      <th>BILL_AMT4</th>\n",
       "      <th>BILL_AMT5</th>\n",
       "      <th>BILL_AMT6</th>\n",
       "      <th>PAY_AMT1</th>\n",
       "      <th>PAY_AMT2</th>\n",
       "      <th>PAY_AMT3</th>\n",
       "      <th>PAY_AMT4</th>\n",
       "      <th>PAY_AMT5</th>\n",
       "      <th>PAY_AMT6</th>\n",
       "    </tr>\n",
       "  </thead>\n",
       "  <tbody>\n",
       "    <tr>\n",
       "      <th>0</th>\n",
       "      <td>500000.0</td>\n",
       "      <td>1.0</td>\n",
       "      <td>1.0</td>\n",
       "      <td>2.0</td>\n",
       "      <td>29.0</td>\n",
       "      <td>0.0</td>\n",
       "      <td>0.0</td>\n",
       "      <td>0.0</td>\n",
       "      <td>0.0</td>\n",
       "      <td>0.0</td>\n",
       "      <td>...</td>\n",
       "      <td>445007.0</td>\n",
       "      <td>542653.0</td>\n",
       "      <td>483003.0</td>\n",
       "      <td>473944.0</td>\n",
       "      <td>55000.0</td>\n",
       "      <td>40000.0</td>\n",
       "      <td>38000.0</td>\n",
       "      <td>20239.0</td>\n",
       "      <td>13750.0</td>\n",
       "      <td>13770.0</td>\n",
       "    </tr>\n",
       "    <tr>\n",
       "      <th>1</th>\n",
       "      <td>320000.0</td>\n",
       "      <td>1.0</td>\n",
       "      <td>1.0</td>\n",
       "      <td>1.0</td>\n",
       "      <td>49.0</td>\n",
       "      <td>0.0</td>\n",
       "      <td>0.0</td>\n",
       "      <td>0.0</td>\n",
       "      <td>-1.0</td>\n",
       "      <td>-1.0</td>\n",
       "      <td>...</td>\n",
       "      <td>194663.0</td>\n",
       "      <td>70074.0</td>\n",
       "      <td>5856.0</td>\n",
       "      <td>195599.0</td>\n",
       "      <td>10358.0</td>\n",
       "      <td>10000.0</td>\n",
       "      <td>75940.0</td>\n",
       "      <td>20000.0</td>\n",
       "      <td>195599.0</td>\n",
       "      <td>50000.0</td>\n",
       "    </tr>\n",
       "    <tr>\n",
       "      <th>2</th>\n",
       "      <td>500000.0</td>\n",
       "      <td>2.0</td>\n",
       "      <td>2.0</td>\n",
       "      <td>1.0</td>\n",
       "      <td>54.0</td>\n",
       "      <td>-2.0</td>\n",
       "      <td>-2.0</td>\n",
       "      <td>-2.0</td>\n",
       "      <td>-2.0</td>\n",
       "      <td>-2.0</td>\n",
       "      <td>...</td>\n",
       "      <td>22722.0</td>\n",
       "      <td>7521.0</td>\n",
       "      <td>71439.0</td>\n",
       "      <td>8981.0</td>\n",
       "      <td>4152.0</td>\n",
       "      <td>22827.0</td>\n",
       "      <td>7521.0</td>\n",
       "      <td>71439.0</td>\n",
       "      <td>981.0</td>\n",
       "      <td>51582.0</td>\n",
       "    </tr>\n",
       "    <tr>\n",
       "      <th>3</th>\n",
       "      <td>500000.0</td>\n",
       "      <td>1.0</td>\n",
       "      <td>1.0</td>\n",
       "      <td>1.0</td>\n",
       "      <td>58.0</td>\n",
       "      <td>-2.0</td>\n",
       "      <td>-2.0</td>\n",
       "      <td>-2.0</td>\n",
       "      <td>-2.0</td>\n",
       "      <td>-2.0</td>\n",
       "      <td>...</td>\n",
       "      <td>31130.0</td>\n",
       "      <td>3180.0</td>\n",
       "      <td>0.0</td>\n",
       "      <td>5293.0</td>\n",
       "      <td>5006.0</td>\n",
       "      <td>31178.0</td>\n",
       "      <td>3180.0</td>\n",
       "      <td>0.0</td>\n",
       "      <td>5293.0</td>\n",
       "      <td>768.0</td>\n",
       "    </tr>\n",
       "    <tr>\n",
       "      <th>4</th>\n",
       "      <td>360000.0</td>\n",
       "      <td>1.0</td>\n",
       "      <td>1.0</td>\n",
       "      <td>2.0</td>\n",
       "      <td>33.0</td>\n",
       "      <td>0.0</td>\n",
       "      <td>0.0</td>\n",
       "      <td>0.0</td>\n",
       "      <td>0.0</td>\n",
       "      <td>0.0</td>\n",
       "      <td>...</td>\n",
       "      <td>206895.0</td>\n",
       "      <td>628699.0</td>\n",
       "      <td>195969.0</td>\n",
       "      <td>179224.0</td>\n",
       "      <td>10000.0</td>\n",
       "      <td>7000.0</td>\n",
       "      <td>6000.0</td>\n",
       "      <td>188840.0</td>\n",
       "      <td>28000.0</td>\n",
       "      <td>4000.0</td>\n",
       "    </tr>\n",
       "  </tbody>\n",
       "</table>\n",
       "<p>5 rows × 23 columns</p>\n",
       "</div>"
      ],
      "text/plain": [
       "   LIMIT_BAL  SEX  EDUCATION  MARRIAGE   AGE  PAY_0  PAY_2  PAY_3  PAY_4  \\\n",
       "0   500000.0  1.0        1.0       2.0  29.0    0.0    0.0    0.0    0.0   \n",
       "1   320000.0  1.0        1.0       1.0  49.0    0.0    0.0    0.0   -1.0   \n",
       "2   500000.0  2.0        2.0       1.0  54.0   -2.0   -2.0   -2.0   -2.0   \n",
       "3   500000.0  1.0        1.0       1.0  58.0   -2.0   -2.0   -2.0   -2.0   \n",
       "4   360000.0  1.0        1.0       2.0  33.0    0.0    0.0    0.0    0.0   \n",
       "\n",
       "   PAY_5  ...  BILL_AMT3  BILL_AMT4  BILL_AMT5  BILL_AMT6  PAY_AMT1  PAY_AMT2  \\\n",
       "0    0.0  ...   445007.0   542653.0   483003.0   473944.0   55000.0   40000.0   \n",
       "1   -1.0  ...   194663.0    70074.0     5856.0   195599.0   10358.0   10000.0   \n",
       "2   -2.0  ...    22722.0     7521.0    71439.0     8981.0    4152.0   22827.0   \n",
       "3   -2.0  ...    31130.0     3180.0        0.0     5293.0    5006.0   31178.0   \n",
       "4    0.0  ...   206895.0   628699.0   195969.0   179224.0   10000.0    7000.0   \n",
       "\n",
       "   PAY_AMT3  PAY_AMT4  PAY_AMT5  PAY_AMT6  \n",
       "0   38000.0   20239.0   13750.0   13770.0  \n",
       "1   75940.0   20000.0  195599.0   50000.0  \n",
       "2    7521.0   71439.0     981.0   51582.0  \n",
       "3    3180.0       0.0    5293.0     768.0  \n",
       "4    6000.0  188840.0   28000.0    4000.0  \n",
       "\n",
       "[5 rows x 23 columns]"
      ]
     },
     "execution_count": 11,
     "metadata": {},
     "output_type": "execute_result"
    }
   ],
   "source": [
    "anom=pd.DataFrame(X[IF_anomalies==-1],columns=X1.columns)\n",
    "anom.head()"
   ]
  },
  {
   "cell_type": "code",
   "execution_count": 12,
   "id": "d1cad9e1",
   "metadata": {
    "execution": {
     "iopub.execute_input": "2023-03-16T04:23:59.650159Z",
     "iopub.status.busy": "2023-03-16T04:23:59.649672Z",
     "iopub.status.idle": "2023-03-16T04:23:59.657190Z",
     "shell.execute_reply": "2023-03-16T04:23:59.655912Z"
    },
    "papermill": {
     "duration": 0.020605,
     "end_time": "2023-03-16T04:23:59.659921",
     "exception": false,
     "start_time": "2023-03-16T04:23:59.639316",
     "status": "completed"
    },
    "tags": []
   },
   "outputs": [
    {
     "data": {
      "text/plain": [
       "(2322, 23)"
      ]
     },
     "execution_count": 12,
     "metadata": {},
     "output_type": "execute_result"
    }
   ],
   "source": [
    "anom.shape"
   ]
  },
  {
   "cell_type": "markdown",
   "id": "c4e35ee0",
   "metadata": {
    "papermill": {
     "duration": 0.008105,
     "end_time": "2023-03-16T04:23:59.676462",
     "exception": false,
     "start_time": "2023-03-16T04:23:59.668357",
     "status": "completed"
    },
    "tags": []
   },
   "source": [
    "As you can see the anomalies identified by the LOF are between the ages of 21 to 69 and those are around 6544. From the above two outputs, it looks like the LOF is giving more information on anomalies. The quality of both results can be well assed by the domain expert. \n",
    "\n",
    "So this is how we can use Isolation forest and Local outlier factors to detect anomalies in the real-world datasets. "
   ]
  },
  {
   "cell_type": "code",
   "execution_count": null,
   "id": "2e48a725",
   "metadata": {
    "papermill": {
     "duration": 0.007967,
     "end_time": "2023-03-16T04:23:59.692842",
     "exception": false,
     "start_time": "2023-03-16T04:23:59.684875",
     "status": "completed"
    },
    "tags": []
   },
   "outputs": [],
   "source": []
  }
 ],
 "metadata": {
  "kernelspec": {
   "display_name": "Python 3",
   "language": "python",
   "name": "python3"
  },
  "language_info": {
   "codemirror_mode": {
    "name": "ipython",
    "version": 3
   },
   "file_extension": ".py",
   "mimetype": "text/x-python",
   "name": "python",
   "nbconvert_exporter": "python",
   "pygments_lexer": "ipython3",
   "version": "3.7.12"
  },
  "papermill": {
   "default_parameters": {},
   "duration": 47.369971,
   "end_time": "2023-03-16T04:24:00.523918",
   "environment_variables": {},
   "exception": null,
   "input_path": "__notebook__.ipynb",
   "output_path": "__notebook__.ipynb",
   "parameters": {},
   "start_time": "2023-03-16T04:23:13.153947",
   "version": "2.4.0"
  }
 },
 "nbformat": 4,
 "nbformat_minor": 5
}
