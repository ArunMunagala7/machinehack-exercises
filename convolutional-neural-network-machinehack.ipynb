{
 "cells": [
  {
   "cell_type": "code",
   "execution_count": 1,
   "id": "2110f368",
   "metadata": {
    "_cell_guid": "b1076dfc-b9ad-4769-8c92-a6c4dae69d19",
    "_uuid": "8f2839f25d086af736a60e9eeb907d3b93b6e0e5",
    "execution": {
     "iopub.execute_input": "2023-02-04T10:29:43.967985Z",
     "iopub.status.busy": "2023-02-04T10:29:43.967397Z",
     "iopub.status.idle": "2023-02-04T10:29:43.981045Z",
     "shell.execute_reply": "2023-02-04T10:29:43.980071Z"
    },
    "papermill": {
     "duration": 0.029752,
     "end_time": "2023-02-04T10:29:43.983379",
     "exception": false,
     "start_time": "2023-02-04T10:29:43.953627",
     "status": "completed"
    },
    "tags": []
   },
   "outputs": [],
   "source": [
    "# This Python 3 environment comes with many helpful analytics libraries installed\n",
    "# It is defined by the kaggle/python Docker image: https://github.com/kaggle/docker-python\n",
    "# For example, here's several helpful packages to load\n",
    "\n",
    "import numpy as np # linear algebra\n",
    "import pandas as pd # data processing, CSV file I/O (e.g. pd.read_csv)\n",
    "\n",
    "# Input data files are available in the read-only \"../input/\" directory\n",
    "# For example, running this (by clicking run or pressing Shift+Enter) will list all files under the input directory\n",
    "\n",
    "import os\n",
    "for dirname, _, filenames in os.walk('/kaggle/input'):\n",
    "    for filename in filenames:\n",
    "        print(os.path.join(dirname, filename))\n",
    "\n",
    "# You can write up to 20GB to the current directory (/kaggle/working/) that gets preserved as output when you create a version using \"Save & Run All\" \n",
    "# You can also write temporary files to /kaggle/temp/, but they won't be saved outside of the current session"
   ]
  },
  {
   "cell_type": "markdown",
   "id": "9475817b",
   "metadata": {
    "papermill": {
     "duration": 0.006583,
     "end_time": "2023-02-04T10:29:43.997259",
     "exception": false,
     "start_time": "2023-02-04T10:29:43.990676",
     "status": "completed"
    },
    "tags": []
   },
   "source": [
    "So far now we have discussed convolution neural network which is an advanced type of neural network and is mostly being used in computer vision applications. Due to its kernel operation which iteratively traverses over the given image therefore it is possible to extract the useful features from the image easily. \n",
    "\n",
    "So in this section, our task is to build a convolution-based neural network to classify the digit represented in a given image. The MNIST digit dataset we are using for this task holds nearly 30000 records of pixels for the digits starting from 0 to 9. Using this dataset and the CNN network we are going to classify the given set of pixels into respective digits. \n",
    "\n",
    "The following steps are to be taken in order to build this CNN based classifier.\n",
    "\n",
    "Step 1: Reading the image dataset\n",
    "\n",
    "The pixel values which are ranging from 0 to 255 are stored with respect to different 785-pixel positions. These values and labels associated with each example are stored in a CSV file  So below we will import both the training and testing dataset stored in a CSV file. "
   ]
  },
  {
   "cell_type": "code",
   "execution_count": 2,
   "id": "2c2ec04b",
   "metadata": {
    "execution": {
     "iopub.execute_input": "2023-02-04T10:29:44.012950Z",
     "iopub.status.busy": "2023-02-04T10:29:44.012163Z",
     "iopub.status.idle": "2023-02-04T10:29:49.915536Z",
     "shell.execute_reply": "2023-02-04T10:29:49.914537Z"
    },
    "papermill": {
     "duration": 5.913739,
     "end_time": "2023-02-04T10:29:49.918163",
     "exception": false,
     "start_time": "2023-02-04T10:29:44.004424",
     "status": "completed"
    },
    "tags": []
   },
   "outputs": [
    {
     "name": "stdout",
     "output_type": "stream",
     "text": [
      "Downloading data from https://storage.googleapis.com/tensorflow/tf-keras-datasets/mnist.npz\n",
      "11493376/11490434 [==============================] - 0s 0us/step\n",
      "11501568/11490434 [==============================] - 0s 0us/step\n"
     ]
    }
   ],
   "source": [
    "import tensorflow as tf\n",
    "import numpy as np\n",
    "\n",
    "(x_train, y_train), (x_test, y_test) = tf.keras.datasets.mnist.load_data()\n",
    "\n",
    "x_train = x_train.reshape(-1, 784)\n",
    "x_test = x_test.reshape(-1, 784)\n",
    "\n",
    "y_train = np.expand_dims(y_train, axis=1)\n",
    "y_test = np.expand_dims(y_test, axis=1)\n",
    "\n",
    "df_train = np.concatenate((x_train[:20000], y_train[:20000]), axis=1)\n",
    "df_test = np.concatenate((x_test[:10000], y_test[:10000]), axis=1)"
   ]
  },
  {
   "cell_type": "code",
   "execution_count": 3,
   "id": "5c0cd23d",
   "metadata": {
    "execution": {
     "iopub.execute_input": "2023-02-04T10:29:49.934422Z",
     "iopub.status.busy": "2023-02-04T10:29:49.933671Z",
     "iopub.status.idle": "2023-02-04T10:29:49.944509Z",
     "shell.execute_reply": "2023-02-04T10:29:49.943660Z"
    },
    "papermill": {
     "duration": 0.021057,
     "end_time": "2023-02-04T10:29:49.946606",
     "exception": false,
     "start_time": "2023-02-04T10:29:49.925549",
     "status": "completed"
    },
    "tags": []
   },
   "outputs": [
    {
     "data": {
      "text/plain": [
       "((20000, 785), (10000, 785))"
      ]
     },
     "execution_count": 3,
     "metadata": {},
     "output_type": "execute_result"
    }
   ],
   "source": [
    "df_train.shape, df_test.shape"
   ]
  },
  {
   "cell_type": "markdown",
   "id": "491fe0d1",
   "metadata": {
    "papermill": {
     "duration": 0.007245,
     "end_time": "2023-02-04T10:29:49.961399",
     "exception": false,
     "start_time": "2023-02-04T10:29:49.954154",
     "status": "completed"
    },
    "tags": []
   },
   "source": [
    "So the training file consists of 20000 records and the test data contains 10000 records. Now let’s have an initial brief of the data. "
   ]
  },
  {
   "cell_type": "code",
   "execution_count": 4,
   "id": "795e3101",
   "metadata": {
    "execution": {
     "iopub.execute_input": "2023-02-04T10:29:49.978457Z",
     "iopub.status.busy": "2023-02-04T10:29:49.978108Z",
     "iopub.status.idle": "2023-02-04T10:29:49.986146Z",
     "shell.execute_reply": "2023-02-04T10:29:49.985248Z"
    },
    "papermill": {
     "duration": 0.018247,
     "end_time": "2023-02-04T10:29:49.988204",
     "exception": false,
     "start_time": "2023-02-04T10:29:49.969957",
     "status": "completed"
    },
    "tags": []
   },
   "outputs": [
    {
     "data": {
      "text/plain": [
       "array([[0, 0, 0, ..., 0, 0, 5],\n",
       "       [0, 0, 0, ..., 0, 0, 0],\n",
       "       [0, 0, 0, ..., 0, 0, 4],\n",
       "       ...,\n",
       "       [0, 0, 0, ..., 0, 0, 1],\n",
       "       [0, 0, 0, ..., 0, 0, 4],\n",
       "       [0, 0, 0, ..., 0, 0, 2]], dtype=uint8)"
      ]
     },
     "execution_count": 4,
     "metadata": {},
     "output_type": "execute_result"
    }
   ],
   "source": [
    "df_train"
   ]
  },
  {
   "cell_type": "code",
   "execution_count": 5,
   "id": "0075e793",
   "metadata": {
    "execution": {
     "iopub.execute_input": "2023-02-04T10:29:50.003930Z",
     "iopub.status.busy": "2023-02-04T10:29:50.003631Z",
     "iopub.status.idle": "2023-02-04T10:29:50.008234Z",
     "shell.execute_reply": "2023-02-04T10:29:50.007242Z"
    },
    "papermill": {
     "duration": 0.015219,
     "end_time": "2023-02-04T10:29:50.010690",
     "exception": false,
     "start_time": "2023-02-04T10:29:49.995471",
     "status": "completed"
    },
    "tags": []
   },
   "outputs": [],
   "source": [
    "df_train=pd.DataFrame(df_train)"
   ]
  },
  {
   "cell_type": "code",
   "execution_count": 6,
   "id": "952b7721",
   "metadata": {
    "execution": {
     "iopub.execute_input": "2023-02-04T10:29:50.026627Z",
     "iopub.status.busy": "2023-02-04T10:29:50.026332Z",
     "iopub.status.idle": "2023-02-04T10:29:50.050275Z",
     "shell.execute_reply": "2023-02-04T10:29:50.049340Z"
    },
    "papermill": {
     "duration": 0.034561,
     "end_time": "2023-02-04T10:29:50.052488",
     "exception": false,
     "start_time": "2023-02-04T10:29:50.017927",
     "status": "completed"
    },
    "tags": []
   },
   "outputs": [
    {
     "data": {
      "text/html": [
       "<div>\n",
       "<style scoped>\n",
       "    .dataframe tbody tr th:only-of-type {\n",
       "        vertical-align: middle;\n",
       "    }\n",
       "\n",
       "    .dataframe tbody tr th {\n",
       "        vertical-align: top;\n",
       "    }\n",
       "\n",
       "    .dataframe thead th {\n",
       "        text-align: right;\n",
       "    }\n",
       "</style>\n",
       "<table border=\"1\" class=\"dataframe\">\n",
       "  <thead>\n",
       "    <tr style=\"text-align: right;\">\n",
       "      <th></th>\n",
       "      <th>0</th>\n",
       "      <th>1</th>\n",
       "      <th>2</th>\n",
       "      <th>3</th>\n",
       "      <th>4</th>\n",
       "      <th>5</th>\n",
       "      <th>6</th>\n",
       "      <th>7</th>\n",
       "      <th>8</th>\n",
       "      <th>9</th>\n",
       "      <th>...</th>\n",
       "      <th>775</th>\n",
       "      <th>776</th>\n",
       "      <th>777</th>\n",
       "      <th>778</th>\n",
       "      <th>779</th>\n",
       "      <th>780</th>\n",
       "      <th>781</th>\n",
       "      <th>782</th>\n",
       "      <th>783</th>\n",
       "      <th>784</th>\n",
       "    </tr>\n",
       "  </thead>\n",
       "  <tbody>\n",
       "    <tr>\n",
       "      <th>0</th>\n",
       "      <td>0</td>\n",
       "      <td>0</td>\n",
       "      <td>0</td>\n",
       "      <td>0</td>\n",
       "      <td>0</td>\n",
       "      <td>0</td>\n",
       "      <td>0</td>\n",
       "      <td>0</td>\n",
       "      <td>0</td>\n",
       "      <td>0</td>\n",
       "      <td>...</td>\n",
       "      <td>0</td>\n",
       "      <td>0</td>\n",
       "      <td>0</td>\n",
       "      <td>0</td>\n",
       "      <td>0</td>\n",
       "      <td>0</td>\n",
       "      <td>0</td>\n",
       "      <td>0</td>\n",
       "      <td>0</td>\n",
       "      <td>5</td>\n",
       "    </tr>\n",
       "    <tr>\n",
       "      <th>1</th>\n",
       "      <td>0</td>\n",
       "      <td>0</td>\n",
       "      <td>0</td>\n",
       "      <td>0</td>\n",
       "      <td>0</td>\n",
       "      <td>0</td>\n",
       "      <td>0</td>\n",
       "      <td>0</td>\n",
       "      <td>0</td>\n",
       "      <td>0</td>\n",
       "      <td>...</td>\n",
       "      <td>0</td>\n",
       "      <td>0</td>\n",
       "      <td>0</td>\n",
       "      <td>0</td>\n",
       "      <td>0</td>\n",
       "      <td>0</td>\n",
       "      <td>0</td>\n",
       "      <td>0</td>\n",
       "      <td>0</td>\n",
       "      <td>0</td>\n",
       "    </tr>\n",
       "    <tr>\n",
       "      <th>2</th>\n",
       "      <td>0</td>\n",
       "      <td>0</td>\n",
       "      <td>0</td>\n",
       "      <td>0</td>\n",
       "      <td>0</td>\n",
       "      <td>0</td>\n",
       "      <td>0</td>\n",
       "      <td>0</td>\n",
       "      <td>0</td>\n",
       "      <td>0</td>\n",
       "      <td>...</td>\n",
       "      <td>0</td>\n",
       "      <td>0</td>\n",
       "      <td>0</td>\n",
       "      <td>0</td>\n",
       "      <td>0</td>\n",
       "      <td>0</td>\n",
       "      <td>0</td>\n",
       "      <td>0</td>\n",
       "      <td>0</td>\n",
       "      <td>4</td>\n",
       "    </tr>\n",
       "    <tr>\n",
       "      <th>3</th>\n",
       "      <td>0</td>\n",
       "      <td>0</td>\n",
       "      <td>0</td>\n",
       "      <td>0</td>\n",
       "      <td>0</td>\n",
       "      <td>0</td>\n",
       "      <td>0</td>\n",
       "      <td>0</td>\n",
       "      <td>0</td>\n",
       "      <td>0</td>\n",
       "      <td>...</td>\n",
       "      <td>0</td>\n",
       "      <td>0</td>\n",
       "      <td>0</td>\n",
       "      <td>0</td>\n",
       "      <td>0</td>\n",
       "      <td>0</td>\n",
       "      <td>0</td>\n",
       "      <td>0</td>\n",
       "      <td>0</td>\n",
       "      <td>1</td>\n",
       "    </tr>\n",
       "    <tr>\n",
       "      <th>4</th>\n",
       "      <td>0</td>\n",
       "      <td>0</td>\n",
       "      <td>0</td>\n",
       "      <td>0</td>\n",
       "      <td>0</td>\n",
       "      <td>0</td>\n",
       "      <td>0</td>\n",
       "      <td>0</td>\n",
       "      <td>0</td>\n",
       "      <td>0</td>\n",
       "      <td>...</td>\n",
       "      <td>0</td>\n",
       "      <td>0</td>\n",
       "      <td>0</td>\n",
       "      <td>0</td>\n",
       "      <td>0</td>\n",
       "      <td>0</td>\n",
       "      <td>0</td>\n",
       "      <td>0</td>\n",
       "      <td>0</td>\n",
       "      <td>9</td>\n",
       "    </tr>\n",
       "    <tr>\n",
       "      <th>...</th>\n",
       "      <td>...</td>\n",
       "      <td>...</td>\n",
       "      <td>...</td>\n",
       "      <td>...</td>\n",
       "      <td>...</td>\n",
       "      <td>...</td>\n",
       "      <td>...</td>\n",
       "      <td>...</td>\n",
       "      <td>...</td>\n",
       "      <td>...</td>\n",
       "      <td>...</td>\n",
       "      <td>...</td>\n",
       "      <td>...</td>\n",
       "      <td>...</td>\n",
       "      <td>...</td>\n",
       "      <td>...</td>\n",
       "      <td>...</td>\n",
       "      <td>...</td>\n",
       "      <td>...</td>\n",
       "      <td>...</td>\n",
       "      <td>...</td>\n",
       "    </tr>\n",
       "    <tr>\n",
       "      <th>19995</th>\n",
       "      <td>0</td>\n",
       "      <td>0</td>\n",
       "      <td>0</td>\n",
       "      <td>0</td>\n",
       "      <td>0</td>\n",
       "      <td>0</td>\n",
       "      <td>0</td>\n",
       "      <td>0</td>\n",
       "      <td>0</td>\n",
       "      <td>0</td>\n",
       "      <td>...</td>\n",
       "      <td>0</td>\n",
       "      <td>0</td>\n",
       "      <td>0</td>\n",
       "      <td>0</td>\n",
       "      <td>0</td>\n",
       "      <td>0</td>\n",
       "      <td>0</td>\n",
       "      <td>0</td>\n",
       "      <td>0</td>\n",
       "      <td>9</td>\n",
       "    </tr>\n",
       "    <tr>\n",
       "      <th>19996</th>\n",
       "      <td>0</td>\n",
       "      <td>0</td>\n",
       "      <td>0</td>\n",
       "      <td>0</td>\n",
       "      <td>0</td>\n",
       "      <td>0</td>\n",
       "      <td>0</td>\n",
       "      <td>0</td>\n",
       "      <td>0</td>\n",
       "      <td>0</td>\n",
       "      <td>...</td>\n",
       "      <td>0</td>\n",
       "      <td>0</td>\n",
       "      <td>0</td>\n",
       "      <td>0</td>\n",
       "      <td>0</td>\n",
       "      <td>0</td>\n",
       "      <td>0</td>\n",
       "      <td>0</td>\n",
       "      <td>0</td>\n",
       "      <td>5</td>\n",
       "    </tr>\n",
       "    <tr>\n",
       "      <th>19997</th>\n",
       "      <td>0</td>\n",
       "      <td>0</td>\n",
       "      <td>0</td>\n",
       "      <td>0</td>\n",
       "      <td>0</td>\n",
       "      <td>0</td>\n",
       "      <td>0</td>\n",
       "      <td>0</td>\n",
       "      <td>0</td>\n",
       "      <td>0</td>\n",
       "      <td>...</td>\n",
       "      <td>0</td>\n",
       "      <td>0</td>\n",
       "      <td>0</td>\n",
       "      <td>0</td>\n",
       "      <td>0</td>\n",
       "      <td>0</td>\n",
       "      <td>0</td>\n",
       "      <td>0</td>\n",
       "      <td>0</td>\n",
       "      <td>1</td>\n",
       "    </tr>\n",
       "    <tr>\n",
       "      <th>19998</th>\n",
       "      <td>0</td>\n",
       "      <td>0</td>\n",
       "      <td>0</td>\n",
       "      <td>0</td>\n",
       "      <td>0</td>\n",
       "      <td>0</td>\n",
       "      <td>0</td>\n",
       "      <td>0</td>\n",
       "      <td>0</td>\n",
       "      <td>0</td>\n",
       "      <td>...</td>\n",
       "      <td>0</td>\n",
       "      <td>0</td>\n",
       "      <td>0</td>\n",
       "      <td>0</td>\n",
       "      <td>0</td>\n",
       "      <td>0</td>\n",
       "      <td>0</td>\n",
       "      <td>0</td>\n",
       "      <td>0</td>\n",
       "      <td>4</td>\n",
       "    </tr>\n",
       "    <tr>\n",
       "      <th>19999</th>\n",
       "      <td>0</td>\n",
       "      <td>0</td>\n",
       "      <td>0</td>\n",
       "      <td>0</td>\n",
       "      <td>0</td>\n",
       "      <td>0</td>\n",
       "      <td>0</td>\n",
       "      <td>0</td>\n",
       "      <td>0</td>\n",
       "      <td>0</td>\n",
       "      <td>...</td>\n",
       "      <td>0</td>\n",
       "      <td>0</td>\n",
       "      <td>0</td>\n",
       "      <td>0</td>\n",
       "      <td>0</td>\n",
       "      <td>0</td>\n",
       "      <td>0</td>\n",
       "      <td>0</td>\n",
       "      <td>0</td>\n",
       "      <td>2</td>\n",
       "    </tr>\n",
       "  </tbody>\n",
       "</table>\n",
       "<p>20000 rows × 785 columns</p>\n",
       "</div>"
      ],
      "text/plain": [
       "       0    1    2    3    4    5    6    7    8    9    ...  775  776  777  \\\n",
       "0        0    0    0    0    0    0    0    0    0    0  ...    0    0    0   \n",
       "1        0    0    0    0    0    0    0    0    0    0  ...    0    0    0   \n",
       "2        0    0    0    0    0    0    0    0    0    0  ...    0    0    0   \n",
       "3        0    0    0    0    0    0    0    0    0    0  ...    0    0    0   \n",
       "4        0    0    0    0    0    0    0    0    0    0  ...    0    0    0   \n",
       "...    ...  ...  ...  ...  ...  ...  ...  ...  ...  ...  ...  ...  ...  ...   \n",
       "19995    0    0    0    0    0    0    0    0    0    0  ...    0    0    0   \n",
       "19996    0    0    0    0    0    0    0    0    0    0  ...    0    0    0   \n",
       "19997    0    0    0    0    0    0    0    0    0    0  ...    0    0    0   \n",
       "19998    0    0    0    0    0    0    0    0    0    0  ...    0    0    0   \n",
       "19999    0    0    0    0    0    0    0    0    0    0  ...    0    0    0   \n",
       "\n",
       "       778  779  780  781  782  783  784  \n",
       "0        0    0    0    0    0    0    5  \n",
       "1        0    0    0    0    0    0    0  \n",
       "2        0    0    0    0    0    0    4  \n",
       "3        0    0    0    0    0    0    1  \n",
       "4        0    0    0    0    0    0    9  \n",
       "...    ...  ...  ...  ...  ...  ...  ...  \n",
       "19995    0    0    0    0    0    0    9  \n",
       "19996    0    0    0    0    0    0    5  \n",
       "19997    0    0    0    0    0    0    1  \n",
       "19998    0    0    0    0    0    0    4  \n",
       "19999    0    0    0    0    0    0    2  \n",
       "\n",
       "[20000 rows x 785 columns]"
      ]
     },
     "execution_count": 6,
     "metadata": {},
     "output_type": "execute_result"
    }
   ],
   "source": [
    "df_train"
   ]
  },
  {
   "cell_type": "code",
   "execution_count": 7,
   "id": "dffd87f8",
   "metadata": {
    "execution": {
     "iopub.execute_input": "2023-02-04T10:29:50.069776Z",
     "iopub.status.busy": "2023-02-04T10:29:50.069139Z",
     "iopub.status.idle": "2023-02-04T10:29:50.073844Z",
     "shell.execute_reply": "2023-02-04T10:29:50.072894Z"
    },
    "papermill": {
     "duration": 0.015591,
     "end_time": "2023-02-04T10:29:50.075918",
     "exception": false,
     "start_time": "2023-02-04T10:29:50.060327",
     "status": "completed"
    },
    "tags": []
   },
   "outputs": [],
   "source": [
    "df_test=pd.DataFrame(df_test)"
   ]
  },
  {
   "cell_type": "code",
   "execution_count": 8,
   "id": "e481a0e5",
   "metadata": {
    "execution": {
     "iopub.execute_input": "2023-02-04T10:29:50.094502Z",
     "iopub.status.busy": "2023-02-04T10:29:50.092748Z",
     "iopub.status.idle": "2023-02-04T10:29:50.112383Z",
     "shell.execute_reply": "2023-02-04T10:29:50.111418Z"
    },
    "papermill": {
     "duration": 0.030718,
     "end_time": "2023-02-04T10:29:50.114480",
     "exception": false,
     "start_time": "2023-02-04T10:29:50.083762",
     "status": "completed"
    },
    "tags": []
   },
   "outputs": [
    {
     "data": {
      "text/html": [
       "<div>\n",
       "<style scoped>\n",
       "    .dataframe tbody tr th:only-of-type {\n",
       "        vertical-align: middle;\n",
       "    }\n",
       "\n",
       "    .dataframe tbody tr th {\n",
       "        vertical-align: top;\n",
       "    }\n",
       "\n",
       "    .dataframe thead th {\n",
       "        text-align: right;\n",
       "    }\n",
       "</style>\n",
       "<table border=\"1\" class=\"dataframe\">\n",
       "  <thead>\n",
       "    <tr style=\"text-align: right;\">\n",
       "      <th></th>\n",
       "      <th>0</th>\n",
       "      <th>1</th>\n",
       "      <th>2</th>\n",
       "      <th>3</th>\n",
       "      <th>4</th>\n",
       "      <th>5</th>\n",
       "      <th>6</th>\n",
       "      <th>7</th>\n",
       "      <th>8</th>\n",
       "      <th>9</th>\n",
       "      <th>...</th>\n",
       "      <th>775</th>\n",
       "      <th>776</th>\n",
       "      <th>777</th>\n",
       "      <th>778</th>\n",
       "      <th>779</th>\n",
       "      <th>780</th>\n",
       "      <th>781</th>\n",
       "      <th>782</th>\n",
       "      <th>783</th>\n",
       "      <th>784</th>\n",
       "    </tr>\n",
       "  </thead>\n",
       "  <tbody>\n",
       "    <tr>\n",
       "      <th>0</th>\n",
       "      <td>0</td>\n",
       "      <td>0</td>\n",
       "      <td>0</td>\n",
       "      <td>0</td>\n",
       "      <td>0</td>\n",
       "      <td>0</td>\n",
       "      <td>0</td>\n",
       "      <td>0</td>\n",
       "      <td>0</td>\n",
       "      <td>0</td>\n",
       "      <td>...</td>\n",
       "      <td>0</td>\n",
       "      <td>0</td>\n",
       "      <td>0</td>\n",
       "      <td>0</td>\n",
       "      <td>0</td>\n",
       "      <td>0</td>\n",
       "      <td>0</td>\n",
       "      <td>0</td>\n",
       "      <td>0</td>\n",
       "      <td>7</td>\n",
       "    </tr>\n",
       "    <tr>\n",
       "      <th>1</th>\n",
       "      <td>0</td>\n",
       "      <td>0</td>\n",
       "      <td>0</td>\n",
       "      <td>0</td>\n",
       "      <td>0</td>\n",
       "      <td>0</td>\n",
       "      <td>0</td>\n",
       "      <td>0</td>\n",
       "      <td>0</td>\n",
       "      <td>0</td>\n",
       "      <td>...</td>\n",
       "      <td>0</td>\n",
       "      <td>0</td>\n",
       "      <td>0</td>\n",
       "      <td>0</td>\n",
       "      <td>0</td>\n",
       "      <td>0</td>\n",
       "      <td>0</td>\n",
       "      <td>0</td>\n",
       "      <td>0</td>\n",
       "      <td>2</td>\n",
       "    </tr>\n",
       "    <tr>\n",
       "      <th>2</th>\n",
       "      <td>0</td>\n",
       "      <td>0</td>\n",
       "      <td>0</td>\n",
       "      <td>0</td>\n",
       "      <td>0</td>\n",
       "      <td>0</td>\n",
       "      <td>0</td>\n",
       "      <td>0</td>\n",
       "      <td>0</td>\n",
       "      <td>0</td>\n",
       "      <td>...</td>\n",
       "      <td>0</td>\n",
       "      <td>0</td>\n",
       "      <td>0</td>\n",
       "      <td>0</td>\n",
       "      <td>0</td>\n",
       "      <td>0</td>\n",
       "      <td>0</td>\n",
       "      <td>0</td>\n",
       "      <td>0</td>\n",
       "      <td>1</td>\n",
       "    </tr>\n",
       "    <tr>\n",
       "      <th>3</th>\n",
       "      <td>0</td>\n",
       "      <td>0</td>\n",
       "      <td>0</td>\n",
       "      <td>0</td>\n",
       "      <td>0</td>\n",
       "      <td>0</td>\n",
       "      <td>0</td>\n",
       "      <td>0</td>\n",
       "      <td>0</td>\n",
       "      <td>0</td>\n",
       "      <td>...</td>\n",
       "      <td>0</td>\n",
       "      <td>0</td>\n",
       "      <td>0</td>\n",
       "      <td>0</td>\n",
       "      <td>0</td>\n",
       "      <td>0</td>\n",
       "      <td>0</td>\n",
       "      <td>0</td>\n",
       "      <td>0</td>\n",
       "      <td>0</td>\n",
       "    </tr>\n",
       "    <tr>\n",
       "      <th>4</th>\n",
       "      <td>0</td>\n",
       "      <td>0</td>\n",
       "      <td>0</td>\n",
       "      <td>0</td>\n",
       "      <td>0</td>\n",
       "      <td>0</td>\n",
       "      <td>0</td>\n",
       "      <td>0</td>\n",
       "      <td>0</td>\n",
       "      <td>0</td>\n",
       "      <td>...</td>\n",
       "      <td>0</td>\n",
       "      <td>0</td>\n",
       "      <td>0</td>\n",
       "      <td>0</td>\n",
       "      <td>0</td>\n",
       "      <td>0</td>\n",
       "      <td>0</td>\n",
       "      <td>0</td>\n",
       "      <td>0</td>\n",
       "      <td>4</td>\n",
       "    </tr>\n",
       "    <tr>\n",
       "      <th>...</th>\n",
       "      <td>...</td>\n",
       "      <td>...</td>\n",
       "      <td>...</td>\n",
       "      <td>...</td>\n",
       "      <td>...</td>\n",
       "      <td>...</td>\n",
       "      <td>...</td>\n",
       "      <td>...</td>\n",
       "      <td>...</td>\n",
       "      <td>...</td>\n",
       "      <td>...</td>\n",
       "      <td>...</td>\n",
       "      <td>...</td>\n",
       "      <td>...</td>\n",
       "      <td>...</td>\n",
       "      <td>...</td>\n",
       "      <td>...</td>\n",
       "      <td>...</td>\n",
       "      <td>...</td>\n",
       "      <td>...</td>\n",
       "      <td>...</td>\n",
       "    </tr>\n",
       "    <tr>\n",
       "      <th>9995</th>\n",
       "      <td>0</td>\n",
       "      <td>0</td>\n",
       "      <td>0</td>\n",
       "      <td>0</td>\n",
       "      <td>0</td>\n",
       "      <td>0</td>\n",
       "      <td>0</td>\n",
       "      <td>0</td>\n",
       "      <td>0</td>\n",
       "      <td>0</td>\n",
       "      <td>...</td>\n",
       "      <td>0</td>\n",
       "      <td>0</td>\n",
       "      <td>0</td>\n",
       "      <td>0</td>\n",
       "      <td>0</td>\n",
       "      <td>0</td>\n",
       "      <td>0</td>\n",
       "      <td>0</td>\n",
       "      <td>0</td>\n",
       "      <td>2</td>\n",
       "    </tr>\n",
       "    <tr>\n",
       "      <th>9996</th>\n",
       "      <td>0</td>\n",
       "      <td>0</td>\n",
       "      <td>0</td>\n",
       "      <td>0</td>\n",
       "      <td>0</td>\n",
       "      <td>0</td>\n",
       "      <td>0</td>\n",
       "      <td>0</td>\n",
       "      <td>0</td>\n",
       "      <td>0</td>\n",
       "      <td>...</td>\n",
       "      <td>0</td>\n",
       "      <td>0</td>\n",
       "      <td>0</td>\n",
       "      <td>0</td>\n",
       "      <td>0</td>\n",
       "      <td>0</td>\n",
       "      <td>0</td>\n",
       "      <td>0</td>\n",
       "      <td>0</td>\n",
       "      <td>3</td>\n",
       "    </tr>\n",
       "    <tr>\n",
       "      <th>9997</th>\n",
       "      <td>0</td>\n",
       "      <td>0</td>\n",
       "      <td>0</td>\n",
       "      <td>0</td>\n",
       "      <td>0</td>\n",
       "      <td>0</td>\n",
       "      <td>0</td>\n",
       "      <td>0</td>\n",
       "      <td>0</td>\n",
       "      <td>0</td>\n",
       "      <td>...</td>\n",
       "      <td>0</td>\n",
       "      <td>0</td>\n",
       "      <td>0</td>\n",
       "      <td>0</td>\n",
       "      <td>0</td>\n",
       "      <td>0</td>\n",
       "      <td>0</td>\n",
       "      <td>0</td>\n",
       "      <td>0</td>\n",
       "      <td>4</td>\n",
       "    </tr>\n",
       "    <tr>\n",
       "      <th>9998</th>\n",
       "      <td>0</td>\n",
       "      <td>0</td>\n",
       "      <td>0</td>\n",
       "      <td>0</td>\n",
       "      <td>0</td>\n",
       "      <td>0</td>\n",
       "      <td>0</td>\n",
       "      <td>0</td>\n",
       "      <td>0</td>\n",
       "      <td>0</td>\n",
       "      <td>...</td>\n",
       "      <td>0</td>\n",
       "      <td>0</td>\n",
       "      <td>0</td>\n",
       "      <td>0</td>\n",
       "      <td>0</td>\n",
       "      <td>0</td>\n",
       "      <td>0</td>\n",
       "      <td>0</td>\n",
       "      <td>0</td>\n",
       "      <td>5</td>\n",
       "    </tr>\n",
       "    <tr>\n",
       "      <th>9999</th>\n",
       "      <td>0</td>\n",
       "      <td>0</td>\n",
       "      <td>0</td>\n",
       "      <td>0</td>\n",
       "      <td>0</td>\n",
       "      <td>0</td>\n",
       "      <td>0</td>\n",
       "      <td>0</td>\n",
       "      <td>0</td>\n",
       "      <td>0</td>\n",
       "      <td>...</td>\n",
       "      <td>0</td>\n",
       "      <td>0</td>\n",
       "      <td>0</td>\n",
       "      <td>0</td>\n",
       "      <td>0</td>\n",
       "      <td>0</td>\n",
       "      <td>0</td>\n",
       "      <td>0</td>\n",
       "      <td>0</td>\n",
       "      <td>6</td>\n",
       "    </tr>\n",
       "  </tbody>\n",
       "</table>\n",
       "<p>10000 rows × 785 columns</p>\n",
       "</div>"
      ],
      "text/plain": [
       "      0    1    2    3    4    5    6    7    8    9    ...  775  776  777  \\\n",
       "0       0    0    0    0    0    0    0    0    0    0  ...    0    0    0   \n",
       "1       0    0    0    0    0    0    0    0    0    0  ...    0    0    0   \n",
       "2       0    0    0    0    0    0    0    0    0    0  ...    0    0    0   \n",
       "3       0    0    0    0    0    0    0    0    0    0  ...    0    0    0   \n",
       "4       0    0    0    0    0    0    0    0    0    0  ...    0    0    0   \n",
       "...   ...  ...  ...  ...  ...  ...  ...  ...  ...  ...  ...  ...  ...  ...   \n",
       "9995    0    0    0    0    0    0    0    0    0    0  ...    0    0    0   \n",
       "9996    0    0    0    0    0    0    0    0    0    0  ...    0    0    0   \n",
       "9997    0    0    0    0    0    0    0    0    0    0  ...    0    0    0   \n",
       "9998    0    0    0    0    0    0    0    0    0    0  ...    0    0    0   \n",
       "9999    0    0    0    0    0    0    0    0    0    0  ...    0    0    0   \n",
       "\n",
       "      778  779  780  781  782  783  784  \n",
       "0       0    0    0    0    0    0    7  \n",
       "1       0    0    0    0    0    0    2  \n",
       "2       0    0    0    0    0    0    1  \n",
       "3       0    0    0    0    0    0    0  \n",
       "4       0    0    0    0    0    0    4  \n",
       "...   ...  ...  ...  ...  ...  ...  ...  \n",
       "9995    0    0    0    0    0    0    2  \n",
       "9996    0    0    0    0    0    0    3  \n",
       "9997    0    0    0    0    0    0    4  \n",
       "9998    0    0    0    0    0    0    5  \n",
       "9999    0    0    0    0    0    0    6  \n",
       "\n",
       "[10000 rows x 785 columns]"
      ]
     },
     "execution_count": 8,
     "metadata": {},
     "output_type": "execute_result"
    }
   ],
   "source": [
    "df_test"
   ]
  },
  {
   "cell_type": "markdown",
   "id": "e4c8201e",
   "metadata": {
    "papermill": {
     "duration": 0.008062,
     "end_time": "2023-02-04T10:29:50.131160",
     "exception": false,
     "start_time": "2023-02-04T10:29:50.123098",
     "status": "completed"
    },
    "tags": []
   },
   "source": [
    "As we can see their total of 784-pixel positions and at the 0th position the labels are stored for each respective record. \n",
    "\n",
    "**Step 2: Defining features and labels**\n",
    "\n",
    "Let’s split the features of the above dataframe, that is from the dataset we have to consider the pixel positions from 1 to 784 as input features (independent feature) and the first 0th column as output feature (dependent feature).  \n",
    "\n",
    "Using the mnist_train_small.csv file we will obtain the training set and by mnist_test.csv file will obtain the testing set. "
   ]
  },
  {
   "cell_type": "code",
   "execution_count": 9,
   "id": "a40ee3c5",
   "metadata": {
    "execution": {
     "iopub.execute_input": "2023-02-04T10:29:50.149561Z",
     "iopub.status.busy": "2023-02-04T10:29:50.148491Z",
     "iopub.status.idle": "2023-02-04T10:29:50.154898Z",
     "shell.execute_reply": "2023-02-04T10:29:50.154032Z"
    },
    "papermill": {
     "duration": 0.017691,
     "end_time": "2023-02-04T10:29:50.156953",
     "exception": false,
     "start_time": "2023-02-04T10:29:50.139262",
     "status": "completed"
    },
    "tags": []
   },
   "outputs": [],
   "source": [
    "# Defining input-output features for training\n",
    "X_train = df_train.iloc[:,1:].values\n",
    "y_train = df_train.iloc[:, 0].values\n",
    "# Defining input-output features for test\n",
    "X_test = df_test.iloc[:,1:].values\n",
    "y_test = df_test.iloc[:,0]"
   ]
  },
  {
   "cell_type": "markdown",
   "id": "185d8a84",
   "metadata": {
    "papermill": {
     "duration": 0.007969,
     "end_time": "2023-02-04T10:29:50.173205",
     "exception": false,
     "start_time": "2023-02-04T10:29:50.165236",
     "status": "completed"
    },
    "tags": []
   },
   "source": [
    "Let's finally check the shape of both datasets. \n",
    "\n"
   ]
  },
  {
   "cell_type": "code",
   "execution_count": 10,
   "id": "9b335c08",
   "metadata": {
    "execution": {
     "iopub.execute_input": "2023-02-04T10:29:50.191815Z",
     "iopub.status.busy": "2023-02-04T10:29:50.190839Z",
     "iopub.status.idle": "2023-02-04T10:29:50.197828Z",
     "shell.execute_reply": "2023-02-04T10:29:50.196851Z"
    },
    "papermill": {
     "duration": 0.018522,
     "end_time": "2023-02-04T10:29:50.199935",
     "exception": false,
     "start_time": "2023-02-04T10:29:50.181413",
     "status": "completed"
    },
    "tags": []
   },
   "outputs": [
    {
     "data": {
      "text/plain": [
       "((20000, 784), (20000,), (10000, 784), (10000,))"
      ]
     },
     "execution_count": 10,
     "metadata": {},
     "output_type": "execute_result"
    }
   ],
   "source": [
    "# Shape of training and test patterns\n",
    "X_train.shape, y_train.shape, X_test.shape, y_test.shape"
   ]
  },
  {
   "cell_type": "markdown",
   "id": "3be79306",
   "metadata": {
    "papermill": {
     "duration": 0.007929,
     "end_time": "2023-02-04T10:29:50.216068",
     "exception": false,
     "start_time": "2023-02-04T10:29:50.208139",
     "status": "completed"
    },
    "tags": []
   },
   "source": [
    "**Step 3: Data Preprocessing**\n",
    "\n",
    "The pixel values are ranging from 0 to 255 but these pixel values will lead the neural network to give higher weights to the large values. So to avoid this we need to scale down all pixel values between the range 0 to 1. Before scaling down we will make sure the data is represented in 32 bits. \n",
    "\n",
    "# Scaling the pixel values to be between 0 and 1"
   ]
  },
  {
   "cell_type": "code",
   "execution_count": 11,
   "id": "f05df2cd",
   "metadata": {
    "execution": {
     "iopub.execute_input": "2023-02-04T10:29:50.235151Z",
     "iopub.status.busy": "2023-02-04T10:29:50.233436Z",
     "iopub.status.idle": "2023-02-04T10:29:50.292052Z",
     "shell.execute_reply": "2023-02-04T10:29:50.291023Z"
    },
    "papermill": {
     "duration": 0.070423,
     "end_time": "2023-02-04T10:29:50.294621",
     "exception": false,
     "start_time": "2023-02-04T10:29:50.224198",
     "status": "completed"
    },
    "tags": []
   },
   "outputs": [],
   "source": [
    "X_train = X_train.astype('float32')\n",
    "X_test = X_test.astype('float32')\n",
    "X_train = X_train / 255\n",
    "X_test = X_test / 255"
   ]
  },
  {
   "cell_type": "markdown",
   "id": "be7c43af",
   "metadata": {
    "papermill": {
     "duration": 0.007924,
     "end_time": "2023-02-04T10:29:50.311467",
     "exception": false,
     "start_time": "2023-02-04T10:29:50.303543",
     "status": "completed"
    },
    "tags": []
   },
   "source": [
    "Now after scaling down the values we will visualize some samples of the digits as follows. To visualize these pixels we need to convert the shape of the data so that the matplotlib can handle it. "
   ]
  },
  {
   "cell_type": "code",
   "execution_count": 12,
   "id": "16ecd511",
   "metadata": {
    "execution": {
     "iopub.execute_input": "2023-02-04T10:29:50.329371Z",
     "iopub.status.busy": "2023-02-04T10:29:50.329020Z",
     "iopub.status.idle": "2023-02-04T10:29:53.112589Z",
     "shell.execute_reply": "2023-02-04T10:29:53.111319Z"
    },
    "papermill": {
     "duration": 2.795111,
     "end_time": "2023-02-04T10:29:53.114764",
     "exception": false,
     "start_time": "2023-02-04T10:29:50.319653",
     "status": "completed"
    },
    "tags": []
   },
   "outputs": [
    {
     "name": "stderr",
     "output_type": "stream",
     "text": [
      "2023-02-04 10:29:50.403056: I tensorflow/stream_executor/cuda/cuda_gpu_executor.cc:937] successful NUMA node read from SysFS had negative value (-1), but there must be at least one NUMA node, so returning NUMA node zero\n",
      "2023-02-04 10:29:50.497082: I tensorflow/stream_executor/cuda/cuda_gpu_executor.cc:937] successful NUMA node read from SysFS had negative value (-1), but there must be at least one NUMA node, so returning NUMA node zero\n",
      "2023-02-04 10:29:50.497924: I tensorflow/stream_executor/cuda/cuda_gpu_executor.cc:937] successful NUMA node read from SysFS had negative value (-1), but there must be at least one NUMA node, so returning NUMA node zero\n",
      "2023-02-04 10:29:50.501044: I tensorflow/core/platform/cpu_feature_guard.cc:142] This TensorFlow binary is optimized with oneAPI Deep Neural Network Library (oneDNN) to use the following CPU instructions in performance-critical operations:  AVX2 AVX512F FMA\n",
      "To enable them in other operations, rebuild TensorFlow with the appropriate compiler flags.\n",
      "2023-02-04 10:29:50.501505: I tensorflow/stream_executor/cuda/cuda_gpu_executor.cc:937] successful NUMA node read from SysFS had negative value (-1), but there must be at least one NUMA node, so returning NUMA node zero\n",
      "2023-02-04 10:29:50.502505: I tensorflow/stream_executor/cuda/cuda_gpu_executor.cc:937] successful NUMA node read from SysFS had negative value (-1), but there must be at least one NUMA node, so returning NUMA node zero\n",
      "2023-02-04 10:29:50.503375: I tensorflow/stream_executor/cuda/cuda_gpu_executor.cc:937] successful NUMA node read from SysFS had negative value (-1), but there must be at least one NUMA node, so returning NUMA node zero\n",
      "2023-02-04 10:29:52.643577: I tensorflow/stream_executor/cuda/cuda_gpu_executor.cc:937] successful NUMA node read from SysFS had negative value (-1), but there must be at least one NUMA node, so returning NUMA node zero\n",
      "2023-02-04 10:29:52.644474: I tensorflow/stream_executor/cuda/cuda_gpu_executor.cc:937] successful NUMA node read from SysFS had negative value (-1), but there must be at least one NUMA node, so returning NUMA node zero\n",
      "2023-02-04 10:29:52.645136: I tensorflow/stream_executor/cuda/cuda_gpu_executor.cc:937] successful NUMA node read from SysFS had negative value (-1), but there must be at least one NUMA node, so returning NUMA node zero\n",
      "2023-02-04 10:29:52.645722: I tensorflow/core/common_runtime/gpu/gpu_device.cc:1510] Created device /job:localhost/replica:0/task:0/device:GPU:0 with 15401 MB memory:  -> device: 0, name: Tesla P100-PCIE-16GB, pci bus id: 0000:00:04.0, compute capability: 6.0\n"
     ]
    },
    {
     "name": "stdout",
     "output_type": "stream",
     "text": [
      "(20000, 28, 28) (10000, 28, 28)\n"
     ]
    }
   ],
   "source": [
    "# Reshaping the dataset, so that we can display the individual images, and model them\n",
    "import tensorflow as tf\n",
    "X_train = tf.reshape(X_train, (-1, 28, 28))\n",
    "X_test = tf.reshape(X_test, (-1, 28, 28))\n",
    "print(X_train.shape, X_test.shape)"
   ]
  },
  {
   "cell_type": "markdown",
   "id": "0d48583a",
   "metadata": {
    "papermill": {
     "duration": 0.008728,
     "end_time": "2023-02-04T10:29:53.132146",
     "exception": false,
     "start_time": "2023-02-04T10:29:53.123418",
     "status": "completed"
    },
    "tags": []
   },
   "source": [
    "Let’s check the above-converted dataset by visualizing a few image"
   ]
  },
  {
   "cell_type": "code",
   "execution_count": 13,
   "id": "2c5e98ab",
   "metadata": {
    "execution": {
     "iopub.execute_input": "2023-02-04T10:29:53.150562Z",
     "iopub.status.busy": "2023-02-04T10:29:53.150214Z",
     "iopub.status.idle": "2023-02-04T10:29:54.087615Z",
     "shell.execute_reply": "2023-02-04T10:29:54.086756Z"
    },
    "papermill": {
     "duration": 0.949638,
     "end_time": "2023-02-04T10:29:54.090056",
     "exception": false,
     "start_time": "2023-02-04T10:29:53.140418",
     "status": "completed"
    },
    "tags": []
   },
   "outputs": [
    {
     "data": {
      "image/png": "[encoded data removed]",
      "text/plain": [
       "<Figure size 432x432 with 25 Axes>"
      ]
     },
     "metadata": {
      "needs_background": "light"
     },
     "output_type": "display_data"
    }
   ],
   "source": [
    "# Visualizing some images\n",
    "import matplotlib.pyplot as plt\n",
    "import numpy as np\n",
    "fig,axes = plt.subplots(5, 5, figsize = (6,6))\n",
    "axes = axes.ravel()\n",
    "for i in np.arange(0,25):\n",
    "    axes[i].imshow(X_train[i])\n",
    "    axes[i].axis(\"off\")"
   ]
  },
  {
   "cell_type": "markdown",
   "id": "a64f9cd9",
   "metadata": {
    "papermill": {
     "duration": 0.008879,
     "end_time": "2023-02-04T10:29:54.108321",
     "exception": false,
     "start_time": "2023-02-04T10:29:54.099442",
     "status": "completed"
    },
    "tags": []
   },
   "source": [
    "Above in grid structure, we can see how the digits look, the digits are basically represented in the grayscale format.\n",
    "\n",
    "While building the CNN model we need to specify the colour channel of the image which is grey, so below we will add the color channel to all samples."
   ]
  },
  {
   "cell_type": "code",
   "execution_count": 14,
   "id": "e3f39a7f",
   "metadata": {
    "execution": {
     "iopub.execute_input": "2023-02-04T10:29:54.127878Z",
     "iopub.status.busy": "2023-02-04T10:29:54.127523Z",
     "iopub.status.idle": "2023-02-04T10:29:54.134417Z",
     "shell.execute_reply": "2023-02-04T10:29:54.133424Z"
    },
    "papermill": {
     "duration": 0.019638,
     "end_time": "2023-02-04T10:29:54.137243",
     "exception": false,
     "start_time": "2023-02-04T10:29:54.117605",
     "status": "completed"
    },
    "tags": []
   },
   "outputs": [
    {
     "name": "stdout",
     "output_type": "stream",
     "text": [
      "(20000, 28, 28, 1) (10000, 28, 28, 1)\n"
     ]
    }
   ],
   "source": [
    "# Reshaping the training and test features\n",
    "import tensorflow as tf\n",
    "X_train = tf.reshape(X_train, (-1, 28, 28, 1))\n",
    "X_test = tf.reshape(X_test, (-1, 28, 28, 1))\n",
    "print(X_train.shape, X_test.shape)"
   ]
  },
  {
   "cell_type": "markdown",
   "id": "89d9e0f5",
   "metadata": {
    "papermill": {
     "duration": 0.009046,
     "end_time": "2023-02-04T10:29:54.156068",
     "exception": false,
     "start_time": "2023-02-04T10:29:54.147022",
     "status": "completed"
    },
    "tags": []
   },
   "source": [
    "The above shape tells us that the training samples consist of 20000 images with each image having dimensions of 28 x 28 x 1. \n",
    "\n",
    "**Step 4: Defining the CNN model**\n",
    "\n",
    "Now to build the CNN network we need to import the dependencies that are required to build the model. "
   ]
  },
  {
   "cell_type": "code",
   "execution_count": 15,
   "id": "17305d7b",
   "metadata": {
    "execution": {
     "iopub.execute_input": "2023-02-04T10:29:54.175295Z",
     "iopub.status.busy": "2023-02-04T10:29:54.175010Z",
     "iopub.status.idle": "2023-02-04T10:29:54.180152Z",
     "shell.execute_reply": "2023-02-04T10:29:54.179035Z"
    },
    "papermill": {
     "duration": 0.017235,
     "end_time": "2023-02-04T10:29:54.182193",
     "exception": false,
     "start_time": "2023-02-04T10:29:54.164958",
     "status": "completed"
    },
    "tags": []
   },
   "outputs": [],
   "source": [
    "# Library for CNN Model\n",
    "import keras\n",
    "from keras.models import Sequential\n",
    "from keras.layers import Conv2D, MaxPooling2D, Dense, Flatten, Dropout\n",
    "from keras.callbacks import TensorBoard"
   ]
  },
  {
   "cell_type": "markdown",
   "id": "3f9d913a",
   "metadata": {
    "papermill": {
     "duration": 0.008735,
     "end_time": "2023-02-04T10:29:54.200082",
     "exception": false,
     "start_time": "2023-02-04T10:29:54.191347",
     "status": "completed"
    },
    "tags": []
   },
   "source": [
    "Now below we will define the sequential CNN model. The network will consist of 4 layers, one input and output layer each and two hidden layers. Neurons of the layers are activated according to the Relu activation function except for the last classifier layers whose neurons are activated according to the softmax function. "
   ]
  },
  {
   "cell_type": "code",
   "execution_count": 16,
   "id": "ab74f318",
   "metadata": {
    "execution": {
     "iopub.execute_input": "2023-02-04T10:29:54.219630Z",
     "iopub.status.busy": "2023-02-04T10:29:54.219297Z",
     "iopub.status.idle": "2023-02-04T10:29:54.332052Z",
     "shell.execute_reply": "2023-02-04T10:29:54.331104Z"
    },
    "papermill": {
     "duration": 0.125156,
     "end_time": "2023-02-04T10:29:54.334395",
     "exception": false,
     "start_time": "2023-02-04T10:29:54.209239",
     "status": "completed"
    },
    "tags": []
   },
   "outputs": [],
   "source": [
    "#Defining the Convolutional Neural Network\n",
    "cnn_model = Sequential()\n",
    "\n",
    "cnn_model.add(Conv2D(32, (3, 3), input_shape = (28,28, 1), activation='relu'))\n",
    "cnn_model.add(MaxPooling2D(pool_size = (2, 2)))\n",
    "cnn_model.add(Dropout(0.25))\n",
    "\n",
    "cnn_model.add(Conv2D(64, (3, 3), input_shape = (28,28,1), activation='relu'))\n",
    "cnn_model.add(MaxPooling2D(pool_size = (2, 2)))\n",
    "cnn_model.add(Dropout(0.25))\n",
    "\n",
    "cnn_model.add(Conv2D(128, (3, 3), input_shape = (28,28,1), activation='relu'))\n",
    "cnn_model.add(MaxPooling2D(pool_size = (2, 2)))\n",
    "cnn_model.add(Dropout(0.25))\n",
    "\n",
    "cnn_model.add(Flatten())\n",
    "\n",
    "cnn_model.add(Dense(units = 512, activation = 'relu'))\n",
    "cnn_model.add(Dropout(0.25))\n",
    "cnn_model.add(Dense(units = 10, activation = 'softmax'))"
   ]
  },
  {
   "cell_type": "markdown",
   "id": "97b2a253",
   "metadata": {
    "papermill": {
     "duration": 0.009077,
     "end_time": "2023-02-04T10:29:54.352808",
     "exception": false,
     "start_time": "2023-02-04T10:29:54.343731",
     "status": "completed"
    },
    "tags": []
   },
   "source": [
    "summarising said model"
   ]
  },
  {
   "cell_type": "code",
   "execution_count": 17,
   "id": "126260c7",
   "metadata": {
    "execution": {
     "iopub.execute_input": "2023-02-04T10:29:54.372706Z",
     "iopub.status.busy": "2023-02-04T10:29:54.372402Z",
     "iopub.status.idle": "2023-02-04T10:29:54.379655Z",
     "shell.execute_reply": "2023-02-04T10:29:54.377986Z"
    },
    "papermill": {
     "duration": 0.02042,
     "end_time": "2023-02-04T10:29:54.382157",
     "exception": false,
     "start_time": "2023-02-04T10:29:54.361737",
     "status": "completed"
    },
    "tags": []
   },
   "outputs": [
    {
     "name": "stdout",
     "output_type": "stream",
     "text": [
      "Model: \"sequential\"\n",
      "_________________________________________________________________\n",
      "Layer (type)                 Output Shape              Param #   \n",
      "=================================================================\n",
      "conv2d (Conv2D)              (None, 26, 26, 32)        320       \n",
      "_________________________________________________________________\n",
      "max_pooling2d (MaxPooling2D) (None, 13, 13, 32)        0         \n",
      "_________________________________________________________________\n",
      "dropout (Dropout)            (None, 13, 13, 32)        0         \n",
      "_________________________________________________________________\n",
      "conv2d_1 (Conv2D)            (None, 11, 11, 64)        18496     \n",
      "_________________________________________________________________\n",
      "max_pooling2d_1 (MaxPooling2 (None, 5, 5, 64)          0         \n",
      "_________________________________________________________________\n",
      "dropout_1 (Dropout)          (None, 5, 5, 64)          0         \n",
      "_________________________________________________________________\n",
      "conv2d_2 (Conv2D)            (None, 3, 3, 128)         73856     \n",
      "_________________________________________________________________\n",
      "max_pooling2d_2 (MaxPooling2 (None, 1, 1, 128)         0         \n",
      "_________________________________________________________________\n",
      "dropout_2 (Dropout)          (None, 1, 1, 128)         0         \n",
      "_________________________________________________________________\n",
      "flatten (Flatten)            (None, 128)               0         \n",
      "_________________________________________________________________\n",
      "dense (Dense)                (None, 512)               66048     \n",
      "_________________________________________________________________\n",
      "dropout_3 (Dropout)          (None, 512)               0         \n",
      "_________________________________________________________________\n",
      "dense_1 (Dense)              (None, 10)                5130      \n",
      "=================================================================\n",
      "Total params: 163,850\n",
      "Trainable params: 163,850\n",
      "Non-trainable params: 0\n",
      "_________________________________________________________________\n"
     ]
    }
   ],
   "source": [
    "cnn_model.summary()"
   ]
  },
  {
   "cell_type": "markdown",
   "id": "5b301801",
   "metadata": {
    "papermill": {
     "duration": 0.009083,
     "end_time": "2023-02-04T10:29:54.401327",
     "exception": false,
     "start_time": "2023-02-04T10:29:54.392244",
     "status": "completed"
    },
    "tags": []
   },
   "source": [
    "From the above, we can confirm the model's layers and parameters defined. \n",
    "\n",
    "**Step 5: Training the CNN model**\n",
    "\n",
    "Before training the network we have to compile the model with the appropriate loss function and optimizer. For this task, we are using sparse_categorical_crossentropy as the loss function and adam as the optimizer function. "
   ]
  },
  {
   "cell_type": "code",
   "execution_count": 18,
   "id": "4f618cab",
   "metadata": {
    "execution": {
     "iopub.execute_input": "2023-02-04T10:29:54.420788Z",
     "iopub.status.busy": "2023-02-04T10:29:54.420513Z",
     "iopub.status.idle": "2023-02-04T10:29:54.432449Z",
     "shell.execute_reply": "2023-02-04T10:29:54.431599Z"
    },
    "papermill": {
     "duration": 0.023733,
     "end_time": "2023-02-04T10:29:54.434359",
     "exception": false,
     "start_time": "2023-02-04T10:29:54.410626",
     "status": "completed"
    },
    "tags": []
   },
   "outputs": [],
   "source": [
    "# Compiling\n",
    "cnn_model.compile(loss ='sparse_categorical_crossentropy', optimizer='adam' ,metrics =['accuracy'])"
   ]
  },
  {
   "cell_type": "markdown",
   "id": "a6b76c29",
   "metadata": {
    "papermill": {
     "duration": 0.009056,
     "end_time": "2023-02-04T10:29:54.452507",
     "exception": false,
     "start_time": "2023-02-04T10:29:54.443451",
     "status": "completed"
    },
    "tags": []
   },
   "source": [
    "Now we are good at training the network, we will train this network for 200 epochs with a batch size of 512. "
   ]
  },
  {
   "cell_type": "code",
   "execution_count": 19,
   "id": "80d6a9c9",
   "metadata": {
    "_kg_hide-output": true,
    "execution": {
     "iopub.execute_input": "2023-02-04T10:29:54.472614Z",
     "iopub.status.busy": "2023-02-04T10:29:54.472342Z",
     "iopub.status.idle": "2023-02-04T10:32:17.040862Z",
     "shell.execute_reply": "2023-02-04T10:32:17.039790Z"
    },
    "papermill": {
     "duration": 142.581174,
     "end_time": "2023-02-04T10:32:17.043431",
     "exception": false,
     "start_time": "2023-02-04T10:29:54.462257",
     "status": "completed"
    },
    "scrolled": true,
    "tags": []
   },
   "outputs": [
    {
     "name": "stderr",
     "output_type": "stream",
     "text": [
      "2023-02-04 10:29:54.581805: I tensorflow/compiler/mlir/mlir_graph_optimization_pass.cc:185] None of the MLIR Optimization Passes are enabled (registered 2)\n"
     ]
    },
    {
     "name": "stdout",
     "output_type": "stream",
     "text": [
      "Epoch 1/250\n"
     ]
    },
    {
     "name": "stderr",
     "output_type": "stream",
     "text": [
      "2023-02-04 10:29:55.952026: I tensorflow/stream_executor/cuda/cuda_dnn.cc:369] Loaded cuDNN version 8005\n"
     ]
    },
    {
     "name": "stdout",
     "output_type": "stream",
     "text": [
      "40/40 [==============================] - 8s 9ms/step - loss: 0.2010 - accuracy: 0.9758\n",
      "Epoch 2/250\n",
      "40/40 [==============================] - 0s 8ms/step - loss: 0.0000e+00 - accuracy: 1.0000\n",
      "Epoch 3/250\n",
      "40/40 [==============================] - 0s 8ms/step - loss: 0.0000e+00 - accuracy: 1.0000\n",
      "Epoch 4/250\n",
      "40/40 [==============================] - 0s 8ms/step - loss: 0.0000e+00 - accuracy: 1.0000\n",
      "Epoch 5/250\n",
      "40/40 [==============================] - 0s 8ms/step - loss: 0.0000e+00 - accuracy: 1.0000\n",
      "Epoch 6/250\n",
      "40/40 [==============================] - 0s 9ms/step - loss: 0.0000e+00 - accuracy: 1.0000\n",
      "Epoch 7/250\n",
      "40/40 [==============================] - 0s 8ms/step - loss: 0.0000e+00 - accuracy: 1.0000\n",
      "Epoch 8/250\n",
      "40/40 [==============================] - 0s 8ms/step - loss: 0.0000e+00 - accuracy: 1.0000\n",
      "Epoch 9/250\n",
      "40/40 [==============================] - 0s 8ms/step - loss: 0.0000e+00 - accuracy: 1.0000\n",
      "Epoch 10/250\n",
      "40/40 [==============================] - 0s 8ms/step - loss: 0.0000e+00 - accuracy: 1.0000\n",
      "Epoch 11/250\n",
      "40/40 [==============================] - 0s 8ms/step - loss: 0.0000e+00 - accuracy: 1.0000\n",
      "Epoch 12/250\n",
      "40/40 [==============================] - 0s 8ms/step - loss: 0.0000e+00 - accuracy: 1.0000\n",
      "Epoch 13/250\n",
      "40/40 [==============================] - 0s 8ms/step - loss: 0.0000e+00 - accuracy: 1.0000\n",
      "Epoch 14/250\n",
      "40/40 [==============================] - 0s 8ms/step - loss: 0.0000e+00 - accuracy: 1.0000\n",
      "Epoch 15/250\n",
      "40/40 [==============================] - 0s 8ms/step - loss: 0.0000e+00 - accuracy: 1.0000\n",
      "Epoch 16/250\n",
      "40/40 [==============================] - 0s 8ms/step - loss: 0.0000e+00 - accuracy: 1.0000\n",
      "Epoch 17/250\n",
      "40/40 [==============================] - 0s 8ms/step - loss: 0.0000e+00 - accuracy: 1.0000\n",
      "Epoch 18/250\n",
      "40/40 [==============================] - 0s 10ms/step - loss: 0.0000e+00 - accuracy: 1.0000\n",
      "Epoch 19/250\n",
      "40/40 [==============================] - 0s 9ms/step - loss: 0.0000e+00 - accuracy: 1.0000\n",
      "Epoch 20/250\n",
      "40/40 [==============================] - 0s 9ms/step - loss: 0.0000e+00 - accuracy: 1.0000\n",
      "Epoch 21/250\n",
      "40/40 [==============================] - 0s 8ms/step - loss: 0.0000e+00 - accuracy: 1.0000\n",
      "Epoch 22/250\n",
      "40/40 [==============================] - 0s 8ms/step - loss: 0.0000e+00 - accuracy: 1.0000\n",
      "Epoch 23/250\n",
      "40/40 [==============================] - 0s 8ms/step - loss: 0.0000e+00 - accuracy: 1.0000\n",
      "Epoch 24/250\n",
      "40/40 [==============================] - 0s 8ms/step - loss: 0.0000e+00 - accuracy: 1.0000\n",
      "Epoch 25/250\n",
      "40/40 [==============================] - 0s 8ms/step - loss: 0.0000e+00 - accuracy: 1.0000\n",
      "Epoch 26/250\n",
      "40/40 [==============================] - 0s 8ms/step - loss: 0.0000e+00 - accuracy: 1.0000\n",
      "Epoch 27/250\n",
      "40/40 [==============================] - 0s 8ms/step - loss: 0.0000e+00 - accuracy: 1.0000\n",
      "Epoch 28/250\n",
      "40/40 [==============================] - 0s 8ms/step - loss: 0.0000e+00 - accuracy: 1.0000\n",
      "Epoch 29/250\n",
      "40/40 [==============================] - 0s 8ms/step - loss: 0.0000e+00 - accuracy: 1.0000\n",
      "Epoch 30/250\n",
      "40/40 [==============================] - 0s 8ms/step - loss: 0.0000e+00 - accuracy: 1.0000\n",
      "Epoch 31/250\n",
      "40/40 [==============================] - 0s 8ms/step - loss: 0.0000e+00 - accuracy: 1.0000\n",
      "Epoch 32/250\n",
      "40/40 [==============================] - 0s 8ms/step - loss: 0.0000e+00 - accuracy: 1.0000\n",
      "Epoch 33/250\n",
      "40/40 [==============================] - 0s 8ms/step - loss: 0.0000e+00 - accuracy: 1.0000\n",
      "Epoch 34/250\n",
      "40/40 [==============================] - 0s 8ms/step - loss: 0.0000e+00 - accuracy: 1.0000\n",
      "Epoch 35/250\n",
      "40/40 [==============================] - 0s 8ms/step - loss: 0.0000e+00 - accuracy: 1.0000\n",
      "Epoch 36/250\n",
      "40/40 [==============================] - 0s 8ms/step - loss: 0.0000e+00 - accuracy: 1.0000\n",
      "Epoch 37/250\n",
      "40/40 [==============================] - 0s 8ms/step - loss: 0.0000e+00 - accuracy: 1.0000\n",
      "Epoch 38/250\n",
      "40/40 [==============================] - 0s 8ms/step - loss: 0.0000e+00 - accuracy: 1.0000\n",
      "Epoch 39/250\n",
      "40/40 [==============================] - 0s 8ms/step - loss: 0.0000e+00 - accuracy: 1.0000\n",
      "Epoch 40/250\n",
      "40/40 [==============================] - 0s 8ms/step - loss: 0.0000e+00 - accuracy: 1.0000\n",
      "Epoch 41/250\n",
      "40/40 [==============================] - 0s 8ms/step - loss: 0.0000e+00 - accuracy: 1.0000\n",
      "Epoch 42/250\n",
      "40/40 [==============================] - 0s 8ms/step - loss: 0.0000e+00 - accuracy: 1.0000\n",
      "Epoch 43/250\n",
      "40/40 [==============================] - 0s 8ms/step - loss: 0.0000e+00 - accuracy: 1.0000\n",
      "Epoch 44/250\n",
      "40/40 [==============================] - 0s 8ms/step - loss: 0.0000e+00 - accuracy: 1.0000\n",
      "Epoch 45/250\n",
      "40/40 [==============================] - 0s 8ms/step - loss: 0.0000e+00 - accuracy: 1.0000\n",
      "Epoch 46/250\n",
      "40/40 [==============================] - 0s 8ms/step - loss: 0.0000e+00 - accuracy: 1.0000\n",
      "Epoch 47/250\n",
      "40/40 [==============================] - 0s 8ms/step - loss: 0.0000e+00 - accuracy: 1.0000\n",
      "Epoch 48/250\n",
      "40/40 [==============================] - 0s 8ms/step - loss: 0.0000e+00 - accuracy: 1.0000\n",
      "Epoch 49/250\n",
      "40/40 [==============================] - 0s 8ms/step - loss: 0.0000e+00 - accuracy: 1.0000\n",
      "Epoch 50/250\n",
      "40/40 [==============================] - 0s 8ms/step - loss: 0.0000e+00 - accuracy: 1.0000\n",
      "Epoch 51/250\n",
      "40/40 [==============================] - 0s 10ms/step - loss: 0.0000e+00 - accuracy: 1.0000\n",
      "Epoch 52/250\n",
      "40/40 [==============================] - 0s 9ms/step - loss: 0.0000e+00 - accuracy: 1.0000\n",
      "Epoch 53/250\n",
      "40/40 [==============================] - 0s 8ms/step - loss: 0.0000e+00 - accuracy: 1.0000\n",
      "Epoch 54/250\n",
      "40/40 [==============================] - 0s 8ms/step - loss: 0.0000e+00 - accuracy: 1.0000\n",
      "Epoch 55/250\n",
      "40/40 [==============================] - 0s 8ms/step - loss: 0.0000e+00 - accuracy: 1.0000\n",
      "Epoch 56/250\n",
      "40/40 [==============================] - 0s 8ms/step - loss: 0.0000e+00 - accuracy: 1.0000\n",
      "Epoch 57/250\n",
      "40/40 [==============================] - 0s 8ms/step - loss: 0.0000e+00 - accuracy: 1.0000\n",
      "Epoch 58/250\n",
      "40/40 [==============================] - 0s 8ms/step - loss: 0.0000e+00 - accuracy: 1.0000\n",
      "Epoch 59/250\n",
      "40/40 [==============================] - 0s 8ms/step - loss: 0.0000e+00 - accuracy: 1.0000\n",
      "Epoch 60/250\n",
      "40/40 [==============================] - 0s 8ms/step - loss: 0.0000e+00 - accuracy: 1.0000\n",
      "Epoch 61/250\n",
      "40/40 [==============================] - 0s 8ms/step - loss: 0.0000e+00 - accuracy: 1.0000\n",
      "Epoch 62/250\n",
      "40/40 [==============================] - 0s 8ms/step - loss: 0.0000e+00 - accuracy: 1.0000\n",
      "Epoch 63/250\n",
      "40/40 [==============================] - 0s 8ms/step - loss: 0.0000e+00 - accuracy: 1.0000\n",
      "Epoch 64/250\n",
      "40/40 [==============================] - 0s 8ms/step - loss: 0.0000e+00 - accuracy: 1.0000\n",
      "Epoch 65/250\n",
      "40/40 [==============================] - 0s 8ms/step - loss: 0.0000e+00 - accuracy: 1.0000\n",
      "Epoch 66/250\n",
      "40/40 [==============================] - 0s 8ms/step - loss: 0.0000e+00 - accuracy: 1.0000\n",
      "Epoch 67/250\n",
      "40/40 [==============================] - 0s 8ms/step - loss: 0.0000e+00 - accuracy: 1.0000\n",
      "Epoch 68/250\n",
      "40/40 [==============================] - 0s 8ms/step - loss: 0.0000e+00 - accuracy: 1.0000\n",
      "Epoch 69/250\n",
      "40/40 [==============================] - 0s 8ms/step - loss: 0.0000e+00 - accuracy: 1.0000\n",
      "Epoch 70/250\n",
      "40/40 [==============================] - 0s 8ms/step - loss: 0.0000e+00 - accuracy: 1.0000\n",
      "Epoch 71/250\n",
      "40/40 [==============================] - 0s 8ms/step - loss: 0.0000e+00 - accuracy: 1.0000\n",
      "Epoch 72/250\n",
      "40/40 [==============================] - 0s 8ms/step - loss: 0.0000e+00 - accuracy: 1.0000\n",
      "Epoch 73/250\n",
      "40/40 [==============================] - 0s 8ms/step - loss: 0.0000e+00 - accuracy: 1.0000\n",
      "Epoch 74/250\n",
      "40/40 [==============================] - 0s 8ms/step - loss: 0.0000e+00 - accuracy: 1.0000\n",
      "Epoch 75/250\n",
      "40/40 [==============================] - 0s 8ms/step - loss: 0.0000e+00 - accuracy: 1.0000\n",
      "Epoch 76/250\n",
      "40/40 [==============================] - 0s 8ms/step - loss: 0.0000e+00 - accuracy: 1.0000\n",
      "Epoch 77/250\n",
      "40/40 [==============================] - 0s 8ms/step - loss: 0.0000e+00 - accuracy: 1.0000\n",
      "Epoch 78/250\n",
      "40/40 [==============================] - 0s 8ms/step - loss: 0.0000e+00 - accuracy: 1.0000\n",
      "Epoch 79/250\n",
      "40/40 [==============================] - 0s 8ms/step - loss: 0.0000e+00 - accuracy: 1.0000\n",
      "Epoch 80/250\n",
      "40/40 [==============================] - 0s 8ms/step - loss: 0.0000e+00 - accuracy: 1.0000\n",
      "Epoch 81/250\n",
      "40/40 [==============================] - 0s 8ms/step - loss: 0.0000e+00 - accuracy: 1.0000\n",
      "Epoch 82/250\n",
      "40/40 [==============================] - 0s 8ms/step - loss: 0.0000e+00 - accuracy: 1.0000\n",
      "Epoch 83/250\n",
      "40/40 [==============================] - 0s 8ms/step - loss: 0.0000e+00 - accuracy: 1.0000\n",
      "Epoch 84/250\n",
      "40/40 [==============================] - 0s 9ms/step - loss: 0.0000e+00 - accuracy: 1.0000\n",
      "Epoch 85/250\n",
      "40/40 [==============================] - 0s 10ms/step - loss: 0.0000e+00 - accuracy: 1.0000\n",
      "Epoch 86/250\n",
      "40/40 [==============================] - 0s 8ms/step - loss: 0.0000e+00 - accuracy: 1.0000\n",
      "Epoch 87/250\n",
      "40/40 [==============================] - 0s 9ms/step - loss: 0.0000e+00 - accuracy: 1.0000\n",
      "Epoch 88/250\n",
      "40/40 [==============================] - 0s 9ms/step - loss: 0.0000e+00 - accuracy: 1.0000\n",
      "Epoch 89/250\n",
      "40/40 [==============================] - 0s 9ms/step - loss: 0.0000e+00 - accuracy: 1.0000\n",
      "Epoch 90/250\n",
      "40/40 [==============================] - 0s 9ms/step - loss: 0.0000e+00 - accuracy: 1.0000\n",
      "Epoch 91/250\n",
      "40/40 [==============================] - 0s 8ms/step - loss: 0.0000e+00 - accuracy: 1.0000\n",
      "Epoch 92/250\n",
      "40/40 [==============================] - 0s 8ms/step - loss: 0.0000e+00 - accuracy: 1.0000\n",
      "Epoch 93/250\n",
      "40/40 [==============================] - 0s 8ms/step - loss: 0.0000e+00 - accuracy: 1.0000\n",
      "Epoch 94/250\n",
      "40/40 [==============================] - 0s 8ms/step - loss: 0.0000e+00 - accuracy: 1.0000\n",
      "Epoch 95/250\n",
      "40/40 [==============================] - 0s 8ms/step - loss: 0.0000e+00 - accuracy: 1.0000\n",
      "Epoch 96/250\n",
      "40/40 [==============================] - 0s 9ms/step - loss: 0.0000e+00 - accuracy: 1.0000\n",
      "Epoch 97/250\n",
      "40/40 [==============================] - 0s 8ms/step - loss: 0.0000e+00 - accuracy: 1.0000\n",
      "Epoch 98/250\n",
      "40/40 [==============================] - 0s 8ms/step - loss: 0.0000e+00 - accuracy: 1.0000\n",
      "Epoch 99/250\n",
      "40/40 [==============================] - 0s 8ms/step - loss: 0.0000e+00 - accuracy: 1.0000\n",
      "Epoch 100/250\n",
      "40/40 [==============================] - 0s 8ms/step - loss: 0.0000e+00 - accuracy: 1.0000\n",
      "Epoch 101/250\n",
      "40/40 [==============================] - 0s 8ms/step - loss: 0.0000e+00 - accuracy: 1.0000\n",
      "Epoch 102/250\n",
      "40/40 [==============================] - 0s 8ms/step - loss: 0.0000e+00 - accuracy: 1.0000\n",
      "Epoch 103/250\n",
      "40/40 [==============================] - 0s 8ms/step - loss: 0.0000e+00 - accuracy: 1.0000\n",
      "Epoch 104/250\n",
      "40/40 [==============================] - 0s 8ms/step - loss: 0.0000e+00 - accuracy: 1.0000\n",
      "Epoch 105/250\n",
      "40/40 [==============================] - 0s 8ms/step - loss: 0.0000e+00 - accuracy: 1.0000\n",
      "Epoch 106/250\n",
      "40/40 [==============================] - 0s 8ms/step - loss: 0.0000e+00 - accuracy: 1.0000\n",
      "Epoch 107/250\n",
      "40/40 [==============================] - 0s 8ms/step - loss: 0.0000e+00 - accuracy: 1.0000\n",
      "Epoch 108/250\n",
      "40/40 [==============================] - 0s 8ms/step - loss: 0.0000e+00 - accuracy: 1.0000\n",
      "Epoch 109/250\n",
      "40/40 [==============================] - 0s 8ms/step - loss: 0.0000e+00 - accuracy: 1.0000\n",
      "Epoch 110/250\n",
      "40/40 [==============================] - 0s 8ms/step - loss: 0.0000e+00 - accuracy: 1.0000\n",
      "Epoch 111/250\n",
      "40/40 [==============================] - 0s 8ms/step - loss: 0.0000e+00 - accuracy: 1.0000\n",
      "Epoch 112/250\n",
      "40/40 [==============================] - 0s 8ms/step - loss: 0.0000e+00 - accuracy: 1.0000\n",
      "Epoch 113/250\n",
      "40/40 [==============================] - 0s 8ms/step - loss: 0.0000e+00 - accuracy: 1.0000\n",
      "Epoch 114/250\n",
      "40/40 [==============================] - 0s 8ms/step - loss: 0.0000e+00 - accuracy: 1.0000\n",
      "Epoch 115/250\n",
      "40/40 [==============================] - 0s 8ms/step - loss: 0.0000e+00 - accuracy: 1.0000\n",
      "Epoch 116/250\n",
      "40/40 [==============================] - 0s 8ms/step - loss: 0.0000e+00 - accuracy: 1.0000\n",
      "Epoch 117/250\n",
      "40/40 [==============================] - 0s 10ms/step - loss: 0.0000e+00 - accuracy: 1.0000\n",
      "Epoch 118/250\n",
      "40/40 [==============================] - 0s 9ms/step - loss: 0.0000e+00 - accuracy: 1.0000\n",
      "Epoch 119/250\n",
      "40/40 [==============================] - 0s 9ms/step - loss: 0.0000e+00 - accuracy: 1.0000\n",
      "Epoch 120/250\n",
      "40/40 [==============================] - 0s 8ms/step - loss: 0.0000e+00 - accuracy: 1.0000\n",
      "Epoch 121/250\n",
      "40/40 [==============================] - 0s 8ms/step - loss: 0.0000e+00 - accuracy: 1.0000\n",
      "Epoch 122/250\n",
      "40/40 [==============================] - 0s 8ms/step - loss: 0.0000e+00 - accuracy: 1.0000\n",
      "Epoch 123/250\n",
      "40/40 [==============================] - 0s 8ms/step - loss: 0.0000e+00 - accuracy: 1.0000\n",
      "Epoch 124/250\n",
      "40/40 [==============================] - 0s 8ms/step - loss: 0.0000e+00 - accuracy: 1.0000\n",
      "Epoch 125/250\n",
      "40/40 [==============================] - 0s 8ms/step - loss: 0.0000e+00 - accuracy: 1.0000\n",
      "Epoch 126/250\n",
      "40/40 [==============================] - 0s 8ms/step - loss: 0.0000e+00 - accuracy: 1.0000\n",
      "Epoch 127/250\n",
      "40/40 [==============================] - 0s 8ms/step - loss: 0.0000e+00 - accuracy: 1.0000\n",
      "Epoch 128/250\n",
      "40/40 [==============================] - 0s 8ms/step - loss: 0.0000e+00 - accuracy: 1.0000\n",
      "Epoch 129/250\n",
      "40/40 [==============================] - 0s 8ms/step - loss: 0.0000e+00 - accuracy: 1.0000\n",
      "Epoch 130/250\n",
      "40/40 [==============================] - 0s 8ms/step - loss: 0.0000e+00 - accuracy: 1.0000\n",
      "Epoch 131/250\n",
      "40/40 [==============================] - 0s 8ms/step - loss: 0.0000e+00 - accuracy: 1.0000\n",
      "Epoch 132/250\n",
      "40/40 [==============================] - 0s 8ms/step - loss: 0.0000e+00 - accuracy: 1.0000\n",
      "Epoch 133/250\n",
      "40/40 [==============================] - 0s 8ms/step - loss: 0.0000e+00 - accuracy: 1.0000\n",
      "Epoch 134/250\n",
      "40/40 [==============================] - 0s 8ms/step - loss: 0.0000e+00 - accuracy: 1.0000\n",
      "Epoch 135/250\n",
      "40/40 [==============================] - 0s 8ms/step - loss: 0.0000e+00 - accuracy: 1.0000\n",
      "Epoch 136/250\n",
      "40/40 [==============================] - 0s 8ms/step - loss: 0.0000e+00 - accuracy: 1.0000\n",
      "Epoch 137/250\n",
      "40/40 [==============================] - 0s 8ms/step - loss: 0.0000e+00 - accuracy: 1.0000\n",
      "Epoch 138/250\n",
      "40/40 [==============================] - 0s 8ms/step - loss: 0.0000e+00 - accuracy: 1.0000\n",
      "Epoch 139/250\n",
      "40/40 [==============================] - 0s 8ms/step - loss: 0.0000e+00 - accuracy: 1.0000\n",
      "Epoch 140/250\n",
      "40/40 [==============================] - 0s 8ms/step - loss: 0.0000e+00 - accuracy: 1.0000\n",
      "Epoch 141/250\n",
      "40/40 [==============================] - 0s 8ms/step - loss: 0.0000e+00 - accuracy: 1.0000\n",
      "Epoch 142/250\n",
      "40/40 [==============================] - 0s 8ms/step - loss: 0.0000e+00 - accuracy: 1.0000\n",
      "Epoch 143/250\n",
      "40/40 [==============================] - 0s 8ms/step - loss: 0.0000e+00 - accuracy: 1.0000\n",
      "Epoch 144/250\n",
      "40/40 [==============================] - 0s 8ms/step - loss: 0.0000e+00 - accuracy: 1.0000\n",
      "Epoch 145/250\n",
      "40/40 [==============================] - 0s 8ms/step - loss: 0.0000e+00 - accuracy: 1.0000\n",
      "Epoch 146/250\n",
      "40/40 [==============================] - 0s 8ms/step - loss: 0.0000e+00 - accuracy: 1.0000\n",
      "Epoch 147/250\n",
      "40/40 [==============================] - 0s 8ms/step - loss: 0.0000e+00 - accuracy: 1.0000\n",
      "Epoch 148/250\n",
      "40/40 [==============================] - 0s 8ms/step - loss: 0.0000e+00 - accuracy: 1.0000\n",
      "Epoch 149/250\n",
      "40/40 [==============================] - 0s 8ms/step - loss: 0.0000e+00 - accuracy: 1.0000\n",
      "Epoch 150/250\n",
      "40/40 [==============================] - 0s 9ms/step - loss: 0.0000e+00 - accuracy: 1.0000\n",
      "Epoch 151/250\n",
      "40/40 [==============================] - 0s 10ms/step - loss: 0.0000e+00 - accuracy: 1.0000\n",
      "Epoch 152/250\n",
      "40/40 [==============================] - 0s 8ms/step - loss: 0.0000e+00 - accuracy: 1.0000\n",
      "Epoch 153/250\n",
      "40/40 [==============================] - 0s 8ms/step - loss: 0.0000e+00 - accuracy: 1.0000\n",
      "Epoch 154/250\n",
      "40/40 [==============================] - 0s 8ms/step - loss: 0.0000e+00 - accuracy: 1.0000\n",
      "Epoch 155/250\n",
      "40/40 [==============================] - 0s 8ms/step - loss: 0.0000e+00 - accuracy: 1.0000\n",
      "Epoch 156/250\n",
      "40/40 [==============================] - 0s 8ms/step - loss: 0.0000e+00 - accuracy: 1.0000\n",
      "Epoch 157/250\n",
      "40/40 [==============================] - 0s 8ms/step - loss: 0.0000e+00 - accuracy: 1.0000\n",
      "Epoch 158/250\n",
      "40/40 [==============================] - 0s 8ms/step - loss: 0.0000e+00 - accuracy: 1.0000\n",
      "Epoch 159/250\n",
      "40/40 [==============================] - 0s 8ms/step - loss: 0.0000e+00 - accuracy: 1.0000\n",
      "Epoch 160/250\n",
      "40/40 [==============================] - 0s 8ms/step - loss: 0.0000e+00 - accuracy: 1.0000\n",
      "Epoch 161/250\n",
      "40/40 [==============================] - 0s 8ms/step - loss: 0.0000e+00 - accuracy: 1.0000\n",
      "Epoch 162/250\n",
      "40/40 [==============================] - 0s 8ms/step - loss: 0.0000e+00 - accuracy: 1.0000\n",
      "Epoch 163/250\n",
      "40/40 [==============================] - 0s 8ms/step - loss: 0.0000e+00 - accuracy: 1.0000\n",
      "Epoch 164/250\n",
      "40/40 [==============================] - 0s 8ms/step - loss: 0.0000e+00 - accuracy: 1.0000\n",
      "Epoch 165/250\n",
      "40/40 [==============================] - 0s 8ms/step - loss: 0.0000e+00 - accuracy: 1.0000\n",
      "Epoch 166/250\n",
      "40/40 [==============================] - 0s 8ms/step - loss: 0.0000e+00 - accuracy: 1.0000\n",
      "Epoch 167/250\n",
      "40/40 [==============================] - 0s 8ms/step - loss: 0.0000e+00 - accuracy: 1.0000\n",
      "Epoch 168/250\n",
      "40/40 [==============================] - 0s 8ms/step - loss: 0.0000e+00 - accuracy: 1.0000\n",
      "Epoch 169/250\n",
      "40/40 [==============================] - 0s 8ms/step - loss: 0.0000e+00 - accuracy: 1.0000\n",
      "Epoch 170/250\n",
      "40/40 [==============================] - 0s 8ms/step - loss: 0.0000e+00 - accuracy: 1.0000\n",
      "Epoch 171/250\n",
      "40/40 [==============================] - 0s 8ms/step - loss: 0.0000e+00 - accuracy: 1.0000\n",
      "Epoch 172/250\n",
      "40/40 [==============================] - 0s 8ms/step - loss: 0.0000e+00 - accuracy: 1.0000\n",
      "Epoch 173/250\n",
      "40/40 [==============================] - 0s 8ms/step - loss: 0.0000e+00 - accuracy: 1.0000\n",
      "Epoch 174/250\n",
      "40/40 [==============================] - 0s 8ms/step - loss: 0.0000e+00 - accuracy: 1.0000\n",
      "Epoch 175/250\n",
      "40/40 [==============================] - 0s 8ms/step - loss: 0.0000e+00 - accuracy: 1.0000\n",
      "Epoch 176/250\n",
      "40/40 [==============================] - 0s 8ms/step - loss: 0.0000e+00 - accuracy: 1.0000\n",
      "Epoch 177/250\n",
      "40/40 [==============================] - 0s 8ms/step - loss: 0.0000e+00 - accuracy: 1.0000\n",
      "Epoch 178/250\n",
      "40/40 [==============================] - 0s 8ms/step - loss: 0.0000e+00 - accuracy: 1.0000\n",
      "Epoch 179/250\n",
      "40/40 [==============================] - 0s 8ms/step - loss: 0.0000e+00 - accuracy: 1.0000\n",
      "Epoch 180/250\n",
      "40/40 [==============================] - 0s 8ms/step - loss: 0.0000e+00 - accuracy: 1.0000\n",
      "Epoch 181/250\n",
      "40/40 [==============================] - 0s 8ms/step - loss: 0.0000e+00 - accuracy: 1.0000\n",
      "Epoch 182/250\n",
      "40/40 [==============================] - 0s 10ms/step - loss: 0.0000e+00 - accuracy: 1.0000\n",
      "Epoch 183/250\n",
      "40/40 [==============================] - 0s 10ms/step - loss: 0.0000e+00 - accuracy: 1.0000\n",
      "Epoch 184/250\n",
      "40/40 [==============================] - 1s 14ms/step - loss: 0.0000e+00 - accuracy: 1.0000\n",
      "Epoch 185/250\n",
      "40/40 [==============================] - 0s 11ms/step - loss: 0.0000e+00 - accuracy: 1.0000\n",
      "Epoch 186/250\n",
      "40/40 [==============================] - 0s 8ms/step - loss: 0.0000e+00 - accuracy: 1.0000\n",
      "Epoch 187/250\n",
      "40/40 [==============================] - 0s 8ms/step - loss: 0.0000e+00 - accuracy: 1.0000\n",
      "Epoch 188/250\n",
      "40/40 [==============================] - 0s 8ms/step - loss: 0.0000e+00 - accuracy: 1.0000\n",
      "Epoch 189/250\n",
      "40/40 [==============================] - 0s 8ms/step - loss: 0.0000e+00 - accuracy: 1.0000\n",
      "Epoch 190/250\n",
      "40/40 [==============================] - 0s 8ms/step - loss: 0.0000e+00 - accuracy: 1.0000\n",
      "Epoch 191/250\n",
      "40/40 [==============================] - 0s 8ms/step - loss: 0.0000e+00 - accuracy: 1.0000\n",
      "Epoch 192/250\n",
      "40/40 [==============================] - 0s 8ms/step - loss: 0.0000e+00 - accuracy: 1.0000\n",
      "Epoch 193/250\n",
      "40/40 [==============================] - 0s 8ms/step - loss: 0.0000e+00 - accuracy: 1.0000\n",
      "Epoch 194/250\n",
      "40/40 [==============================] - 0s 8ms/step - loss: 0.0000e+00 - accuracy: 1.0000\n",
      "Epoch 195/250\n",
      "40/40 [==============================] - 0s 8ms/step - loss: 0.0000e+00 - accuracy: 1.0000\n",
      "Epoch 196/250\n",
      "40/40 [==============================] - 0s 8ms/step - loss: 0.0000e+00 - accuracy: 1.0000\n",
      "Epoch 197/250\n",
      "40/40 [==============================] - 0s 8ms/step - loss: 0.0000e+00 - accuracy: 1.0000\n",
      "Epoch 198/250\n",
      "40/40 [==============================] - 0s 8ms/step - loss: 0.0000e+00 - accuracy: 1.0000\n",
      "Epoch 199/250\n",
      "40/40 [==============================] - 0s 8ms/step - loss: 0.0000e+00 - accuracy: 1.0000\n",
      "Epoch 200/250\n",
      "40/40 [==============================] - 0s 8ms/step - loss: 0.0000e+00 - accuracy: 1.0000\n",
      "Epoch 201/250\n",
      "40/40 [==============================] - 0s 8ms/step - loss: 0.0000e+00 - accuracy: 1.0000\n",
      "Epoch 202/250\n",
      "40/40 [==============================] - 0s 8ms/step - loss: 0.0000e+00 - accuracy: 1.0000\n",
      "Epoch 203/250\n",
      "40/40 [==============================] - 0s 8ms/step - loss: 0.0000e+00 - accuracy: 1.0000\n",
      "Epoch 204/250\n",
      "40/40 [==============================] - 0s 8ms/step - loss: 0.0000e+00 - accuracy: 1.0000\n",
      "Epoch 205/250\n",
      "40/40 [==============================] - 0s 8ms/step - loss: 0.0000e+00 - accuracy: 1.0000\n",
      "Epoch 206/250\n",
      "40/40 [==============================] - 0s 8ms/step - loss: 0.0000e+00 - accuracy: 1.0000\n",
      "Epoch 207/250\n",
      "40/40 [==============================] - 0s 8ms/step - loss: 0.0000e+00 - accuracy: 1.0000\n",
      "Epoch 208/250\n",
      "40/40 [==============================] - 0s 8ms/step - loss: 0.0000e+00 - accuracy: 1.0000\n",
      "Epoch 209/250\n",
      "40/40 [==============================] - 0s 8ms/step - loss: 0.0000e+00 - accuracy: 1.0000\n",
      "Epoch 210/250\n",
      "40/40 [==============================] - 0s 8ms/step - loss: 0.0000e+00 - accuracy: 1.0000\n",
      "Epoch 211/250\n",
      "40/40 [==============================] - 0s 8ms/step - loss: 0.0000e+00 - accuracy: 1.0000\n",
      "Epoch 212/250\n",
      "40/40 [==============================] - 0s 8ms/step - loss: 0.0000e+00 - accuracy: 1.0000\n",
      "Epoch 213/250\n",
      "40/40 [==============================] - 0s 9ms/step - loss: 0.0000e+00 - accuracy: 1.0000\n",
      "Epoch 214/250\n",
      "40/40 [==============================] - 0s 8ms/step - loss: 0.0000e+00 - accuracy: 1.0000\n",
      "Epoch 215/250\n",
      "40/40 [==============================] - 0s 8ms/step - loss: 0.0000e+00 - accuracy: 1.0000\n",
      "Epoch 216/250\n",
      "40/40 [==============================] - 0s 10ms/step - loss: 0.0000e+00 - accuracy: 1.0000\n",
      "Epoch 217/250\n",
      "40/40 [==============================] - 0s 9ms/step - loss: 0.0000e+00 - accuracy: 1.0000\n",
      "Epoch 218/250\n",
      "40/40 [==============================] - 0s 8ms/step - loss: 0.0000e+00 - accuracy: 1.0000\n",
      "Epoch 219/250\n",
      "40/40 [==============================] - 0s 8ms/step - loss: 0.0000e+00 - accuracy: 1.0000\n",
      "Epoch 220/250\n",
      "40/40 [==============================] - 0s 8ms/step - loss: 0.0000e+00 - accuracy: 1.0000\n",
      "Epoch 221/250\n",
      "40/40 [==============================] - 0s 8ms/step - loss: 0.0000e+00 - accuracy: 1.0000\n",
      "Epoch 222/250\n",
      "40/40 [==============================] - 0s 8ms/step - loss: 0.0000e+00 - accuracy: 1.0000\n",
      "Epoch 223/250\n",
      "40/40 [==============================] - 0s 8ms/step - loss: 0.0000e+00 - accuracy: 1.0000\n",
      "Epoch 224/250\n",
      "40/40 [==============================] - 0s 8ms/step - loss: 0.0000e+00 - accuracy: 1.0000\n",
      "Epoch 225/250\n",
      "40/40 [==============================] - 0s 8ms/step - loss: 0.0000e+00 - accuracy: 1.0000\n",
      "Epoch 226/250\n",
      "40/40 [==============================] - 0s 8ms/step - loss: 0.0000e+00 - accuracy: 1.0000\n",
      "Epoch 227/250\n",
      "40/40 [==============================] - 0s 8ms/step - loss: 0.0000e+00 - accuracy: 1.0000\n",
      "Epoch 228/250\n",
      "40/40 [==============================] - 0s 8ms/step - loss: 0.0000e+00 - accuracy: 1.0000\n",
      "Epoch 229/250\n",
      "40/40 [==============================] - 0s 8ms/step - loss: 0.0000e+00 - accuracy: 1.0000\n",
      "Epoch 230/250\n",
      "40/40 [==============================] - 0s 8ms/step - loss: 0.0000e+00 - accuracy: 1.0000\n",
      "Epoch 231/250\n",
      "40/40 [==============================] - 0s 8ms/step - loss: 0.0000e+00 - accuracy: 1.0000\n",
      "Epoch 232/250\n",
      "40/40 [==============================] - 0s 8ms/step - loss: 0.0000e+00 - accuracy: 1.0000\n",
      "Epoch 233/250\n",
      "40/40 [==============================] - 0s 8ms/step - loss: 0.0000e+00 - accuracy: 1.0000\n",
      "Epoch 234/250\n",
      "40/40 [==============================] - 0s 8ms/step - loss: 0.0000e+00 - accuracy: 1.0000\n",
      "Epoch 235/250\n",
      "40/40 [==============================] - 0s 8ms/step - loss: 0.0000e+00 - accuracy: 1.0000\n",
      "Epoch 236/250\n",
      "40/40 [==============================] - 0s 8ms/step - loss: 0.0000e+00 - accuracy: 1.0000\n",
      "Epoch 237/250\n",
      "40/40 [==============================] - 0s 8ms/step - loss: 0.0000e+00 - accuracy: 1.0000\n",
      "Epoch 238/250\n",
      "40/40 [==============================] - 0s 8ms/step - loss: 0.0000e+00 - accuracy: 1.0000\n",
      "Epoch 239/250\n",
      "40/40 [==============================] - 0s 8ms/step - loss: 0.0000e+00 - accuracy: 1.0000\n",
      "Epoch 240/250\n",
      "40/40 [==============================] - 0s 8ms/step - loss: 0.0000e+00 - accuracy: 1.0000\n",
      "Epoch 241/250\n",
      "40/40 [==============================] - 0s 8ms/step - loss: 0.0000e+00 - accuracy: 1.0000\n",
      "Epoch 242/250\n",
      "40/40 [==============================] - 0s 8ms/step - loss: 0.0000e+00 - accuracy: 1.0000\n",
      "Epoch 243/250\n",
      "40/40 [==============================] - 0s 8ms/step - loss: 0.0000e+00 - accuracy: 1.0000\n",
      "Epoch 244/250\n",
      "40/40 [==============================] - 0s 8ms/step - loss: 0.0000e+00 - accuracy: 1.0000\n",
      "Epoch 245/250\n",
      "40/40 [==============================] - 0s 8ms/step - loss: 0.0000e+00 - accuracy: 1.0000\n",
      "Epoch 246/250\n",
      "40/40 [==============================] - 0s 8ms/step - loss: 0.0000e+00 - accuracy: 1.0000\n",
      "Epoch 247/250\n",
      "40/40 [==============================] - 0s 8ms/step - loss: 0.0000e+00 - accuracy: 1.0000\n",
      "Epoch 248/250\n",
      "40/40 [==============================] - 0s 8ms/step - loss: 0.0000e+00 - accuracy: 1.0000\n",
      "Epoch 249/250\n",
      "40/40 [==============================] - 0s 8ms/step - loss: 0.0000e+00 - accuracy: 1.0000\n",
      "Epoch 250/250\n",
      "40/40 [==============================] - 0s 11ms/step - loss: 0.0000e+00 - accuracy: 1.0000\n"
     ]
    }
   ],
   "source": [
    "# Training the CNN model\n",
    "history = cnn_model.fit(X_train, y_train, batch_size = 512, epochs = 250, verbose = 1)"
   ]
  },
  {
   "cell_type": "markdown",
   "id": "e251459e",
   "metadata": {
    "papermill": {
     "duration": 0.103337,
     "end_time": "2023-02-04T10:32:17.253379",
     "exception": false,
     "start_time": "2023-02-04T10:32:17.150042",
     "status": "completed"
    },
    "tags": []
   },
   "source": [
    "At the 200th epoch, the model has recorded outstanding accuracy which is around 99.40% on the training dataset. Let’s plot the loss and accuracy observed throughout this training period so that we can know the model has trained.  "
   ]
  },
  {
   "cell_type": "code",
   "execution_count": 20,
   "id": "62ae5821",
   "metadata": {
    "execution": {
     "iopub.execute_input": "2023-02-04T10:32:17.461740Z",
     "iopub.status.busy": "2023-02-04T10:32:17.461391Z",
     "iopub.status.idle": "2023-02-04T10:32:17.768009Z",
     "shell.execute_reply": "2023-02-04T10:32:17.767113Z"
    },
    "papermill": {
     "duration": 0.41428,
     "end_time": "2023-02-04T10:32:17.770338",
     "exception": false,
     "start_time": "2023-02-04T10:32:17.356058",
     "status": "completed"
    },
    "tags": []
   },
   "outputs": [
    {
     "data": {
      "text/plain": [
       "Text(0.5, 1.0, 'Accuracy evolution')"
      ]
     },
     "execution_count": 20,
     "metadata": {},
     "output_type": "execute_result"
    },
    {
     "data": {
      "image/png": "[encoded data removed]",
      "text/plain": [
       "<Figure size 864x576 with 2 Axes>"
      ]
     },
     "metadata": {
      "needs_background": "light"
     },
     "output_type": "display_data"
    }
   ],
   "source": [
    "#VIsualizing the training performance\n",
    "plt.figure(figsize=(12, 8))\n",
    "plt.subplot(2, 2, 1)\n",
    "plt.plot(history.history['loss'], label='Loss')\n",
    "plt.legend()\n",
    "plt.title('Loss evolution')\n",
    "plt.subplot(2, 2, 2)\n",
    "plt.plot(history.history['accuracy'], label='accuracy')\n",
    "plt.legend()\n",
    "plt.title('Accuracy evolution')"
   ]
  },
  {
   "cell_type": "markdown",
   "id": "3aa0c546",
   "metadata": {
    "papermill": {
     "duration": 0.105656,
     "end_time": "2023-02-04T10:32:17.981212",
     "exception": false,
     "start_time": "2023-02-04T10:32:17.875556",
     "status": "completed"
    },
    "tags": []
   },
   "source": [
    "Step 6: Making Predictions\n",
    "\n",
    "Now finally we will obtain the prediction for the above-trained model. So we are going to provide the below digit which is 7 so let’s obtain the prediction on that"
   ]
  },
  {
   "cell_type": "code",
   "execution_count": 21,
   "id": "dec8e9d3",
   "metadata": {
    "execution": {
     "iopub.execute_input": "2023-02-04T10:32:18.194525Z",
     "iopub.status.busy": "2023-02-04T10:32:18.194147Z",
     "iopub.status.idle": "2023-02-04T10:32:18.375823Z",
     "shell.execute_reply": "2023-02-04T10:32:18.374909Z"
    },
    "papermill": {
     "duration": 0.291586,
     "end_time": "2023-02-04T10:32:18.378127",
     "exception": false,
     "start_time": "2023-02-04T10:32:18.086541",
     "status": "completed"
    },
    "tags": []
   },
   "outputs": [
    {
     "data": {
      "text/plain": [
       "<matplotlib.image.AxesImage at 0x7fc08c8cfcd0>"
      ]
     },
     "execution_count": 21,
     "metadata": {},
     "output_type": "execute_result"
    },
    {
     "data": {
      "image/png": "[encoded data removed]",
      "text/plain": [
       "<Figure size 432x288 with 1 Axes>"
      ]
     },
     "metadata": {
      "needs_background": "light"
     },
     "output_type": "display_data"
    }
   ],
   "source": [
    "actual = tf.reshape(X_test[5], (28, 28))\n",
    "plt.imshow(actual)"
   ]
  },
  {
   "cell_type": "markdown",
   "id": "039ce854",
   "metadata": {
    "papermill": {
     "duration": 0.104323,
     "end_time": "2023-02-04T10:32:18.588952",
     "exception": false,
     "start_time": "2023-02-04T10:32:18.484629",
     "status": "completed"
    },
    "tags": []
   },
   "source": [
    "Now let’s check what the trained CNN model predicts for this same image data.\n",
    "\n"
   ]
  },
  {
   "cell_type": "code",
   "execution_count": 22,
   "id": "cfdf83a1",
   "metadata": {
    "execution": {
     "iopub.execute_input": "2023-02-04T10:32:18.862711Z",
     "iopub.status.busy": "2023-02-04T10:32:18.862341Z",
     "iopub.status.idle": "2023-02-04T10:32:19.688653Z",
     "shell.execute_reply": "2023-02-04T10:32:19.687374Z"
    },
    "papermill": {
     "duration": 0.941349,
     "end_time": "2023-02-04T10:32:19.695492",
     "exception": false,
     "start_time": "2023-02-04T10:32:18.754143",
     "status": "completed"
    },
    "tags": []
   },
   "outputs": [
    {
     "data": {
      "text/plain": [
       "array([1.0000000e+00, 3.6423967e-35, 1.4273004e-31, 7.0229007e-31,\n",
       "       9.5314031e-32, 5.8343476e-32, 7.5187131e-30, 5.7463678e-33,\n",
       "       3.7351718e-32, 7.7445762e-31], dtype=float32)"
      ]
     },
     "execution_count": 22,
     "metadata": {},
     "output_type": "execute_result"
    }
   ],
   "source": [
    "#Predictions for the test data\n",
    "predicted_classes = cnn_model.predict(X_test)\n",
    "test_img = tf.reshape(X_test[5], (-1, 28, 28, 1))\n",
    "prediction = cnn_model.predict(test_img)\n",
    "prediction[0]"
   ]
  },
  {
   "cell_type": "code",
   "execution_count": 23,
   "id": "64e8db25",
   "metadata": {
    "execution": {
     "iopub.execute_input": "2023-02-04T10:32:20.053715Z",
     "iopub.status.busy": "2023-02-04T10:32:20.053357Z",
     "iopub.status.idle": "2023-02-04T10:32:20.064216Z",
     "shell.execute_reply": "2023-02-04T10:32:20.063131Z"
    },
    "papermill": {
     "duration": 0.17129,
     "end_time": "2023-02-04T10:32:20.066916",
     "exception": false,
     "start_time": "2023-02-04T10:32:19.895626",
     "status": "completed"
    },
    "tags": []
   },
   "outputs": [
    {
     "data": {
      "text/plain": [
       "0"
      ]
     },
     "execution_count": 23,
     "metadata": {},
     "output_type": "execute_result"
    }
   ],
   "source": [
    "np.argmax(prediction[0])"
   ]
  },
  {
   "cell_type": "code",
   "execution_count": null,
   "id": "f7b67041",
   "metadata": {
    "papermill": {
     "duration": 0.124624,
     "end_time": "2023-02-04T10:32:20.355882",
     "exception": false,
     "start_time": "2023-02-04T10:32:20.231258",
     "status": "completed"
    },
    "tags": []
   },
   "outputs": [],
   "source": []
  }
 ],
 "metadata": {
  "kernelspec": {
   "display_name": "Python 3",
   "language": "python",
   "name": "python3"
  },
  "language_info": {
   "codemirror_mode": {
    "name": "ipython",
    "version": 3
   },
   "file_extension": ".py",
   "mimetype": "text/x-python",
   "name": "python",
   "nbconvert_exporter": "python",
   "pygments_lexer": "ipython3",
   "version": "3.7.12"
  },
  "papermill": {
   "default_parameters": {},
   "duration": 167.455859,
   "end_time": "2023-02-04T10:32:23.467585",
   "environment_variables": {},
   "exception": null,
   "input_path": "__notebook__.ipynb",
   "output_path": "__notebook__.ipynb",
   "parameters": {},
   "start_time": "2023-02-04T10:29:36.011726",
   "version": "2.3.4"
  }
 },
 "nbformat": 4,
 "nbformat_minor": 5
}
