{
 "cells": [
  {
   "cell_type": "code",
   "execution_count": 1,
   "id": "9860429d",
   "metadata": {
    "_cell_guid": "b1076dfc-b9ad-4769-8c92-a6c4dae69d19",
    "_uuid": "8f2839f25d086af736a60e9eeb907d3b93b6e0e5",
    "execution": {
     "iopub.execute_input": "2023-05-24T16:38:24.622065Z",
     "iopub.status.busy": "2023-05-24T16:38:24.621627Z",
     "iopub.status.idle": "2023-05-24T16:38:24.634826Z",
     "shell.execute_reply": "2023-05-24T16:38:24.633871Z"
    },
    "papermill": {
     "duration": 0.026175,
     "end_time": "2023-05-24T16:38:24.636792",
     "exception": false,
     "start_time": "2023-05-24T16:38:24.610617",
     "status": "completed"
    },
    "tags": []
   },
   "outputs": [],
   "source": [
    "# This Python 3 environment comes with many helpful analytics libraries installed\n",
    "# It is defined by the kaggle/python Docker image: https://github.com/kaggle/docker-python\n",
    "# For example, here's several helpful packages to load\n",
    "\n",
    "import numpy as np # linear algebra\n",
    "import pandas as pd # data processing, CSV file I/O (e.g. pd.read_csv)\n",
    "\n",
    "# Input data files are available in the read-only \"../input/\" directory\n",
    "# For example, running this (by clicking run or pressing Shift+Enter) will list all files under the input directory\n",
    "\n",
    "import os\n",
    "for dirname, _, filenames in os.walk('/kaggle/input'):\n",
    "    for filename in filenames:\n",
    "        print(os.path.join(dirname, filename))\n",
    "\n",
    "# You can write up to 20GB to the current directory (/kaggle/working/) that gets preserved as output when you create a version using \"Save & Run All\" \n",
    "# You can also write temporary files to /kaggle/temp/, but they won't be saved outside of the current session"
   ]
  },
  {
   "cell_type": "markdown",
   "id": "9ae4504c",
   "metadata": {
    "papermill": {
     "duration": 0.00781,
     "end_time": "2023-05-24T16:38:24.652970",
     "exception": false,
     "start_time": "2023-05-24T16:38:24.645160",
     "status": "completed"
    },
    "tags": []
   },
   "source": [
    "Let us see how to build a machine learning model from scratch and classify the text data\n",
    "\n",
    "**Step 1: Loading and reading the data**\n",
    "\n",
    "Here we will use the panda's library to load the CSV file into the working environment and visualize the top 5 entries of the data frame using the head() function."
   ]
  },
  {
   "cell_type": "code",
   "execution_count": 2,
   "id": "4e57559f",
   "metadata": {
    "execution": {
     "iopub.execute_input": "2023-05-24T16:38:24.670795Z",
     "iopub.status.busy": "2023-05-24T16:38:24.670339Z",
     "iopub.status.idle": "2023-05-24T16:38:24.845127Z",
     "shell.execute_reply": "2023-05-24T16:38:24.843814Z"
    },
    "papermill": {
     "duration": 0.186745,
     "end_time": "2023-05-24T16:38:24.847669",
     "exception": false,
     "start_time": "2023-05-24T16:38:24.660924",
     "status": "completed"
    },
    "tags": []
   },
   "outputs": [],
   "source": [
    "df=pd.read_csv('https://raw.githubusercontent.com/analyticsindiamagazine/MocksDatasets/main/NLP-movie-review.csv')"
   ]
  },
  {
   "cell_type": "markdown",
   "id": "2a2c8d62",
   "metadata": {
    "papermill": {
     "duration": 0.007634,
     "end_time": "2023-05-24T16:38:24.863619",
     "exception": false,
     "start_time": "2023-05-24T16:38:24.855985",
     "status": "completed"
    },
    "tags": []
   },
   "source": [
    "viewing dataset"
   ]
  },
  {
   "cell_type": "code",
   "execution_count": 3,
   "id": "f66c8ea0",
   "metadata": {
    "execution": {
     "iopub.execute_input": "2023-05-24T16:38:24.882334Z",
     "iopub.status.busy": "2023-05-24T16:38:24.881381Z",
     "iopub.status.idle": "2023-05-24T16:38:24.902167Z",
     "shell.execute_reply": "2023-05-24T16:38:24.901099Z"
    },
    "papermill": {
     "duration": 0.031821,
     "end_time": "2023-05-24T16:38:24.904081",
     "exception": false,
     "start_time": "2023-05-24T16:38:24.872260",
     "status": "completed"
    },
    "tags": []
   },
   "outputs": [
    {
     "data": {
      "text/html": [
       "<div>\n",
       "<style scoped>\n",
       "    .dataframe tbody tr th:only-of-type {\n",
       "        vertical-align: middle;\n",
       "    }\n",
       "\n",
       "    .dataframe tbody tr th {\n",
       "        vertical-align: top;\n",
       "    }\n",
       "\n",
       "    .dataframe thead th {\n",
       "        text-align: right;\n",
       "    }\n",
       "</style>\n",
       "<table border=\"1\" class=\"dataframe\">\n",
       "  <thead>\n",
       "    <tr style=\"text-align: right;\">\n",
       "      <th></th>\n",
       "      <th>review</th>\n",
       "      <th>reaction</th>\n",
       "    </tr>\n",
       "  </thead>\n",
       "  <tbody>\n",
       "    <tr>\n",
       "      <th>0</th>\n",
       "      <td>Service is friendly and inviting.</td>\n",
       "      <td>1</td>\n",
       "    </tr>\n",
       "    <tr>\n",
       "      <th>1</th>\n",
       "      <td>Awesome service and food.</td>\n",
       "      <td>1</td>\n",
       "    </tr>\n",
       "    <tr>\n",
       "      <th>2</th>\n",
       "      <td>Waitress was a little slow in service.</td>\n",
       "      <td>0</td>\n",
       "    </tr>\n",
       "    <tr>\n",
       "      <th>3</th>\n",
       "      <td>Come hungry, leave happy and stuffed!</td>\n",
       "      <td>1</td>\n",
       "    </tr>\n",
       "    <tr>\n",
       "      <th>4</th>\n",
       "      <td>Horrible - don't waste your time and money.</td>\n",
       "      <td>0</td>\n",
       "    </tr>\n",
       "  </tbody>\n",
       "</table>\n",
       "</div>"
      ],
      "text/plain": [
       "                                        review  reaction\n",
       "0            Service is friendly and inviting.         1\n",
       "1                    Awesome service and food.         1\n",
       "2       Waitress was a little slow in service.         0\n",
       "3        Come hungry, leave happy and stuffed!         1\n",
       "4  Horrible - don't waste your time and money.         0"
      ]
     },
     "execution_count": 3,
     "metadata": {},
     "output_type": "execute_result"
    }
   ],
   "source": [
    "df.head()"
   ]
  },
  {
   "cell_type": "markdown",
   "id": "f905b2d1",
   "metadata": {
    "papermill": {
     "duration": 0.008234,
     "end_time": "2023-05-24T16:38:24.920782",
     "exception": false,
     "start_time": "2023-05-24T16:38:24.912548",
     "status": "completed"
    },
    "tags": []
   },
   "source": [
    "Here the data frame can be observed and we can see that there are two columns in the dataset with column names review and reaction."
   ]
  },
  {
   "cell_type": "code",
   "execution_count": 4,
   "id": "2d8b0b8f",
   "metadata": {
    "execution": {
     "iopub.execute_input": "2023-05-24T16:38:24.939049Z",
     "iopub.status.busy": "2023-05-24T16:38:24.938683Z",
     "iopub.status.idle": "2023-05-24T16:38:24.944019Z",
     "shell.execute_reply": "2023-05-24T16:38:24.943140Z"
    },
    "papermill": {
     "duration": 0.016976,
     "end_time": "2023-05-24T16:38:24.945821",
     "exception": false,
     "start_time": "2023-05-24T16:38:24.928845",
     "status": "completed"
    },
    "tags": []
   },
   "outputs": [
    {
     "name": "stdout",
     "output_type": "stream",
     "text": [
      "There are 1000 rows and 2 columns in the dataset\n"
     ]
    }
   ],
   "source": [
    "print('There are {} rows and {} columns in the dataset'.format(df.shape[0],df.shape[1]))"
   ]
  },
  {
   "cell_type": "markdown",
   "id": "47d5211d",
   "metadata": {
    "papermill": {
     "duration": 0.007973,
     "end_time": "2023-05-24T16:38:24.962055",
     "exception": false,
     "start_time": "2023-05-24T16:38:24.954082",
     "status": "completed"
    },
    "tags": []
   },
   "source": [
    "Here in this output, we can see that we are having 1000 rows and 2 columns in the dataset. Now let’s further check the, missing values for that we can use the isnull() function to check for missing values in the dataset"
   ]
  },
  {
   "cell_type": "code",
   "execution_count": 5,
   "id": "411d7c84",
   "metadata": {
    "execution": {
     "iopub.execute_input": "2023-05-24T16:38:24.980318Z",
     "iopub.status.busy": "2023-05-24T16:38:24.979917Z",
     "iopub.status.idle": "2023-05-24T16:38:24.990007Z",
     "shell.execute_reply": "2023-05-24T16:38:24.988740Z"
    },
    "papermill": {
     "duration": 0.021769,
     "end_time": "2023-05-24T16:38:24.992172",
     "exception": false,
     "start_time": "2023-05-24T16:38:24.970403",
     "status": "completed"
    },
    "tags": []
   },
   "outputs": [
    {
     "data": {
      "text/plain": [
       "review      0\n",
       "reaction    0\n",
       "dtype: int64"
      ]
     },
     "execution_count": 5,
     "metadata": {},
     "output_type": "execute_result"
    }
   ],
   "source": [
    "df.isnull().sum()"
   ]
  },
  {
   "cell_type": "markdown",
   "id": "ab6f189e",
   "metadata": {
    "papermill": {
     "duration": 0.007928,
     "end_time": "2023-05-24T16:38:25.008434",
     "exception": false,
     "start_time": "2023-05-24T16:38:25.000506",
     "status": "completed"
    },
    "tags": []
   },
   "source": [
    "Here we can see that the dataset is not having any missing values.\n",
    "\n",
    "**Step 2: Data Manipulation**\n",
    "\n",
    "In the target variable of the dataset, we are having values of 1 and 0. So let us manipulate the value of 1 to positive and 0 to negative."
   ]
  },
  {
   "cell_type": "code",
   "execution_count": 6,
   "id": "f7f9ca07",
   "metadata": {
    "execution": {
     "iopub.execute_input": "2023-05-24T16:38:25.026186Z",
     "iopub.status.busy": "2023-05-24T16:38:25.025783Z",
     "iopub.status.idle": "2023-05-24T16:38:25.036140Z",
     "shell.execute_reply": "2023-05-24T16:38:25.035051Z"
    },
    "papermill": {
     "duration": 0.021501,
     "end_time": "2023-05-24T16:38:25.038006",
     "exception": false,
     "start_time": "2023-05-24T16:38:25.016505",
     "status": "completed"
    },
    "tags": []
   },
   "outputs": [],
   "source": [
    "df['reaction'].replace(to_replace=1,value='positive',inplace=True)\n",
    "df['reaction'].replace(to_replace=0,value='negative',inplace=True)"
   ]
  },
  {
   "cell_type": "markdown",
   "id": "9d50db39",
   "metadata": {
    "papermill": {
     "duration": 0.008187,
     "end_time": "2023-05-24T16:38:25.055008",
     "exception": false,
     "start_time": "2023-05-24T16:38:25.046821",
     "status": "completed"
    },
    "tags": []
   },
   "source": [
    "In the replace function we have to mention the value to be replaced with the required value and we have to mention it placed as True to make permanent changes in the data. So with the changes made let us visualize the top entries of the dataset."
   ]
  },
  {
   "cell_type": "code",
   "execution_count": 7,
   "id": "cb965c47",
   "metadata": {
    "execution": {
     "iopub.execute_input": "2023-05-24T16:38:25.073768Z",
     "iopub.status.busy": "2023-05-24T16:38:25.073312Z",
     "iopub.status.idle": "2023-05-24T16:38:25.082779Z",
     "shell.execute_reply": "2023-05-24T16:38:25.081885Z"
    },
    "papermill": {
     "duration": 0.021229,
     "end_time": "2023-05-24T16:38:25.084786",
     "exception": false,
     "start_time": "2023-05-24T16:38:25.063557",
     "status": "completed"
    },
    "tags": []
   },
   "outputs": [
    {
     "data": {
      "text/html": [
       "<div>\n",
       "<style scoped>\n",
       "    .dataframe tbody tr th:only-of-type {\n",
       "        vertical-align: middle;\n",
       "    }\n",
       "\n",
       "    .dataframe tbody tr th {\n",
       "        vertical-align: top;\n",
       "    }\n",
       "\n",
       "    .dataframe thead th {\n",
       "        text-align: right;\n",
       "    }\n",
       "</style>\n",
       "<table border=\"1\" class=\"dataframe\">\n",
       "  <thead>\n",
       "    <tr style=\"text-align: right;\">\n",
       "      <th></th>\n",
       "      <th>review</th>\n",
       "      <th>reaction</th>\n",
       "    </tr>\n",
       "  </thead>\n",
       "  <tbody>\n",
       "    <tr>\n",
       "      <th>0</th>\n",
       "      <td>Service is friendly and inviting.</td>\n",
       "      <td>positive</td>\n",
       "    </tr>\n",
       "    <tr>\n",
       "      <th>1</th>\n",
       "      <td>Awesome service and food.</td>\n",
       "      <td>positive</td>\n",
       "    </tr>\n",
       "    <tr>\n",
       "      <th>2</th>\n",
       "      <td>Waitress was a little slow in service.</td>\n",
       "      <td>negative</td>\n",
       "    </tr>\n",
       "    <tr>\n",
       "      <th>3</th>\n",
       "      <td>Come hungry, leave happy and stuffed!</td>\n",
       "      <td>positive</td>\n",
       "    </tr>\n",
       "    <tr>\n",
       "      <th>4</th>\n",
       "      <td>Horrible - don't waste your time and money.</td>\n",
       "      <td>negative</td>\n",
       "    </tr>\n",
       "  </tbody>\n",
       "</table>\n",
       "</div>"
      ],
      "text/plain": [
       "                                        review  reaction\n",
       "0            Service is friendly and inviting.  positive\n",
       "1                    Awesome service and food.  positive\n",
       "2       Waitress was a little slow in service.  negative\n",
       "3        Come hungry, leave happy and stuffed!  positive\n",
       "4  Horrible - don't waste your time and money.  negative"
      ]
     },
     "execution_count": 7,
     "metadata": {},
     "output_type": "execute_result"
    }
   ],
   "source": [
    "df.head()"
   ]
  },
  {
   "cell_type": "markdown",
   "id": "d3403bf4",
   "metadata": {
    "papermill": {
     "duration": 0.008184,
     "end_time": "2023-05-24T16:38:25.101562",
     "exception": false,
     "start_time": "2023-05-24T16:38:25.093378",
     "status": "completed"
    },
    "tags": []
   },
   "source": [
    "In the above output, we can see that the value of 1 is replaced with positive and the value of 0 is replaced with negative.\n",
    "\n",
    "**Step 3: Vectorizing the data**\n",
    "\n",
    "Converting textual data into numerical features is termed vectorization, similar to performing encoding in machine learning. "
   ]
  },
  {
   "cell_type": "code",
   "execution_count": 8,
   "id": "829acf56",
   "metadata": {
    "execution": {
     "iopub.execute_input": "2023-05-24T16:38:25.120272Z",
     "iopub.status.busy": "2023-05-24T16:38:25.119954Z",
     "iopub.status.idle": "2023-05-24T16:38:26.253826Z",
     "shell.execute_reply": "2023-05-24T16:38:26.252444Z"
    },
    "papermill": {
     "duration": 1.146322,
     "end_time": "2023-05-24T16:38:26.256447",
     "exception": false,
     "start_time": "2023-05-24T16:38:25.110125",
     "status": "completed"
    },
    "tags": []
   },
   "outputs": [],
   "source": [
    "from sklearn.feature_extraction.text import TfidfVectorizer\n",
    "tf_idf = TfidfVectorizer(lowercase=True,stop_words='english',token_pattern='\\w+')\n",
    "X = tf_idf.fit_transform(df['review'].values)"
   ]
  },
  {
   "cell_type": "markdown",
   "id": "cfeda3b6",
   "metadata": {
    "papermill": {
     "duration": 0.008201,
     "end_time": "2023-05-24T16:38:26.273502",
     "exception": false,
     "start_time": "2023-05-24T16:38:26.265301",
     "status": "completed"
    },
    "tags": []
   },
   "source": [
    "Here the Term Frequency -Inverse Document Frequency library of the sklearn module is used to vectorize the textual data where all the text preprocessing steps are fed into the TF-IDF vectorizer instance by stating lower case conversion as True, mentioning stop words as English and the tokenization pattern as \\w+ is used to match all the characters in the dataset ranging from (a-z) and (A-Z).\n",
    "\n",
    "For easy interpretation let us convert the vectorized data frame into a pandas dataframe as shown below and compute the vocabulary length which is the number of rows in the vectorized dataframe."
   ]
  },
  {
   "cell_type": "code",
   "execution_count": 9,
   "id": "8434b625",
   "metadata": {
    "execution": {
     "iopub.execute_input": "2023-05-24T16:38:26.292166Z",
     "iopub.status.busy": "2023-05-24T16:38:26.291829Z",
     "iopub.status.idle": "2023-05-24T16:38:26.306105Z",
     "shell.execute_reply": "2023-05-24T16:38:26.305075Z"
    },
    "papermill": {
     "duration": 0.025869,
     "end_time": "2023-05-24T16:38:26.307844",
     "exception": false,
     "start_time": "2023-05-24T16:38:26.281975",
     "status": "completed"
    },
    "tags": []
   },
   "outputs": [
    {
     "name": "stdout",
     "output_type": "stream",
     "text": [
      "Vocabulary length of count-vectorized data 1000\n"
     ]
    },
    {
     "name": "stderr",
     "output_type": "stream",
     "text": [
      "/opt/conda/lib/python3.7/site-packages/sklearn/utils/deprecation.py:87: FutureWarning: Function get_feature_names is deprecated; get_feature_names is deprecated in 1.0 and will be removed in 1.2. Please use get_feature_names_out instead.\n",
      "  warnings.warn(msg, category=FutureWarning)\n"
     ]
    }
   ],
   "source": [
    "X = pd.DataFrame(X.todense(),columns=tf_idf.get_feature_names())\n",
    "print('Vocabulary length of count-vectorized data',len(X))"
   ]
  },
  {
   "cell_type": "markdown",
   "id": "174b0790",
   "metadata": {
    "papermill": {
     "duration": 0.008239,
     "end_time": "2023-05-24T16:38:26.324739",
     "exception": false,
     "start_time": "2023-05-24T16:38:26.316500",
     "status": "completed"
    },
    "tags": []
   },
   "source": [
    "looking at the final dataset"
   ]
  },
  {
   "cell_type": "code",
   "execution_count": 10,
   "id": "180db4d2",
   "metadata": {
    "execution": {
     "iopub.execute_input": "2023-05-24T16:38:26.344574Z",
     "iopub.status.busy": "2023-05-24T16:38:26.343472Z",
     "iopub.status.idle": "2023-05-24T16:38:26.351545Z",
     "shell.execute_reply": "2023-05-24T16:38:26.350599Z"
    },
    "papermill": {
     "duration": 0.020481,
     "end_time": "2023-05-24T16:38:26.353919",
     "exception": false,
     "start_time": "2023-05-24T16:38:26.333438",
     "status": "completed"
    },
    "tags": []
   },
   "outputs": [
    {
     "data": {
      "text/plain": [
       "(1000, 1832)"
      ]
     },
     "execution_count": 10,
     "metadata": {},
     "output_type": "execute_result"
    }
   ],
   "source": [
    "X.shape"
   ]
  },
  {
   "cell_type": "code",
   "execution_count": 11,
   "id": "e48f2915",
   "metadata": {
    "execution": {
     "iopub.execute_input": "2023-05-24T16:38:26.373438Z",
     "iopub.status.busy": "2023-05-24T16:38:26.373053Z",
     "iopub.status.idle": "2023-05-24T16:38:26.409926Z",
     "shell.execute_reply": "2023-05-24T16:38:26.408697Z"
    },
    "papermill": {
     "duration": 0.049018,
     "end_time": "2023-05-24T16:38:26.412140",
     "exception": false,
     "start_time": "2023-05-24T16:38:26.363122",
     "status": "completed"
    },
    "tags": []
   },
   "outputs": [
    {
     "data": {
      "text/html": [
       "<div>\n",
       "<style scoped>\n",
       "    .dataframe tbody tr th:only-of-type {\n",
       "        vertical-align: middle;\n",
       "    }\n",
       "\n",
       "    .dataframe tbody tr th {\n",
       "        vertical-align: top;\n",
       "    }\n",
       "\n",
       "    .dataframe thead th {\n",
       "        text-align: right;\n",
       "    }\n",
       "</style>\n",
       "<table border=\"1\" class=\"dataframe\">\n",
       "  <thead>\n",
       "    <tr style=\"text-align: right;\">\n",
       "      <th></th>\n",
       "      <th>00</th>\n",
       "      <th>1</th>\n",
       "      <th>10</th>\n",
       "      <th>100</th>\n",
       "      <th>11</th>\n",
       "      <th>12</th>\n",
       "      <th>15</th>\n",
       "      <th>17</th>\n",
       "      <th>1979</th>\n",
       "      <th>2</th>\n",
       "      <th>...</th>\n",
       "      <th>year</th>\n",
       "      <th>years</th>\n",
       "      <th>yellow</th>\n",
       "      <th>yellowtail</th>\n",
       "      <th>yelpers</th>\n",
       "      <th>yucky</th>\n",
       "      <th>yukon</th>\n",
       "      <th>yum</th>\n",
       "      <th>yummy</th>\n",
       "      <th>zero</th>\n",
       "    </tr>\n",
       "  </thead>\n",
       "  <tbody>\n",
       "    <tr>\n",
       "      <th>0</th>\n",
       "      <td>0.0</td>\n",
       "      <td>0.0</td>\n",
       "      <td>0.0</td>\n",
       "      <td>0.0</td>\n",
       "      <td>0.0</td>\n",
       "      <td>0.0</td>\n",
       "      <td>0.0</td>\n",
       "      <td>0.0</td>\n",
       "      <td>0.0</td>\n",
       "      <td>0.0</td>\n",
       "      <td>...</td>\n",
       "      <td>0.0</td>\n",
       "      <td>0.0</td>\n",
       "      <td>0.0</td>\n",
       "      <td>0.0</td>\n",
       "      <td>0.0</td>\n",
       "      <td>0.0</td>\n",
       "      <td>0.0</td>\n",
       "      <td>0.0</td>\n",
       "      <td>0.0</td>\n",
       "      <td>0.0</td>\n",
       "    </tr>\n",
       "    <tr>\n",
       "      <th>1</th>\n",
       "      <td>0.0</td>\n",
       "      <td>0.0</td>\n",
       "      <td>0.0</td>\n",
       "      <td>0.0</td>\n",
       "      <td>0.0</td>\n",
       "      <td>0.0</td>\n",
       "      <td>0.0</td>\n",
       "      <td>0.0</td>\n",
       "      <td>0.0</td>\n",
       "      <td>0.0</td>\n",
       "      <td>...</td>\n",
       "      <td>0.0</td>\n",
       "      <td>0.0</td>\n",
       "      <td>0.0</td>\n",
       "      <td>0.0</td>\n",
       "      <td>0.0</td>\n",
       "      <td>0.0</td>\n",
       "      <td>0.0</td>\n",
       "      <td>0.0</td>\n",
       "      <td>0.0</td>\n",
       "      <td>0.0</td>\n",
       "    </tr>\n",
       "    <tr>\n",
       "      <th>2</th>\n",
       "      <td>0.0</td>\n",
       "      <td>0.0</td>\n",
       "      <td>0.0</td>\n",
       "      <td>0.0</td>\n",
       "      <td>0.0</td>\n",
       "      <td>0.0</td>\n",
       "      <td>0.0</td>\n",
       "      <td>0.0</td>\n",
       "      <td>0.0</td>\n",
       "      <td>0.0</td>\n",
       "      <td>...</td>\n",
       "      <td>0.0</td>\n",
       "      <td>0.0</td>\n",
       "      <td>0.0</td>\n",
       "      <td>0.0</td>\n",
       "      <td>0.0</td>\n",
       "      <td>0.0</td>\n",
       "      <td>0.0</td>\n",
       "      <td>0.0</td>\n",
       "      <td>0.0</td>\n",
       "      <td>0.0</td>\n",
       "    </tr>\n",
       "    <tr>\n",
       "      <th>3</th>\n",
       "      <td>0.0</td>\n",
       "      <td>0.0</td>\n",
       "      <td>0.0</td>\n",
       "      <td>0.0</td>\n",
       "      <td>0.0</td>\n",
       "      <td>0.0</td>\n",
       "      <td>0.0</td>\n",
       "      <td>0.0</td>\n",
       "      <td>0.0</td>\n",
       "      <td>0.0</td>\n",
       "      <td>...</td>\n",
       "      <td>0.0</td>\n",
       "      <td>0.0</td>\n",
       "      <td>0.0</td>\n",
       "      <td>0.0</td>\n",
       "      <td>0.0</td>\n",
       "      <td>0.0</td>\n",
       "      <td>0.0</td>\n",
       "      <td>0.0</td>\n",
       "      <td>0.0</td>\n",
       "      <td>0.0</td>\n",
       "    </tr>\n",
       "    <tr>\n",
       "      <th>4</th>\n",
       "      <td>0.0</td>\n",
       "      <td>0.0</td>\n",
       "      <td>0.0</td>\n",
       "      <td>0.0</td>\n",
       "      <td>0.0</td>\n",
       "      <td>0.0</td>\n",
       "      <td>0.0</td>\n",
       "      <td>0.0</td>\n",
       "      <td>0.0</td>\n",
       "      <td>0.0</td>\n",
       "      <td>...</td>\n",
       "      <td>0.0</td>\n",
       "      <td>0.0</td>\n",
       "      <td>0.0</td>\n",
       "      <td>0.0</td>\n",
       "      <td>0.0</td>\n",
       "      <td>0.0</td>\n",
       "      <td>0.0</td>\n",
       "      <td>0.0</td>\n",
       "      <td>0.0</td>\n",
       "      <td>0.0</td>\n",
       "    </tr>\n",
       "    <tr>\n",
       "      <th>...</th>\n",
       "      <td>...</td>\n",
       "      <td>...</td>\n",
       "      <td>...</td>\n",
       "      <td>...</td>\n",
       "      <td>...</td>\n",
       "      <td>...</td>\n",
       "      <td>...</td>\n",
       "      <td>...</td>\n",
       "      <td>...</td>\n",
       "      <td>...</td>\n",
       "      <td>...</td>\n",
       "      <td>...</td>\n",
       "      <td>...</td>\n",
       "      <td>...</td>\n",
       "      <td>...</td>\n",
       "      <td>...</td>\n",
       "      <td>...</td>\n",
       "      <td>...</td>\n",
       "      <td>...</td>\n",
       "      <td>...</td>\n",
       "      <td>...</td>\n",
       "    </tr>\n",
       "    <tr>\n",
       "      <th>995</th>\n",
       "      <td>0.0</td>\n",
       "      <td>0.0</td>\n",
       "      <td>0.0</td>\n",
       "      <td>0.0</td>\n",
       "      <td>0.0</td>\n",
       "      <td>0.0</td>\n",
       "      <td>0.0</td>\n",
       "      <td>0.0</td>\n",
       "      <td>0.0</td>\n",
       "      <td>0.0</td>\n",
       "      <td>...</td>\n",
       "      <td>0.0</td>\n",
       "      <td>0.0</td>\n",
       "      <td>0.0</td>\n",
       "      <td>0.0</td>\n",
       "      <td>0.0</td>\n",
       "      <td>0.0</td>\n",
       "      <td>0.0</td>\n",
       "      <td>0.0</td>\n",
       "      <td>0.0</td>\n",
       "      <td>0.0</td>\n",
       "    </tr>\n",
       "    <tr>\n",
       "      <th>996</th>\n",
       "      <td>0.0</td>\n",
       "      <td>0.0</td>\n",
       "      <td>0.0</td>\n",
       "      <td>0.0</td>\n",
       "      <td>0.0</td>\n",
       "      <td>0.0</td>\n",
       "      <td>0.0</td>\n",
       "      <td>0.0</td>\n",
       "      <td>0.0</td>\n",
       "      <td>0.0</td>\n",
       "      <td>...</td>\n",
       "      <td>0.0</td>\n",
       "      <td>0.0</td>\n",
       "      <td>0.0</td>\n",
       "      <td>0.0</td>\n",
       "      <td>0.0</td>\n",
       "      <td>0.0</td>\n",
       "      <td>0.0</td>\n",
       "      <td>0.0</td>\n",
       "      <td>0.0</td>\n",
       "      <td>0.0</td>\n",
       "    </tr>\n",
       "    <tr>\n",
       "      <th>997</th>\n",
       "      <td>0.0</td>\n",
       "      <td>0.0</td>\n",
       "      <td>0.0</td>\n",
       "      <td>0.0</td>\n",
       "      <td>0.0</td>\n",
       "      <td>0.0</td>\n",
       "      <td>0.0</td>\n",
       "      <td>0.0</td>\n",
       "      <td>0.0</td>\n",
       "      <td>0.0</td>\n",
       "      <td>...</td>\n",
       "      <td>0.0</td>\n",
       "      <td>0.0</td>\n",
       "      <td>0.0</td>\n",
       "      <td>0.0</td>\n",
       "      <td>0.0</td>\n",
       "      <td>0.0</td>\n",
       "      <td>0.0</td>\n",
       "      <td>0.0</td>\n",
       "      <td>0.0</td>\n",
       "      <td>0.0</td>\n",
       "    </tr>\n",
       "    <tr>\n",
       "      <th>998</th>\n",
       "      <td>0.0</td>\n",
       "      <td>0.0</td>\n",
       "      <td>0.0</td>\n",
       "      <td>0.0</td>\n",
       "      <td>0.0</td>\n",
       "      <td>0.0</td>\n",
       "      <td>0.0</td>\n",
       "      <td>0.0</td>\n",
       "      <td>0.0</td>\n",
       "      <td>0.0</td>\n",
       "      <td>...</td>\n",
       "      <td>0.0</td>\n",
       "      <td>0.0</td>\n",
       "      <td>0.0</td>\n",
       "      <td>0.0</td>\n",
       "      <td>0.0</td>\n",
       "      <td>0.0</td>\n",
       "      <td>0.0</td>\n",
       "      <td>0.0</td>\n",
       "      <td>0.0</td>\n",
       "      <td>0.0</td>\n",
       "    </tr>\n",
       "    <tr>\n",
       "      <th>999</th>\n",
       "      <td>0.0</td>\n",
       "      <td>0.0</td>\n",
       "      <td>0.0</td>\n",
       "      <td>0.0</td>\n",
       "      <td>0.0</td>\n",
       "      <td>0.0</td>\n",
       "      <td>0.0</td>\n",
       "      <td>0.0</td>\n",
       "      <td>0.0</td>\n",
       "      <td>0.0</td>\n",
       "      <td>...</td>\n",
       "      <td>0.0</td>\n",
       "      <td>0.0</td>\n",
       "      <td>0.0</td>\n",
       "      <td>0.0</td>\n",
       "      <td>0.0</td>\n",
       "      <td>0.0</td>\n",
       "      <td>0.0</td>\n",
       "      <td>0.0</td>\n",
       "      <td>0.0</td>\n",
       "      <td>0.0</td>\n",
       "    </tr>\n",
       "  </tbody>\n",
       "</table>\n",
       "<p>1000 rows × 1832 columns</p>\n",
       "</div>"
      ],
      "text/plain": [
       "      00    1   10  100   11   12   15   17  1979    2  ...  year  years  \\\n",
       "0    0.0  0.0  0.0  0.0  0.0  0.0  0.0  0.0   0.0  0.0  ...   0.0    0.0   \n",
       "1    0.0  0.0  0.0  0.0  0.0  0.0  0.0  0.0   0.0  0.0  ...   0.0    0.0   \n",
       "2    0.0  0.0  0.0  0.0  0.0  0.0  0.0  0.0   0.0  0.0  ...   0.0    0.0   \n",
       "3    0.0  0.0  0.0  0.0  0.0  0.0  0.0  0.0   0.0  0.0  ...   0.0    0.0   \n",
       "4    0.0  0.0  0.0  0.0  0.0  0.0  0.0  0.0   0.0  0.0  ...   0.0    0.0   \n",
       "..   ...  ...  ...  ...  ...  ...  ...  ...   ...  ...  ...   ...    ...   \n",
       "995  0.0  0.0  0.0  0.0  0.0  0.0  0.0  0.0   0.0  0.0  ...   0.0    0.0   \n",
       "996  0.0  0.0  0.0  0.0  0.0  0.0  0.0  0.0   0.0  0.0  ...   0.0    0.0   \n",
       "997  0.0  0.0  0.0  0.0  0.0  0.0  0.0  0.0   0.0  0.0  ...   0.0    0.0   \n",
       "998  0.0  0.0  0.0  0.0  0.0  0.0  0.0  0.0   0.0  0.0  ...   0.0    0.0   \n",
       "999  0.0  0.0  0.0  0.0  0.0  0.0  0.0  0.0   0.0  0.0  ...   0.0    0.0   \n",
       "\n",
       "     yellow  yellowtail  yelpers  yucky  yukon  yum  yummy  zero  \n",
       "0       0.0         0.0      0.0    0.0    0.0  0.0    0.0   0.0  \n",
       "1       0.0         0.0      0.0    0.0    0.0  0.0    0.0   0.0  \n",
       "2       0.0         0.0      0.0    0.0    0.0  0.0    0.0   0.0  \n",
       "3       0.0         0.0      0.0    0.0    0.0  0.0    0.0   0.0  \n",
       "4       0.0         0.0      0.0    0.0    0.0  0.0    0.0   0.0  \n",
       "..      ...         ...      ...    ...    ...  ...    ...   ...  \n",
       "995     0.0         0.0      0.0    0.0    0.0  0.0    0.0   0.0  \n",
       "996     0.0         0.0      0.0    0.0    0.0  0.0    0.0   0.0  \n",
       "997     0.0         0.0      0.0    0.0    0.0  0.0    0.0   0.0  \n",
       "998     0.0         0.0      0.0    0.0    0.0  0.0    0.0   0.0  \n",
       "999     0.0         0.0      0.0    0.0    0.0  0.0    0.0   0.0  \n",
       "\n",
       "[1000 rows x 1832 columns]"
      ]
     },
     "execution_count": 11,
     "metadata": {},
     "output_type": "execute_result"
    }
   ],
   "source": [
    "X"
   ]
  },
  {
   "cell_type": "markdown",
   "id": "adea8b57",
   "metadata": {
    "papermill": {
     "duration": 0.009119,
     "end_time": "2023-05-24T16:38:26.430919",
     "exception": false,
     "start_time": "2023-05-24T16:38:26.421800",
     "status": "completed"
    },
    "tags": []
   },
   "source": [
    "Here in the vectorized data frame, we can see that it has 1000 rows and the TF-IDF vectorizer has vectorized 1832 textual features.\n",
    "\n",
    "**Step 4: Splitting data into train and test**\n",
    "\n",
    "The textual data is split into train and test using the scikit-learn model selection module and importing the train_test_split library from the module."
   ]
  },
  {
   "cell_type": "code",
   "execution_count": 12,
   "id": "00ab552d",
   "metadata": {
    "execution": {
     "iopub.execute_input": "2023-05-24T16:38:26.452674Z",
     "iopub.status.busy": "2023-05-24T16:38:26.451745Z",
     "iopub.status.idle": "2023-05-24T16:38:26.517631Z",
     "shell.execute_reply": "2023-05-24T16:38:26.516174Z"
    },
    "papermill": {
     "duration": 0.079768,
     "end_time": "2023-05-24T16:38:26.520199",
     "exception": false,
     "start_time": "2023-05-24T16:38:26.440431",
     "status": "completed"
    },
    "tags": []
   },
   "outputs": [],
   "source": [
    "from sklearn.model_selection import train_test_split"
   ]
  },
  {
   "cell_type": "markdown",
   "id": "7f168fd8",
   "metadata": {
    "papermill": {
     "duration": 0.009162,
     "end_time": "2023-05-24T16:38:26.540249",
     "exception": false,
     "start_time": "2023-05-24T16:38:26.531087",
     "status": "completed"
    },
    "tags": []
   },
   "source": [
    "Let us separate the target variable from the dataset"
   ]
  },
  {
   "cell_type": "code",
   "execution_count": 13,
   "id": "aff1de82",
   "metadata": {
    "execution": {
     "iopub.execute_input": "2023-05-24T16:38:26.560445Z",
     "iopub.status.busy": "2023-05-24T16:38:26.560099Z",
     "iopub.status.idle": "2023-05-24T16:38:26.564414Z",
     "shell.execute_reply": "2023-05-24T16:38:26.563661Z"
    },
    "papermill": {
     "duration": 0.016571,
     "end_time": "2023-05-24T16:38:26.566203",
     "exception": false,
     "start_time": "2023-05-24T16:38:26.549632",
     "status": "completed"
    },
    "tags": []
   },
   "outputs": [],
   "source": [
    "y=df['reaction']"
   ]
  },
  {
   "cell_type": "markdown",
   "id": "0460b636",
   "metadata": {
    "papermill": {
     "duration": 0.008823,
     "end_time": "2023-05-24T16:38:26.584673",
     "exception": false,
     "start_time": "2023-05-24T16:38:26.575850",
     "status": "completed"
    },
    "tags": []
   },
   "source": [
    "Here let us split the data with a train: test ratio split of 70% and 30% respectively as shown below."
   ]
  },
  {
   "cell_type": "code",
   "execution_count": 14,
   "id": "30c7b822",
   "metadata": {
    "execution": {
     "iopub.execute_input": "2023-05-24T16:38:26.604837Z",
     "iopub.status.busy": "2023-05-24T16:38:26.604205Z",
     "iopub.status.idle": "2023-05-24T16:38:26.618335Z",
     "shell.execute_reply": "2023-05-24T16:38:26.617146Z"
    },
    "papermill": {
     "duration": 0.026851,
     "end_time": "2023-05-24T16:38:26.620730",
     "exception": false,
     "start_time": "2023-05-24T16:38:26.593879",
     "status": "completed"
    },
    "tags": []
   },
   "outputs": [],
   "source": [
    "#Creating training and test sets\n",
    "X_train,X_test,y_train,y_test = train_test_split(X,y,test_size=0.30,random_state=42)"
   ]
  },
  {
   "cell_type": "markdown",
   "id": "eaa40990",
   "metadata": {
    "papermill": {
     "duration": 0.008969,
     "end_time": "2023-05-24T16:38:26.639377",
     "exception": false,
     "start_time": "2023-05-24T16:38:26.630408",
     "status": "completed"
    },
    "tags": []
   },
   "source": [
    "Now as the dataset is split let us visualize the number of samples using the shape function as shown below."
   ]
  },
  {
   "cell_type": "code",
   "execution_count": 15,
   "id": "54c24309",
   "metadata": {
    "execution": {
     "iopub.execute_input": "2023-05-24T16:38:26.659357Z",
     "iopub.status.busy": "2023-05-24T16:38:26.658958Z",
     "iopub.status.idle": "2023-05-24T16:38:26.664305Z",
     "shell.execute_reply": "2023-05-24T16:38:26.663470Z"
    },
    "papermill": {
     "duration": 0.017506,
     "end_time": "2023-05-24T16:38:26.666141",
     "exception": false,
     "start_time": "2023-05-24T16:38:26.648635",
     "status": "completed"
    },
    "tags": []
   },
   "outputs": [
    {
     "name": "stdout",
     "output_type": "stream",
     "text": [
      "(700, 1832)\n",
      "(700,)\n",
      "(300, 1832)\n",
      "(300,)\n"
     ]
    }
   ],
   "source": [
    "#Shape of train-test sets\n",
    "print(X_train.shape)\n",
    "print(y_train.shape)\n",
    "print(X_test.shape)\n",
    "print(y_test.shape)"
   ]
  },
  {
   "cell_type": "markdown",
   "id": "8d4677b0",
   "metadata": {
    "papermill": {
     "duration": 0.008969,
     "end_time": "2023-05-24T16:38:26.684765",
     "exception": false,
     "start_time": "2023-05-24T16:38:26.675796",
     "status": "completed"
    },
    "tags": []
   },
   "source": [
    "In the above output, we can see that we are having 700 records for training and 300 records for testing in our data.\n",
    "\n",
    "**Step 5: Building Multinomial Naive Bayes Model** \n",
    "\n",
    "As the TF-IDF model represents the table of independent word frequencies so to tackle this behaviour a Multinomial Naive Bayes would perform well due to its assumption related to features. Let us import the Multinomial Naive Bayes library of the scikit learn module as shown below."
   ]
  },
  {
   "cell_type": "code",
   "execution_count": 16,
   "id": "9715651f",
   "metadata": {
    "execution": {
     "iopub.execute_input": "2023-05-24T16:38:26.705721Z",
     "iopub.status.busy": "2023-05-24T16:38:26.705241Z",
     "iopub.status.idle": "2023-05-24T16:38:26.714229Z",
     "shell.execute_reply": "2023-05-24T16:38:26.712811Z"
    },
    "papermill": {
     "duration": 0.022557,
     "end_time": "2023-05-24T16:38:26.716630",
     "exception": false,
     "start_time": "2023-05-24T16:38:26.694073",
     "status": "completed"
    },
    "tags": []
   },
   "outputs": [],
   "source": [
    "from sklearn.naive_bayes import MultinomialNB"
   ]
  },
  {
   "cell_type": "markdown",
   "id": "af41a459",
   "metadata": {
    "papermill": {
     "duration": 0.008952,
     "end_time": "2023-05-24T16:38:26.734936",
     "exception": false,
     "start_time": "2023-05-24T16:38:26.725984",
     "status": "completed"
    },
    "tags": []
   },
   "source": [
    "Let us use the imported Multinomial Naive Bayes and build a model instance and fit it with the split data."
   ]
  },
  {
   "cell_type": "code",
   "execution_count": 17,
   "id": "bb556127",
   "metadata": {
    "execution": {
     "iopub.execute_input": "2023-05-24T16:38:26.755390Z",
     "iopub.status.busy": "2023-05-24T16:38:26.754999Z",
     "iopub.status.idle": "2023-05-24T16:38:26.781925Z",
     "shell.execute_reply": "2023-05-24T16:38:26.781041Z"
    },
    "papermill": {
     "duration": 0.040775,
     "end_time": "2023-05-24T16:38:26.784975",
     "exception": false,
     "start_time": "2023-05-24T16:38:26.744200",
     "status": "completed"
    },
    "tags": []
   },
   "outputs": [],
   "source": [
    "mnb_mod=MultinomialNB()\n",
    "mnb_model=mnb_mod.fit(X_train,y_train)"
   ]
  },
  {
   "cell_type": "markdown",
   "id": "35612e64",
   "metadata": {
    "papermill": {
     "duration": 0.011418,
     "end_time": "2023-05-24T16:38:26.808332",
     "exception": false,
     "start_time": "2023-05-24T16:38:26.796914",
     "status": "completed"
    },
    "tags": []
   },
   "source": [
    "Using the fitted model let us obtain the predictions on the test data as shown below."
   ]
  },
  {
   "cell_type": "code",
   "execution_count": 18,
   "id": "9bbceca5",
   "metadata": {
    "execution": {
     "iopub.execute_input": "2023-05-24T16:38:26.834762Z",
     "iopub.status.busy": "2023-05-24T16:38:26.833679Z",
     "iopub.status.idle": "2023-05-24T16:38:26.859486Z",
     "shell.execute_reply": "2023-05-24T16:38:26.858601Z"
    },
    "papermill": {
     "duration": 0.041646,
     "end_time": "2023-05-24T16:38:26.862067",
     "exception": false,
     "start_time": "2023-05-24T16:38:26.820421",
     "status": "completed"
    },
    "tags": []
   },
   "outputs": [],
   "source": [
    "mnb_pred=mnb_model.predict(X_test)"
   ]
  },
  {
   "cell_type": "markdown",
   "id": "cd6a91ea",
   "metadata": {
    "papermill": {
     "duration": 0.011275,
     "end_time": "2023-05-24T16:38:26.886173",
     "exception": false,
     "start_time": "2023-05-24T16:38:26.874898",
     "status": "completed"
    },
    "tags": []
   },
   "source": [
    "As we have obtained the prediction of the MultiNomial Naive Bayes let us evaluate the model performance through various metrics like accuracy score and classification report\n",
    "\n",
    "Let us import the required libraries from the scikit learn model first."
   ]
  },
  {
   "cell_type": "code",
   "execution_count": 19,
   "id": "6486ee07",
   "metadata": {
    "execution": {
     "iopub.execute_input": "2023-05-24T16:38:26.911734Z",
     "iopub.status.busy": "2023-05-24T16:38:26.910968Z",
     "iopub.status.idle": "2023-05-24T16:38:26.915901Z",
     "shell.execute_reply": "2023-05-24T16:38:26.914988Z"
    },
    "papermill": {
     "duration": 0.020849,
     "end_time": "2023-05-24T16:38:26.918801",
     "exception": false,
     "start_time": "2023-05-24T16:38:26.897952",
     "status": "completed"
    },
    "tags": []
   },
   "outputs": [],
   "source": [
    "from sklearn.metrics import accuracy_score,classification_report,plot_confusion_matrix"
   ]
  },
  {
   "cell_type": "markdown",
   "id": "a4d3dafd",
   "metadata": {
    "papermill": {
     "duration": 0.011744,
     "end_time": "2023-05-24T16:38:26.942601",
     "exception": false,
     "start_time": "2023-05-24T16:38:26.930857",
     "status": "completed"
    },
    "tags": []
   },
   "source": [
    "Let us print the accuracy score of the Multinomial Naive Bayes model as shown below."
   ]
  },
  {
   "cell_type": "code",
   "execution_count": 20,
   "id": "f2d488ea",
   "metadata": {
    "execution": {
     "iopub.execute_input": "2023-05-24T16:38:26.968759Z",
     "iopub.status.busy": "2023-05-24T16:38:26.967785Z",
     "iopub.status.idle": "2023-05-24T16:38:26.974114Z",
     "shell.execute_reply": "2023-05-24T16:38:26.973384Z"
    },
    "papermill": {
     "duration": 0.023618,
     "end_time": "2023-05-24T16:38:26.978288",
     "exception": false,
     "start_time": "2023-05-24T16:38:26.954670",
     "status": "completed"
    },
    "tags": []
   },
   "outputs": [
    {
     "name": "stdout",
     "output_type": "stream",
     "text": [
      "Accuracy Score of Multinomial Naive Bayes model : 0.7266666666666667\n"
     ]
    }
   ],
   "source": [
    "print('Accuracy Score of Multinomial Naive Bayes model : {}'.format(accuracy_score(y_test,mnb_pred)))"
   ]
  },
  {
   "cell_type": "markdown",
   "id": "34ae1fdc",
   "metadata": {
    "papermill": {
     "duration": 0.00881,
     "end_time": "2023-05-24T16:38:26.996547",
     "exception": false,
     "start_time": "2023-05-24T16:38:26.987737",
     "status": "completed"
    },
    "tags": []
   },
   "source": [
    "We have obtained an accuracy score of 72.667% from the Multinomial Naive Bayes model developed.\n",
    "\n",
    "Let us obtain a classification report for the same to evaluate various other factors as shown below."
   ]
  },
  {
   "cell_type": "code",
   "execution_count": 21,
   "id": "9c3a6d2b",
   "metadata": {
    "execution": {
     "iopub.execute_input": "2023-05-24T16:38:27.017465Z",
     "iopub.status.busy": "2023-05-24T16:38:27.017092Z",
     "iopub.status.idle": "2023-05-24T16:38:27.033977Z",
     "shell.execute_reply": "2023-05-24T16:38:27.032243Z"
    },
    "papermill": {
     "duration": 0.030462,
     "end_time": "2023-05-24T16:38:27.036312",
     "exception": false,
     "start_time": "2023-05-24T16:38:27.005850",
     "status": "completed"
    },
    "tags": []
   },
   "outputs": [
    {
     "name": "stdout",
     "output_type": "stream",
     "text": [
      "Classification Report of Multinomial Naive Bayes model : \n",
      "                precision    recall  f1-score   support\n",
      "\n",
      "    negative       0.78      0.64      0.71       152\n",
      "    positive       0.69      0.81      0.75       148\n",
      "\n",
      "    accuracy                           0.73       300\n",
      "   macro avg       0.73      0.73      0.73       300\n",
      "weighted avg       0.73      0.73      0.72       300\n",
      "\n"
     ]
    }
   ],
   "source": [
    "print('Classification Report of Multinomial Naive Bayes model : \\n ',classification_report(y_test,mnb_pred))"
   ]
  },
  {
   "cell_type": "markdown",
   "id": "e9c38cfd",
   "metadata": {
    "papermill": {
     "duration": 0.008905,
     "end_time": "2023-05-24T16:38:27.054870",
     "exception": false,
     "start_time": "2023-05-24T16:38:27.045965",
     "status": "completed"
    },
    "tags": []
   },
   "source": [
    "Here in the classification report, we can evaluate various factors like precision, recall, and f1-score for each of the classes of the dataset respectively.\n",
    "\n",
    "Let us plot a confusion matrix to evaluate the various parameters like True Positives, True Negatives with False Positives, and negatives."
   ]
  },
  {
   "cell_type": "code",
   "execution_count": 22,
   "id": "251da007",
   "metadata": {
    "execution": {
     "iopub.execute_input": "2023-05-24T16:38:27.075540Z",
     "iopub.status.busy": "2023-05-24T16:38:27.074928Z",
     "iopub.status.idle": "2023-05-24T16:38:27.290238Z",
     "shell.execute_reply": "2023-05-24T16:38:27.289362Z"
    },
    "papermill": {
     "duration": 0.228374,
     "end_time": "2023-05-24T16:38:27.292538",
     "exception": false,
     "start_time": "2023-05-24T16:38:27.064164",
     "status": "completed"
    },
    "tags": []
   },
   "outputs": [
    {
     "name": "stderr",
     "output_type": "stream",
     "text": [
      "/opt/conda/lib/python3.7/site-packages/sklearn/utils/deprecation.py:87: FutureWarning: Function plot_confusion_matrix is deprecated; Function `plot_confusion_matrix` is deprecated in 1.0 and will be removed in 1.2. Use one of the class methods: ConfusionMatrixDisplay.from_predictions or ConfusionMatrixDisplay.from_estimator.\n",
      "  warnings.warn(msg, category=FutureWarning)\n"
     ]
    },
    {
     "data": {
      "text/plain": [
       "<sklearn.metrics._plot.confusion_matrix.ConfusionMatrixDisplay at 0x7d2d6aef90d0>"
      ]
     },
     "execution_count": 22,
     "metadata": {},
     "output_type": "execute_result"
    },
    {
     "data": {
      "image/png": "[encoded data removed]",
      "text/plain": [
       "<Figure size 432x288 with 2 Axes>"
      ]
     },
     "metadata": {
      "needs_background": "light"
     },
     "output_type": "display_data"
    }
   ],
   "source": [
    "plot_confusion_matrix(mnb_model,X_test,y_test)\n",
    "#plt.show()"
   ]
  },
  {
   "cell_type": "markdown",
   "id": "cd583ad6",
   "metadata": {
    "papermill": {
     "duration": 0.00956,
     "end_time": "2023-05-24T16:38:27.312265",
     "exception": false,
     "start_time": "2023-05-24T16:38:27.302705",
     "status": "completed"
    },
    "tags": []
   },
   "source": [
    "Here in the confusion matrix, we can see that the various values of true positives and true negatives and suitable interpretations can be made accordingly.\n",
    "\n",
    "**Step 6: Obtaining predictions from the MNB model**\n",
    "\n",
    "Let us create a user-defined function to obtain predictions from the multinomial naive Bayes model as shown below"
   ]
  },
  {
   "cell_type": "code",
   "execution_count": 23,
   "id": "4b4873a6",
   "metadata": {
    "execution": {
     "iopub.execute_input": "2023-05-24T16:38:27.333733Z",
     "iopub.status.busy": "2023-05-24T16:38:27.333190Z",
     "iopub.status.idle": "2023-05-24T16:38:27.336866Z",
     "shell.execute_reply": "2023-05-24T16:38:27.335766Z"
    },
    "papermill": {
     "duration": 0.016572,
     "end_time": "2023-05-24T16:38:27.338777",
     "exception": false,
     "start_time": "2023-05-24T16:38:27.322205",
     "status": "completed"
    },
    "tags": []
   },
   "outputs": [],
   "source": [
    "# def pred():\n",
    "#   text_sent=input()\n",
    "#   trans=tf_idf.transform([text_sent])\n",
    "#   pred=mnb_model.predict(trans)\n",
    "#   return pred\n",
    "# print('Prediction',pred())"
   ]
  },
  {
   "cell_type": "code",
   "execution_count": null,
   "id": "4ff33c9b",
   "metadata": {
    "papermill": {
     "duration": 0.009448,
     "end_time": "2023-05-24T16:38:27.358049",
     "exception": false,
     "start_time": "2023-05-24T16:38:27.348601",
     "status": "completed"
    },
    "tags": []
   },
   "outputs": [],
   "source": []
  }
 ],
 "metadata": {
  "kernelspec": {
   "display_name": "Python 3",
   "language": "python",
   "name": "python3"
  },
  "language_info": {
   "codemirror_mode": {
    "name": "ipython",
    "version": 3
   },
   "file_extension": ".py",
   "mimetype": "text/x-python",
   "name": "python",
   "nbconvert_exporter": "python",
   "pygments_lexer": "ipython3",
   "version": "3.7.12"
  },
  "papermill": {
   "default_parameters": {},
   "duration": 12.705417,
   "end_time": "2023-05-24T16:38:28.088227",
   "environment_variables": {},
   "exception": null,
   "input_path": "__notebook__.ipynb",
   "output_path": "__notebook__.ipynb",
   "parameters": {},
   "start_time": "2023-05-24T16:38:15.382810",
   "version": "2.3.4"
  }
 },
 "nbformat": 4,
 "nbformat_minor": 5
}
