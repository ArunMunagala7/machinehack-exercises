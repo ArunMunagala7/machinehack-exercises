{
 "cells": [
  {
   "cell_type": "code",
   "execution_count": 1,
   "id": "73ef7025",
   "metadata": {
    "_cell_guid": "b1076dfc-b9ad-4769-8c92-a6c4dae69d19",
    "_uuid": "8f2839f25d086af736a60e9eeb907d3b93b6e0e5",
    "execution": {
     "iopub.execute_input": "2023-02-07T13:11:38.169138Z",
     "iopub.status.busy": "2023-02-07T13:11:38.168013Z",
     "iopub.status.idle": "2023-02-07T13:11:38.182943Z",
     "shell.execute_reply": "2023-02-07T13:11:38.181480Z"
    },
    "papermill": {
     "duration": 0.033874,
     "end_time": "2023-02-07T13:11:38.186063",
     "exception": false,
     "start_time": "2023-02-07T13:11:38.152189",
     "status": "completed"
    },
    "tags": []
   },
   "outputs": [],
   "source": [
    "# This Python 3 environment comes with many helpful analytics libraries installed\n",
    "# It is defined by the kaggle/python Docker image: https://github.com/kaggle/docker-python\n",
    "# For example, here's several helpful packages to load\n",
    "\n",
    "import numpy as np # linear algebra\n",
    "import pandas as pd # data processing, CSV file I/O (e.g. pd.read_csv)\n",
    "\n",
    "# Input data files are available in the read-only \"../input/\" directory\n",
    "# For example, running this (by clicking run or pressing Shift+Enter) will list all files under the input directory\n",
    "\n",
    "import os\n",
    "for dirname, _, filenames in os.walk('/kaggle/input'):\n",
    "    for filename in filenames:\n",
    "        print(os.path.join(dirname, filename))\n",
    "\n",
    "# You can write up to 20GB to the current directory (/kaggle/working/) that gets preserved as output when you create a version using \"Save & Run All\" \n",
    "# You can also write temporary files to /kaggle/temp/, but they won't be saved outside of the current session"
   ]
  },
  {
   "cell_type": "markdown",
   "id": "8025e3f3",
   "metadata": {
    "papermill": {
     "duration": 0.01015,
     "end_time": "2023-02-07T13:11:38.207286",
     "exception": false,
     "start_time": "2023-02-07T13:11:38.197136",
     "status": "completed"
    },
    "tags": []
   },
   "source": [
    "Let us see how to build a machine learning model from scratch and classify the text data\n",
    "\n",
    "**Step 1: Loading and reading the data**\n",
    "\n",
    "Here we will use the panda's library to load the CSV file into the working environment and visualize the top 5 entries of the data frame using the head() function."
   ]
  },
  {
   "cell_type": "code",
   "execution_count": 2,
   "id": "41427bb3",
   "metadata": {
    "execution": {
     "iopub.execute_input": "2023-02-07T13:11:38.227876Z",
     "iopub.status.busy": "2023-02-07T13:11:38.227415Z",
     "iopub.status.idle": "2023-02-07T13:11:38.898040Z",
     "shell.execute_reply": "2023-02-07T13:11:38.897062Z"
    },
    "papermill": {
     "duration": 0.683976,
     "end_time": "2023-02-07T13:11:38.900554",
     "exception": false,
     "start_time": "2023-02-07T13:11:38.216578",
     "status": "completed"
    },
    "tags": []
   },
   "outputs": [],
   "source": [
    "df=pd.read_csv('https://raw.githubusercontent.com/analyticsindiamagazine/MocksDatasets/main/NLP-movie-review.csv')"
   ]
  },
  {
   "cell_type": "markdown",
   "id": "fac55a64",
   "metadata": {
    "papermill": {
     "duration": 0.009236,
     "end_time": "2023-02-07T13:11:38.919457",
     "exception": false,
     "start_time": "2023-02-07T13:11:38.910221",
     "status": "completed"
    },
    "tags": []
   },
   "source": [
    "viewing dataset"
   ]
  },
  {
   "cell_type": "code",
   "execution_count": 3,
   "id": "7ab68451",
   "metadata": {
    "execution": {
     "iopub.execute_input": "2023-02-07T13:11:38.941152Z",
     "iopub.status.busy": "2023-02-07T13:11:38.940281Z",
     "iopub.status.idle": "2023-02-07T13:11:38.959927Z",
     "shell.execute_reply": "2023-02-07T13:11:38.958735Z"
    },
    "papermill": {
     "duration": 0.03269,
     "end_time": "2023-02-07T13:11:38.962518",
     "exception": false,
     "start_time": "2023-02-07T13:11:38.929828",
     "status": "completed"
    },
    "tags": []
   },
   "outputs": [
    {
     "data": {
      "text/html": [
       "<div>\n",
       "<style scoped>\n",
       "    .dataframe tbody tr th:only-of-type {\n",
       "        vertical-align: middle;\n",
       "    }\n",
       "\n",
       "    .dataframe tbody tr th {\n",
       "        vertical-align: top;\n",
       "    }\n",
       "\n",
       "    .dataframe thead th {\n",
       "        text-align: right;\n",
       "    }\n",
       "</style>\n",
       "<table border=\"1\" class=\"dataframe\">\n",
       "  <thead>\n",
       "    <tr style=\"text-align: right;\">\n",
       "      <th></th>\n",
       "      <th>review</th>\n",
       "      <th>reaction</th>\n",
       "    </tr>\n",
       "  </thead>\n",
       "  <tbody>\n",
       "    <tr>\n",
       "      <th>0</th>\n",
       "      <td>Service is friendly and inviting.</td>\n",
       "      <td>1</td>\n",
       "    </tr>\n",
       "    <tr>\n",
       "      <th>1</th>\n",
       "      <td>Awesome service and food.</td>\n",
       "      <td>1</td>\n",
       "    </tr>\n",
       "    <tr>\n",
       "      <th>2</th>\n",
       "      <td>Waitress was a little slow in service.</td>\n",
       "      <td>0</td>\n",
       "    </tr>\n",
       "    <tr>\n",
       "      <th>3</th>\n",
       "      <td>Come hungry, leave happy and stuffed!</td>\n",
       "      <td>1</td>\n",
       "    </tr>\n",
       "    <tr>\n",
       "      <th>4</th>\n",
       "      <td>Horrible - don't waste your time and money.</td>\n",
       "      <td>0</td>\n",
       "    </tr>\n",
       "  </tbody>\n",
       "</table>\n",
       "</div>"
      ],
      "text/plain": [
       "                                        review  reaction\n",
       "0            Service is friendly and inviting.         1\n",
       "1                    Awesome service and food.         1\n",
       "2       Waitress was a little slow in service.         0\n",
       "3        Come hungry, leave happy and stuffed!         1\n",
       "4  Horrible - don't waste your time and money.         0"
      ]
     },
     "execution_count": 3,
     "metadata": {},
     "output_type": "execute_result"
    }
   ],
   "source": [
    "df.head()"
   ]
  },
  {
   "cell_type": "markdown",
   "id": "de803857",
   "metadata": {
    "papermill": {
     "duration": 0.009064,
     "end_time": "2023-02-07T13:11:38.981137",
     "exception": false,
     "start_time": "2023-02-07T13:11:38.972073",
     "status": "completed"
    },
    "tags": []
   },
   "source": [
    "Here the data frame can be observed and we can see that there are two columns in the dataset with column names review and reaction."
   ]
  },
  {
   "cell_type": "code",
   "execution_count": 4,
   "id": "66b487bd",
   "metadata": {
    "execution": {
     "iopub.execute_input": "2023-02-07T13:11:39.003445Z",
     "iopub.status.busy": "2023-02-07T13:11:39.003008Z",
     "iopub.status.idle": "2023-02-07T13:11:39.009043Z",
     "shell.execute_reply": "2023-02-07T13:11:39.007728Z"
    },
    "papermill": {
     "duration": 0.021308,
     "end_time": "2023-02-07T13:11:39.012456",
     "exception": false,
     "start_time": "2023-02-07T13:11:38.991148",
     "status": "completed"
    },
    "tags": []
   },
   "outputs": [
    {
     "name": "stdout",
     "output_type": "stream",
     "text": [
      "There are 1000 rows and 2 columns in the dataset\n"
     ]
    }
   ],
   "source": [
    "print('There are {} rows and {} columns in the dataset'.format(df.shape[0],df.shape[1]))"
   ]
  },
  {
   "cell_type": "markdown",
   "id": "b4427f6b",
   "metadata": {
    "papermill": {
     "duration": 0.008999,
     "end_time": "2023-02-07T13:11:39.032205",
     "exception": false,
     "start_time": "2023-02-07T13:11:39.023206",
     "status": "completed"
    },
    "tags": []
   },
   "source": [
    "Here in this output, we can see that we are having 1000 rows and 2 columns in the dataset. Now let’s further check the, missing values for that we can use the isnull() function to check for missing values in the dataset"
   ]
  },
  {
   "cell_type": "code",
   "execution_count": 5,
   "id": "d886bcd9",
   "metadata": {
    "execution": {
     "iopub.execute_input": "2023-02-07T13:11:39.053721Z",
     "iopub.status.busy": "2023-02-07T13:11:39.053284Z",
     "iopub.status.idle": "2023-02-07T13:11:39.065065Z",
     "shell.execute_reply": "2023-02-07T13:11:39.063842Z"
    },
    "papermill": {
     "duration": 0.025943,
     "end_time": "2023-02-07T13:11:39.067437",
     "exception": false,
     "start_time": "2023-02-07T13:11:39.041494",
     "status": "completed"
    },
    "tags": []
   },
   "outputs": [
    {
     "data": {
      "text/plain": [
       "review      0\n",
       "reaction    0\n",
       "dtype: int64"
      ]
     },
     "execution_count": 5,
     "metadata": {},
     "output_type": "execute_result"
    }
   ],
   "source": [
    "df.isnull().sum()"
   ]
  },
  {
   "cell_type": "markdown",
   "id": "fd9f3aa6",
   "metadata": {
    "papermill": {
     "duration": 0.009541,
     "end_time": "2023-02-07T13:11:39.087053",
     "exception": false,
     "start_time": "2023-02-07T13:11:39.077512",
     "status": "completed"
    },
    "tags": []
   },
   "source": [
    "Here we can see that the dataset is not having any missing values.\n",
    "\n",
    "**Step 2: Data Manipulation**\n",
    "\n",
    "In the target variable of the dataset, we are having values of 1 and 0. So let us manipulate the value of 1 to positive and 0 to negative."
   ]
  },
  {
   "cell_type": "code",
   "execution_count": 6,
   "id": "11c2689b",
   "metadata": {
    "execution": {
     "iopub.execute_input": "2023-02-07T13:11:39.109487Z",
     "iopub.status.busy": "2023-02-07T13:11:39.108275Z",
     "iopub.status.idle": "2023-02-07T13:11:39.119488Z",
     "shell.execute_reply": "2023-02-07T13:11:39.118603Z"
    },
    "papermill": {
     "duration": 0.024757,
     "end_time": "2023-02-07T13:11:39.121988",
     "exception": false,
     "start_time": "2023-02-07T13:11:39.097231",
     "status": "completed"
    },
    "tags": []
   },
   "outputs": [],
   "source": [
    "df['reaction'].replace(to_replace=1,value='positive',inplace=True)\n",
    "df['reaction'].replace(to_replace=0,value='negative',inplace=True)"
   ]
  },
  {
   "cell_type": "markdown",
   "id": "b1bb5964",
   "metadata": {
    "papermill": {
     "duration": 0.009116,
     "end_time": "2023-02-07T13:11:39.141180",
     "exception": false,
     "start_time": "2023-02-07T13:11:39.132064",
     "status": "completed"
    },
    "tags": []
   },
   "source": [
    "In the replace function we have to mention the value to be replaced with the required value and we have to mention it placed as True to make permanent changes in the data. So with the changes made let us visualize the top entries of the dataset."
   ]
  },
  {
   "cell_type": "code",
   "execution_count": 7,
   "id": "14aad7c4",
   "metadata": {
    "execution": {
     "iopub.execute_input": "2023-02-07T13:11:39.162993Z",
     "iopub.status.busy": "2023-02-07T13:11:39.162559Z",
     "iopub.status.idle": "2023-02-07T13:11:39.173681Z",
     "shell.execute_reply": "2023-02-07T13:11:39.172491Z"
    },
    "papermill": {
     "duration": 0.025528,
     "end_time": "2023-02-07T13:11:39.176135",
     "exception": false,
     "start_time": "2023-02-07T13:11:39.150607",
     "status": "completed"
    },
    "tags": []
   },
   "outputs": [
    {
     "data": {
      "text/html": [
       "<div>\n",
       "<style scoped>\n",
       "    .dataframe tbody tr th:only-of-type {\n",
       "        vertical-align: middle;\n",
       "    }\n",
       "\n",
       "    .dataframe tbody tr th {\n",
       "        vertical-align: top;\n",
       "    }\n",
       "\n",
       "    .dataframe thead th {\n",
       "        text-align: right;\n",
       "    }\n",
       "</style>\n",
       "<table border=\"1\" class=\"dataframe\">\n",
       "  <thead>\n",
       "    <tr style=\"text-align: right;\">\n",
       "      <th></th>\n",
       "      <th>review</th>\n",
       "      <th>reaction</th>\n",
       "    </tr>\n",
       "  </thead>\n",
       "  <tbody>\n",
       "    <tr>\n",
       "      <th>0</th>\n",
       "      <td>Service is friendly and inviting.</td>\n",
       "      <td>positive</td>\n",
       "    </tr>\n",
       "    <tr>\n",
       "      <th>1</th>\n",
       "      <td>Awesome service and food.</td>\n",
       "      <td>positive</td>\n",
       "    </tr>\n",
       "    <tr>\n",
       "      <th>2</th>\n",
       "      <td>Waitress was a little slow in service.</td>\n",
       "      <td>negative</td>\n",
       "    </tr>\n",
       "    <tr>\n",
       "      <th>3</th>\n",
       "      <td>Come hungry, leave happy and stuffed!</td>\n",
       "      <td>positive</td>\n",
       "    </tr>\n",
       "    <tr>\n",
       "      <th>4</th>\n",
       "      <td>Horrible - don't waste your time and money.</td>\n",
       "      <td>negative</td>\n",
       "    </tr>\n",
       "  </tbody>\n",
       "</table>\n",
       "</div>"
      ],
      "text/plain": [
       "                                        review  reaction\n",
       "0            Service is friendly and inviting.  positive\n",
       "1                    Awesome service and food.  positive\n",
       "2       Waitress was a little slow in service.  negative\n",
       "3        Come hungry, leave happy and stuffed!  positive\n",
       "4  Horrible - don't waste your time and money.  negative"
      ]
     },
     "execution_count": 7,
     "metadata": {},
     "output_type": "execute_result"
    }
   ],
   "source": [
    "df.head()"
   ]
  },
  {
   "cell_type": "markdown",
   "id": "6cd51cbc",
   "metadata": {
    "papermill": {
     "duration": 0.009223,
     "end_time": "2023-02-07T13:11:39.195079",
     "exception": false,
     "start_time": "2023-02-07T13:11:39.185856",
     "status": "completed"
    },
    "tags": []
   },
   "source": [
    "In the above output, we can see that the value of 1 is replaced with positive and the value of 0 is replaced with negative.\n",
    "\n",
    "**Step 3: Vectorizing the data**\n",
    "\n",
    "Converting textual data into numerical features is termed vectorization, similar to performing encoding in machine learning. "
   ]
  },
  {
   "cell_type": "code",
   "execution_count": 8,
   "id": "31453957",
   "metadata": {
    "execution": {
     "iopub.execute_input": "2023-02-07T13:11:39.216048Z",
     "iopub.status.busy": "2023-02-07T13:11:39.215586Z",
     "iopub.status.idle": "2023-02-07T13:11:40.229145Z",
     "shell.execute_reply": "2023-02-07T13:11:40.227855Z"
    },
    "papermill": {
     "duration": 1.027159,
     "end_time": "2023-02-07T13:11:40.231899",
     "exception": false,
     "start_time": "2023-02-07T13:11:39.204740",
     "status": "completed"
    },
    "tags": []
   },
   "outputs": [],
   "source": [
    "from sklearn.feature_extraction.text import TfidfVectorizer\n",
    "tf_idf = TfidfVectorizer(lowercase=True,stop_words='english',token_pattern='\\w+')\n",
    "X = tf_idf.fit_transform(df['review'].values)"
   ]
  },
  {
   "cell_type": "markdown",
   "id": "de7fe41f",
   "metadata": {
    "papermill": {
     "duration": 0.009679,
     "end_time": "2023-02-07T13:11:40.251395",
     "exception": false,
     "start_time": "2023-02-07T13:11:40.241716",
     "status": "completed"
    },
    "tags": []
   },
   "source": [
    "Here the Term Frequency -Inverse Document Frequency library of the sklearn module is used to vectorize the textual data where all the text preprocessing steps are fed into the TF-IDF vectorizer instance by stating lower case conversion as True, mentioning stop words as English and the tokenization pattern as \\w+ is used to match all the characters in the dataset ranging from (a-z) and (A-Z).\n",
    "\n",
    "For easy interpretation let us convert the vectorized data frame into a pandas dataframe as shown below and compute the vocabulary length which is the number of rows in the vectorized dataframe."
   ]
  },
  {
   "cell_type": "code",
   "execution_count": 9,
   "id": "8dc48a28",
   "metadata": {
    "execution": {
     "iopub.execute_input": "2023-02-07T13:11:40.275333Z",
     "iopub.status.busy": "2023-02-07T13:11:40.274903Z",
     "iopub.status.idle": "2023-02-07T13:11:40.300980Z",
     "shell.execute_reply": "2023-02-07T13:11:40.299581Z"
    },
    "papermill": {
     "duration": 0.041336,
     "end_time": "2023-02-07T13:11:40.304121",
     "exception": false,
     "start_time": "2023-02-07T13:11:40.262785",
     "status": "completed"
    },
    "tags": []
   },
   "outputs": [
    {
     "name": "stdout",
     "output_type": "stream",
     "text": [
      "Vocabulary length of count-vectorized data 1000\n"
     ]
    },
    {
     "name": "stderr",
     "output_type": "stream",
     "text": [
      "/opt/conda/lib/python3.7/site-packages/sklearn/utils/deprecation.py:87: FutureWarning: Function get_feature_names is deprecated; get_feature_names is deprecated in 1.0 and will be removed in 1.2. Please use get_feature_names_out instead.\n",
      "  warnings.warn(msg, category=FutureWarning)\n"
     ]
    }
   ],
   "source": [
    "X = pd.DataFrame(X.todense(),columns=tf_idf.get_feature_names())\n",
    "print('Vocabulary length of count-vectorized data',len(X))"
   ]
  },
  {
   "cell_type": "markdown",
   "id": "b8a6b8e8",
   "metadata": {
    "papermill": {
     "duration": 0.010554,
     "end_time": "2023-02-07T13:11:40.324804",
     "exception": false,
     "start_time": "2023-02-07T13:11:40.314250",
     "status": "completed"
    },
    "tags": []
   },
   "source": [
    "looking at the final dataset"
   ]
  },
  {
   "cell_type": "code",
   "execution_count": 10,
   "id": "84866225",
   "metadata": {
    "execution": {
     "iopub.execute_input": "2023-02-07T13:11:40.346480Z",
     "iopub.status.busy": "2023-02-07T13:11:40.346000Z",
     "iopub.status.idle": "2023-02-07T13:11:40.353676Z",
     "shell.execute_reply": "2023-02-07T13:11:40.352413Z"
    },
    "papermill": {
     "duration": 0.02139,
     "end_time": "2023-02-07T13:11:40.356311",
     "exception": false,
     "start_time": "2023-02-07T13:11:40.334921",
     "status": "completed"
    },
    "tags": []
   },
   "outputs": [
    {
     "data": {
      "text/plain": [
       "(1000, 1832)"
      ]
     },
     "execution_count": 10,
     "metadata": {},
     "output_type": "execute_result"
    }
   ],
   "source": [
    "X.shape"
   ]
  },
  {
   "cell_type": "code",
   "execution_count": 11,
   "id": "e1f6d89a",
   "metadata": {
    "execution": {
     "iopub.execute_input": "2023-02-07T13:11:40.378390Z",
     "iopub.status.busy": "2023-02-07T13:11:40.377949Z",
     "iopub.status.idle": "2023-02-07T13:11:40.421511Z",
     "shell.execute_reply": "2023-02-07T13:11:40.420338Z"
    },
    "papermill": {
     "duration": 0.057818,
     "end_time": "2023-02-07T13:11:40.424240",
     "exception": false,
     "start_time": "2023-02-07T13:11:40.366422",
     "status": "completed"
    },
    "tags": []
   },
   "outputs": [
    {
     "data": {
      "text/html": [
       "<div>\n",
       "<style scoped>\n",
       "    .dataframe tbody tr th:only-of-type {\n",
       "        vertical-align: middle;\n",
       "    }\n",
       "\n",
       "    .dataframe tbody tr th {\n",
       "        vertical-align: top;\n",
       "    }\n",
       "\n",
       "    .dataframe thead th {\n",
       "        text-align: right;\n",
       "    }\n",
       "</style>\n",
       "<table border=\"1\" class=\"dataframe\">\n",
       "  <thead>\n",
       "    <tr style=\"text-align: right;\">\n",
       "      <th></th>\n",
       "      <th>00</th>\n",
       "      <th>1</th>\n",
       "      <th>10</th>\n",
       "      <th>100</th>\n",
       "      <th>11</th>\n",
       "      <th>12</th>\n",
       "      <th>15</th>\n",
       "      <th>17</th>\n",
       "      <th>1979</th>\n",
       "      <th>2</th>\n",
       "      <th>...</th>\n",
       "      <th>year</th>\n",
       "      <th>years</th>\n",
       "      <th>yellow</th>\n",
       "      <th>yellowtail</th>\n",
       "      <th>yelpers</th>\n",
       "      <th>yucky</th>\n",
       "      <th>yukon</th>\n",
       "      <th>yum</th>\n",
       "      <th>yummy</th>\n",
       "      <th>zero</th>\n",
       "    </tr>\n",
       "  </thead>\n",
       "  <tbody>\n",
       "    <tr>\n",
       "      <th>0</th>\n",
       "      <td>0.0</td>\n",
       "      <td>0.0</td>\n",
       "      <td>0.0</td>\n",
       "      <td>0.0</td>\n",
       "      <td>0.0</td>\n",
       "      <td>0.0</td>\n",
       "      <td>0.0</td>\n",
       "      <td>0.0</td>\n",
       "      <td>0.0</td>\n",
       "      <td>0.0</td>\n",
       "      <td>...</td>\n",
       "      <td>0.0</td>\n",
       "      <td>0.0</td>\n",
       "      <td>0.0</td>\n",
       "      <td>0.0</td>\n",
       "      <td>0.0</td>\n",
       "      <td>0.0</td>\n",
       "      <td>0.0</td>\n",
       "      <td>0.0</td>\n",
       "      <td>0.0</td>\n",
       "      <td>0.0</td>\n",
       "    </tr>\n",
       "    <tr>\n",
       "      <th>1</th>\n",
       "      <td>0.0</td>\n",
       "      <td>0.0</td>\n",
       "      <td>0.0</td>\n",
       "      <td>0.0</td>\n",
       "      <td>0.0</td>\n",
       "      <td>0.0</td>\n",
       "      <td>0.0</td>\n",
       "      <td>0.0</td>\n",
       "      <td>0.0</td>\n",
       "      <td>0.0</td>\n",
       "      <td>...</td>\n",
       "      <td>0.0</td>\n",
       "      <td>0.0</td>\n",
       "      <td>0.0</td>\n",
       "      <td>0.0</td>\n",
       "      <td>0.0</td>\n",
       "      <td>0.0</td>\n",
       "      <td>0.0</td>\n",
       "      <td>0.0</td>\n",
       "      <td>0.0</td>\n",
       "      <td>0.0</td>\n",
       "    </tr>\n",
       "    <tr>\n",
       "      <th>2</th>\n",
       "      <td>0.0</td>\n",
       "      <td>0.0</td>\n",
       "      <td>0.0</td>\n",
       "      <td>0.0</td>\n",
       "      <td>0.0</td>\n",
       "      <td>0.0</td>\n",
       "      <td>0.0</td>\n",
       "      <td>0.0</td>\n",
       "      <td>0.0</td>\n",
       "      <td>0.0</td>\n",
       "      <td>...</td>\n",
       "      <td>0.0</td>\n",
       "      <td>0.0</td>\n",
       "      <td>0.0</td>\n",
       "      <td>0.0</td>\n",
       "      <td>0.0</td>\n",
       "      <td>0.0</td>\n",
       "      <td>0.0</td>\n",
       "      <td>0.0</td>\n",
       "      <td>0.0</td>\n",
       "      <td>0.0</td>\n",
       "    </tr>\n",
       "    <tr>\n",
       "      <th>3</th>\n",
       "      <td>0.0</td>\n",
       "      <td>0.0</td>\n",
       "      <td>0.0</td>\n",
       "      <td>0.0</td>\n",
       "      <td>0.0</td>\n",
       "      <td>0.0</td>\n",
       "      <td>0.0</td>\n",
       "      <td>0.0</td>\n",
       "      <td>0.0</td>\n",
       "      <td>0.0</td>\n",
       "      <td>...</td>\n",
       "      <td>0.0</td>\n",
       "      <td>0.0</td>\n",
       "      <td>0.0</td>\n",
       "      <td>0.0</td>\n",
       "      <td>0.0</td>\n",
       "      <td>0.0</td>\n",
       "      <td>0.0</td>\n",
       "      <td>0.0</td>\n",
       "      <td>0.0</td>\n",
       "      <td>0.0</td>\n",
       "    </tr>\n",
       "    <tr>\n",
       "      <th>4</th>\n",
       "      <td>0.0</td>\n",
       "      <td>0.0</td>\n",
       "      <td>0.0</td>\n",
       "      <td>0.0</td>\n",
       "      <td>0.0</td>\n",
       "      <td>0.0</td>\n",
       "      <td>0.0</td>\n",
       "      <td>0.0</td>\n",
       "      <td>0.0</td>\n",
       "      <td>0.0</td>\n",
       "      <td>...</td>\n",
       "      <td>0.0</td>\n",
       "      <td>0.0</td>\n",
       "      <td>0.0</td>\n",
       "      <td>0.0</td>\n",
       "      <td>0.0</td>\n",
       "      <td>0.0</td>\n",
       "      <td>0.0</td>\n",
       "      <td>0.0</td>\n",
       "      <td>0.0</td>\n",
       "      <td>0.0</td>\n",
       "    </tr>\n",
       "    <tr>\n",
       "      <th>...</th>\n",
       "      <td>...</td>\n",
       "      <td>...</td>\n",
       "      <td>...</td>\n",
       "      <td>...</td>\n",
       "      <td>...</td>\n",
       "      <td>...</td>\n",
       "      <td>...</td>\n",
       "      <td>...</td>\n",
       "      <td>...</td>\n",
       "      <td>...</td>\n",
       "      <td>...</td>\n",
       "      <td>...</td>\n",
       "      <td>...</td>\n",
       "      <td>...</td>\n",
       "      <td>...</td>\n",
       "      <td>...</td>\n",
       "      <td>...</td>\n",
       "      <td>...</td>\n",
       "      <td>...</td>\n",
       "      <td>...</td>\n",
       "      <td>...</td>\n",
       "    </tr>\n",
       "    <tr>\n",
       "      <th>995</th>\n",
       "      <td>0.0</td>\n",
       "      <td>0.0</td>\n",
       "      <td>0.0</td>\n",
       "      <td>0.0</td>\n",
       "      <td>0.0</td>\n",
       "      <td>0.0</td>\n",
       "      <td>0.0</td>\n",
       "      <td>0.0</td>\n",
       "      <td>0.0</td>\n",
       "      <td>0.0</td>\n",
       "      <td>...</td>\n",
       "      <td>0.0</td>\n",
       "      <td>0.0</td>\n",
       "      <td>0.0</td>\n",
       "      <td>0.0</td>\n",
       "      <td>0.0</td>\n",
       "      <td>0.0</td>\n",
       "      <td>0.0</td>\n",
       "      <td>0.0</td>\n",
       "      <td>0.0</td>\n",
       "      <td>0.0</td>\n",
       "    </tr>\n",
       "    <tr>\n",
       "      <th>996</th>\n",
       "      <td>0.0</td>\n",
       "      <td>0.0</td>\n",
       "      <td>0.0</td>\n",
       "      <td>0.0</td>\n",
       "      <td>0.0</td>\n",
       "      <td>0.0</td>\n",
       "      <td>0.0</td>\n",
       "      <td>0.0</td>\n",
       "      <td>0.0</td>\n",
       "      <td>0.0</td>\n",
       "      <td>...</td>\n",
       "      <td>0.0</td>\n",
       "      <td>0.0</td>\n",
       "      <td>0.0</td>\n",
       "      <td>0.0</td>\n",
       "      <td>0.0</td>\n",
       "      <td>0.0</td>\n",
       "      <td>0.0</td>\n",
       "      <td>0.0</td>\n",
       "      <td>0.0</td>\n",
       "      <td>0.0</td>\n",
       "    </tr>\n",
       "    <tr>\n",
       "      <th>997</th>\n",
       "      <td>0.0</td>\n",
       "      <td>0.0</td>\n",
       "      <td>0.0</td>\n",
       "      <td>0.0</td>\n",
       "      <td>0.0</td>\n",
       "      <td>0.0</td>\n",
       "      <td>0.0</td>\n",
       "      <td>0.0</td>\n",
       "      <td>0.0</td>\n",
       "      <td>0.0</td>\n",
       "      <td>...</td>\n",
       "      <td>0.0</td>\n",
       "      <td>0.0</td>\n",
       "      <td>0.0</td>\n",
       "      <td>0.0</td>\n",
       "      <td>0.0</td>\n",
       "      <td>0.0</td>\n",
       "      <td>0.0</td>\n",
       "      <td>0.0</td>\n",
       "      <td>0.0</td>\n",
       "      <td>0.0</td>\n",
       "    </tr>\n",
       "    <tr>\n",
       "      <th>998</th>\n",
       "      <td>0.0</td>\n",
       "      <td>0.0</td>\n",
       "      <td>0.0</td>\n",
       "      <td>0.0</td>\n",
       "      <td>0.0</td>\n",
       "      <td>0.0</td>\n",
       "      <td>0.0</td>\n",
       "      <td>0.0</td>\n",
       "      <td>0.0</td>\n",
       "      <td>0.0</td>\n",
       "      <td>...</td>\n",
       "      <td>0.0</td>\n",
       "      <td>0.0</td>\n",
       "      <td>0.0</td>\n",
       "      <td>0.0</td>\n",
       "      <td>0.0</td>\n",
       "      <td>0.0</td>\n",
       "      <td>0.0</td>\n",
       "      <td>0.0</td>\n",
       "      <td>0.0</td>\n",
       "      <td>0.0</td>\n",
       "    </tr>\n",
       "    <tr>\n",
       "      <th>999</th>\n",
       "      <td>0.0</td>\n",
       "      <td>0.0</td>\n",
       "      <td>0.0</td>\n",
       "      <td>0.0</td>\n",
       "      <td>0.0</td>\n",
       "      <td>0.0</td>\n",
       "      <td>0.0</td>\n",
       "      <td>0.0</td>\n",
       "      <td>0.0</td>\n",
       "      <td>0.0</td>\n",
       "      <td>...</td>\n",
       "      <td>0.0</td>\n",
       "      <td>0.0</td>\n",
       "      <td>0.0</td>\n",
       "      <td>0.0</td>\n",
       "      <td>0.0</td>\n",
       "      <td>0.0</td>\n",
       "      <td>0.0</td>\n",
       "      <td>0.0</td>\n",
       "      <td>0.0</td>\n",
       "      <td>0.0</td>\n",
       "    </tr>\n",
       "  </tbody>\n",
       "</table>\n",
       "<p>1000 rows × 1832 columns</p>\n",
       "</div>"
      ],
      "text/plain": [
       "      00    1   10  100   11   12   15   17  1979    2  ...  year  years  \\\n",
       "0    0.0  0.0  0.0  0.0  0.0  0.0  0.0  0.0   0.0  0.0  ...   0.0    0.0   \n",
       "1    0.0  0.0  0.0  0.0  0.0  0.0  0.0  0.0   0.0  0.0  ...   0.0    0.0   \n",
       "2    0.0  0.0  0.0  0.0  0.0  0.0  0.0  0.0   0.0  0.0  ...   0.0    0.0   \n",
       "3    0.0  0.0  0.0  0.0  0.0  0.0  0.0  0.0   0.0  0.0  ...   0.0    0.0   \n",
       "4    0.0  0.0  0.0  0.0  0.0  0.0  0.0  0.0   0.0  0.0  ...   0.0    0.0   \n",
       "..   ...  ...  ...  ...  ...  ...  ...  ...   ...  ...  ...   ...    ...   \n",
       "995  0.0  0.0  0.0  0.0  0.0  0.0  0.0  0.0   0.0  0.0  ...   0.0    0.0   \n",
       "996  0.0  0.0  0.0  0.0  0.0  0.0  0.0  0.0   0.0  0.0  ...   0.0    0.0   \n",
       "997  0.0  0.0  0.0  0.0  0.0  0.0  0.0  0.0   0.0  0.0  ...   0.0    0.0   \n",
       "998  0.0  0.0  0.0  0.0  0.0  0.0  0.0  0.0   0.0  0.0  ...   0.0    0.0   \n",
       "999  0.0  0.0  0.0  0.0  0.0  0.0  0.0  0.0   0.0  0.0  ...   0.0    0.0   \n",
       "\n",
       "     yellow  yellowtail  yelpers  yucky  yukon  yum  yummy  zero  \n",
       "0       0.0         0.0      0.0    0.0    0.0  0.0    0.0   0.0  \n",
       "1       0.0         0.0      0.0    0.0    0.0  0.0    0.0   0.0  \n",
       "2       0.0         0.0      0.0    0.0    0.0  0.0    0.0   0.0  \n",
       "3       0.0         0.0      0.0    0.0    0.0  0.0    0.0   0.0  \n",
       "4       0.0         0.0      0.0    0.0    0.0  0.0    0.0   0.0  \n",
       "..      ...         ...      ...    ...    ...  ...    ...   ...  \n",
       "995     0.0         0.0      0.0    0.0    0.0  0.0    0.0   0.0  \n",
       "996     0.0         0.0      0.0    0.0    0.0  0.0    0.0   0.0  \n",
       "997     0.0         0.0      0.0    0.0    0.0  0.0    0.0   0.0  \n",
       "998     0.0         0.0      0.0    0.0    0.0  0.0    0.0   0.0  \n",
       "999     0.0         0.0      0.0    0.0    0.0  0.0    0.0   0.0  \n",
       "\n",
       "[1000 rows x 1832 columns]"
      ]
     },
     "execution_count": 11,
     "metadata": {},
     "output_type": "execute_result"
    }
   ],
   "source": [
    "X"
   ]
  },
  {
   "cell_type": "markdown",
   "id": "e02ea296",
   "metadata": {
    "papermill": {
     "duration": 0.010122,
     "end_time": "2023-02-07T13:11:40.445152",
     "exception": false,
     "start_time": "2023-02-07T13:11:40.435030",
     "status": "completed"
    },
    "tags": []
   },
   "source": [
    "Here in the vectorized data frame, we can see that it has 1000 rows and the TF-IDF vectorizer has vectorized 1832 textual features.\n",
    "\n",
    "**Step 4: Splitting data into train and test**\n",
    "\n",
    "The textual data is split into train and test using the scikit-learn model selection module and importing the train_test_split library from the module."
   ]
  },
  {
   "cell_type": "code",
   "execution_count": 12,
   "id": "17858385",
   "metadata": {
    "execution": {
     "iopub.execute_input": "2023-02-07T13:11:40.468123Z",
     "iopub.status.busy": "2023-02-07T13:11:40.467653Z",
     "iopub.status.idle": "2023-02-07T13:11:40.520248Z",
     "shell.execute_reply": "2023-02-07T13:11:40.518500Z"
    },
    "papermill": {
     "duration": 0.067498,
     "end_time": "2023-02-07T13:11:40.523258",
     "exception": false,
     "start_time": "2023-02-07T13:11:40.455760",
     "status": "completed"
    },
    "tags": []
   },
   "outputs": [],
   "source": [
    "from sklearn.model_selection import train_test_split"
   ]
  },
  {
   "cell_type": "markdown",
   "id": "4ea571cc",
   "metadata": {
    "papermill": {
     "duration": 0.010104,
     "end_time": "2023-02-07T13:11:40.544246",
     "exception": false,
     "start_time": "2023-02-07T13:11:40.534142",
     "status": "completed"
    },
    "tags": []
   },
   "source": [
    "Let us separate the target variable from the dataset"
   ]
  },
  {
   "cell_type": "code",
   "execution_count": 13,
   "id": "4f1ff710",
   "metadata": {
    "execution": {
     "iopub.execute_input": "2023-02-07T13:11:40.567507Z",
     "iopub.status.busy": "2023-02-07T13:11:40.567075Z",
     "iopub.status.idle": "2023-02-07T13:11:40.572289Z",
     "shell.execute_reply": "2023-02-07T13:11:40.571069Z"
    },
    "papermill": {
     "duration": 0.01997,
     "end_time": "2023-02-07T13:11:40.574888",
     "exception": false,
     "start_time": "2023-02-07T13:11:40.554918",
     "status": "completed"
    },
    "tags": []
   },
   "outputs": [],
   "source": [
    "y=df['reaction']"
   ]
  },
  {
   "cell_type": "markdown",
   "id": "ba20dd51",
   "metadata": {
    "papermill": {
     "duration": 0.01019,
     "end_time": "2023-02-07T13:11:40.596005",
     "exception": false,
     "start_time": "2023-02-07T13:11:40.585815",
     "status": "completed"
    },
    "tags": []
   },
   "source": [
    "Here let us split the data with a train: test ratio split of 70% and 30% respectively as shown below."
   ]
  },
  {
   "cell_type": "code",
   "execution_count": 14,
   "id": "84d3bd55",
   "metadata": {
    "execution": {
     "iopub.execute_input": "2023-02-07T13:11:40.618723Z",
     "iopub.status.busy": "2023-02-07T13:11:40.618306Z",
     "iopub.status.idle": "2023-02-07T13:11:40.638718Z",
     "shell.execute_reply": "2023-02-07T13:11:40.637259Z"
    },
    "papermill": {
     "duration": 0.03492,
     "end_time": "2023-02-07T13:11:40.641434",
     "exception": false,
     "start_time": "2023-02-07T13:11:40.606514",
     "status": "completed"
    },
    "tags": []
   },
   "outputs": [],
   "source": [
    "#Creating training and test sets\n",
    "X_train,X_test,y_train,y_test = train_test_split(X,y,test_size=0.30,random_state=42)"
   ]
  },
  {
   "cell_type": "markdown",
   "id": "b960b5d0",
   "metadata": {
    "papermill": {
     "duration": 0.010844,
     "end_time": "2023-02-07T13:11:40.662876",
     "exception": false,
     "start_time": "2023-02-07T13:11:40.652032",
     "status": "completed"
    },
    "tags": []
   },
   "source": [
    "Now as the dataset is split let us visualize the number of samples using the shape function as shown below."
   ]
  },
  {
   "cell_type": "code",
   "execution_count": 15,
   "id": "2497e8c2",
   "metadata": {
    "execution": {
     "iopub.execute_input": "2023-02-07T13:11:40.685625Z",
     "iopub.status.busy": "2023-02-07T13:11:40.685206Z",
     "iopub.status.idle": "2023-02-07T13:11:40.692175Z",
     "shell.execute_reply": "2023-02-07T13:11:40.690865Z"
    },
    "papermill": {
     "duration": 0.021129,
     "end_time": "2023-02-07T13:11:40.694519",
     "exception": false,
     "start_time": "2023-02-07T13:11:40.673390",
     "status": "completed"
    },
    "tags": []
   },
   "outputs": [
    {
     "name": "stdout",
     "output_type": "stream",
     "text": [
      "(700, 1832)\n",
      "(700,)\n",
      "(300, 1832)\n",
      "(300,)\n"
     ]
    }
   ],
   "source": [
    "#Shape of train-test sets\n",
    "print(X_train.shape)\n",
    "print(y_train.shape)\n",
    "print(X_test.shape)\n",
    "print(y_test.shape)"
   ]
  },
  {
   "cell_type": "markdown",
   "id": "2b16486b",
   "metadata": {
    "papermill": {
     "duration": 0.010256,
     "end_time": "2023-02-07T13:11:40.716338",
     "exception": false,
     "start_time": "2023-02-07T13:11:40.706082",
     "status": "completed"
    },
    "tags": []
   },
   "source": [
    "In the above output, we can see that we are having 700 records for training and 300 records for testing in our data.\n",
    "\n",
    "**Step 5: Building Multinomial Naive Bayes Model** \n",
    "\n",
    "As the TF-IDF model represents the table of independent word frequencies so to tackle this behaviour a Multinomial Naive Bayes would perform well due to its assumption related to features. Let us import the Multinomial Naive Bayes library of the scikit learn module as shown below."
   ]
  },
  {
   "cell_type": "code",
   "execution_count": 16,
   "id": "125c289d",
   "metadata": {
    "execution": {
     "iopub.execute_input": "2023-02-07T13:11:40.738996Z",
     "iopub.status.busy": "2023-02-07T13:11:40.738539Z",
     "iopub.status.idle": "2023-02-07T13:11:40.747102Z",
     "shell.execute_reply": "2023-02-07T13:11:40.745972Z"
    },
    "papermill": {
     "duration": 0.023055,
     "end_time": "2023-02-07T13:11:40.749900",
     "exception": false,
     "start_time": "2023-02-07T13:11:40.726845",
     "status": "completed"
    },
    "tags": []
   },
   "outputs": [],
   "source": [
    "from sklearn.naive_bayes import MultinomialNB"
   ]
  },
  {
   "cell_type": "markdown",
   "id": "6d4cf851",
   "metadata": {
    "papermill": {
     "duration": 0.010133,
     "end_time": "2023-02-07T13:11:40.771090",
     "exception": false,
     "start_time": "2023-02-07T13:11:40.760957",
     "status": "completed"
    },
    "tags": []
   },
   "source": [
    "Let us use the imported Multinomial Naive Bayes and build a model instance and fit it with the split data."
   ]
  },
  {
   "cell_type": "code",
   "execution_count": 17,
   "id": "3c6326e4",
   "metadata": {
    "execution": {
     "iopub.execute_input": "2023-02-07T13:11:40.794620Z",
     "iopub.status.busy": "2023-02-07T13:11:40.794182Z",
     "iopub.status.idle": "2023-02-07T13:11:40.829121Z",
     "shell.execute_reply": "2023-02-07T13:11:40.827432Z"
    },
    "papermill": {
     "duration": 0.051723,
     "end_time": "2023-02-07T13:11:40.833811",
     "exception": false,
     "start_time": "2023-02-07T13:11:40.782088",
     "status": "completed"
    },
    "tags": []
   },
   "outputs": [],
   "source": [
    "mnb_mod=MultinomialNB()\n",
    "mnb_model=mnb_mod.fit(X_train,y_train)"
   ]
  },
  {
   "cell_type": "markdown",
   "id": "cd092e87",
   "metadata": {
    "papermill": {
     "duration": 0.027283,
     "end_time": "2023-02-07T13:11:40.901520",
     "exception": false,
     "start_time": "2023-02-07T13:11:40.874237",
     "status": "completed"
    },
    "tags": []
   },
   "source": [
    "Using the fitted model let us obtain the predictions on the test data as shown below."
   ]
  },
  {
   "cell_type": "code",
   "execution_count": 18,
   "id": "1defab08",
   "metadata": {
    "execution": {
     "iopub.execute_input": "2023-02-07T13:11:40.952576Z",
     "iopub.status.busy": "2023-02-07T13:11:40.952196Z",
     "iopub.status.idle": "2023-02-07T13:11:40.975979Z",
     "shell.execute_reply": "2023-02-07T13:11:40.974374Z"
    },
    "papermill": {
     "duration": 0.050781,
     "end_time": "2023-02-07T13:11:40.980344",
     "exception": false,
     "start_time": "2023-02-07T13:11:40.929563",
     "status": "completed"
    },
    "tags": []
   },
   "outputs": [],
   "source": [
    "mnb_pred=mnb_model.predict(X_test)"
   ]
  },
  {
   "cell_type": "markdown",
   "id": "889ca7a6",
   "metadata": {
    "papermill": {
     "duration": 0.027812,
     "end_time": "2023-02-07T13:11:41.035171",
     "exception": false,
     "start_time": "2023-02-07T13:11:41.007359",
     "status": "completed"
    },
    "tags": []
   },
   "source": [
    "As we have obtained the prediction of the MultiNomial Naive Bayes let us evaluate the model performance through various metrics like accuracy score and classification report\n",
    "\n",
    "Let us import the required libraries from the scikit learn model first."
   ]
  },
  {
   "cell_type": "code",
   "execution_count": 19,
   "id": "788b2996",
   "metadata": {
    "execution": {
     "iopub.execute_input": "2023-02-07T13:11:41.093132Z",
     "iopub.status.busy": "2023-02-07T13:11:41.092403Z",
     "iopub.status.idle": "2023-02-07T13:11:41.098197Z",
     "shell.execute_reply": "2023-02-07T13:11:41.097008Z"
    },
    "papermill": {
     "duration": 0.037698,
     "end_time": "2023-02-07T13:11:41.100598",
     "exception": false,
     "start_time": "2023-02-07T13:11:41.062900",
     "status": "completed"
    },
    "tags": []
   },
   "outputs": [],
   "source": [
    "from sklearn.metrics import accuracy_score,classification_report,plot_confusion_matrix"
   ]
  },
  {
   "cell_type": "markdown",
   "id": "b3d47794",
   "metadata": {
    "papermill": {
     "duration": 0.010143,
     "end_time": "2023-02-07T13:11:41.121301",
     "exception": false,
     "start_time": "2023-02-07T13:11:41.111158",
     "status": "completed"
    },
    "tags": []
   },
   "source": [
    "Let us print the accuracy score of the Multinomial Naive Bayes model as shown below."
   ]
  },
  {
   "cell_type": "code",
   "execution_count": 20,
   "id": "b71bcb2b",
   "metadata": {
    "execution": {
     "iopub.execute_input": "2023-02-07T13:11:41.144947Z",
     "iopub.status.busy": "2023-02-07T13:11:41.144146Z",
     "iopub.status.idle": "2023-02-07T13:11:41.151486Z",
     "shell.execute_reply": "2023-02-07T13:11:41.150457Z"
    },
    "papermill": {
     "duration": 0.021565,
     "end_time": "2023-02-07T13:11:41.153788",
     "exception": false,
     "start_time": "2023-02-07T13:11:41.132223",
     "status": "completed"
    },
    "tags": []
   },
   "outputs": [
    {
     "name": "stdout",
     "output_type": "stream",
     "text": [
      "Accuracy Score of Multinomial Naive Bayes model : 0.7266666666666667\n"
     ]
    }
   ],
   "source": [
    "print('Accuracy Score of Multinomial Naive Bayes model : {}'.format(accuracy_score(y_test,mnb_pred)))"
   ]
  },
  {
   "cell_type": "markdown",
   "id": "3fde1ac8",
   "metadata": {
    "papermill": {
     "duration": 0.010548,
     "end_time": "2023-02-07T13:11:41.174887",
     "exception": false,
     "start_time": "2023-02-07T13:11:41.164339",
     "status": "completed"
    },
    "tags": []
   },
   "source": [
    "We have obtained an accuracy score of 72.667% from the Multinomial Naive Bayes model developed.\n",
    "\n",
    "Let us obtain a classification report for the same to evaluate various other factors as shown below."
   ]
  },
  {
   "cell_type": "code",
   "execution_count": 21,
   "id": "b42fb66b",
   "metadata": {
    "execution": {
     "iopub.execute_input": "2023-02-07T13:11:41.198942Z",
     "iopub.status.busy": "2023-02-07T13:11:41.198423Z",
     "iopub.status.idle": "2023-02-07T13:11:41.215579Z",
     "shell.execute_reply": "2023-02-07T13:11:41.213678Z"
    },
    "papermill": {
     "duration": 0.032194,
     "end_time": "2023-02-07T13:11:41.218440",
     "exception": false,
     "start_time": "2023-02-07T13:11:41.186246",
     "status": "completed"
    },
    "tags": []
   },
   "outputs": [
    {
     "name": "stdout",
     "output_type": "stream",
     "text": [
      "Classification Report of Multinomial Naive Bayes model : \n",
      "                precision    recall  f1-score   support\n",
      "\n",
      "    negative       0.78      0.64      0.71       152\n",
      "    positive       0.69      0.81      0.75       148\n",
      "\n",
      "    accuracy                           0.73       300\n",
      "   macro avg       0.73      0.73      0.73       300\n",
      "weighted avg       0.73      0.73      0.72       300\n",
      "\n"
     ]
    }
   ],
   "source": [
    "print('Classification Report of Multinomial Naive Bayes model : \\n ',classification_report(y_test,mnb_pred))"
   ]
  },
  {
   "cell_type": "markdown",
   "id": "41dcce50",
   "metadata": {
    "papermill": {
     "duration": 0.010281,
     "end_time": "2023-02-07T13:11:41.239572",
     "exception": false,
     "start_time": "2023-02-07T13:11:41.229291",
     "status": "completed"
    },
    "tags": []
   },
   "source": [
    "Here in the classification report, we can evaluate various factors like precision, recall, and f1-score for each of the classes of the dataset respectively.\n",
    "\n",
    "Let us plot a confusion matrix to evaluate the various parameters like True Positives, True Negatives with False Positives, and negatives."
   ]
  },
  {
   "cell_type": "code",
   "execution_count": 22,
   "id": "db02f962",
   "metadata": {
    "execution": {
     "iopub.execute_input": "2023-02-07T13:11:41.264092Z",
     "iopub.status.busy": "2023-02-07T13:11:41.262414Z",
     "iopub.status.idle": "2023-02-07T13:11:41.631026Z",
     "shell.execute_reply": "2023-02-07T13:11:41.629654Z"
    },
    "papermill": {
     "duration": 0.383525,
     "end_time": "2023-02-07T13:11:41.633853",
     "exception": false,
     "start_time": "2023-02-07T13:11:41.250328",
     "status": "completed"
    },
    "tags": []
   },
   "outputs": [
    {
     "name": "stderr",
     "output_type": "stream",
     "text": [
      "/opt/conda/lib/python3.7/site-packages/sklearn/utils/deprecation.py:87: FutureWarning: Function plot_confusion_matrix is deprecated; Function `plot_confusion_matrix` is deprecated in 1.0 and will be removed in 1.2. Use one of the class methods: ConfusionMatrixDisplay.from_predictions or ConfusionMatrixDisplay.from_estimator.\n",
      "  warnings.warn(msg, category=FutureWarning)\n"
     ]
    },
    {
     "data": {
      "text/plain": [
       "<sklearn.metrics._plot.confusion_matrix.ConfusionMatrixDisplay at 0x7fdd2a03d5d0>"
      ]
     },
     "execution_count": 22,
     "metadata": {},
     "output_type": "execute_result"
    },
    {
     "data": {
      "image/png": "[encoded data removed]",
      "text/plain": [
       "<Figure size 432x288 with 2 Axes>"
      ]
     },
     "metadata": {
      "needs_background": "light"
     },
     "output_type": "display_data"
    }
   ],
   "source": [
    "plot_confusion_matrix(mnb_model,X_test,y_test)\n",
    "#plt.show()"
   ]
  },
  {
   "cell_type": "markdown",
   "id": "c89e0788",
   "metadata": {
    "papermill": {
     "duration": 0.010644,
     "end_time": "2023-02-07T13:11:41.655622",
     "exception": false,
     "start_time": "2023-02-07T13:11:41.644978",
     "status": "completed"
    },
    "tags": []
   },
   "source": [
    "Here in the confusion matrix, we can see that the various values of true positives and true negatives and suitable interpretations can be made accordingly.\n",
    "\n",
    "**Step 6: Obtaining predictions from the MNB model**\n",
    "\n",
    "Let us create a user-defined function to obtain predictions from the multinomial naive Bayes model as shown below"
   ]
  },
  {
   "cell_type": "code",
   "execution_count": 23,
   "id": "8e13648e",
   "metadata": {
    "execution": {
     "iopub.execute_input": "2023-02-07T13:11:41.680358Z",
     "iopub.status.busy": "2023-02-07T13:11:41.679168Z",
     "iopub.status.idle": "2023-02-07T13:11:41.684409Z",
     "shell.execute_reply": "2023-02-07T13:11:41.683648Z"
    },
    "papermill": {
     "duration": 0.019947,
     "end_time": "2023-02-07T13:11:41.686777",
     "exception": false,
     "start_time": "2023-02-07T13:11:41.666830",
     "status": "completed"
    },
    "tags": []
   },
   "outputs": [],
   "source": [
    "# def pred():\n",
    "#   text_sent=input()\n",
    "#   trans=tf_idf.transform([text_sent])\n",
    "#   pred=mnb_model.predict(trans)\n",
    "#   return pred\n",
    "# print('Prediction',pred())"
   ]
  },
  {
   "cell_type": "code",
   "execution_count": null,
   "id": "8b7e988c",
   "metadata": {
    "papermill": {
     "duration": 0.010898,
     "end_time": "2023-02-07T13:11:41.708947",
     "exception": false,
     "start_time": "2023-02-07T13:11:41.698049",
     "status": "completed"
    },
    "tags": []
   },
   "outputs": [],
   "source": []
  }
 ],
 "metadata": {
  "kernelspec": {
   "display_name": "Python 3",
   "language": "python",
   "name": "python3"
  },
  "language_info": {
   "codemirror_mode": {
    "name": "ipython",
    "version": 3
   },
   "file_extension": ".py",
   "mimetype": "text/x-python",
   "name": "python",
   "nbconvert_exporter": "python",
   "pygments_lexer": "ipython3",
   "version": "3.7.12"
  },
  "papermill": {
   "default_parameters": {},
   "duration": 13.398845,
   "end_time": "2023-02-07T13:11:42.542758",
   "environment_variables": {},
   "exception": null,
   "input_path": "__notebook__.ipynb",
   "output_path": "__notebook__.ipynb",
   "parameters": {},
   "start_time": "2023-02-07T13:11:29.143913",
   "version": "2.3.4"
  }
 },
 "nbformat": 4,
 "nbformat_minor": 5
}
