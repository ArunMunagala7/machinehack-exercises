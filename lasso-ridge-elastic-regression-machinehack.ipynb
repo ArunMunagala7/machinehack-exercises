{
 "cells": [
  {
   "cell_type": "code",
   "execution_count": 1,
   "id": "3902b559",
   "metadata": {
    "_cell_guid": "b1076dfc-b9ad-4769-8c92-a6c4dae69d19",
    "_uuid": "8f2839f25d086af736a60e9eeb907d3b93b6e0e5",
    "execution": {
     "iopub.execute_input": "2023-01-13T11:53:06.428923Z",
     "iopub.status.busy": "2023-01-13T11:53:06.427538Z",
     "iopub.status.idle": "2023-01-13T11:53:06.448512Z",
     "shell.execute_reply": "2023-01-13T11:53:06.447422Z"
    },
    "papermill": {
     "duration": 0.036513,
     "end_time": "2023-01-13T11:53:06.451417",
     "exception": false,
     "start_time": "2023-01-13T11:53:06.414904",
     "status": "completed"
    },
    "tags": []
   },
   "outputs": [
    {
     "name": "stdout",
     "output_type": "stream",
     "text": [
      "/kaggle/input/50-startups/50_Startups.csv\n"
     ]
    }
   ],
   "source": [
    "# This Python 3 environment comes with many helpful analytics libraries installed\n",
    "# It is defined by the kaggle/python Docker image: https://github.com/kaggle/docker-python\n",
    "# For example, here's several helpful packages to load\n",
    "\n",
    "import numpy as np # linear algebra\n",
    "import pandas as pd # data processing, CSV file I/O (e.g. pd.read_csv)\n",
    "\n",
    "# Input data files are available in the read-only \"../input/\" directory\n",
    "# For example, running this (by clicking run or pressing Shift+Enter) will list all files under the input directory\n",
    "\n",
    "import os\n",
    "for dirname, _, filenames in os.walk('/kaggle/input'):\n",
    "    for filename in filenames:\n",
    "        print(os.path.join(dirname, filename))\n",
    "\n",
    "# You can write up to 20GB to the current directory (/kaggle/working/) that gets preserved as output when you create a version using \"Save & Run All\" \n",
    "# You can also write temporary files to /kaggle/temp/, but they won't be saved outside of the current session"
   ]
  },
  {
   "cell_type": "code",
   "execution_count": 2,
   "id": "0714073a",
   "metadata": {
    "execution": {
     "iopub.execute_input": "2023-01-13T11:53:06.476636Z",
     "iopub.status.busy": "2023-01-13T11:53:06.475916Z",
     "iopub.status.idle": "2023-01-13T11:53:06.491711Z",
     "shell.execute_reply": "2023-01-13T11:53:06.490565Z"
    },
    "papermill": {
     "duration": 0.030665,
     "end_time": "2023-01-13T11:53:06.494430",
     "exception": false,
     "start_time": "2023-01-13T11:53:06.463765",
     "status": "completed"
    },
    "tags": []
   },
   "outputs": [],
   "source": [
    "# Reading the dataset\n",
    "dataset = pd.read_csv('/kaggle/input/50-startups/50_Startups.csv')"
   ]
  },
  {
   "cell_type": "code",
   "execution_count": 3,
   "id": "f393fdd7",
   "metadata": {
    "execution": {
     "iopub.execute_input": "2023-01-13T11:53:06.517187Z",
     "iopub.status.busy": "2023-01-13T11:53:06.516394Z",
     "iopub.status.idle": "2023-01-13T11:53:06.542334Z",
     "shell.execute_reply": "2023-01-13T11:53:06.541298Z"
    },
    "papermill": {
     "duration": 0.041242,
     "end_time": "2023-01-13T11:53:06.544860",
     "exception": false,
     "start_time": "2023-01-13T11:53:06.503618",
     "status": "completed"
    },
    "tags": []
   },
   "outputs": [
    {
     "data": {
      "text/html": [
       "<div>\n",
       "<style scoped>\n",
       "    .dataframe tbody tr th:only-of-type {\n",
       "        vertical-align: middle;\n",
       "    }\n",
       "\n",
       "    .dataframe tbody tr th {\n",
       "        vertical-align: top;\n",
       "    }\n",
       "\n",
       "    .dataframe thead th {\n",
       "        text-align: right;\n",
       "    }\n",
       "</style>\n",
       "<table border=\"1\" class=\"dataframe\">\n",
       "  <thead>\n",
       "    <tr style=\"text-align: right;\">\n",
       "      <th></th>\n",
       "      <th>R&amp;D Spend</th>\n",
       "      <th>Administration</th>\n",
       "      <th>Marketing Spend</th>\n",
       "      <th>State</th>\n",
       "      <th>Profit</th>\n",
       "    </tr>\n",
       "  </thead>\n",
       "  <tbody>\n",
       "    <tr>\n",
       "      <th>0</th>\n",
       "      <td>165349.20</td>\n",
       "      <td>136897.80</td>\n",
       "      <td>471784.10</td>\n",
       "      <td>New York</td>\n",
       "      <td>192261.83</td>\n",
       "    </tr>\n",
       "    <tr>\n",
       "      <th>1</th>\n",
       "      <td>162597.70</td>\n",
       "      <td>151377.59</td>\n",
       "      <td>443898.53</td>\n",
       "      <td>California</td>\n",
       "      <td>191792.06</td>\n",
       "    </tr>\n",
       "    <tr>\n",
       "      <th>2</th>\n",
       "      <td>153441.51</td>\n",
       "      <td>101145.55</td>\n",
       "      <td>407934.54</td>\n",
       "      <td>Florida</td>\n",
       "      <td>191050.39</td>\n",
       "    </tr>\n",
       "    <tr>\n",
       "      <th>3</th>\n",
       "      <td>144372.41</td>\n",
       "      <td>118671.85</td>\n",
       "      <td>383199.62</td>\n",
       "      <td>New York</td>\n",
       "      <td>182901.99</td>\n",
       "    </tr>\n",
       "    <tr>\n",
       "      <th>4</th>\n",
       "      <td>142107.34</td>\n",
       "      <td>91391.77</td>\n",
       "      <td>366168.42</td>\n",
       "      <td>Florida</td>\n",
       "      <td>166187.94</td>\n",
       "    </tr>\n",
       "  </tbody>\n",
       "</table>\n",
       "</div>"
      ],
      "text/plain": [
       "   R&D Spend  Administration  Marketing Spend       State     Profit\n",
       "0  165349.20       136897.80        471784.10    New York  192261.83\n",
       "1  162597.70       151377.59        443898.53  California  191792.06\n",
       "2  153441.51       101145.55        407934.54     Florida  191050.39\n",
       "3  144372.41       118671.85        383199.62    New York  182901.99\n",
       "4  142107.34        91391.77        366168.42     Florida  166187.94"
      ]
     },
     "execution_count": 3,
     "metadata": {},
     "output_type": "execute_result"
    }
   ],
   "source": [
    "dataset.head()"
   ]
  },
  {
   "cell_type": "code",
   "execution_count": 4,
   "id": "83437347",
   "metadata": {
    "execution": {
     "iopub.execute_input": "2023-01-13T11:53:06.566857Z",
     "iopub.status.busy": "2023-01-13T11:53:06.566463Z",
     "iopub.status.idle": "2023-01-13T11:53:06.573550Z",
     "shell.execute_reply": "2023-01-13T11:53:06.572375Z"
    },
    "papermill": {
     "duration": 0.021498,
     "end_time": "2023-01-13T11:53:06.575716",
     "exception": false,
     "start_time": "2023-01-13T11:53:06.554218",
     "status": "completed"
    },
    "tags": []
   },
   "outputs": [
    {
     "data": {
      "text/plain": [
       "(50, 5)"
      ]
     },
     "execution_count": 4,
     "metadata": {},
     "output_type": "execute_result"
    }
   ],
   "source": [
    "dataset.shape"
   ]
  },
  {
   "cell_type": "markdown",
   "id": "e4cbca32",
   "metadata": {
    "papermill": {
     "duration": 0.009049,
     "end_time": "2023-01-13T11:53:06.594104",
     "exception": false,
     "start_time": "2023-01-13T11:53:06.585055",
     "status": "completed"
    },
    "tags": []
   },
   "source": [
    "**Defining Features**\n",
    "\n",
    "After reading the dataset successfully, we will define the input and output features as X and y respectively. "
   ]
  },
  {
   "cell_type": "code",
   "execution_count": 5,
   "id": "54d927ba",
   "metadata": {
    "execution": {
     "iopub.execute_input": "2023-01-13T11:53:06.614663Z",
     "iopub.status.busy": "2023-01-13T11:53:06.614227Z",
     "iopub.status.idle": "2023-01-13T11:53:06.623121Z",
     "shell.execute_reply": "2023-01-13T11:53:06.621948Z"
    },
    "papermill": {
     "duration": 0.021882,
     "end_time": "2023-01-13T11:53:06.625294",
     "exception": false,
     "start_time": "2023-01-13T11:53:06.603412",
     "status": "completed"
    },
    "tags": []
   },
   "outputs": [],
   "source": [
    "# Defining input and output features\n",
    "X = dataset.iloc[:, :-1].values\n",
    "y = dataset.iloc[:, -1].values"
   ]
  },
  {
   "cell_type": "markdown",
   "id": "3b3b4a03",
   "metadata": {
    "papermill": {
     "duration": 0.00901,
     "end_time": "2023-01-13T11:53:06.643801",
     "exception": false,
     "start_time": "2023-01-13T11:53:06.634791",
     "status": "completed"
    },
    "tags": []
   },
   "source": [
    "Let’s check the shapes of input and output features."
   ]
  },
  {
   "cell_type": "code",
   "execution_count": 6,
   "id": "0fa042ea",
   "metadata": {
    "execution": {
     "iopub.execute_input": "2023-01-13T11:53:06.664315Z",
     "iopub.status.busy": "2023-01-13T11:53:06.663926Z",
     "iopub.status.idle": "2023-01-13T11:53:06.669824Z",
     "shell.execute_reply": "2023-01-13T11:53:06.668567Z"
    },
    "papermill": {
     "duration": 0.019231,
     "end_time": "2023-01-13T11:53:06.672528",
     "exception": false,
     "start_time": "2023-01-13T11:53:06.653297",
     "status": "completed"
    },
    "tags": []
   },
   "outputs": [
    {
     "name": "stdout",
     "output_type": "stream",
     "text": [
      "Shape of the input features: (50, 4)\n",
      "Shape of the output features: (50,)\n"
     ]
    }
   ],
   "source": [
    "# Checking the shape of input and output features\n",
    "print('Shape of the input features:', X.shape)\n",
    "print('Shape of the output features:', y.shape)"
   ]
  },
  {
   "cell_type": "markdown",
   "id": "d8fdef9e",
   "metadata": {
    "papermill": {
     "duration": 0.009148,
     "end_time": "2023-01-13T11:53:06.691260",
     "exception": false,
     "start_time": "2023-01-13T11:53:06.682112",
     "status": "completed"
    },
    "tags": []
   },
   "source": [
    "Let us see how the input features look."
   ]
  },
  {
   "cell_type": "code",
   "execution_count": 7,
   "id": "1856e8c3",
   "metadata": {
    "execution": {
     "iopub.execute_input": "2023-01-13T11:53:06.712128Z",
     "iopub.status.busy": "2023-01-13T11:53:06.711748Z",
     "iopub.status.idle": "2023-01-13T11:53:06.717954Z",
     "shell.execute_reply": "2023-01-13T11:53:06.716659Z"
    },
    "papermill": {
     "duration": 0.020803,
     "end_time": "2023-01-13T11:53:06.721589",
     "exception": false,
     "start_time": "2023-01-13T11:53:06.700786",
     "status": "completed"
    },
    "tags": []
   },
   "outputs": [
    {
     "name": "stdout",
     "output_type": "stream",
     "text": [
      "[[165349.2 136897.8 471784.1 'New York']\n",
      " [162597.7 151377.59 443898.53 'California']\n",
      " [153441.51 101145.55 407934.54 'Florida']\n",
      " [144372.41 118671.85 383199.62 'New York']\n",
      " [142107.34 91391.77 366168.42 'Florida']\n",
      " [131876.9 99814.71 362861.36 'New York']\n",
      " [134615.46 147198.87 127716.82 'California']\n",
      " [130298.13 145530.06 323876.68 'Florida']\n",
      " [120542.52 148718.95 311613.29 'New York']\n",
      " [123334.88 108679.17 304981.62 'California']\n",
      " [101913.08 110594.11 229160.95 'Florida']\n",
      " [100671.96 91790.61 249744.55 'California']\n",
      " [93863.75 127320.38 249839.44 'Florida']\n",
      " [91992.39 135495.07 252664.93 'California']\n",
      " [119943.24 156547.42 256512.92 'Florida']\n",
      " [114523.61 122616.84 261776.23 'New York']\n",
      " [78013.11 121597.55 264346.06 'California']\n",
      " [94657.16 145077.58 282574.31 'New York']\n",
      " [91749.16 114175.79 294919.57 'Florida']\n",
      " [86419.7 153514.11 0.0 'New York']\n",
      " [76253.86 113867.3 298664.47 'California']\n",
      " [78389.47 153773.43 299737.29 'New York']\n",
      " [73994.56 122782.75 303319.26 'Florida']\n",
      " [67532.53 105751.03 304768.73 'Florida']\n",
      " [77044.01 99281.34 140574.81 'New York']\n",
      " [64664.71 139553.16 137962.62 'California']\n",
      " [75328.87 144135.98 134050.07 'Florida']\n",
      " [72107.6 127864.55 353183.81 'New York']\n",
      " [66051.52 182645.56 118148.2 'Florida']\n",
      " [65605.48 153032.06 107138.38 'New York']\n",
      " [61994.48 115641.28 91131.24 'Florida']\n",
      " [61136.38 152701.92 88218.23 'New York']\n",
      " [63408.86 129219.61 46085.25 'California']\n",
      " [55493.95 103057.49 214634.81 'Florida']\n",
      " [46426.07 157693.92 210797.67 'California']\n",
      " [46014.02 85047.44 205517.64 'New York']\n",
      " [28663.76 127056.21 201126.82 'Florida']\n",
      " [44069.95 51283.14 197029.42 'California']\n",
      " [20229.59 65947.93 185265.1 'New York']\n",
      " [38558.51 82982.09 174999.3 'California']\n",
      " [28754.33 118546.05 172795.67 'California']\n",
      " [27892.92 84710.77 164470.71 'Florida']\n",
      " [23640.93 96189.63 148001.11 'California']\n",
      " [15505.73 127382.3 35534.17 'New York']\n",
      " [22177.74 154806.14 28334.72 'California']\n",
      " [1000.23 124153.04 1903.93 'New York']\n",
      " [1315.46 115816.21 297114.46 'Florida']\n",
      " [0.0 135426.92 0.0 'California']\n",
      " [542.05 51743.15 0.0 'New York']\n",
      " [0.0 116983.8 45173.06 'California']]\n"
     ]
    }
   ],
   "source": [
    "# Checking the input matrix\n",
    "print(X)"
   ]
  },
  {
   "cell_type": "code",
   "execution_count": 8,
   "id": "8ea54b75",
   "metadata": {
    "execution": {
     "iopub.execute_input": "2023-01-13T11:53:06.743427Z",
     "iopub.status.busy": "2023-01-13T11:53:06.743046Z",
     "iopub.status.idle": "2023-01-13T11:53:07.711016Z",
     "shell.execute_reply": "2023-01-13T11:53:07.709882Z"
    },
    "papermill": {
     "duration": 0.981593,
     "end_time": "2023-01-13T11:53:07.713509",
     "exception": false,
     "start_time": "2023-01-13T11:53:06.731916",
     "status": "completed"
    },
    "tags": []
   },
   "outputs": [],
   "source": [
    "# One hot encoding of the categorical column\n",
    "from sklearn.compose import ColumnTransformer\n",
    "from sklearn.preprocessing import OneHotEncoder\n",
    "ct = ColumnTransformer(transformers=[('encoder', OneHotEncoder(), [3])], remainder='passthrough')\n",
    "X = np.array(ct.fit_transform(X))"
   ]
  },
  {
   "cell_type": "markdown",
   "id": "596e3687",
   "metadata": {
    "papermill": {
     "duration": 0.009431,
     "end_time": "2023-01-13T11:53:07.732696",
     "exception": false,
     "start_time": "2023-01-13T11:53:07.723265",
     "status": "completed"
    },
    "tags": []
   },
   "source": [
    "After encoding, let us see how the input features look."
   ]
  },
  {
   "cell_type": "code",
   "execution_count": 9,
   "id": "fb4963db",
   "metadata": {
    "execution": {
     "iopub.execute_input": "2023-01-13T11:53:07.753780Z",
     "iopub.status.busy": "2023-01-13T11:53:07.753365Z",
     "iopub.status.idle": "2023-01-13T11:53:07.760007Z",
     "shell.execute_reply": "2023-01-13T11:53:07.758842Z"
    },
    "papermill": {
     "duration": 0.020099,
     "end_time": "2023-01-13T11:53:07.762455",
     "exception": false,
     "start_time": "2023-01-13T11:53:07.742356",
     "status": "completed"
    },
    "tags": []
   },
   "outputs": [
    {
     "name": "stdout",
     "output_type": "stream",
     "text": [
      "[[0.0 0.0 1.0 165349.2 136897.8 471784.1]\n",
      " [1.0 0.0 0.0 162597.7 151377.59 443898.53]\n",
      " [0.0 1.0 0.0 153441.51 101145.55 407934.54]\n",
      " [0.0 0.0 1.0 144372.41 118671.85 383199.62]\n",
      " [0.0 1.0 0.0 142107.34 91391.77 366168.42]\n",
      " [0.0 0.0 1.0 131876.9 99814.71 362861.36]\n",
      " [1.0 0.0 0.0 134615.46 147198.87 127716.82]\n",
      " [0.0 1.0 0.0 130298.13 145530.06 323876.68]\n",
      " [0.0 0.0 1.0 120542.52 148718.95 311613.29]\n",
      " [1.0 0.0 0.0 123334.88 108679.17 304981.62]\n",
      " [0.0 1.0 0.0 101913.08 110594.11 229160.95]\n",
      " [1.0 0.0 0.0 100671.96 91790.61 249744.55]\n",
      " [0.0 1.0 0.0 93863.75 127320.38 249839.44]\n",
      " [1.0 0.0 0.0 91992.39 135495.07 252664.93]\n",
      " [0.0 1.0 0.0 119943.24 156547.42 256512.92]\n",
      " [0.0 0.0 1.0 114523.61 122616.84 261776.23]\n",
      " [1.0 0.0 0.0 78013.11 121597.55 264346.06]\n",
      " [0.0 0.0 1.0 94657.16 145077.58 282574.31]\n",
      " [0.0 1.0 0.0 91749.16 114175.79 294919.57]\n",
      " [0.0 0.0 1.0 86419.7 153514.11 0.0]\n",
      " [1.0 0.0 0.0 76253.86 113867.3 298664.47]\n",
      " [0.0 0.0 1.0 78389.47 153773.43 299737.29]\n",
      " [0.0 1.0 0.0 73994.56 122782.75 303319.26]\n",
      " [0.0 1.0 0.0 67532.53 105751.03 304768.73]\n",
      " [0.0 0.0 1.0 77044.01 99281.34 140574.81]\n",
      " [1.0 0.0 0.0 64664.71 139553.16 137962.62]\n",
      " [0.0 1.0 0.0 75328.87 144135.98 134050.07]\n",
      " [0.0 0.0 1.0 72107.6 127864.55 353183.81]\n",
      " [0.0 1.0 0.0 66051.52 182645.56 118148.2]\n",
      " [0.0 0.0 1.0 65605.48 153032.06 107138.38]\n",
      " [0.0 1.0 0.0 61994.48 115641.28 91131.24]\n",
      " [0.0 0.0 1.0 61136.38 152701.92 88218.23]\n",
      " [1.0 0.0 0.0 63408.86 129219.61 46085.25]\n",
      " [0.0 1.0 0.0 55493.95 103057.49 214634.81]\n",
      " [1.0 0.0 0.0 46426.07 157693.92 210797.67]\n",
      " [0.0 0.0 1.0 46014.02 85047.44 205517.64]\n",
      " [0.0 1.0 0.0 28663.76 127056.21 201126.82]\n",
      " [1.0 0.0 0.0 44069.95 51283.14 197029.42]\n",
      " [0.0 0.0 1.0 20229.59 65947.93 185265.1]\n",
      " [1.0 0.0 0.0 38558.51 82982.09 174999.3]\n",
      " [1.0 0.0 0.0 28754.33 118546.05 172795.67]\n",
      " [0.0 1.0 0.0 27892.92 84710.77 164470.71]\n",
      " [1.0 0.0 0.0 23640.93 96189.63 148001.11]\n",
      " [0.0 0.0 1.0 15505.73 127382.3 35534.17]\n",
      " [1.0 0.0 0.0 22177.74 154806.14 28334.72]\n",
      " [0.0 0.0 1.0 1000.23 124153.04 1903.93]\n",
      " [0.0 1.0 0.0 1315.46 115816.21 297114.46]\n",
      " [1.0 0.0 0.0 0.0 135426.92 0.0]\n",
      " [0.0 0.0 1.0 542.05 51743.15 0.0]\n",
      " [1.0 0.0 0.0 0.0 116983.8 45173.06]]\n"
     ]
    }
   ],
   "source": [
    "# Input feature matrix after categorical encoding\n",
    "print(X)"
   ]
  },
  {
   "cell_type": "markdown",
   "id": "ec624b03",
   "metadata": {
    "papermill": {
     "duration": 0.009627,
     "end_time": "2023-01-13T11:53:07.781747",
     "exception": false,
     "start_time": "2023-01-13T11:53:07.772120",
     "status": "completed"
    },
    "tags": []
   },
   "source": [
    "We can see that there are three dummy variables created as a result of one-hot encoding of the categorical feature, ‘states’. \n",
    "\n",
    "**Splitting the dataset into the training set and test set**\n",
    "\n",
    "After getting the input and output features ready, we will split them into training and test sets. We will use 40 records for training and 10 records for testing. "
   ]
  },
  {
   "cell_type": "code",
   "execution_count": 10,
   "id": "a11c3e20",
   "metadata": {
    "execution": {
     "iopub.execute_input": "2023-01-13T11:53:07.803717Z",
     "iopub.status.busy": "2023-01-13T11:53:07.802630Z",
     "iopub.status.idle": "2023-01-13T11:53:07.860102Z",
     "shell.execute_reply": "2023-01-13T11:53:07.858919Z"
    },
    "papermill": {
     "duration": 0.071338,
     "end_time": "2023-01-13T11:53:07.862917",
     "exception": false,
     "start_time": "2023-01-13T11:53:07.791579",
     "status": "completed"
    },
    "tags": []
   },
   "outputs": [],
   "source": [
    "# Splitting the features into train and test sets\n",
    "from sklearn.model_selection import train_test_split\n",
    "X_train, X_test, y_train, y_test = train_test_split(X, y, test_size = 0.2, random_state = 0)"
   ]
  },
  {
   "cell_type": "markdown",
   "id": "809f5ad7",
   "metadata": {
    "papermill": {
     "duration": 0.009349,
     "end_time": "2023-01-13T11:53:07.882170",
     "exception": false,
     "start_time": "2023-01-13T11:53:07.872821",
     "status": "completed"
    },
    "tags": []
   },
   "source": [
    "Linear Regression model\n",
    "\n",
    "In the next step, let's define and linear regression model and train it using the training set. "
   ]
  },
  {
   "cell_type": "code",
   "execution_count": 11,
   "id": "d9ac8f67",
   "metadata": {
    "execution": {
     "iopub.execute_input": "2023-01-13T11:53:07.906463Z",
     "iopub.status.busy": "2023-01-13T11:53:07.905606Z",
     "iopub.status.idle": "2023-01-13T11:53:07.990431Z",
     "shell.execute_reply": "2023-01-13T11:53:07.989281Z"
    },
    "papermill": {
     "duration": 0.101367,
     "end_time": "2023-01-13T11:53:07.993319",
     "exception": false,
     "start_time": "2023-01-13T11:53:07.891952",
     "status": "completed"
    },
    "tags": []
   },
   "outputs": [],
   "source": [
    "# Defining a linear regression model\n",
    "from sklearn.linear_model import LinearRegression\n",
    "regressor = LinearRegression()"
   ]
  },
  {
   "cell_type": "code",
   "execution_count": 12,
   "id": "a5bf7c50",
   "metadata": {
    "execution": {
     "iopub.execute_input": "2023-01-13T11:53:08.015474Z",
     "iopub.status.busy": "2023-01-13T11:53:08.014704Z",
     "iopub.status.idle": "2023-01-13T11:53:08.037559Z",
     "shell.execute_reply": "2023-01-13T11:53:08.036363Z"
    },
    "papermill": {
     "duration": 0.036528,
     "end_time": "2023-01-13T11:53:08.040115",
     "exception": false,
     "start_time": "2023-01-13T11:53:08.003587",
     "status": "completed"
    },
    "tags": []
   },
   "outputs": [
    {
     "data": {
      "text/plain": [
       "LinearRegression()"
      ]
     },
     "execution_count": 12,
     "metadata": {},
     "output_type": "execute_result"
    }
   ],
   "source": [
    "# Fitting the linear regression model\n",
    "regressor.fit(X_train, y_train)"
   ]
  },
  {
   "cell_type": "markdown",
   "id": "f40d78ff",
   "metadata": {
    "papermill": {
     "duration": 0.009619,
     "end_time": "2023-01-13T11:53:08.059739",
     "exception": false,
     "start_time": "2023-01-13T11:53:08.050120",
     "status": "completed"
    },
    "tags": []
   },
   "source": [
    "After getting the linear regression model trained, we will check the coefficients of the fitted regression model."
   ]
  },
  {
   "cell_type": "code",
   "execution_count": 13,
   "id": "b070c664",
   "metadata": {
    "execution": {
     "iopub.execute_input": "2023-01-13T11:53:08.081227Z",
     "iopub.status.busy": "2023-01-13T11:53:08.080789Z",
     "iopub.status.idle": "2023-01-13T11:53:08.087632Z",
     "shell.execute_reply": "2023-01-13T11:53:08.086135Z"
    },
    "papermill": {
     "duration": 0.020175,
     "end_time": "2023-01-13T11:53:08.089971",
     "exception": false,
     "start_time": "2023-01-13T11:53:08.069796",
     "status": "completed"
    },
    "tags": []
   },
   "outputs": [
    {
     "name": "stdout",
     "output_type": "stream",
     "text": [
      "[ 8.66383692e+01 -8.72645791e+02  7.86007422e+02  7.73467193e-01\n",
      "  3.28845975e-02  3.66100259e-02]\n"
     ]
    }
   ],
   "source": [
    "# Checking the regression coefficients of the fitted model\n",
    "print(regressor.coef_)"
   ]
  },
  {
   "cell_type": "markdown",
   "id": "11554fd1",
   "metadata": {
    "papermill": {
     "duration": 0.009662,
     "end_time": "2023-01-13T11:53:08.110870",
     "exception": false,
     "start_time": "2023-01-13T11:53:08.101208",
     "status": "completed"
    },
    "tags": []
   },
   "source": [
    "Prediction and evaluation\n",
    "\n",
    "Using the fitted regression model, we will make predictions with the test data and find the accuracy in predictions using different evaluation methods, mean squared error (MSE), root mean squared error (RMSE), R-squared and adjusted R-squared. "
   ]
  },
  {
   "cell_type": "code",
   "execution_count": 14,
   "id": "7a53e62b",
   "metadata": {
    "execution": {
     "iopub.execute_input": "2023-01-13T11:53:08.133025Z",
     "iopub.status.busy": "2023-01-13T11:53:08.132289Z",
     "iopub.status.idle": "2023-01-13T11:53:08.143673Z",
     "shell.execute_reply": "2023-01-13T11:53:08.142157Z"
    },
    "papermill": {
     "duration": 0.025154,
     "end_time": "2023-01-13T11:53:08.146092",
     "exception": false,
     "start_time": "2023-01-13T11:53:08.120938",
     "status": "completed"
    },
    "tags": []
   },
   "outputs": [
    {
     "name": "stdout",
     "output_type": "stream",
     "text": [
      "Mean Squared Error is: 83502864.03256194\n",
      "Root Mean Squared Error is: 9137.9901527941\n",
      "R-Squared is: 0.9347068473282546\n",
      "Adjusted R-Squared is: 0.9228353650243009\n"
     ]
    }
   ],
   "source": [
    "from sklearn.metrics import mean_squared_error\n",
    "import math\n",
    "from sklearn.metrics import r2_score\n",
    "\n",
    "# Making predictions on the test data\n",
    "y_pred = regressor.predict(X_test)\n",
    "\n",
    "# Mean Squared Error (MSE)\n",
    "MSE_lr = mean_squared_error(y_test, y_pred)\n",
    "print('Mean Squared Error is:', MSE_lr)\n",
    "\n",
    "# Root Mean Squared Error (RMSE)\n",
    "RMSE_lr = math.sqrt(MSE_lr)\n",
    "print('Root Mean Squared Error is:', RMSE_lr)\n",
    "\n",
    "# R-Squared\n",
    "r2_lr = r2_score(y_test, y_pred)\n",
    "print('R-Squared is:', r2_lr)\n",
    "\n",
    "# Adjusted R-Squared\n",
    "adj_lr = 1-(\n",
    "         (1-r2_lr)*(X_train.shape[0]-1)/\n",
    "          (X_train.shape[0]-X_train.shape[1]-1)\n",
    "          )\n",
    "print('Adjusted R-Squared is:', adj_lr)"
   ]
  },
  {
   "cell_type": "markdown",
   "id": "7dc4b74f",
   "metadata": {
    "papermill": {
     "duration": 0.00964,
     "end_time": "2023-01-13T11:53:08.165914",
     "exception": false,
     "start_time": "2023-01-13T11:53:08.156274",
     "status": "completed"
    },
    "tags": []
   },
   "source": [
    "We can see in the output that we have obtained the values of MSE, RMS, R-squared and adjusted R-squared. \n",
    "\n",
    "Now, let us use the lasso regression method in the same task and let us see how it works.\n",
    "\n",
    "Lasso regression\n",
    "\n",
    "The most important factor with the lasso regression is the alpha value. We need to find out the best value of alpha so that the model can give the best results. We can either go with the hit and trial way, put the random values of alpha and check the model's performance. Alternatively, we can use hyperparameter tuning methods to find the optimal values.\n",
    "\n",
    "Here we will use the grid search cross-validation approach to find the optimal value of alpha for the lasso regression model."
   ]
  },
  {
   "cell_type": "code",
   "execution_count": 15,
   "id": "a2694186",
   "metadata": {
    "execution": {
     "iopub.execute_input": "2023-01-13T11:53:08.188025Z",
     "iopub.status.busy": "2023-01-13T11:53:08.187354Z",
     "iopub.status.idle": "2023-01-13T11:53:08.496365Z",
     "shell.execute_reply": "2023-01-13T11:53:08.495081Z"
    },
    "papermill": {
     "duration": 0.322663,
     "end_time": "2023-01-13T11:53:08.498623",
     "exception": false,
     "start_time": "2023-01-13T11:53:08.175960",
     "status": "completed"
    },
    "tags": []
   },
   "outputs": [
    {
     "name": "stdout",
     "output_type": "stream",
     "text": [
      "Best value for alpha is:  0.31622776601683794\n"
     ]
    }
   ],
   "source": [
    "# Finding the optimal value of alpha\n",
    "from sklearn.model_selection import GridSearchCV\n",
    "from sklearn.linear_model import Lasso\n",
    "\n",
    "lasso = Lasso(random_state=0, max_iter=10000)\n",
    "alphas = np.logspace(-4, -0.5, 30)\n",
    "#alphas = np.array([0, 0.01, 0.02, 0.03, 0.05, 0.1, 0.5, 1.0, 3.0, 5.0])\n",
    "grid1 = GridSearchCV(estimator=lasso, cv=5, scoring='r2', param_grid=dict(alpha=alphas))\n",
    "grid1.fit(X, y)\n",
    "print('Best value for alpha is: ', grid1.best_estimator_.alpha)"
   ]
  },
  {
   "cell_type": "markdown",
   "id": "7c41496c",
   "metadata": {
    "papermill": {
     "duration": 0.009801,
     "end_time": "2023-01-13T11:53:08.518557",
     "exception": false,
     "start_time": "2023-01-13T11:53:08.508756",
     "status": "completed"
    },
    "tags": []
   },
   "source": [
    "Using this optimal value of alpha, we will define the lasso regression model and train it.\n",
    "\n"
   ]
  },
  {
   "cell_type": "code",
   "execution_count": 16,
   "id": "b730e638",
   "metadata": {
    "execution": {
     "iopub.execute_input": "2023-01-13T11:53:08.540721Z",
     "iopub.status.busy": "2023-01-13T11:53:08.540014Z",
     "iopub.status.idle": "2023-01-13T11:53:08.551812Z",
     "shell.execute_reply": "2023-01-13T11:53:08.550423Z"
    },
    "papermill": {
     "duration": 0.025704,
     "end_time": "2023-01-13T11:53:08.554274",
     "exception": false,
     "start_time": "2023-01-13T11:53:08.528570",
     "status": "completed"
    },
    "tags": []
   },
   "outputs": [
    {
     "name": "stderr",
     "output_type": "stream",
     "text": [
      "/opt/conda/lib/python3.7/site-packages/sklearn/linear_model/_base.py:145: FutureWarning: 'normalize' was deprecated in version 1.0 and will be removed in 1.2.\n",
      "If you wish to scale the data, use Pipeline with a StandardScaler in a preprocessing stage. To reproduce the previous behavior:\n",
      "\n",
      "from sklearn.pipeline import make_pipeline\n",
      "\n",
      "model = make_pipeline(StandardScaler(with_mean=False), Lasso())\n",
      "\n",
      "If you wish to pass a sample_weight parameter, you need to pass it as a fit parameter to each step of the pipeline as follows:\n",
      "\n",
      "kwargs = {s[0] + '__sample_weight': sample_weight for s in model.steps}\n",
      "model.fit(X, y, **kwargs)\n",
      "\n",
      "Set parameter alpha to: original_alpha * np.sqrt(n_samples). \n",
      "  FutureWarning,\n"
     ]
    },
    {
     "data": {
      "text/plain": [
       "Lasso(alpha=0.31, normalize=True)"
      ]
     },
     "execution_count": 16,
     "metadata": {},
     "output_type": "execute_result"
    }
   ],
   "source": [
    "# Defining and training the lasso regressor\n",
    "lassoReg = Lasso(alpha=0.31, normalize=True)\n",
    "lassoReg.fit(X_train,y_train)"
   ]
  },
  {
   "cell_type": "code",
   "execution_count": 17,
   "id": "066eec50",
   "metadata": {
    "execution": {
     "iopub.execute_input": "2023-01-13T11:53:08.576734Z",
     "iopub.status.busy": "2023-01-13T11:53:08.576065Z",
     "iopub.status.idle": "2023-01-13T11:53:08.582295Z",
     "shell.execute_reply": "2023-01-13T11:53:08.580632Z"
    },
    "papermill": {
     "duration": 0.019959,
     "end_time": "2023-01-13T11:53:08.584651",
     "exception": false,
     "start_time": "2023-01-13T11:53:08.564692",
     "status": "completed"
    },
    "tags": []
   },
   "outputs": [
    {
     "name": "stdout",
     "output_type": "stream",
     "text": [
      "[-1.53194217e+02 -1.10936248e+03  5.42458980e+02  7.73508579e-01\n",
      "  3.27921574e-02  3.65829933e-02]\n"
     ]
    }
   ],
   "source": [
    "# Checking the coefficients\n",
    "print(lassoReg.coef_)"
   ]
  },
  {
   "cell_type": "markdown",
   "id": "94c0808f",
   "metadata": {
    "papermill": {
     "duration": 0.009919,
     "end_time": "2023-01-13T11:53:08.605021",
     "exception": false,
     "start_time": "2023-01-13T11:53:08.595102",
     "status": "completed"
    },
    "tags": []
   },
   "source": [
    "As we can see in the output, the lasso regression has shrunk the values of regression coefficients as compared to the linear regression. \n",
    "\n",
    "Using the fitted regression model, we will make predictions with the test data and find the accuracy in predictions using different evaluation methods, mean squared error (MSE), root mean squared error (RMSE), R-squared and adjusted R-squared."
   ]
  },
  {
   "cell_type": "code",
   "execution_count": 18,
   "id": "8b28d6b4",
   "metadata": {
    "execution": {
     "iopub.execute_input": "2023-01-13T11:53:08.627280Z",
     "iopub.status.busy": "2023-01-13T11:53:08.626861Z",
     "iopub.status.idle": "2023-01-13T11:53:08.636260Z",
     "shell.execute_reply": "2023-01-13T11:53:08.635181Z"
    },
    "papermill": {
     "duration": 0.023352,
     "end_time": "2023-01-13T11:53:08.638723",
     "exception": false,
     "start_time": "2023-01-13T11:53:08.615371",
     "status": "completed"
    },
    "tags": []
   },
   "outputs": [
    {
     "name": "stdout",
     "output_type": "stream",
     "text": [
      "Mean Squared Error is: 83447520.70858204\n",
      "Root Mean Squared Error is: 9134.96145085364\n",
      "R-Squared is: 0.9347501217733152\n",
      "Adjusted R-Squared is: 0.9228865075502816\n"
     ]
    }
   ],
   "source": [
    "# Making predictions on the test data\n",
    "y_pred = lassoReg.predict(X_test)\n",
    "\n",
    "# Mean Squared Error (MSE)\n",
    "MSE_ls = mean_squared_error(y_test, y_pred)\n",
    "print('Mean Squared Error is:', MSE_ls)\n",
    "\n",
    "# Root Mean Squared Error (RMSE)\n",
    "RMSE_ls = math.sqrt(MSE_ls)\n",
    "print('Root Mean Squared Error is:', RMSE_ls)\n",
    "\n",
    "# R-Squared\n",
    "r2_ls = r2_score(y_test, y_pred)\n",
    "print('R-Squared is:', r2_ls)\n",
    "\n",
    "# Adjusted R-Squared\n",
    "adj_ls = 1-(\n",
    "         (1-r2_ls)*(X_train.shape[0]-1)/\n",
    "          (X_train.shape[0]-X_train.shape[1]-1)\n",
    "          )\n",
    "print('Adjusted R-Squared is:', adj_ls)"
   ]
  },
  {
   "cell_type": "markdown",
   "id": "92659877",
   "metadata": {
    "papermill": {
     "duration": 0.010119,
     "end_time": "2023-01-13T11:53:08.659183",
     "exception": false,
     "start_time": "2023-01-13T11:53:08.649064",
     "status": "completed"
    },
    "tags": []
   },
   "source": [
    "Next, we will define the ridge regression model and fit it with the same data. \n",
    "\n",
    "**Ridge regression**"
   ]
  },
  {
   "cell_type": "code",
   "execution_count": 19,
   "id": "d6677551",
   "metadata": {
    "execution": {
     "iopub.execute_input": "2023-01-13T11:53:08.681192Z",
     "iopub.status.busy": "2023-01-13T11:53:08.680808Z",
     "iopub.status.idle": "2023-01-13T11:53:08.695236Z",
     "shell.execute_reply": "2023-01-13T11:53:08.693549Z"
    },
    "papermill": {
     "duration": 0.028529,
     "end_time": "2023-01-13T11:53:08.697844",
     "exception": false,
     "start_time": "2023-01-13T11:53:08.669315",
     "status": "completed"
    },
    "tags": []
   },
   "outputs": [
    {
     "name": "stdout",
     "output_type": "stream",
     "text": [
      "[-7.08294081e+01 -1.19321559e+03  1.05814057e+03  7.38658980e-01\n",
      "  5.01460340e-02  4.49020995e-02]\n"
     ]
    },
    {
     "name": "stderr",
     "output_type": "stream",
     "text": [
      "/opt/conda/lib/python3.7/site-packages/sklearn/linear_model/_base.py:145: FutureWarning: 'normalize' was deprecated in version 1.0 and will be removed in 1.2.\n",
      "If you wish to scale the data, use Pipeline with a StandardScaler in a preprocessing stage. To reproduce the previous behavior:\n",
      "\n",
      "from sklearn.pipeline import make_pipeline\n",
      "\n",
      "model = make_pipeline(StandardScaler(with_mean=False), Ridge())\n",
      "\n",
      "If you wish to pass a sample_weight parameter, you need to pass it as a fit parameter to each step of the pipeline as follows:\n",
      "\n",
      "kwargs = {s[0] + '__sample_weight': sample_weight for s in model.steps}\n",
      "model.fit(X, y, **kwargs)\n",
      "\n",
      "Set parameter alpha to: original_alpha * n_samples. \n",
      "  FutureWarning,\n"
     ]
    }
   ],
   "source": [
    "# Defining and training the ridge regressor\n",
    "from sklearn.linear_model import Ridge\n",
    "\n",
    "ridgeReg = Ridge(alpha=0.02, normalize=True)\n",
    "ridgeReg.fit(X_train,y_train)\n",
    "# Checking the regression coefficients of the fitted model\n",
    "print(ridgeReg.coef_)"
   ]
  },
  {
   "cell_type": "markdown",
   "id": "bc0ba79f",
   "metadata": {
    "papermill": {
     "duration": 0.010088,
     "end_time": "2023-01-13T11:53:08.718691",
     "exception": false,
     "start_time": "2023-01-13T11:53:08.708603",
     "status": "completed"
    },
    "tags": []
   },
   "source": [
    "Using the fitted regression model, we will make predictions with the test data and find the accuracy in predictions using different evaluation methods, mean squared error (MSE), root mean squared error (RMSE), R-squared and adjusted R-squared."
   ]
  },
  {
   "cell_type": "code",
   "execution_count": 20,
   "id": "084ac0d7",
   "metadata": {
    "execution": {
     "iopub.execute_input": "2023-01-13T11:53:08.741962Z",
     "iopub.status.busy": "2023-01-13T11:53:08.741110Z",
     "iopub.status.idle": "2023-01-13T11:53:08.750314Z",
     "shell.execute_reply": "2023-01-13T11:53:08.749184Z"
    },
    "papermill": {
     "duration": 0.024721,
     "end_time": "2023-01-13T11:53:08.753753",
     "exception": false,
     "start_time": "2023-01-13T11:53:08.729032",
     "status": "completed"
    },
    "tags": []
   },
   "outputs": [
    {
     "name": "stdout",
     "output_type": "stream",
     "text": [
      "Mean Squared Error is: 96455376.1417496\n",
      "Root Mean Squared Error is: 9821.169794976035\n",
      "R-Squared is: 0.9245789270416158\n",
      "Adjusted R-Squared is: 0.9108660046855459\n"
     ]
    }
   ],
   "source": [
    "# Making predictions on the test data\n",
    "y_pred = ridgeReg.predict(X_test)\n",
    "\n",
    "# Mean Squared Error (MSE)\n",
    "MSE_rd = mean_squared_error(y_test, y_pred)\n",
    "print('Mean Squared Error is:', MSE_rd)\n",
    "\n",
    "# Root Mean Squared Error (RMSE)\n",
    "RMSE_rd = math.sqrt(MSE_rd)\n",
    "print('Root Mean Squared Error is:', RMSE_rd)\n",
    "\n",
    "# R-Squared\n",
    "r2_rd = r2_score(y_test, y_pred)\n",
    "print('R-Squared is:', r2_rd)\n",
    "\n",
    "# Adjusted R-Squared\n",
    "adj_rd = 1-(\n",
    "         (1-r2_rd)*(X_train.shape[0]-1)/\n",
    "          (X_train.shape[0]-X_train.shape[1]-1)\n",
    "          )\n",
    "print('Adjusted R-Squared is:', adj_rd)"
   ]
  },
  {
   "cell_type": "markdown",
   "id": "24a7e3da",
   "metadata": {
    "papermill": {
     "duration": 0.010163,
     "end_time": "2023-01-13T11:53:08.774967",
     "exception": false,
     "start_time": "2023-01-13T11:53:08.764804",
     "status": "completed"
    },
    "tags": []
   },
   "source": [
    "**ElasticNet regression**\n",
    "\n",
    "After going through the linear, lasso and ridge regression models, we will now fit the elastic net regression model in the end. "
   ]
  },
  {
   "cell_type": "code",
   "execution_count": 21,
   "id": "8f8bb1d0",
   "metadata": {
    "execution": {
     "iopub.execute_input": "2023-01-13T11:53:08.798179Z",
     "iopub.status.busy": "2023-01-13T11:53:08.797793Z",
     "iopub.status.idle": "2023-01-13T11:53:08.805167Z",
     "shell.execute_reply": "2023-01-13T11:53:08.803852Z"
    },
    "papermill": {
     "duration": 0.023014,
     "end_time": "2023-01-13T11:53:08.808652",
     "exception": false,
     "start_time": "2023-01-13T11:53:08.785638",
     "status": "completed"
    },
    "tags": []
   },
   "outputs": [
    {
     "name": "stdout",
     "output_type": "stream",
     "text": [
      "[-1.53194217e+02 -1.10936248e+03  5.42458980e+02  7.73508579e-01\n",
      "  3.27921574e-02  3.65829933e-02]\n"
     ]
    },
    {
     "name": "stderr",
     "output_type": "stream",
     "text": [
      "/opt/conda/lib/python3.7/site-packages/sklearn/linear_model/_base.py:155: FutureWarning: 'normalize' was deprecated in version 1.0 and will be removed in 1.2. Please leave the normalize parameter to its default value to silence this warning. The default behavior of this estimator is to not do any normalization. If normalization is needed please use sklearn.preprocessing.StandardScaler instead.\n",
      "  FutureWarning,\n"
     ]
    }
   ],
   "source": [
    "# Defining and training the elastic net regressor\n",
    "from sklearn.linear_model import ElasticNet\n",
    "\n",
    "ENreg = ElasticNet(alpha=0.31, l1_ratio=0.5, normalize=False)\n",
    "ENreg.fit(X_train,y_train)\n",
    "# Checking the regression coefficients of the fitted model\n",
    "print(lassoReg.coef_)"
   ]
  },
  {
   "cell_type": "markdown",
   "id": "9d55bdc6",
   "metadata": {
    "papermill": {
     "duration": 0.010407,
     "end_time": "2023-01-13T11:53:08.829760",
     "exception": false,
     "start_time": "2023-01-13T11:53:08.819353",
     "status": "completed"
    },
    "tags": []
   },
   "source": [
    "Using the fitted regression model, we will make predictions with the test data and find the accuracy in predictions using different evaluation methods, mean squared error (MSE), root mean squared error (RMSE), R-squared and adjusted R-squared."
   ]
  },
  {
   "cell_type": "code",
   "execution_count": 22,
   "id": "6739a1bb",
   "metadata": {
    "execution": {
     "iopub.execute_input": "2023-01-13T11:53:08.852887Z",
     "iopub.status.busy": "2023-01-13T11:53:08.852478Z",
     "iopub.status.idle": "2023-01-13T11:53:08.860808Z",
     "shell.execute_reply": "2023-01-13T11:53:08.859755Z"
    },
    "papermill": {
     "duration": 0.022873,
     "end_time": "2023-01-13T11:53:08.863339",
     "exception": false,
     "start_time": "2023-01-13T11:53:08.840466",
     "status": "completed"
    },
    "tags": []
   },
   "outputs": [
    {
     "name": "stdout",
     "output_type": "stream",
     "text": [
      "Mean Squared Error is: 96455376.1417496\n",
      "Root Mean Squared Error is: 9821.169794976035\n",
      "R-Squared is: 0.9245789270416158\n",
      "Adjusted R-Squared is: 0.9108660046855459\n"
     ]
    }
   ],
   "source": [
    "# Making predictions on the test data\n",
    "y_pred = ridgeReg.predict(X_test)\n",
    "\n",
    "# Mean Squared Error (MSE)\n",
    "MSE_er = mean_squared_error(y_test, y_pred)\n",
    "print('Mean Squared Error is:', MSE_er)\n",
    "\n",
    "# Root Mean Squared Error (RMSE)\n",
    "RMSE_er = math.sqrt(MSE_er)\n",
    "print('Root Mean Squared Error is:', RMSE_er)\n",
    "\n",
    "# R-Squared\n",
    "r2_er = r2_score(y_test, y_pred)\n",
    "print('R-Squared is:', r2_er)\n",
    "\n",
    "# Adjusted R-Squared\n",
    "adj_er = 1-(\n",
    "         (1-r2_er)*(X_train.shape[0]-1)/\n",
    "          (X_train.shape[0]-X_train.shape[1]-1)\n",
    "          )\n",
    "print('Adjusted R-Squared is:', adj_er)"
   ]
  },
  {
   "cell_type": "markdown",
   "id": "180bbb07",
   "metadata": {
    "papermill": {
     "duration": 0.010619,
     "end_time": "2023-01-13T11:53:08.884635",
     "exception": false,
     "start_time": "2023-01-13T11:53:08.874016",
     "status": "completed"
    },
    "tags": []
   },
   "source": [
    "**Analyzing all together**\n",
    "\n",
    "Once we have gone through all these models, let us analyze their performance together. First, we will put the error metrics all together to compare. "
   ]
  },
  {
   "cell_type": "code",
   "execution_count": 23,
   "id": "d3a91728",
   "metadata": {
    "execution": {
     "iopub.execute_input": "2023-01-13T11:53:08.908537Z",
     "iopub.status.busy": "2023-01-13T11:53:08.907628Z",
     "iopub.status.idle": "2023-01-13T11:53:08.923056Z",
     "shell.execute_reply": "2023-01-13T11:53:08.921723Z"
    },
    "papermill": {
     "duration": 0.029835,
     "end_time": "2023-01-13T11:53:08.925298",
     "exception": false,
     "start_time": "2023-01-13T11:53:08.895463",
     "status": "completed"
    },
    "tags": []
   },
   "outputs": [
    {
     "data": {
      "text/html": [
       "<div>\n",
       "<style scoped>\n",
       "    .dataframe tbody tr th:only-of-type {\n",
       "        vertical-align: middle;\n",
       "    }\n",
       "\n",
       "    .dataframe tbody tr th {\n",
       "        vertical-align: top;\n",
       "    }\n",
       "\n",
       "    .dataframe thead th {\n",
       "        text-align: right;\n",
       "    }\n",
       "</style>\n",
       "<table border=\"1\" class=\"dataframe\">\n",
       "  <thead>\n",
       "    <tr style=\"text-align: right;\">\n",
       "      <th></th>\n",
       "      <th>Regressor</th>\n",
       "      <th>MSE</th>\n",
       "      <th>RMSE</th>\n",
       "      <th>R2</th>\n",
       "      <th>Adj R2</th>\n",
       "    </tr>\n",
       "  </thead>\n",
       "  <tbody>\n",
       "    <tr>\n",
       "      <th>0</th>\n",
       "      <td>Linear Regression</td>\n",
       "      <td>8.350286e+07</td>\n",
       "      <td>9137.990153</td>\n",
       "      <td>0.934707</td>\n",
       "      <td>0.922835</td>\n",
       "    </tr>\n",
       "    <tr>\n",
       "      <th>1</th>\n",
       "      <td>Lasso Regression</td>\n",
       "      <td>8.344752e+07</td>\n",
       "      <td>9134.961451</td>\n",
       "      <td>0.934750</td>\n",
       "      <td>0.922887</td>\n",
       "    </tr>\n",
       "    <tr>\n",
       "      <th>2</th>\n",
       "      <td>Ridge Regression</td>\n",
       "      <td>9.645538e+07</td>\n",
       "      <td>9821.169795</td>\n",
       "      <td>0.924579</td>\n",
       "      <td>0.910866</td>\n",
       "    </tr>\n",
       "    <tr>\n",
       "      <th>3</th>\n",
       "      <td>ElasticNet Regression</td>\n",
       "      <td>9.645538e+07</td>\n",
       "      <td>9821.169795</td>\n",
       "      <td>0.924579</td>\n",
       "      <td>0.910866</td>\n",
       "    </tr>\n",
       "  </tbody>\n",
       "</table>\n",
       "</div>"
      ],
      "text/plain": [
       "               Regressor           MSE         RMSE        R2    Adj R2\n",
       "0      Linear Regression  8.350286e+07  9137.990153  0.934707  0.922835\n",
       "1       Lasso Regression  8.344752e+07  9134.961451  0.934750  0.922887\n",
       "2       Ridge Regression  9.645538e+07  9821.169795  0.924579  0.910866\n",
       "3  ElasticNet Regression  9.645538e+07  9821.169795  0.924579  0.910866"
      ]
     },
     "execution_count": 23,
     "metadata": {},
     "output_type": "execute_result"
    }
   ],
   "source": [
    "# Binding all together\n",
    "pd.DataFrame(data={'Regressor' : ['Linear Regression',\n",
    "                                 'Lasso Regression',\n",
    "                                 'Ridge Regression',\n",
    "                                 'ElasticNet Regression'],\n",
    "                                \n",
    "                   'MSE' : [MSE_lr, MSE_ls, MSE_rd, MSE_er],\n",
    "                   'RMSE' : [RMSE_lr, RMSE_ls, RMSE_rd, RMSE_er],\n",
    "                   'R2' : [r2_lr, r2_ls, r2_rd, r2_er],\n",
    "                   'Adj R2' : [adj_lr, adj_ls, adj_rd, adj_er]\n",
    "                  })"
   ]
  },
  {
   "cell_type": "code",
   "execution_count": 24,
   "id": "1badfe7d",
   "metadata": {
    "execution": {
     "iopub.execute_input": "2023-01-13T11:53:08.950460Z",
     "iopub.status.busy": "2023-01-13T11:53:08.950049Z",
     "iopub.status.idle": "2023-01-13T11:53:08.964352Z",
     "shell.execute_reply": "2023-01-13T11:53:08.963462Z"
    },
    "papermill": {
     "duration": 0.02881,
     "end_time": "2023-01-13T11:53:08.966413",
     "exception": false,
     "start_time": "2023-01-13T11:53:08.937603",
     "status": "completed"
    },
    "tags": []
   },
   "outputs": [
    {
     "data": {
      "text/html": [
       "<div>\n",
       "<style scoped>\n",
       "    .dataframe tbody tr th:only-of-type {\n",
       "        vertical-align: middle;\n",
       "    }\n",
       "\n",
       "    .dataframe tbody tr th {\n",
       "        vertical-align: top;\n",
       "    }\n",
       "\n",
       "    .dataframe thead th {\n",
       "        text-align: right;\n",
       "    }\n",
       "</style>\n",
       "<table border=\"1\" class=\"dataframe\">\n",
       "  <thead>\n",
       "    <tr style=\"text-align: right;\">\n",
       "      <th></th>\n",
       "      <th>Regressor</th>\n",
       "      <th>Score</th>\n",
       "    </tr>\n",
       "  </thead>\n",
       "  <tbody>\n",
       "    <tr>\n",
       "      <th>0</th>\n",
       "      <td>Linear Regression</td>\n",
       "      <td>0.934707</td>\n",
       "    </tr>\n",
       "    <tr>\n",
       "      <th>1</th>\n",
       "      <td>Lasso Regression</td>\n",
       "      <td>0.934750</td>\n",
       "    </tr>\n",
       "    <tr>\n",
       "      <th>2</th>\n",
       "      <td>Ridge Regression</td>\n",
       "      <td>0.924579</td>\n",
       "    </tr>\n",
       "    <tr>\n",
       "      <th>3</th>\n",
       "      <td>ElasticNet Regression</td>\n",
       "      <td>0.936575</td>\n",
       "    </tr>\n",
       "  </tbody>\n",
       "</table>\n",
       "</div>"
      ],
      "text/plain": [
       "               Regressor     Score\n",
       "0      Linear Regression  0.934707\n",
       "1       Lasso Regression  0.934750\n",
       "2       Ridge Regression  0.924579\n",
       "3  ElasticNet Regression  0.936575"
      ]
     },
     "execution_count": 24,
     "metadata": {},
     "output_type": "execute_result"
    }
   ],
   "source": [
    "# Putting the scores of all models together\n",
    "pd.DataFrame(data={'Regressor' : ['Linear Regression',\n",
    "                                 'Lasso Regression',\n",
    "                                 'Ridge Regression',\n",
    "                                 'ElasticNet Regression'],\n",
    "                                \n",
    "                   'Score' : [regressor.score(X_test, y_test),\n",
    "                              lassoReg.score(X_test, y_test),\n",
    "                              ridgeReg.score(X_test, y_test),\n",
    "                              ENreg.score(X_test, y_test)]\n",
    "                  })"
   ]
  },
  {
   "cell_type": "code",
   "execution_count": 25,
   "id": "7d13af29",
   "metadata": {
    "execution": {
     "iopub.execute_input": "2023-01-13T11:53:08.990729Z",
     "iopub.status.busy": "2023-01-13T11:53:08.990331Z",
     "iopub.status.idle": "2023-01-13T11:53:09.196059Z",
     "shell.execute_reply": "2023-01-13T11:53:09.194963Z"
    },
    "papermill": {
     "duration": 0.220576,
     "end_time": "2023-01-13T11:53:09.198385",
     "exception": false,
     "start_time": "2023-01-13T11:53:08.977809",
     "status": "completed"
    },
    "tags": []
   },
   "outputs": [
    {
     "data": {
      "image/png": "[encoded data removed]",
      "text/plain": [
       "<Figure size 720x360 with 1 Axes>"
      ]
     },
     "metadata": {
      "needs_background": "light"
     },
     "output_type": "display_data"
    }
   ],
   "source": [
    "# Plotting the scores\n",
    "import matplotlib.pyplot as plt\n",
    "\n",
    "models = ['Linear Regression', 'Lasso Regression', 'Ridge Regression', 'Elastic Regression']\n",
    "scores = [regressor.score(X_test, y_test),\n",
    "   lassoReg.score(X_test, y_test),\n",
    "   ridgeReg.score(X_test, y_test),\n",
    "   ENreg.score(X_test, y_test)]\n",
    "\n",
    "plt.figure(figsize=(10,5))\n",
    "plt.bar(models, scores)\n",
    "plt.xlabel('Regression Models', fontsize=15)\n",
    "plt.ylabel('Score', fontsize=15)\n",
    "plt.show()"
   ]
  },
  {
   "cell_type": "markdown",
   "id": "8773f3c1",
   "metadata": {
    "papermill": {
     "duration": 0.011205,
     "end_time": "2023-01-13T11:53:09.221122",
     "exception": false,
     "start_time": "2023-01-13T11:53:09.209917",
     "status": "completed"
    },
    "tags": []
   },
   "source": [
    "As we can see while analyzing their performance together, all the models have shown almost equal performance. The intuition of showing their working all together to demonstrate how to use them when fitting a regression model. We can use all these regularization techniques and check which one works well and helps in achieving a better performance. Of course, the elastic net regression will work best because it combines the power of both lasso and ridge regression."
   ]
  },
  {
   "cell_type": "code",
   "execution_count": null,
   "id": "d2b80562",
   "metadata": {
    "papermill": {
     "duration": 0.011205,
     "end_time": "2023-01-13T11:53:09.244014",
     "exception": false,
     "start_time": "2023-01-13T11:53:09.232809",
     "status": "completed"
    },
    "tags": []
   },
   "outputs": [],
   "source": []
  }
 ],
 "metadata": {
  "kernelspec": {
   "display_name": "Python 3",
   "language": "python",
   "name": "python3"
  },
  "language_info": {
   "codemirror_mode": {
    "name": "ipython",
    "version": 3
   },
   "file_extension": ".py",
   "mimetype": "text/x-python",
   "name": "python",
   "nbconvert_exporter": "python",
   "pygments_lexer": "ipython3",
   "version": "3.7.12"
  },
  "papermill": {
   "default_parameters": {},
   "duration": 13.193314,
   "end_time": "2023-01-13T11:53:09.977671",
   "environment_variables": {},
   "exception": null,
   "input_path": "__notebook__.ipynb",
   "output_path": "__notebook__.ipynb",
   "parameters": {},
   "start_time": "2023-01-13T11:52:56.784357",
   "version": "2.3.4"
  }
 },
 "nbformat": 4,
 "nbformat_minor": 5
}
