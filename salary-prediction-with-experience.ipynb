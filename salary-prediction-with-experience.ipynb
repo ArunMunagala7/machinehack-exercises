{
 "cells": [
  {
   "cell_type": "code",
   "execution_count": 1,
   "id": "1624970a",
   "metadata": {
    "_cell_guid": "b1076dfc-b9ad-4769-8c92-a6c4dae69d19",
    "_uuid": "8f2839f25d086af736a60e9eeb907d3b93b6e0e5",
    "execution": {
     "iopub.execute_input": "2023-01-15T08:59:22.429241Z",
     "iopub.status.busy": "2023-01-15T08:59:22.428672Z",
     "iopub.status.idle": "2023-01-15T08:59:22.443044Z",
     "shell.execute_reply": "2023-01-15T08:59:22.441778Z"
    },
    "papermill": {
     "duration": 0.025428,
     "end_time": "2023-01-15T08:59:22.445671",
     "exception": false,
     "start_time": "2023-01-15T08:59:22.420243",
     "status": "completed"
    },
    "tags": []
   },
   "outputs": [],
   "source": [
    "# This Python 3 environment comes with many helpful analytics libraries installed\n",
    "# It is defined by the kaggle/python Docker image: https://github.com/kaggle/docker-python\n",
    "# For example, here's several helpful packages to load\n",
    "\n",
    "import numpy as np # linear algebra\n",
    "import pandas as pd # data processing, CSV file I/O (e.g. pd.read_csv)\n",
    "\n",
    "# Input data files are available in the read-only \"../input/\" directory\n",
    "# For example, running this (by clicking run or pressing Shift+Enter) will list all files under the input directory\n",
    "\n",
    "import os\n",
    "for dirname, _, filenames in os.walk('/kaggle/input'):\n",
    "    for filename in filenames:\n",
    "        print(os.path.join(dirname, filename))\n",
    "\n",
    "# You can write up to 20GB to the current directory (/kaggle/working/) that gets preserved as output when you create a version using \"Save & Run All\" \n",
    "# You can also write temporary files to /kaggle/temp/, but they won't be saved outside of the current session"
   ]
  },
  {
   "cell_type": "markdown",
   "id": "65ce4227",
   "metadata": {
    "papermill": {
     "duration": 0.00502,
     "end_time": "2023-01-15T08:59:22.456409",
     "exception": false,
     "start_time": "2023-01-15T08:59:22.451389",
     "status": "completed"
    },
    "tags": []
   },
   "source": [
    "**Hands-on implementation of support vector regression in Python**\n",
    "\n",
    "In this implementation, we have taken a dummy dataset that comprises the designations, years of experience and salaries of 10 employees of a company. We will try to fit a relationship between the years of experience and the salaries of the employees. For this purpose, we will train a support vector regressor on the dataset. Once trained, this model can predict the salary of a new person by giving the experience as input.\n",
    "\n",
    "This hands-on implementation will be done in the following steps.\n",
    "\n",
    "Step 1:  Reading the dataset\n",
    "\n",
    "As a first step, we will read the dataset that is saved in a CSV file."
   ]
  },
  {
   "cell_type": "markdown",
   "id": "427b5435",
   "metadata": {
    "papermill": {
     "duration": 0.005017,
     "end_time": "2023-01-15T08:59:22.467144",
     "exception": false,
     "start_time": "2023-01-15T08:59:22.462127",
     "status": "completed"
    },
    "tags": []
   },
   "source": [
    "importing needed libraries"
   ]
  },
  {
   "cell_type": "code",
   "execution_count": 2,
   "id": "c8553a63",
   "metadata": {
    "execution": {
     "iopub.execute_input": "2023-01-15T08:59:22.479172Z",
     "iopub.status.busy": "2023-01-15T08:59:22.478842Z",
     "iopub.status.idle": "2023-01-15T08:59:22.483526Z",
     "shell.execute_reply": "2023-01-15T08:59:22.482746Z"
    },
    "papermill": {
     "duration": 0.013474,
     "end_time": "2023-01-15T08:59:22.485920",
     "exception": false,
     "start_time": "2023-01-15T08:59:22.472446",
     "status": "completed"
    },
    "tags": []
   },
   "outputs": [],
   "source": [
    "import matplotlib.pyplot as plt"
   ]
  },
  {
   "cell_type": "code",
   "execution_count": 3,
   "id": "6a58cb65",
   "metadata": {
    "execution": {
     "iopub.execute_input": "2023-01-15T08:59:22.498756Z",
     "iopub.status.busy": "2023-01-15T08:59:22.498386Z",
     "iopub.status.idle": "2023-01-15T08:59:23.136388Z",
     "shell.execute_reply": "2023-01-15T08:59:23.135020Z"
    },
    "papermill": {
     "duration": 0.647556,
     "end_time": "2023-01-15T08:59:23.139081",
     "exception": false,
     "start_time": "2023-01-15T08:59:22.491525",
     "status": "completed"
    },
    "tags": []
   },
   "outputs": [],
   "source": [
    "dataset = pd.read_csv(\n",
    "    'https://gitlab.com/AnalyticsIndiaMagazine/practicedatasets/-/raw/main/bootcamp/polynomial_regression/Experience_Salaries.csv'\n",
    "    )"
   ]
  },
  {
   "cell_type": "markdown",
   "id": "f9e86ff7",
   "metadata": {
    "papermill": {
     "duration": 0.004857,
     "end_time": "2023-01-15T08:59:23.149321",
     "exception": false,
     "start_time": "2023-01-15T08:59:23.144464",
     "status": "completed"
    },
    "tags": []
   },
   "source": [
    "After reading the dataset, let us have a look at it. As it has fewer records, we will print the entire dataset."
   ]
  },
  {
   "cell_type": "code",
   "execution_count": 4,
   "id": "9d320e2b",
   "metadata": {
    "execution": {
     "iopub.execute_input": "2023-01-15T08:59:23.161060Z",
     "iopub.status.busy": "2023-01-15T08:59:23.160659Z",
     "iopub.status.idle": "2023-01-15T08:59:23.175022Z",
     "shell.execute_reply": "2023-01-15T08:59:23.173377Z"
    },
    "papermill": {
     "duration": 0.023514,
     "end_time": "2023-01-15T08:59:23.177904",
     "exception": false,
     "start_time": "2023-01-15T08:59:23.154390",
     "status": "completed"
    },
    "tags": []
   },
   "outputs": [
    {
     "name": "stdout",
     "output_type": "stream",
     "text": [
      "                 Designation  Experience  Salary\n",
      "0            Sales Executive           1   50000\n",
      "1            Office Asistant           2   55000\n",
      "2          Software Engineer           3   85000\n",
      "3              Sales Manager           4  100000\n",
      "4          Assistant Manager           5  125000\n",
      "5                    HR Head           7  120000\n",
      "6  Technical Project Manager           9  135000\n",
      "7             Senior Manager          10  140000\n",
      "8             Marketing Head          12  120000\n",
      "9                   Director          15  220000\n"
     ]
    }
   ],
   "source": [
    "print(dataset)"
   ]
  },
  {
   "cell_type": "markdown",
   "id": "ebdcfbeb",
   "metadata": {
    "papermill": {
     "duration": 0.006305,
     "end_time": "2023-01-15T08:59:23.189795",
     "exception": false,
     "start_time": "2023-01-15T08:59:23.183490",
     "status": "completed"
    },
    "tags": []
   },
   "source": [
    "**Step 2: Defining the input-output feature**\n",
    "\n",
    "After reading the dataset, let us define the input and output features as X and y respective"
   ]
  },
  {
   "cell_type": "code",
   "execution_count": 5,
   "id": "e670fa0f",
   "metadata": {
    "execution": {
     "iopub.execute_input": "2023-01-15T08:59:23.202071Z",
     "iopub.status.busy": "2023-01-15T08:59:23.201617Z",
     "iopub.status.idle": "2023-01-15T08:59:23.209138Z",
     "shell.execute_reply": "2023-01-15T08:59:23.208301Z"
    },
    "papermill": {
     "duration": 0.01588,
     "end_time": "2023-01-15T08:59:23.210849",
     "exception": false,
     "start_time": "2023-01-15T08:59:23.194969",
     "status": "completed"
    },
    "tags": []
   },
   "outputs": [],
   "source": [
    "# defining training features (X and y)\n",
    "X = dataset.iloc[:, 1:-1].values\n",
    "y = dataset.iloc[:, -1].values"
   ]
  },
  {
   "cell_type": "markdown",
   "id": "75d1e6cf",
   "metadata": {
    "papermill": {
     "duration": 0.004845,
     "end_time": "2023-01-15T08:59:23.221023",
     "exception": false,
     "start_time": "2023-01-15T08:59:23.216178",
     "status": "completed"
    },
    "tags": []
   },
   "source": [
    "Now, let us have a look at input and output features."
   ]
  },
  {
   "cell_type": "code",
   "execution_count": 6,
   "id": "984ec427",
   "metadata": {
    "execution": {
     "iopub.execute_input": "2023-01-15T08:59:23.233034Z",
     "iopub.status.busy": "2023-01-15T08:59:23.232623Z",
     "iopub.status.idle": "2023-01-15T08:59:23.239353Z",
     "shell.execute_reply": "2023-01-15T08:59:23.237718Z"
    },
    "papermill": {
     "duration": 0.01608,
     "end_time": "2023-01-15T08:59:23.242136",
     "exception": false,
     "start_time": "2023-01-15T08:59:23.226056",
     "status": "completed"
    },
    "tags": []
   },
   "outputs": [
    {
     "name": "stdout",
     "output_type": "stream",
     "text": [
      "[[ 1]\n",
      " [ 2]\n",
      " [ 3]\n",
      " [ 4]\n",
      " [ 5]\n",
      " [ 7]\n",
      " [ 9]\n",
      " [10]\n",
      " [12]\n",
      " [15]]\n"
     ]
    }
   ],
   "source": [
    "# Checking the input feature\n",
    "print(X)"
   ]
  },
  {
   "cell_type": "code",
   "execution_count": 7,
   "id": "43ecfbf7",
   "metadata": {
    "execution": {
     "iopub.execute_input": "2023-01-15T08:59:23.256180Z",
     "iopub.status.busy": "2023-01-15T08:59:23.255755Z",
     "iopub.status.idle": "2023-01-15T08:59:23.262686Z",
     "shell.execute_reply": "2023-01-15T08:59:23.260841Z"
    },
    "papermill": {
     "duration": 0.015939,
     "end_time": "2023-01-15T08:59:23.264518",
     "exception": false,
     "start_time": "2023-01-15T08:59:23.248579",
     "status": "completed"
    },
    "tags": []
   },
   "outputs": [
    {
     "name": "stdout",
     "output_type": "stream",
     "text": [
      "[ 50000  55000  85000 100000 125000 120000 135000 140000 120000 220000]\n"
     ]
    }
   ],
   "source": [
    "# Checking the output feature\n",
    "print(y)"
   ]
  },
  {
   "cell_type": "code",
   "execution_count": 8,
   "id": "bf902676",
   "metadata": {
    "execution": {
     "iopub.execute_input": "2023-01-15T08:59:23.278978Z",
     "iopub.status.busy": "2023-01-15T08:59:23.278553Z",
     "iopub.status.idle": "2023-01-15T08:59:23.285177Z",
     "shell.execute_reply": "2023-01-15T08:59:23.283570Z"
    },
    "papermill": {
     "duration": 0.016065,
     "end_time": "2023-01-15T08:59:23.287195",
     "exception": false,
     "start_time": "2023-01-15T08:59:23.271130",
     "status": "completed"
    },
    "tags": []
   },
   "outputs": [
    {
     "name": "stdout",
     "output_type": "stream",
     "text": [
      "[[ 50000]\n",
      " [ 55000]\n",
      " [ 85000]\n",
      " [100000]\n",
      " [125000]\n",
      " [120000]\n",
      " [135000]\n",
      " [140000]\n",
      " [120000]\n",
      " [220000]]\n"
     ]
    }
   ],
   "source": [
    "# Reshaping the output feature\n",
    "y = y.reshape(len(y),1)\n",
    "# Reshaped feature\n",
    "print(y)"
   ]
  },
  {
   "cell_type": "markdown",
   "id": "a7910d50",
   "metadata": {
    "papermill": {
     "duration": 0.005454,
     "end_time": "2023-01-15T08:59:23.298556",
     "exception": false,
     "start_time": "2023-01-15T08:59:23.293102",
     "status": "completed"
    },
    "tags": []
   },
   "source": [
    "Step 3: Feature scaling\n",
    "\n",
    "To train the support vector machine, first, we will scale the features using standardization. "
   ]
  },
  {
   "cell_type": "code",
   "execution_count": 9,
   "id": "8c11b09b",
   "metadata": {
    "execution": {
     "iopub.execute_input": "2023-01-15T08:59:23.311330Z",
     "iopub.status.busy": "2023-01-15T08:59:23.310882Z",
     "iopub.status.idle": "2023-01-15T08:59:24.382037Z",
     "shell.execute_reply": "2023-01-15T08:59:24.380685Z"
    },
    "papermill": {
     "duration": 1.080431,
     "end_time": "2023-01-15T08:59:24.384549",
     "exception": false,
     "start_time": "2023-01-15T08:59:23.304118",
     "status": "completed"
    },
    "tags": []
   },
   "outputs": [],
   "source": [
    "# Standardizing the input and output features\n",
    "from sklearn.preprocessing import StandardScaler\n",
    "sc_X = StandardScaler()\n",
    "sc_y = StandardScaler()\n",
    "X = sc_X.fit_transform(X)\n",
    "y = sc_y.fit_transform(y)"
   ]
  },
  {
   "cell_type": "markdown",
   "id": "a7b24fc5",
   "metadata": {
    "papermill": {
     "duration": 0.006263,
     "end_time": "2023-01-15T08:59:24.398780",
     "exception": false,
     "start_time": "2023-01-15T08:59:24.392517",
     "status": "completed"
    },
    "tags": []
   },
   "source": [
    "Let us check how the features look after standardization. "
   ]
  },
  {
   "cell_type": "code",
   "execution_count": 10,
   "id": "0c0ff78e",
   "metadata": {
    "execution": {
     "iopub.execute_input": "2023-01-15T08:59:24.413186Z",
     "iopub.status.busy": "2023-01-15T08:59:24.412224Z",
     "iopub.status.idle": "2023-01-15T08:59:24.419140Z",
     "shell.execute_reply": "2023-01-15T08:59:24.417340Z"
    },
    "papermill": {
     "duration": 0.016255,
     "end_time": "2023-01-15T08:59:24.421353",
     "exception": false,
     "start_time": "2023-01-15T08:59:24.405098",
     "status": "completed"
    },
    "tags": []
   },
   "outputs": [
    {
     "name": "stdout",
     "output_type": "stream",
     "text": [
      "[[-1.32504382]\n",
      " [-1.09658799]\n",
      " [-0.86813216]\n",
      " [-0.63967633]\n",
      " [-0.4112205 ]\n",
      " [ 0.04569117]\n",
      " [ 0.50260283]\n",
      " [ 0.73105866]\n",
      " [ 1.18797032]\n",
      " [ 1.87333782]]\n"
     ]
    }
   ],
   "source": [
    "# Standardized input values\n",
    "print(X)"
   ]
  },
  {
   "cell_type": "code",
   "execution_count": 11,
   "id": "1465b5dc",
   "metadata": {
    "execution": {
     "iopub.execute_input": "2023-01-15T08:59:24.434755Z",
     "iopub.status.busy": "2023-01-15T08:59:24.434046Z",
     "iopub.status.idle": "2023-01-15T08:59:24.439573Z",
     "shell.execute_reply": "2023-01-15T08:59:24.438543Z"
    },
    "papermill": {
     "duration": 0.014316,
     "end_time": "2023-01-15T08:59:24.441427",
     "exception": false,
     "start_time": "2023-01-15T08:59:24.427111",
     "status": "completed"
    },
    "tags": []
   },
   "outputs": [
    {
     "name": "stdout",
     "output_type": "stream",
     "text": [
      "[[-1.41337749]\n",
      " [-1.30465615]\n",
      " [-0.65232807]\n",
      " [-0.32616404]\n",
      " [ 0.21744269]\n",
      " [ 0.10872135]\n",
      " [ 0.43488538]\n",
      " [ 0.54360673]\n",
      " [ 0.10872135]\n",
      " [ 2.28314826]]\n"
     ]
    }
   ],
   "source": [
    "# Standardized output values\n",
    "print(y)"
   ]
  },
  {
   "cell_type": "markdown",
   "id": "1a7d47ce",
   "metadata": {
    "papermill": {
     "duration": 0.005139,
     "end_time": "2023-01-15T08:59:24.452282",
     "exception": false,
     "start_time": "2023-01-15T08:59:24.447143",
     "status": "completed"
    },
    "tags": []
   },
   "source": [
    "**Step 4: Defining and training the support vector regression model**\n",
    "\n",
    "As we have the pre-processed data for training, now in this step we will define the support vector machine for regression and train this regressor with the training data."
   ]
  },
  {
   "cell_type": "code",
   "execution_count": 12,
   "id": "4dd5f0f8",
   "metadata": {
    "execution": {
     "iopub.execute_input": "2023-01-15T08:59:24.464806Z",
     "iopub.status.busy": "2023-01-15T08:59:24.464445Z",
     "iopub.status.idle": "2023-01-15T08:59:24.604171Z",
     "shell.execute_reply": "2023-01-15T08:59:24.602618Z"
    },
    "papermill": {
     "duration": 0.149435,
     "end_time": "2023-01-15T08:59:24.607093",
     "exception": false,
     "start_time": "2023-01-15T08:59:24.457658",
     "status": "completed"
    },
    "tags": []
   },
   "outputs": [],
   "source": [
    "# Defining the support vector regressor\n",
    "from sklearn.svm import SVR"
   ]
  },
  {
   "cell_type": "code",
   "execution_count": 13,
   "id": "cd9014cb",
   "metadata": {
    "execution": {
     "iopub.execute_input": "2023-01-15T08:59:24.623034Z",
     "iopub.status.busy": "2023-01-15T08:59:24.622117Z",
     "iopub.status.idle": "2023-01-15T08:59:24.642630Z",
     "shell.execute_reply": "2023-01-15T08:59:24.641013Z"
    },
    "papermill": {
     "duration": 0.031243,
     "end_time": "2023-01-15T08:59:24.645177",
     "exception": false,
     "start_time": "2023-01-15T08:59:24.613934",
     "status": "completed"
    },
    "tags": []
   },
   "outputs": [
    {
     "name": "stderr",
     "output_type": "stream",
     "text": [
      "/opt/conda/lib/python3.7/site-packages/sklearn/utils/validation.py:993: DataConversionWarning: A column-vector y was passed when a 1d array was expected. Please change the shape of y to (n_samples, ), for example using ravel().\n",
      "  y = column_or_1d(y, warn=True)\n"
     ]
    },
    {
     "data": {
      "text/plain": [
       "SVR()"
      ]
     },
     "execution_count": 13,
     "metadata": {},
     "output_type": "execute_result"
    }
   ],
   "source": [
    "# Training the support vector regressor\n",
    "regressor = SVR(kernel = 'rbf')\n",
    "regressor.fit(X, y)"
   ]
  },
  {
   "cell_type": "markdown",
   "id": "970fcc98",
   "metadata": {
    "papermill": {
     "duration": 0.005733,
     "end_time": "2023-01-15T08:59:24.658493",
     "exception": false,
     "start_time": "2023-01-15T08:59:24.652760",
     "status": "completed"
    },
    "tags": []
   },
   "source": [
    "The above model output shows the values of the parameters of the fitted support vector regressor.  \n",
    "\n",
    "**Step 5: Visualizing the SVM performance in regression**\n",
    "\n",
    "Let us check how the performance of support vector regression looked during training."
   ]
  },
  {
   "cell_type": "code",
   "execution_count": 14,
   "id": "367bbe61",
   "metadata": {
    "execution": {
     "iopub.execute_input": "2023-01-15T08:59:24.675345Z",
     "iopub.status.busy": "2023-01-15T08:59:24.674399Z",
     "iopub.status.idle": "2023-01-15T08:59:24.874981Z",
     "shell.execute_reply": "2023-01-15T08:59:24.873843Z"
    },
    "papermill": {
     "duration": 0.21157,
     "end_time": "2023-01-15T08:59:24.877655",
     "exception": false,
     "start_time": "2023-01-15T08:59:24.666085",
     "status": "completed"
    },
    "tags": []
   },
   "outputs": [
    {
     "data": {
      "image/png": "[encoded data removed]",
      "text/plain": [
       "<Figure size 432x288 with 1 Axes>"
      ]
     },
     "metadata": {
      "needs_background": "light"
     },
     "output_type": "display_data"
    }
   ],
   "source": [
    "# Performance of regressor on the training data\n",
    "plt.scatter(sc_X.inverse_transform(X), sc_y.inverse_transform(y), color = 'blue')\n",
    "plt.plot(sc_X.inverse_transform(X), sc_y.inverse_transform(regressor.predict(X).reshape(-1, 1)), color = 'red')\n",
    "plt.title('Experience Vs Salary')\n",
    "plt.xlabel('Experience')\n",
    "plt.ylabel('Salary')\n",
    "plt.show()"
   ]
  },
  {
   "cell_type": "markdown",
   "id": "b0c241de",
   "metadata": {
    "papermill": {
     "duration": 0.005822,
     "end_time": "2023-01-15T08:59:24.889989",
     "exception": false,
     "start_time": "2023-01-15T08:59:24.884167",
     "status": "completed"
    },
    "tags": []
   },
   "source": [
    "Step 6: Making predictions with a random input\n",
    "\n",
    "As we have trained the support vector machine for regression, we will check the prediction made by this model on a random experience as input."
   ]
  },
  {
   "cell_type": "code",
   "execution_count": 15,
   "id": "fb0ab97f",
   "metadata": {
    "execution": {
     "iopub.execute_input": "2023-01-15T08:59:24.904259Z",
     "iopub.status.busy": "2023-01-15T08:59:24.903926Z",
     "iopub.status.idle": "2023-01-15T08:59:24.912363Z",
     "shell.execute_reply": "2023-01-15T08:59:24.910850Z"
    },
    "papermill": {
     "duration": 0.018205,
     "end_time": "2023-01-15T08:59:24.914478",
     "exception": false,
     "start_time": "2023-01-15T08:59:24.896273",
     "status": "completed"
    },
    "tags": []
   },
   "outputs": [
    {
     "data": {
      "text/plain": [
       "array([[88225.43336041]])"
      ]
     },
     "execution_count": 15,
     "metadata": {},
     "output_type": "execute_result"
    }
   ],
   "source": [
    "# Predicting salary for a random experience\n",
    "sc_y.inverse_transform(regressor.predict(sc_X.transform([[3.5]])).reshape(1, -1))"
   ]
  },
  {
   "cell_type": "markdown",
   "id": "d053089a",
   "metadata": {
    "papermill": {
     "duration": 0.005772,
     "end_time": "2023-01-15T08:59:24.926466",
     "exception": false,
     "start_time": "2023-01-15T08:59:24.920694",
     "status": "completed"
    },
    "tags": []
   },
   "source": [
    "We can see in the output, the model has predicted a salary of 88225.43 for a person with experience 3.5 which looks relevant and somewhat correct as per the main dataset.\n",
    "\n"
   ]
  },
  {
   "cell_type": "code",
   "execution_count": null,
   "id": "ba393667",
   "metadata": {
    "papermill": {
     "duration": 0.009222,
     "end_time": "2023-01-15T08:59:24.941839",
     "exception": false,
     "start_time": "2023-01-15T08:59:24.932617",
     "status": "completed"
    },
    "tags": []
   },
   "outputs": [],
   "source": []
  }
 ],
 "metadata": {
  "kernelspec": {
   "display_name": "Python 3",
   "language": "python",
   "name": "python3"
  },
  "language_info": {
   "codemirror_mode": {
    "name": "ipython",
    "version": 3
   },
   "file_extension": ".py",
   "mimetype": "text/x-python",
   "name": "python",
   "nbconvert_exporter": "python",
   "pygments_lexer": "ipython3",
   "version": "3.7.12"
  },
  "papermill": {
   "default_parameters": {},
   "duration": 11.348723,
   "end_time": "2023-01-15T08:59:25.871695",
   "environment_variables": {},
   "exception": null,
   "input_path": "__notebook__.ipynb",
   "output_path": "__notebook__.ipynb",
   "parameters": {},
   "start_time": "2023-01-15T08:59:14.522972",
   "version": "2.3.4"
  }
 },
 "nbformat": 4,
 "nbformat_minor": 5
}
